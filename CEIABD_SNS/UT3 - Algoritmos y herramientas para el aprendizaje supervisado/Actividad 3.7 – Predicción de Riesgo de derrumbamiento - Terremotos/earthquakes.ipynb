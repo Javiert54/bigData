{
 "cells": [
  {
   "cell_type": "code",
   "execution_count": 14,
   "metadata": {},
   "outputs": [],
   "source": [
    "import csv\n",
    "from lazypredict.Supervised import LazyClassifier\n",
    "from sklearn.model_selection import train_test_split"
   ]
  },
  {
   "cell_type": "code",
   "execution_count": 15,
   "metadata": {},
   "outputs": [],
   "source": [
    "# Load data\n",
    "X = pd.read_csv('train_values.csv')[:28955]\n",
    "Y = pd.read_csv('train_labels.csv')[:28955]\n",
    "X_train, X_test, y_train, y_test = train_test_split(X, Y, test_size=0.2, random_state=42)\n",
    "\n",
    "# Convert y_train and y_test to 1-dimensional arrays\n",
    "y_train = y_train.values[:, 1]  # Select the first column\n",
    "y_test = y_test.values[:, 1]    # Select the first column"
   ]
  },
  {
   "cell_type": "code",
   "execution_count": 20,
   "metadata": {},
   "outputs": [
    {
     "data": {
      "image/png": "[encoded data removed]",
      "text/plain": [
       "<Figure size 1000x700 with 1 Axes>"
      ]
     },
     "metadata": {},
     "output_type": "display_data"
    }
   ],
   "source": [
    "import pandas as pd\n",
    "import numpy as np\n",
    "import matplotlib.pyplot as plt\n",
    "from scipy.cluster.hierarchy import dendrogram, linkage\n",
    "from sklearn.preprocessing import LabelEncoder\n",
    "\n",
    "# Cargar datos\n",
    "X = pd.read_csv('train_values.csv')\n",
    "Y = pd.read_csv('train_labels.csv')\n",
    "X_train, X_test, y_train, y_test = train_test_split(X, Y, test_size=0.2, random_state=42)\n",
    "\n",
    "# Convertir columnas categóricas a numéricas\n",
    "label_encoders = {}\n",
    "for column in X_train.select_dtypes(include=['object']).columns:\n",
    "    le = LabelEncoder()\n",
    "    X_train[column] = le.fit_transform(X_train[column])\n",
    "    X_test[column] = le.transform(X_test[column])\n",
    "    label_encoders[column] = le\n",
    "\n",
    "# Generar datos de ejemplo\n",
    "data = X_train[:100]  # Usa una muestra de tus datos si son muchos\n",
    "\n",
    "# Realizar el linkage\n",
    "Z = linkage(data, method='ward')\n",
    "\n",
    "# Crear el dendograma\n",
    "plt.figure(figsize=(10, 7))\n",
    "plt.title(\"Dendograma\")\n",
    "dendrogram(Z)\n",
    "plt.show()"
   ]
  },
  {
   "cell_type": "code",
   "execution_count": 16,
   "metadata": {},
   "outputs": [
    {
     "name": "stderr",
     "output_type": "stream",
     "text": [
      "  3%|▎         | 1/32 [00:01<00:40,  1.29s/it]"
     ]
    },
    {
     "name": "stdout",
     "output_type": "stream",
     "text": [
      "{'Model': 'AdaBoostClassifier', 'Accuracy': 0.6161284752201692, 'Balanced Accuracy': np.float64(0.49187886243178847), 'ROC AUC': None, 'F1 Score': 0.5927374143467284, 'Time taken': 1.2928597927093506}\n"
     ]
    },
    {
     "name": "stderr",
     "output_type": "stream",
     "text": [
      "  9%|▉         | 3/32 [00:03<00:25,  1.14it/s]"
     ]
    },
    {
     "name": "stdout",
     "output_type": "stream",
     "text": [
      "{'Model': 'BaggingClassifier', 'Accuracy': 0.674149542393369, 'Balanced Accuracy': np.float64(0.5931079139215613), 'ROC AUC': None, 'F1 Score': 0.6678153660791087, 'Time taken': 1.6743297576904297}\n",
      "{'Model': 'BernoulliNB', 'Accuracy': 0.5075116560179589, 'Balanced Accuracy': np.float64(0.5458863024207213), 'ROC AUC': None, 'F1 Score': 0.5078538648108161, 'Time taken': 0.10901689529418945}\n"
     ]
    },
    {
     "name": "stderr",
     "output_type": "stream",
     "text": [
      " 12%|█▎        | 4/32 [00:09<01:25,  3.07s/it]"
     ]
    },
    {
     "name": "stdout",
     "output_type": "stream",
     "text": [
      "{'Model': 'CalibratedClassifierCV', 'Accuracy': 0.5952339837679157, 'Balanced Accuracy': np.float64(0.4429754349076016), 'ROC AUC': None, 'F1 Score': 0.5409893639679016, 'Time taken': 6.423543214797974}\n"
     ]
    },
    {
     "name": "stderr",
     "output_type": "stream",
     "text": [
      " 25%|██▌       | 8/32 [00:10<00:22,  1.09it/s]"
     ]
    },
    {
     "name": "stdout",
     "output_type": "stream",
     "text": [
      "{'Model': 'DecisionTreeClassifier', 'Accuracy': 0.6080124330858229, 'Balanced Accuracy': np.float64(0.5508688882010706), 'ROC AUC': None, 'F1 Score': 0.609447437387252, 'Time taken': 0.3206214904785156}\n",
      "{'Model': 'DummyClassifier', 'Accuracy': 0.5717492661025729, 'Balanced Accuracy': np.float64(0.3333333333333333), 'ROC AUC': None, 'F1 Score': 0.4159661217459062, 'Time taken': 0.06463503837585449}\n",
      "{'Model': 'ExtraTreeClassifier', 'Accuracy': 0.5508547746503195, 'Balanced Accuracy': np.float64(0.4993450711850908), 'ROC AUC': None, 'F1 Score': 0.5522781520579926, 'Time taken': 0.12525725364685059}\n"
     ]
    },
    {
     "name": "stderr",
     "output_type": "stream",
     "text": [
      " 34%|███▍      | 11/32 [00:13<00:18,  1.14it/s]"
     ]
    },
    {
     "name": "stdout",
     "output_type": "stream",
     "text": [
      "{'Model': 'ExtraTreesClassifier', 'Accuracy': 0.6544638231738905, 'Balanced Accuracy': np.float64(0.5609238759272347), 'ROC AUC': None, 'F1 Score': 0.6455338366144882, 'Time taken': 3.0921149253845215}\n",
      "{'Model': 'GaussianNB', 'Accuracy': 0.38076325332412364, 'Balanced Accuracy': np.float64(0.508788326659319), 'ROC AUC': None, 'F1 Score': 0.2398751518799644, 'Time taken': 0.11347603797912598}\n"
     ]
    },
    {
     "name": "stderr",
     "output_type": "stream",
     "text": [
      " 38%|███▊      | 12/32 [00:13<00:15,  1.29it/s]"
     ]
    },
    {
     "name": "stdout",
     "output_type": "stream",
     "text": [
      "{'Model': 'KNeighborsClassifier', 'Accuracy': 0.5909169400794336, 'Balanced Accuracy': np.float64(0.5155203434002434), 'ROC AUC': None, 'F1 Score': 0.5848259331951968, 'Time taken': 0.4027223587036133}\n"
     ]
    },
    {
     "name": "stderr",
     "output_type": "stream",
     "text": [
      " 41%|████      | 13/32 [00:38<02:03,  6.52s/it]"
     ]
    },
    {
     "name": "stdout",
     "output_type": "stream",
     "text": [
      "{'Model': 'LabelPropagation', 'Accuracy': 0.5586254532895872, 'Balanced Accuracy': np.float64(0.5061739461036846), 'ROC AUC': None, 'F1 Score': 0.5600526815165066, 'Time taken': 24.542209148406982}\n"
     ]
    },
    {
     "name": "stderr",
     "output_type": "stream",
     "text": [
      " 44%|████▍     | 14/32 [01:05<03:35, 11.96s/it]"
     ]
    },
    {
     "name": "stdout",
     "output_type": "stream",
     "text": [
      "{'Model': 'LabelSpreading', 'Accuracy': 0.5591434985322051, 'Balanced Accuracy': np.float64(0.5069891686842932), 'ROC AUC': None, 'F1 Score': 0.5605953842695258, 'Time taken': 27.705767393112183}\n"
     ]
    },
    {
     "name": "stderr",
     "output_type": "stream",
     "text": [
      " 47%|████▋     | 15/32 [01:06<02:29,  8.81s/it]"
     ]
    },
    {
     "name": "stdout",
     "output_type": "stream",
     "text": [
      "{'Model': 'LinearDiscriminantAnalysis', 'Accuracy': 0.5867725781384907, 'Balanced Accuracy': np.float64(0.5094750779589617), 'ROC AUC': None, 'F1 Score': 0.5431458808107016, 'Time taken': 0.222076416015625}\n"
     ]
    },
    {
     "name": "stderr",
     "output_type": "stream",
     "text": [
      " 50%|█████     | 16/32 [01:07<01:49,  6.84s/it]"
     ]
    },
    {
     "name": "stdout",
     "output_type": "stream",
     "text": [
      "{'Model': 'LinearSVC', 'Accuracy': 0.5931618027974443, 'Balanced Accuracy': np.float64(0.43449296341462795), 'ROC AUC': None, 'F1 Score': 0.5339570742789019, 'Time taken': 1.7178504467010498}\n"
     ]
    },
    {
     "name": "stderr",
     "output_type": "stream",
     "text": [
      " 59%|█████▉    | 19/32 [01:08<00:36,  2.81s/it]"
     ]
    },
    {
     "name": "stdout",
     "output_type": "stream",
     "text": [
      "{'Model': 'LogisticRegression', 'Accuracy': 0.5976515282334657, 'Balanced Accuracy': np.float64(0.4678540767495614), 'ROC AUC': None, 'F1 Score': 0.551638994857758, 'Time taken': 0.39213037490844727}\n",
      "{'Model': 'NearestCentroid', 'Accuracy': 0.4650319461232948, 'Balanced Accuracy': np.float64(0.5561948153166149), 'ROC AUC': None, 'F1 Score': 0.4406968946136838, 'Time taken': 0.0885317325592041}\n"
     ]
    },
    {
     "name": "stderr",
     "output_type": "stream",
     "text": [
      " 66%|██████▌   | 21/32 [01:08<00:18,  1.66s/it]"
     ]
    },
    {
     "name": "stdout",
     "output_type": "stream",
     "text": [
      "{'Model': 'PassiveAggressiveClassifier', 'Accuracy': 0.5054394750474874, 'Balanced Accuracy': np.float64(0.4601685133984493), 'ROC AUC': None, 'F1 Score': 0.5091288594145614, 'Time taken': 0.22292637825012207}\n",
      "{'Model': 'Perceptron', 'Accuracy': 0.5332412364013124, 'Balanced Accuracy': np.float64(0.4696977281124282), 'ROC AUC': None, 'F1 Score': 0.5020787039616185, 'Time taken': 0.13324737548828125}\n"
     ]
    },
    {
     "name": "stderr",
     "output_type": "stream",
     "text": [
      " 69%|██████▉   | 22/32 [01:08<00:12,  1.26s/it]"
     ]
    },
    {
     "name": "stdout",
     "output_type": "stream",
     "text": [
      "{'Model': 'QuadraticDiscriminantAnalysis', 'Accuracy': 0.35624244517354514, 'Balanced Accuracy': np.float64(0.5133984579437455), 'ROC AUC': None, 'F1 Score': 0.22473903818876695, 'Time taken': 0.1802663803100586}\n"
     ]
    },
    {
     "name": "stderr",
     "output_type": "stream",
     "text": [
      " 72%|███████▏  | 23/32 [01:12<00:16,  1.83s/it]"
     ]
    },
    {
     "name": "stdout",
     "output_type": "stream",
     "text": [
      "{'Model': 'RandomForestClassifier', 'Accuracy': 0.676567086858919, 'Balanced Accuracy': np.float64(0.5661836419545313), 'ROC AUC': None, 'F1 Score': 0.6641389089882018, 'Time taken': 3.3023245334625244}\n",
      "{'Model': 'RidgeClassifier', 'Accuracy': 0.5945432567777585, 'Balanced Accuracy': np.float64(0.4318039967403104), 'ROC AUC': None, 'F1 Score': 0.5323279121897013, 'Time taken': 0.09032082557678223}\n"
     ]
    },
    {
     "name": "stderr",
     "output_type": "stream",
     "text": [
      " 78%|███████▊  | 25/32 [01:12<00:07,  1.09s/it]"
     ]
    },
    {
     "name": "stdout",
     "output_type": "stream",
     "text": [
      "{'Model': 'RidgeClassifierCV', 'Accuracy': 0.5950613020203764, 'Balanced Accuracy': np.float64(0.4309367964503448), 'ROC AUC': None, 'F1 Score': 0.532119810542649, 'Time taken': 0.2343745231628418}\n"
     ]
    },
    {
     "name": "stderr",
     "output_type": "stream",
     "text": [
      " 81%|████████▏ | 26/32 [01:13<00:06,  1.00s/it]"
     ]
    },
    {
     "name": "stdout",
     "output_type": "stream",
     "text": [
      "{'Model': 'SGDClassifier', 'Accuracy': 0.5776204455189087, 'Balanced Accuracy': np.float64(0.4655753902968836), 'ROC AUC': None, 'F1 Score': 0.4946115440049152, 'Time taken': 0.7250006198883057}\n"
     ]
    },
    {
     "name": "stderr",
     "output_type": "stream",
     "text": [
      " 84%|████████▍ | 27/32 [01:41<00:39,  7.94s/it]"
     ]
    },
    {
     "name": "stdout",
     "output_type": "stream",
     "text": [
      "{'Model': 'SVC', 'Accuracy': 0.6130202037644621, 'Balanced Accuracy': np.float64(0.47046452935729777), 'ROC AUC': None, 'F1 Score': 0.5688475352763345, 'Time taken': 28.19050669670105}\n",
      "[LightGBM] [Info] Auto-choosing row-wise multi-threading, the overhead of testing was 0.003683 seconds.\n",
      "You can set `force_row_wise=true` to remove the overhead.\n",
      "And if memory is not enough, you can set `force_col_wise=true`.\n",
      "[LightGBM] [Info] Total Bins 1035\n",
      "[LightGBM] [Info] Number of data points in the train set: 23164, number of used features: 61\n",
      "[LightGBM] [Info] Start training from score -2.330781\n",
      "[LightGBM] [Info] Start training from score -0.568919\n",
      "[LightGBM] [Info] Start training from score -1.088732\n"
     ]
    },
    {
     "name": "stderr",
     "output_type": "stream",
     "text": [
      "100%|██████████| 32/32 [01:42<00:00,  3.19s/it]"
     ]
    },
    {
     "name": "stdout",
     "output_type": "stream",
     "text": [
      "{'Model': 'LGBMClassifier', 'Accuracy': 0.7033327577275083, 'Balanced Accuracy': np.float64(0.6002779652430803), 'ROC AUC': None, 'F1 Score': 0.6939324254493202, 'Time taken': 0.5156078338623047}\n"
     ]
    },
    {
     "name": "stderr",
     "output_type": "stream",
     "text": [
      "\n"
     ]
    },
    {
     "data": {
      "text/html": [
       "<div>\n",
       "<style scoped>\n",
       "    .dataframe tbody tr th:only-of-type {\n",
       "        vertical-align: middle;\n",
       "    }\n",
       "\n",
       "    .dataframe tbody tr th {\n",
       "        vertical-align: top;\n",
       "    }\n",
       "\n",
       "    .dataframe thead th {\n",
       "        text-align: right;\n",
       "    }\n",
       "</style>\n",
       "<table border=\"1\" class=\"dataframe\">\n",
       "  <thead>\n",
       "    <tr style=\"text-align: right;\">\n",
       "      <th></th>\n",
       "      <th>Accuracy</th>\n",
       "      <th>Balanced Accuracy</th>\n",
       "      <th>ROC AUC</th>\n",
       "      <th>F1 Score</th>\n",
       "      <th>Time Taken</th>\n",
       "    </tr>\n",
       "    <tr>\n",
       "      <th>Model</th>\n",
       "      <th></th>\n",
       "      <th></th>\n",
       "      <th></th>\n",
       "      <th></th>\n",
       "      <th></th>\n",
       "    </tr>\n",
       "  </thead>\n",
       "  <tbody>\n",
       "    <tr>\n",
       "      <th>LGBMClassifier</th>\n",
       "      <td>0.70</td>\n",
       "      <td>0.60</td>\n",
       "      <td>None</td>\n",
       "      <td>0.69</td>\n",
       "      <td>0.52</td>\n",
       "    </tr>\n",
       "    <tr>\n",
       "      <th>BaggingClassifier</th>\n",
       "      <td>0.67</td>\n",
       "      <td>0.59</td>\n",
       "      <td>None</td>\n",
       "      <td>0.67</td>\n",
       "      <td>1.67</td>\n",
       "    </tr>\n",
       "    <tr>\n",
       "      <th>RandomForestClassifier</th>\n",
       "      <td>0.68</td>\n",
       "      <td>0.57</td>\n",
       "      <td>None</td>\n",
       "      <td>0.66</td>\n",
       "      <td>3.30</td>\n",
       "    </tr>\n",
       "    <tr>\n",
       "      <th>ExtraTreesClassifier</th>\n",
       "      <td>0.65</td>\n",
       "      <td>0.56</td>\n",
       "      <td>None</td>\n",
       "      <td>0.65</td>\n",
       "      <td>3.09</td>\n",
       "    </tr>\n",
       "    <tr>\n",
       "      <th>NearestCentroid</th>\n",
       "      <td>0.47</td>\n",
       "      <td>0.56</td>\n",
       "      <td>None</td>\n",
       "      <td>0.44</td>\n",
       "      <td>0.09</td>\n",
       "    </tr>\n",
       "    <tr>\n",
       "      <th>DecisionTreeClassifier</th>\n",
       "      <td>0.61</td>\n",
       "      <td>0.55</td>\n",
       "      <td>None</td>\n",
       "      <td>0.61</td>\n",
       "      <td>0.32</td>\n",
       "    </tr>\n",
       "    <tr>\n",
       "      <th>BernoulliNB</th>\n",
       "      <td>0.51</td>\n",
       "      <td>0.55</td>\n",
       "      <td>None</td>\n",
       "      <td>0.51</td>\n",
       "      <td>0.11</td>\n",
       "    </tr>\n",
       "    <tr>\n",
       "      <th>KNeighborsClassifier</th>\n",
       "      <td>0.59</td>\n",
       "      <td>0.52</td>\n",
       "      <td>None</td>\n",
       "      <td>0.58</td>\n",
       "      <td>0.40</td>\n",
       "    </tr>\n",
       "    <tr>\n",
       "      <th>QuadraticDiscriminantAnalysis</th>\n",
       "      <td>0.36</td>\n",
       "      <td>0.51</td>\n",
       "      <td>None</td>\n",
       "      <td>0.22</td>\n",
       "      <td>0.18</td>\n",
       "    </tr>\n",
       "    <tr>\n",
       "      <th>LinearDiscriminantAnalysis</th>\n",
       "      <td>0.59</td>\n",
       "      <td>0.51</td>\n",
       "      <td>None</td>\n",
       "      <td>0.54</td>\n",
       "      <td>0.22</td>\n",
       "    </tr>\n",
       "    <tr>\n",
       "      <th>GaussianNB</th>\n",
       "      <td>0.38</td>\n",
       "      <td>0.51</td>\n",
       "      <td>None</td>\n",
       "      <td>0.24</td>\n",
       "      <td>0.11</td>\n",
       "    </tr>\n",
       "    <tr>\n",
       "      <th>LabelSpreading</th>\n",
       "      <td>0.56</td>\n",
       "      <td>0.51</td>\n",
       "      <td>None</td>\n",
       "      <td>0.56</td>\n",
       "      <td>27.71</td>\n",
       "    </tr>\n",
       "    <tr>\n",
       "      <th>LabelPropagation</th>\n",
       "      <td>0.56</td>\n",
       "      <td>0.51</td>\n",
       "      <td>None</td>\n",
       "      <td>0.56</td>\n",
       "      <td>24.54</td>\n",
       "    </tr>\n",
       "    <tr>\n",
       "      <th>ExtraTreeClassifier</th>\n",
       "      <td>0.55</td>\n",
       "      <td>0.50</td>\n",
       "      <td>None</td>\n",
       "      <td>0.55</td>\n",
       "      <td>0.13</td>\n",
       "    </tr>\n",
       "    <tr>\n",
       "      <th>AdaBoostClassifier</th>\n",
       "      <td>0.62</td>\n",
       "      <td>0.49</td>\n",
       "      <td>None</td>\n",
       "      <td>0.59</td>\n",
       "      <td>1.29</td>\n",
       "    </tr>\n",
       "    <tr>\n",
       "      <th>SVC</th>\n",
       "      <td>0.61</td>\n",
       "      <td>0.47</td>\n",
       "      <td>None</td>\n",
       "      <td>0.57</td>\n",
       "      <td>28.19</td>\n",
       "    </tr>\n",
       "    <tr>\n",
       "      <th>Perceptron</th>\n",
       "      <td>0.53</td>\n",
       "      <td>0.47</td>\n",
       "      <td>None</td>\n",
       "      <td>0.50</td>\n",
       "      <td>0.13</td>\n",
       "    </tr>\n",
       "    <tr>\n",
       "      <th>LogisticRegression</th>\n",
       "      <td>0.60</td>\n",
       "      <td>0.47</td>\n",
       "      <td>None</td>\n",
       "      <td>0.55</td>\n",
       "      <td>0.39</td>\n",
       "    </tr>\n",
       "    <tr>\n",
       "      <th>SGDClassifier</th>\n",
       "      <td>0.58</td>\n",
       "      <td>0.47</td>\n",
       "      <td>None</td>\n",
       "      <td>0.49</td>\n",
       "      <td>0.73</td>\n",
       "    </tr>\n",
       "    <tr>\n",
       "      <th>PassiveAggressiveClassifier</th>\n",
       "      <td>0.51</td>\n",
       "      <td>0.46</td>\n",
       "      <td>None</td>\n",
       "      <td>0.51</td>\n",
       "      <td>0.22</td>\n",
       "    </tr>\n",
       "    <tr>\n",
       "      <th>CalibratedClassifierCV</th>\n",
       "      <td>0.60</td>\n",
       "      <td>0.44</td>\n",
       "      <td>None</td>\n",
       "      <td>0.54</td>\n",
       "      <td>6.42</td>\n",
       "    </tr>\n",
       "    <tr>\n",
       "      <th>LinearSVC</th>\n",
       "      <td>0.59</td>\n",
       "      <td>0.43</td>\n",
       "      <td>None</td>\n",
       "      <td>0.53</td>\n",
       "      <td>1.72</td>\n",
       "    </tr>\n",
       "    <tr>\n",
       "      <th>RidgeClassifier</th>\n",
       "      <td>0.59</td>\n",
       "      <td>0.43</td>\n",
       "      <td>None</td>\n",
       "      <td>0.53</td>\n",
       "      <td>0.09</td>\n",
       "    </tr>\n",
       "    <tr>\n",
       "      <th>RidgeClassifierCV</th>\n",
       "      <td>0.60</td>\n",
       "      <td>0.43</td>\n",
       "      <td>None</td>\n",
       "      <td>0.53</td>\n",
       "      <td>0.23</td>\n",
       "    </tr>\n",
       "    <tr>\n",
       "      <th>DummyClassifier</th>\n",
       "      <td>0.57</td>\n",
       "      <td>0.33</td>\n",
       "      <td>None</td>\n",
       "      <td>0.42</td>\n",
       "      <td>0.06</td>\n",
       "    </tr>\n",
       "  </tbody>\n",
       "</table>\n",
       "</div>"
      ],
      "text/plain": [
       "                               Accuracy  Balanced Accuracy ROC AUC  F1 Score  \\\n",
       "Model                                                                          \n",
       "LGBMClassifier                     0.70               0.60    None      0.69   \n",
       "BaggingClassifier                  0.67               0.59    None      0.67   \n",
       "RandomForestClassifier             0.68               0.57    None      0.66   \n",
       "ExtraTreesClassifier               0.65               0.56    None      0.65   \n",
       "NearestCentroid                    0.47               0.56    None      0.44   \n",
       "DecisionTreeClassifier             0.61               0.55    None      0.61   \n",
       "BernoulliNB                        0.51               0.55    None      0.51   \n",
       "KNeighborsClassifier               0.59               0.52    None      0.58   \n",
       "QuadraticDiscriminantAnalysis      0.36               0.51    None      0.22   \n",
       "LinearDiscriminantAnalysis         0.59               0.51    None      0.54   \n",
       "GaussianNB                         0.38               0.51    None      0.24   \n",
       "LabelSpreading                     0.56               0.51    None      0.56   \n",
       "LabelPropagation                   0.56               0.51    None      0.56   \n",
       "ExtraTreeClassifier                0.55               0.50    None      0.55   \n",
       "AdaBoostClassifier                 0.62               0.49    None      0.59   \n",
       "SVC                                0.61               0.47    None      0.57   \n",
       "Perceptron                         0.53               0.47    None      0.50   \n",
       "LogisticRegression                 0.60               0.47    None      0.55   \n",
       "SGDClassifier                      0.58               0.47    None      0.49   \n",
       "PassiveAggressiveClassifier        0.51               0.46    None      0.51   \n",
       "CalibratedClassifierCV             0.60               0.44    None      0.54   \n",
       "LinearSVC                          0.59               0.43    None      0.53   \n",
       "RidgeClassifier                    0.59               0.43    None      0.53   \n",
       "RidgeClassifierCV                  0.60               0.43    None      0.53   \n",
       "DummyClassifier                    0.57               0.33    None      0.42   \n",
       "\n",
       "                               Time Taken  \n",
       "Model                                      \n",
       "LGBMClassifier                       0.52  \n",
       "BaggingClassifier                    1.67  \n",
       "RandomForestClassifier               3.30  \n",
       "ExtraTreesClassifier                 3.09  \n",
       "NearestCentroid                      0.09  \n",
       "DecisionTreeClassifier               0.32  \n",
       "BernoulliNB                          0.11  \n",
       "KNeighborsClassifier                 0.40  \n",
       "QuadraticDiscriminantAnalysis        0.18  \n",
       "LinearDiscriminantAnalysis           0.22  \n",
       "GaussianNB                           0.11  \n",
       "LabelSpreading                      27.71  \n",
       "LabelPropagation                    24.54  \n",
       "ExtraTreeClassifier                  0.13  \n",
       "AdaBoostClassifier                   1.29  \n",
       "SVC                                 28.19  \n",
       "Perceptron                           0.13  \n",
       "LogisticRegression                   0.39  \n",
       "SGDClassifier                        0.73  \n",
       "PassiveAggressiveClassifier          0.22  \n",
       "CalibratedClassifierCV               6.42  \n",
       "LinearSVC                            1.72  \n",
       "RidgeClassifier                      0.09  \n",
       "RidgeClassifierCV                    0.23  \n",
       "DummyClassifier                      0.06  "
      ]
     },
     "execution_count": 16,
     "metadata": {},
     "output_type": "execute_result"
    }
   ],
   "source": [
    "clf = LazyClassifier(verbose=1, ignore_warnings=True, custom_metric=None)\n",
    "models,predictions = clf.fit(X_train, X_test, y_train, y_test)\n",
    "models"
   ]
  }
 ],
 "metadata": {
  "kernelspec": {
   "display_name": "Python 3",
   "language": "python",
   "name": "python3"
  },
  "language_info": {
   "codemirror_mode": {
    "name": "ipython",
    "version": 3
   },
   "file_extension": ".py",
   "mimetype": "text/x-python",
   "name": "python",
   "nbconvert_exporter": "python",
   "pygments_lexer": "ipython3",
   "version": "3.13.2"
  }
 },
 "nbformat": 4,
 "nbformat_minor": 2
}
