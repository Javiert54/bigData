{
 "cells": [
  {
   "cell_type": "code",
   "execution_count": 1,
   "metadata": {},
   "outputs": [],
   "source": [
    "import csv\n",
    "import pandas as pd\n",
    "from lazypredict.Supervised import LazyClassifier\n",
    "from sklearn.model_selection import train_test_split"
   ]
  },
  {
   "cell_type": "code",
   "execution_count": null,
   "metadata": {},
   "outputs": [
    {
     "name": "stdout",
     "output_type": "stream",
     "text": [
      "[2 2 3 2 3]\n"
     ]
    }
   ],
   "source": [
    "# Load data\n",
    "X = pd.read_csv('train_values.csv')\n",
    "Y = pd.read_csv('train_labels.csv')\n",
    "X_train, X_test, y_train, y_test = train_test_split(X, Y, test_size=0.2, random_state=42)\n",
    "\n",
    "# Convert y_train and y_test to 1-dimensional arrays\n",
    "y_train = y_train.values[:, 1]  # Select the first column\n",
    "y_test = y_test.values[:, 1]    # Select the first column"
   ]
  },
  {
   "cell_type": "code",
   "execution_count": null,
   "metadata": {},
   "outputs": [
    {
     "name": "stderr",
     "output_type": "stream",
     "text": [
      "  0%|          | 0/32 [00:00<?, ?it/s]"
     ]
    },
    {
     "name": "stderr",
     "output_type": "stream",
     "text": [
      "  3%|▎         | 1/32 [00:17<08:51, 17.14s/it]"
     ]
    },
    {
     "name": "stdout",
     "output_type": "stream",
     "text": [
      "ROC AUC couldn't be calculated for AdaBoostClassifier\n",
      "multi_class must be in ('ovo', 'ovr')\n",
      "{'Model': 'AdaBoostClassifier', 'Accuracy': 0.6242397498129353, 'Balanced Accuracy': np.float64(0.48078868084007076), 'ROC AUC': None, 'F1 Score': 0.5883848098440814, 'Time taken': 17.135428428649902}\n"
     ]
    },
    {
     "name": "stderr",
     "output_type": "stream",
     "text": [
      "  6%|▋         | 2/32 [00:35<09:02, 18.07s/it]"
     ]
    },
    {
     "name": "stdout",
     "output_type": "stream",
     "text": [
      "ROC AUC couldn't be calculated for BaggingClassifier\n",
      "multi_class must be in ('ovo', 'ovr')\n",
      "{'Model': 'BaggingClassifier', 'Accuracy': 0.7066441549471423, 'Balanced Accuracy': np.float64(0.6370408127936686), 'ROC AUC': None, 'F1 Score': 0.7015793989053978, 'Time taken': 18.73131513595581}\n"
     ]
    },
    {
     "name": "stderr",
     "output_type": "stream",
     "text": [
      "  9%|▉         | 3/32 [00:36<04:54, 10.16s/it]"
     ]
    },
    {
     "name": "stdout",
     "output_type": "stream",
     "text": [
      "ROC AUC couldn't be calculated for BernoulliNB\n",
      "multi_class must be in ('ovo', 'ovr')\n",
      "{'Model': 'BernoulliNB', 'Accuracy': 0.5250858579075612, 'Balanced Accuracy': np.float64(0.550797592523158), 'ROC AUC': None, 'F1 Score': 0.5270988829476074, 'Time taken': 0.7400939464569092}\n"
     ]
    },
    {
     "name": "stderr",
     "output_type": "stream",
     "text": [
      " 12%|█▎        | 4/32 [02:51<27:47, 59.55s/it]"
     ]
    },
    {
     "name": "stdout",
     "output_type": "stream",
     "text": [
      "ROC AUC couldn't be calculated for CalibratedClassifierCV\n",
      "multi_class must be in ('ovo', 'ovr')\n",
      "{'Model': 'CalibratedClassifierCV', 'Accuracy': 0.5857140116267915, 'Balanced Accuracy': np.float64(0.43882835077280374), 'ROC AUC': None, 'F1 Score': 0.5307492648426003, 'Time taken': 135.262619972229}\n"
     ]
    },
    {
     "name": "stderr",
     "output_type": "stream",
     "text": [
      " 16%|█▌        | 5/32 [02:52<17:12, 38.25s/it]"
     ]
    },
    {
     "name": "stdout",
     "output_type": "stream",
     "text": [
      "CategoricalNB model failed to execute\n",
      "Negative values in data passed to CategoricalNB (input X).\n"
     ]
    },
    {
     "name": "stderr",
     "output_type": "stream",
     "text": [
      " 19%|█▉        | 6/32 [02:55<11:25, 26.37s/it]"
     ]
    },
    {
     "name": "stdout",
     "output_type": "stream",
     "text": [
      "ROC AUC couldn't be calculated for DecisionTreeClassifier\n",
      "multi_class must be in ('ovo', 'ovr')\n",
      "{'Model': 'DecisionTreeClassifier', 'Accuracy': 0.645075881122772, 'Balanced Accuracy': np.float64(0.5962175688496524), 'ROC AUC': None, 'F1 Score': 0.6452890795454351, 'Time taken': 3.307917833328247}\n"
     ]
    },
    {
     "name": "stderr",
     "output_type": "stream",
     "text": [
      " 22%|██▏       | 7/32 [02:56<07:28, 17.93s/it]"
     ]
    },
    {
     "name": "stdout",
     "output_type": "stream",
     "text": [
      "ROC AUC couldn't be calculated for DummyClassifier\n",
      "multi_class must be in ('ovo', 'ovr')\n",
      "{'Model': 'DummyClassifier', 'Accuracy': 0.5657412559237159, 'Balanced Accuracy': np.float64(0.3333333333333333), 'ROC AUC': None, 'F1 Score': 0.40883277162588505, 'Time taken': 0.5476250648498535}\n"
     ]
    },
    {
     "name": "stderr",
     "output_type": "stream",
     "text": [
      " 25%|██▌       | 8/32 [02:57<05:00, 12.53s/it]"
     ]
    },
    {
     "name": "stdout",
     "output_type": "stream",
     "text": [
      "ROC AUC couldn't be calculated for ExtraTreeClassifier\n",
      "multi_class must be in ('ovo', 'ovr')\n",
      "{'Model': 'ExtraTreeClassifier', 'Accuracy': 0.606377467815276, 'Balanced Accuracy': np.float64(0.5511383197172116), 'ROC AUC': None, 'F1 Score': 0.6064044701987397, 'Time taken': 0.9754283428192139}\n"
     ]
    },
    {
     "name": "stderr",
     "output_type": "stream",
     "text": [
      " 28%|██▊       | 9/32 [03:39<08:23, 21.88s/it]"
     ]
    },
    {
     "name": "stdout",
     "output_type": "stream",
     "text": [
      "ROC AUC couldn't be calculated for ExtraTreesClassifier\n",
      "multi_class must be in ('ovo', 'ovr')\n",
      "{'Model': 'ExtraTreesClassifier', 'Accuracy': 0.7001784309587307, 'Balanced Accuracy': np.float64(0.6190399715984474), 'ROC AUC': None, 'F1 Score': 0.6938824091386783, 'Time taken': 42.427839040756226}\n",
      "FixedThresholdClassifier model failed to execute\n",
      "FixedThresholdClassifier.__init__() missing 1 required positional argument: 'estimator'\n"
     ]
    },
    {
     "name": "stderr",
     "output_type": "stream",
     "text": [
      " 34%|███▍      | 11/32 [03:40<04:06, 11.74s/it]"
     ]
    },
    {
     "name": "stdout",
     "output_type": "stream",
     "text": [
      "ROC AUC couldn't be calculated for GaussianNB\n",
      "multi_class must be in ('ovo', 'ovr')\n",
      "{'Model': 'GaussianNB', 'Accuracy': 0.4227278831948735, 'Balanced Accuracy': np.float64(0.5273387521279155), 'ROC AUC': None, 'F1 Score': 0.3453991370245068, 'Time taken': 0.77339768409729}\n"
     ]
    },
    {
     "name": "stderr",
     "output_type": "stream",
     "text": [
      " 38%|███▊      | 12/32 [03:50<03:44, 11.20s/it]"
     ]
    },
    {
     "name": "stdout",
     "output_type": "stream",
     "text": [
      "ROC AUC couldn't be calculated for KNeighborsClassifier\n",
      "multi_class must be in ('ovo', 'ovr')\n",
      "{'Model': 'KNeighborsClassifier', 'Accuracy': 0.6356363078221829, 'Balanced Accuracy': np.float64(0.5654767652418365), 'ROC AUC': None, 'F1 Score': 0.6306178068796783, 'Time taken': 9.620094776153564}\n"
     ]
    },
    {
     "name": "stderr",
     "output_type": "stream",
     "text": [
      " 41%|████      | 13/32 [03:50<02:39,  8.39s/it]"
     ]
    },
    {
     "name": "stdout",
     "output_type": "stream",
     "text": [
      "LabelPropagation model failed to execute\n",
      "Unable to allocate 324. GiB for an array with shape (208480, 208480) and data type float64\n"
     ]
    },
    {
     "name": "stderr",
     "output_type": "stream",
     "text": [
      " 44%|████▍     | 14/32 [03:51<01:52,  6.24s/it]"
     ]
    },
    {
     "name": "stdout",
     "output_type": "stream",
     "text": [
      "LabelSpreading model failed to execute\n",
      "Unable to allocate 324. GiB for an array with shape (208480, 208480) and data type float64\n"
     ]
    },
    {
     "name": "stderr",
     "output_type": "stream",
     "text": [
      " 47%|████▋     | 15/32 [03:53<01:25,  5.03s/it]"
     ]
    },
    {
     "name": "stdout",
     "output_type": "stream",
     "text": [
      "ROC AUC couldn't be calculated for LinearDiscriminantAnalysis\n",
      "multi_class must be in ('ovo', 'ovr')\n",
      "{'Model': 'LinearDiscriminantAnalysis', 'Accuracy': 0.5844669135281364, 'Balanced Accuracy': np.float64(0.5032574811095255), 'ROC AUC': None, 'F1 Score': 0.5341124257909615, 'Time taken': 1.9473536014556885}\n"
     ]
    },
    {
     "name": "stderr",
     "output_type": "stream",
     "text": [
      " 50%|█████     | 16/32 [04:28<03:41, 13.86s/it]"
     ]
    },
    {
     "name": "stdout",
     "output_type": "stream",
     "text": [
      "ROC AUC couldn't be calculated for LinearSVC\n",
      "multi_class must be in ('ovo', 'ovr')\n",
      "{'Model': 'LinearSVC', 'Accuracy': 0.585061683390572, 'Balanced Accuracy': np.float64(0.4290592522609013), 'ROC AUC': None, 'F1 Score': 0.5192100833891593, 'Time taken': 35.80735945701599}\n"
     ]
    },
    {
     "name": "stderr",
     "output_type": "stream",
     "text": [
      " 53%|█████▎    | 17/32 [04:32<02:43, 10.92s/it]"
     ]
    },
    {
     "name": "stdout",
     "output_type": "stream",
     "text": [
      "ROC AUC couldn't be calculated for LogisticRegression\n",
      "multi_class must be in ('ovo', 'ovr')\n",
      "{'Model': 'LogisticRegression', 'Accuracy': 0.5881122772011281, 'Balanced Accuracy': np.float64(0.4540915946972459), 'ROC AUC': None, 'F1 Score': 0.5359350842961009, 'Time taken': 3.730888605117798}\n"
     ]
    },
    {
     "name": "stderr",
     "output_type": "stream",
     "text": [
      " 56%|█████▋    | 18/32 [04:33<01:51,  7.94s/it]"
     ]
    },
    {
     "name": "stdout",
     "output_type": "stream",
     "text": [
      "ROC AUC couldn't be calculated for NearestCentroid\n",
      "multi_class must be in ('ovo', 'ovr')\n",
      "{'Model': 'NearestCentroid', 'Accuracy': 0.4678536482415917, 'Balanced Accuracy': np.float64(0.548361747382306), 'ROC AUC': None, 'F1 Score': 0.44859397502023857, 'Time taken': 0.7856156826019287}\n"
     ]
    },
    {
     "name": "stderr",
     "output_type": "stream",
     "text": [
      " 59%|█████▉    | 19/32 [04:33<01:14,  5.76s/it]"
     ]
    },
    {
     "name": "stdout",
     "output_type": "stream",
     "text": [
      "NuSVC model failed to execute\n",
      "specified nu is infeasible\n"
     ]
    },
    {
     "name": "stderr",
     "output_type": "stream",
     "text": [
      " 62%|██████▎   | 20/32 [04:36<00:57,  4.75s/it]"
     ]
    },
    {
     "name": "stdout",
     "output_type": "stream",
     "text": [
      "ROC AUC couldn't be calculated for PassiveAggressiveClassifier\n",
      "multi_class must be in ('ovo', 'ovr')\n",
      "{'Model': 'PassiveAggressiveClassifier', 'Accuracy': 0.5316475125189463, 'Balanced Accuracy': np.float64(0.4064759228139792), 'ROC AUC': None, 'F1 Score': 0.5124040083486768, 'Time taken': 2.3522794246673584}\n"
     ]
    },
    {
     "name": "stderr",
     "output_type": "stream",
     "text": [
      " 66%|██████▌   | 21/32 [04:38<00:43,  3.91s/it]"
     ]
    },
    {
     "name": "stdout",
     "output_type": "stream",
     "text": [
      "ROC AUC couldn't be calculated for Perceptron\n",
      "multi_class must be in ('ovo', 'ovr')\n",
      "{'Model': 'Perceptron', 'Accuracy': 0.5199631626407782, 'Balanced Accuracy': np.float64(0.4445972065329284), 'ROC AUC': None, 'F1 Score': 0.5181260103647056, 'Time taken': 1.9244420528411865}\n"
     ]
    },
    {
     "name": "stderr",
     "output_type": "stream",
     "text": [
      " 69%|██████▉   | 22/32 [04:40<00:33,  3.36s/it]"
     ]
    },
    {
     "name": "stdout",
     "output_type": "stream",
     "text": [
      "ROC AUC couldn't be calculated for QuadraticDiscriminantAnalysis\n",
      "multi_class must be in ('ovo', 'ovr')\n",
      "{'Model': 'QuadraticDiscriminantAnalysis', 'Accuracy': 0.2927227029412329, 'Balanced Accuracy': np.float64(0.46614485918047066), 'ROC AUC': None, 'F1 Score': 0.2621855992161265, 'Time taken': 2.0499048233032227}\n"
     ]
    },
    {
     "name": "stderr",
     "output_type": "stream",
     "text": [
      " 72%|███████▏  | 23/32 [05:19<02:07, 14.21s/it]"
     ]
    },
    {
     "name": "stdout",
     "output_type": "stream",
     "text": [
      "ROC AUC couldn't be calculated for RandomForestClassifier\n",
      "multi_class must be in ('ovo', 'ovr')\n",
      "{'Model': 'RandomForestClassifier', 'Accuracy': 0.7177721072120642, 'Balanced Accuracy': np.float64(0.6286020945996375), 'ROC AUC': None, 'F1 Score': 0.7098499854769591, 'Time taken': 39.6838276386261}\n"
     ]
    },
    {
     "name": "stderr",
     "output_type": "stream",
     "text": [
      " 75%|███████▌  | 24/32 [05:20<01:21, 10.19s/it]"
     ]
    },
    {
     "name": "stdout",
     "output_type": "stream",
     "text": [
      "ROC AUC couldn't be calculated for RidgeClassifier\n",
      "multi_class must be in ('ovo', 'ovr')\n",
      "{'Model': 'RidgeClassifier', 'Accuracy': 0.5842750522821896, 'Balanced Accuracy': np.float64(0.4250084770767255), 'ROC AUC': None, 'F1 Score': 0.5148582936076008, 'Time taken': 0.7693080902099609}\n"
     ]
    },
    {
     "name": "stderr",
     "output_type": "stream",
     "text": [
      " 78%|███████▊  | 25/32 [05:22<00:53,  7.60s/it]"
     ]
    },
    {
     "name": "stdout",
     "output_type": "stream",
     "text": [
      "ROC AUC couldn't be calculated for RidgeClassifierCV\n",
      "multi_class must be in ('ovo', 'ovr')\n",
      "{'Model': 'RidgeClassifierCV', 'Accuracy': 0.5842558661575948, 'Balanced Accuracy': np.float64(0.42488304996138376), 'ROC AUC': None, 'F1 Score': 0.5147968541108785, 'Time taken': 1.5353145599365234}\n"
     ]
    },
    {
     "name": "stderr",
     "output_type": "stream",
     "text": [
      " 81%|████████▏ | 26/32 [05:28<00:42,  7.12s/it]"
     ]
    },
    {
     "name": "stdout",
     "output_type": "stream",
     "text": [
      "ROC AUC couldn't be calculated for SGDClassifier\n",
      "multi_class must be in ('ovo', 'ovr')\n",
      "{'Model': 'SGDClassifier', 'Accuracy': 0.5756221100899829, 'Balanced Accuracy': np.float64(0.41038661427255724), 'ROC AUC': None, 'F1 Score': 0.45293208206681707, 'Time taken': 5.98780632019043}\n"
     ]
    }
   ],
   "source": [
    "from sklearn.linear_model import SGDClassifier\n",
    "\n",
    "clf = SGDClassifier()  # o 'ovo' si prefieres one-vs-one\n",
    "\n",
    "clf = LazyClassifier(verbose=1, ignore_warnings=True, custom_metric=None)\n",
    "models,predictions = clf.fit(X_train, X_test, y_train, y_test)\n",
    "models"
   ]
  }
 ],
 "metadata": {
  "kernelspec": {
   "display_name": "Python 3",
   "language": "python",
   "name": "python3"
  },
  "language_info": {
   "codemirror_mode": {
    "name": "ipython",
    "version": 3
   },
   "file_extension": ".py",
   "mimetype": "text/x-python",
   "name": "python",
   "nbconvert_exporter": "python",
   "pygments_lexer": "ipython3",
   "version": "3.13.2"
  }
 },
 "nbformat": 4,
 "nbformat_minor": 2
}
