{
  "cells": [
    {
      "cell_type": "markdown",
      "metadata": {},
      "source": [
        "Autor: Javier Díaz Machado"
      ]
    },
    {
      "cell_type": "markdown",
      "metadata": {
        "id": "irnc2RYVuYVU"
      },
      "source": [
        "24_25\n",
        "\n",
        "Actividad 3.1 - Métricas de error para los problemas de regresión\n",
        "\n",
        "A partir de los ejemplos indicados realizar los ejercicios propuestos"
      ]
    },
    {
      "cell_type": "code",
      "execution_count": 3,
      "metadata": {
        "colab": {
          "base_uri": "https://localhost:8080/"
        },
        "id": "jVLFdfzxdsfG",
        "outputId": "1b6666ef-e65e-4fb4-f81c-3c0e9a66b8bf"
      },
      "outputs": [
        {
          "data": {
            "text/plain": [
              "0.0"
            ]
          },
          "execution_count": 3,
          "metadata": {},
          "output_type": "execute_result"
        }
      ],
      "source": [
        "#Error absoluto medio - mae\n",
        "from sklearn.metrics import mean_absolute_error\n",
        "# Ejemplo 1\n",
        "y_true = [2.5, 0, 2, 8]\n",
        "y_pred = [2.5, 0, 2, 8]\n",
        "mean_absolute_error(y_true, y_pred)"
      ]
    },
    {
      "cell_type": "code",
      "execution_count": 4,
      "metadata": {
        "id": "67XK1bXegMai"
      },
      "outputs": [
        {
          "name": "stdout",
          "output_type": "stream",
          "text": [
            "Error absoluto medio (MAE) de [1, 2, 3, 4, 5]: 0.0\n",
            "Error absoluto medio (MAE) de [1.25, 2.25, 3.25, 4.25, 5.25]: 0.25\n"
          ]
        }
      ],
      "source": [
        "# Ejer 1: Crear dos vectores/arrays de valores ciertos y valores previstos, y calcular el mae.\n",
        "# ¿Qué valores deberían de tener el array pred para que el error fuese 0? ¿y para que error fuese de 0.25?\n",
        "# Ejercicio 1\n",
        "\n",
        "y_true = [1, 2, 3, 4, 5]\n",
        "y_pred = [1, 2, 3, 4, 5]  # Para que el error sea 0\n",
        "mae = mean_absolute_error(y_true, y_pred)\n",
        "print(f'Error absoluto medio (MAE) de {y_pred}: {mae}')\n",
        "\n",
        "# Para que el error sea 0.25\n",
        "y_pred = [1.25, 2.25, 3.25, 4.25, 5.25]\n",
        "mae = mean_absolute_error(y_true, y_pred)\n",
        "print(f'Error absoluto medio (MAE) de {y_pred}: {mae}')\n"
      ]
    },
    {
      "cell_type": "code",
      "execution_count": 5,
      "metadata": {
        "colab": {
          "base_uri": "https://localhost:8080/"
        },
        "id": "3LhzsD30f60T",
        "outputId": "982b9c64-c017-4cb3-b4e7-9f8113937619"
      },
      "outputs": [
        {
          "data": {
            "text/plain": [
              "0.75"
            ]
          },
          "execution_count": 5,
          "metadata": {},
          "output_type": "execute_result"
        }
      ],
      "source": [
        "# Ejemplo 2\n",
        "y_true = [[0.5, 1], [-1, 1], [7, -6]]\n",
        "y_pred = [[0, 2], [-1, 2], [8, -5]]\n",
        "mean_absolute_error(y_true, y_pred)"
      ]
    },
    {
      "cell_type": "code",
      "execution_count": 6,
      "metadata": {
        "id": "LnPx6A4Astfq"
      },
      "outputs": [
        {
          "name": "stdout",
          "output_type": "stream",
          "text": [
            "Error absoluto medio (MAE) de [1, 2, 3, 4, 5]: 0.0\n",
            "Error absoluto medio (MAE) de [1.33, 2.33, 3.33, 4.33, 5.33]: 0.33000000000000007\n"
          ]
        }
      ],
      "source": [
        "# Ejer 2: Crear dos matrices/arrays de valores ciertos y valores previstos, y calcular el mae.\n",
        "# ¿Qué valores deberían de tener el array pred para que el error fuese 0? ¿y para que error fuese de 0.33?\n",
        "y_true = [1, 2, 3, 4, 5]\n",
        "y_pred = [1, 2, 3, 4, 5]  # Para que el error sea 0, debemos usar los mismos valores que y_true\n",
        "mae = mean_absolute_error(y_true, y_pred)\n",
        "print(f'Error absoluto medio (MAE) de {y_pred}: {mae}')\n",
        "\n",
        "y_pred = [1.33, 2.33, 3.33, 4.33, 5.33]  # Para que el error sea 0.33, debemos sumar 0.33 a cada valor de y_true\n",
        "mae = mean_absolute_error(y_true, y_pred)\n",
        "print(f'Error absoluto medio (MAE) de {y_pred}: {mae}')\n"
      ]
    },
    {
      "cell_type": "code",
      "execution_count": 7,
      "metadata": {
        "colab": {
          "base_uri": "https://localhost:8080/"
        },
        "id": "59efr-GWgKP6",
        "outputId": "ae6b9c8b-b5ab-4ad1-ee9f-f3b2d2fa70d1"
      },
      "outputs": [
        {
          "data": {
            "text/plain": [
              "0.375"
            ]
          },
          "execution_count": 7,
          "metadata": {},
          "output_type": "execute_result"
        }
      ],
      "source": [
        "# Error cuadrático medio - mse\n",
        "from sklearn.metrics import mean_squared_error\n",
        "y_true = [3, -0.5, 2, 7]\n",
        "y_pred = [2.5, 0.0, 2, 8]\n",
        "mean_squared_error(y_true, y_pred)\n"
      ]
    },
    {
      "cell_type": "code",
      "execution_count": 8,
      "metadata": {
        "id": "FLZt6j17u7sE"
      },
      "outputs": [
        {
          "name": "stdout",
          "output_type": "stream",
          "text": [
            "Error cuadrado Medio (MSE) de [1.5, 2.5, 3.5, 4.5]: 0.25\n"
          ]
        }
      ],
      "source": [
        "# Ejer 3: Crear dos vectores/arrays de valores ciertos y valores previstos, y calcular el mse.\n",
        "# ¿Qué valores deberían de tener el array pred para que el error fuese 0? ¿y para que error fuese de 0.25?\n",
        "# Nota: Es muy interesante comparar los resultados al aplicaer mae y mse sobre el mismo conjunto de datos. Podrás obervar\n",
        "#       que mse \"penaliza más\" (es decir, el número que se obtiene es mayor) con las diferencias entre los valores originales y los predichos que mae\n",
        "y_true = [1,2,3,4]\n",
        "y_pred = [1.5, 2.5, 3.5, 4.5]  # Para que el error cuadrático medio (MSE) sea 0.25, debemos sumar 0.5 a cada valor\n",
        "mse = mean_squared_error(y_true, y_pred)\n",
        "print(f'Error cuadrado Medio (MSE) de {y_pred}: {mse}')"
      ]
    },
    {
      "cell_type": "code",
      "execution_count": 9,
      "metadata": {
        "id": "M9nZd4nLvIRB"
      },
      "outputs": [
        {
          "name": "stdout",
          "output_type": "stream",
          "text": [
            "Error absoluto medio (MAE) de [1, 2, 3, 4, 5]: 0.0\n",
            "Error absoluto medio (MAE) de [1.33, 2.33, 3.33, 4.33, 5.33]: 0.33000000000000007\n"
          ]
        }
      ],
      "source": [
        "# Ejer 4: Crear dos matrices/arrays de valores ciertos y valores previstos, y calcular el mae.\n",
        "# ¿Qué valores deberían de tener el array pred para que el error fuese 0? ¿y para que error fuese de 0.33?\n",
        "y_true = [1, 2, 3, 4, 5]\n",
        "y_pred = [1, 2, 3, 4, 5]  # Para que el error sea 0, debemos usar los mismos valores que y_true\n",
        "mae = mean_absolute_error(y_true, y_pred)\n",
        "print(f'Error absoluto medio (MAE) de {y_pred}: {mae}')\n",
        "\n",
        "y_pred = [1.33, 2.33, 3.33, 4.33, 5.33]  # Para que el error sea 0.33, debemos sumar 0.33 a cada valor de y_true\n",
        "mae = mean_absolute_error(y_true, y_pred)\n",
        "print(f'Error absoluto medio (MAE) de {y_pred}: {mae}')"
      ]
    },
    {
      "cell_type": "code",
      "execution_count": 10,
      "metadata": {
        "colab": {
          "base_uri": "https://localhost:8080/"
        },
        "id": "0j3DDJPnBTmF",
        "outputId": "15363258-5e69-496a-fc26-5ccaa583dee4"
      },
      "outputs": [
        {
          "data": {
            "text/plain": [
              "0.3273809523809524"
            ]
          },
          "execution_count": 10,
          "metadata": {},
          "output_type": "execute_result"
        }
      ],
      "source": [
        "# Error de porcentaje absoluto medio - mape\n",
        "from sklearn.metrics import mean_absolute_percentage_error\n",
        "y_true = [3, -0.5, 2, 7]\n",
        "y_pred = [2.5, 0.0, 2, 8]\n",
        "mean_absolute_percentage_error(y_true, y_pred)"
      ]
    },
    {
      "cell_type": "code",
      "execution_count": 11,
      "metadata": {
        "id": "0vsYXdRqB0TE"
      },
      "outputs": [
        {
          "name": "stdout",
          "output_type": "stream",
          "text": [
            "Error de porcentaje absoluto medio (MAPE) de [3, -0.5, 2, 7]: 0.0\n"
          ]
        }
      ],
      "source": [
        "# Ejer 5: Crear dos vectores/arrays de valores ciertos y valores previstos, y calcular el mape.\n",
        "# ¿Qué valores deberían de tener el array pred para que el error fuese 0?\n",
        "y_true = [3, -0.5, 2, 7]\n",
        "y_pred = [3, -0.5, 2, 7]   # Para que el error sea 0, debemos usar los mismos valores que y_true\n",
        "mape = mean_absolute_percentage_error(y_true, y_pred)\n",
        "print(f'Error de porcentaje absoluto medio (MAPE) de {y_pred}: {mape}')"
      ]
    },
    {
      "cell_type": "code",
      "execution_count": 12,
      "metadata": {
        "id": "085pmFVO-cA3"
      },
      "outputs": [
        {
          "name": "stdout",
          "output_type": "stream",
          "text": [
            "Error de porcentaje absoluto medio (MAPE) de [1, 2, 3, 4]: 0.0\n"
          ]
        }
      ],
      "source": [
        "# Ejer 6: Crear dos matrices/arrays de valores ciertos y valores previstos, y calcular el MAPE.\n",
        "# ¿Qué valores deberían de tener el array pred para que el error fuese 0?\n",
        "y_true = [1,2,3,4]\n",
        "y_pred = [1,2,3,4]   # Para que el error sea 0, debemos usar los mismos valores que y_true\n",
        "mape = mean_absolute_percentage_error(y_true, y_pred)\n",
        "print(f'Error de porcentaje absoluto medio (MAPE) de {y_pred}: {mape}')"
      ]
    }
  ],
  "metadata": {
    "colab": {
      "provenance": []
    },
    "kernelspec": {
      "display_name": "Python 3",
      "name": "python3"
    },
    "language_info": {
      "codemirror_mode": {
        "name": "ipython",
        "version": 3
      },
      "file_extension": ".py",
      "mimetype": "text/x-python",
      "name": "python",
      "nbconvert_exporter": "python",
      "pygments_lexer": "ipython3",
      "version": "3.12.0"
    }
  },
  "nbformat": 4,
  "nbformat_minor": 0
}
