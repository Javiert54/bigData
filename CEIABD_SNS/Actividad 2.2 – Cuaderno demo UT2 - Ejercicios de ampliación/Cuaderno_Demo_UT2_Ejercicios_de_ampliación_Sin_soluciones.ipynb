{
 "cells": [
  {
   "cell_type": "markdown",
   "metadata": {
    "id": "mF0_JeTNWqqq"
   },
   "source": [
    "## **Cuaderno demo: Panda, Numpy, MatPlotLib, funciones anónimas y carga de ficheros**\n",
    "\n",
    "24_25\n"
   ]
  },
  {
   "cell_type": "markdown",
   "metadata": {
    "id": "-CtT1Kghk60U"
   },
   "source": [
    "# Introducción a Numpy y Panda"
   ]
  },
  {
   "cell_type": "markdown",
   "metadata": {
    "id": "A7JGsuluXHTn"
   },
   "source": [
    "Web: [Numpy](https://numpy.org/)\n",
    "\n",
    "Web: [Pandas](https://pandas.pydata.org/)\n",
    "\n",
    "Web: [Matplotlib](https://matplotlib.org/)\n",
    "\n",
    "Web: [Scipy](https://scipy.org/)\n",
    "\n",
    "Web: [Scikit-learn](https://scikit-learn.org/stable/)"
   ]
  },
  {
   "cell_type": "code",
   "execution_count": 3,
   "metadata": {
    "id": "KsJMSQ5FxHMb"
   },
   "outputs": [],
   "source": [
    "import matplotlib\n",
    "# CARGAMOS LIBRERIAS\n",
    "# ==============================================================================\n",
    "# Importamos la librería NUMPY para CÁLCULO NUMÉRICO Y ANÁLISIS DE DATOS\n",
    "import numpy as np\n",
    "# PANDAS para MANIPULACIÓN y ANÁLISIS DE DATOS\n",
    "import pandas as pd\n",
    "# MATPLOTLIB para GRAFICOS\n",
    "import matplotlib.pyplot as plt\n",
    "# SCIPY para CÁLCULO MATEMÁTICO\n",
    "import scipy # necesario para conocer la versión\n",
    "import scipy.stats as st\n",
    "# Preprocesado\n",
    "#==============================================================================\n",
    "import sklearn # necesario para conocer la versión\n",
    "from sklearn.compose import ColumnTransformer\n",
    "from sklearn.preprocessing import StandardScaler\n",
    "from sklearn.preprocessing import MinMaxScaler\n",
    "from sklearn.compose import make_column_selector\n",
    "# Versiones\n",
    "#==============================================================================\n",
    "version_np = np.version.version\n",
    "version_pd = pd.__version__\n",
    "version_plt = matplotlib.__version__\n",
    "version_scipy = scipy.__version__\n",
    "version_sklearn = sklearn.__version__\n"
   ]
  },
  {
   "cell_type": "markdown",
   "metadata": {
    "id": "gg4j7S6qAssf"
   },
   "source": [
    "**Creación de objetos:**\n",
    "\n",
    "1.   Objeto array (numpy)\n",
    "2.   Objeto DataFrame (pandas)\n",
    "\n"
   ]
  },
  {
   "cell_type": "markdown",
   "metadata": {
    "id": "AX__aBISkHdC"
   },
   "source": [
    "**Objeto array** Todos los datos del mismo tipo (dtype)"
   ]
  },
  {
   "cell_type": "code",
   "execution_count": 4,
   "metadata": {
    "colab": {
     "base_uri": "https://localhost:8080/"
    },
    "id": "P8goUzpNBQDW",
    "outputId": "858fe543-1c5d-40d3-f0f6-5e34a70680fa"
   },
   "outputs": [
    {
     "data": {
      "text/plain": [
       "array([[ 1.,  2.,  3.,  4.],\n",
       "       [ 5.,  6.,  7.,  8.],\n",
       "       [ 9., 10., 11., 12.]])"
      ]
     },
     "execution_count": 4,
     "metadata": {},
     "output_type": "execute_result"
    }
   ],
   "source": [
    "# creación de una matriz de números floats\n",
    "x=np.array([[1.,2,3, 4],[5,6,7,8],[9,10,11,12]])\n",
    "x"
   ]
  },
  {
   "cell_type": "code",
   "execution_count": 5,
   "metadata": {
    "colab": {
     "base_uri": "https://localhost:8080/"
    },
    "id": "wW6vKXM2DNvd",
    "outputId": "6e87a7fa-080a-41fa-a401-12a105bd1ab1"
   },
   "outputs": [
    {
     "data": {
      "text/plain": [
       "dtype('float64')"
      ]
     },
     "execution_count": 5,
     "metadata": {},
     "output_type": "execute_result"
    }
   ],
   "source": [
    "# tipo de datos\n",
    "x.dtype"
   ]
  },
  {
   "cell_type": "code",
   "execution_count": 6,
   "metadata": {
    "colab": {
     "base_uri": "https://localhost:8080/"
    },
    "id": "ahPalYMBJVAE",
    "outputId": "460430a7-7371-485a-8bb7-86c1f33a6828"
   },
   "outputs": [
    {
     "data": {
      "text/plain": [
       "dtype('<U1')"
      ]
     },
     "execution_count": 6,
     "metadata": {},
     "output_type": "execute_result"
    }
   ],
   "source": [
    "# array con contenido de cadenas\n",
    "x_txt=np.array([['a','b','c'],['d','e','f'],['g','h','i']])\n",
    "x_txt.dtype # <U1 --> Significa tipo de dato unicode de longitud 1\n"
   ]
  },
  {
   "cell_type": "code",
   "execution_count": 7,
   "metadata": {
    "colab": {
     "base_uri": "https://localhost:8080/"
    },
    "id": "BfRasAGDB_Dj",
    "outputId": "e1bb3da2-594b-4b1a-9bcf-f46a7e6d785b"
   },
   "outputs": [
    {
     "data": {
      "text/plain": [
       "1.0"
      ]
     },
     "execution_count": 7,
     "metadata": {},
     "output_type": "execute_result"
    }
   ],
   "source": [
    "# Acceso a elementos x[filas,columnas]\n",
    "# Atención: empieza a numerar desde el 0\n",
    "x[0,0]"
   ]
  },
  {
   "cell_type": "code",
   "execution_count": 8,
   "metadata": {
    "colab": {
     "base_uri": "https://localhost:8080/"
    },
    "id": "1n7iqRChDDla",
    "outputId": "2d00cdd8-87c3-4b87-bce1-2977697b635e"
   },
   "outputs": [
    {
     "data": {
      "text/plain": [
       "1.0"
      ]
     },
     "execution_count": 8,
     "metadata": {},
     "output_type": "execute_result"
    }
   ],
   "source": [
    "# También se puede utilizar\n",
    "x[0][0]"
   ]
  },
  {
   "cell_type": "code",
   "execution_count": 9,
   "metadata": {
    "colab": {
     "base_uri": "https://localhost:8080/"
    },
    "id": "ggTvTQ4NPf6m",
    "outputId": "0b269df1-363a-4d8f-c9b9-e9e6e09bc06a"
   },
   "outputs": [
    {
     "data": {
      "text/plain": [
       "array([ 2.,  6., 10.])"
      ]
     },
     "execution_count": 9,
     "metadata": {},
     "output_type": "execute_result"
    }
   ],
   "source": [
    "# Columna 2\n",
    "x[:,1]"
   ]
  },
  {
   "cell_type": "code",
   "execution_count": 10,
   "metadata": {
    "colab": {
     "base_uri": "https://localhost:8080/"
    },
    "id": "JEHmBZuxKxsg",
    "outputId": "a215da1d-dee2-444c-a700-41a1b5b3d2c6"
   },
   "outputs": [
    {
     "data": {
      "text/plain": [
       "array([ 4.,  8., 12.])"
      ]
     },
     "execution_count": 10,
     "metadata": {},
     "output_type": "execute_result"
    }
   ],
   "source": [
    "# Ejer 1: Mostrar la columa 4\n",
    "x[:,3]\n"
   ]
  },
  {
   "cell_type": "code",
   "execution_count": 11,
   "metadata": {
    "colab": {
     "base_uri": "https://localhost:8080/"
    },
    "id": "oC7IMs_LP0db",
    "outputId": "ebb00c84-a9ee-4e88-b01f-4916ad2b0f09"
   },
   "outputs": [
    {
     "data": {
      "text/plain": [
       "array([5., 6., 7., 8.])"
      ]
     },
     "execution_count": 11,
     "metadata": {},
     "output_type": "execute_result"
    }
   ],
   "source": [
    "# Fila 2\n",
    "x[1,:]"
   ]
  },
  {
   "cell_type": "code",
   "execution_count": 12,
   "metadata": {
    "colab": {
     "base_uri": "https://localhost:8080/"
    },
    "id": "4-CwkArqLBDc",
    "outputId": "9d7527f5-0111-4264-ce53-8ddff77422aa"
   },
   "outputs": [
    {
     "data": {
      "text/plain": [
       "array([1., 2., 3., 4.])"
      ]
     },
     "execution_count": 12,
     "metadata": {},
     "output_type": "execute_result"
    }
   ],
   "source": [
    "#Ejer 2: mostrar la fila 1\n",
    "x[0,:]"
   ]
  },
  {
   "cell_type": "code",
   "execution_count": 13,
   "metadata": {
    "colab": {
     "base_uri": "https://localhost:8080/"
    },
    "id": "DON6SQweP9KE",
    "outputId": "6b9b325c-70a4-4bb6-f41f-935df808340c"
   },
   "outputs": [
    {
     "data": {
      "text/plain": [
       "array([[ 2.,  4.],\n",
       "       [ 6.,  8.],\n",
       "       [10., 12.]])"
      ]
     },
     "execution_count": 13,
     "metadata": {},
     "output_type": "execute_result"
    }
   ],
   "source": [
    "# Extraer la submatriz columnas 2 y 4\n",
    "x_new = x[:,[1,3]]\n",
    "x_new"
   ]
  },
  {
   "cell_type": "code",
   "execution_count": 14,
   "metadata": {
    "id": "6wF6kENKLO25"
   },
   "outputs": [
    {
     "data": {
      "text/plain": [
       "array([[ 5.,  6.,  7.,  8.],\n",
       "       [ 9., 10., 11., 12.]])"
      ]
     },
     "execution_count": 14,
     "metadata": {},
     "output_type": "execute_result"
    }
   ],
   "source": [
    "#Ejer 3: Extraer la submatriz de las filas 1 y 3\n",
    "x_new = x[1:3,:]\n",
    "x_new"
   ]
  },
  {
   "cell_type": "markdown",
   "metadata": {
    "id": "sRlQ1h-WChS2"
   },
   "source": [
    "**Definición 1:** Crear un dataframe directamente\n",
    "\n",
    "**¿Qué es un dataframe?**\n",
    "\n",
    "Un DataFrame es una estructura de datos con dos dimensiones en la cual se puede guardar datos de distintos tipos (como caractéres, enteros, valores de punto flotante, factores y más) en columnas. Es similar a una hoja de cálculo o una tabla de SQL o el data.frame de R. Un DataFrame siempre tiene un índice (con inicio en 0). El índice refiere a la posición de un elemento en la estructura de datos.\n",
    "\n",
    "Título: [Comenzando con datos](https://datacarpentry.org/python-ecology-lesson-es/02-starting-with-data/)\n",
    "\n",
    "\n",
    "**Objeto DataFrame** Las columnas de la tabla pueden tener diferentes *dtype*"
   ]
  },
  {
   "cell_type": "code",
   "execution_count": 15,
   "metadata": {
    "id": "sk1hIHvkE8_c"
   },
   "outputs": [],
   "source": [
    "# Definición de DataFrame\n",
    "df=pd.DataFrame(\n",
    "    {\"A\": 1.0,\n",
    "     \"B\": pd.Categorical([\"H\",\"H\",\"H\",\"M\",\"M\"]),\n",
    "     \"C\": np.array([1., 2., 3., 4., 5.]),\n",
    "    }\n",
    ")"
   ]
  },
  {
   "cell_type": "code",
   "execution_count": 16,
   "metadata": {
    "colab": {
     "base_uri": "https://localhost:8080/",
     "height": 206
    },
    "id": "1--5QqX6I594",
    "outputId": "ab3d9f59-0a6f-44ad-8268-500855d9d0d7"
   },
   "outputs": [
    {
     "data": {
      "text/html": [
       "<div>\n",
       "<style scoped>\n",
       "    .dataframe tbody tr th:only-of-type {\n",
       "        vertical-align: middle;\n",
       "    }\n",
       "\n",
       "    .dataframe tbody tr th {\n",
       "        vertical-align: top;\n",
       "    }\n",
       "\n",
       "    .dataframe thead th {\n",
       "        text-align: right;\n",
       "    }\n",
       "</style>\n",
       "<table border=\"1\" class=\"dataframe\">\n",
       "  <thead>\n",
       "    <tr style=\"text-align: right;\">\n",
       "      <th></th>\n",
       "      <th>A</th>\n",
       "      <th>B</th>\n",
       "      <th>C</th>\n",
       "    </tr>\n",
       "  </thead>\n",
       "  <tbody>\n",
       "    <tr>\n",
       "      <th>0</th>\n",
       "      <td>1.0</td>\n",
       "      <td>H</td>\n",
       "      <td>1.0</td>\n",
       "    </tr>\n",
       "    <tr>\n",
       "      <th>1</th>\n",
       "      <td>1.0</td>\n",
       "      <td>H</td>\n",
       "      <td>2.0</td>\n",
       "    </tr>\n",
       "    <tr>\n",
       "      <th>2</th>\n",
       "      <td>1.0</td>\n",
       "      <td>H</td>\n",
       "      <td>3.0</td>\n",
       "    </tr>\n",
       "    <tr>\n",
       "      <th>3</th>\n",
       "      <td>1.0</td>\n",
       "      <td>M</td>\n",
       "      <td>4.0</td>\n",
       "    </tr>\n",
       "    <tr>\n",
       "      <th>4</th>\n",
       "      <td>1.0</td>\n",
       "      <td>M</td>\n",
       "      <td>5.0</td>\n",
       "    </tr>\n",
       "  </tbody>\n",
       "</table>\n",
       "</div>"
      ],
      "text/plain": [
       "     A  B    C\n",
       "0  1.0  H  1.0\n",
       "1  1.0  H  2.0\n",
       "2  1.0  H  3.0\n",
       "3  1.0  M  4.0\n",
       "4  1.0  M  5.0"
      ]
     },
     "execution_count": 16,
     "metadata": {},
     "output_type": "execute_result"
    }
   ],
   "source": [
    "# visualización del objeto DataFrame df\n",
    "df"
   ]
  },
  {
   "cell_type": "code",
   "execution_count": 17,
   "metadata": {
    "colab": {
     "base_uri": "https://localhost:8080/",
     "height": 178
    },
    "id": "iYs8eNf1JICF",
    "outputId": "75673800-6d97-4408-bd50-e476bf2d43ca"
   },
   "outputs": [
    {
     "data": {
      "text/plain": [
       "A     float64\n",
       "B    category\n",
       "C     float64\n",
       "dtype: object"
      ]
     },
     "execution_count": 17,
     "metadata": {},
     "output_type": "execute_result"
    }
   ],
   "source": [
    "df.dtypes"
   ]
  },
  {
   "cell_type": "code",
   "execution_count": 18,
   "metadata": {
    "colab": {
     "base_uri": "https://localhost:8080/",
     "height": 300
    },
    "id": "m2f0YZR5Gzpw",
    "outputId": "a352e4ac-78f4-46ed-ebf6-b996accb9816"
   },
   "outputs": [
    {
     "data": {
      "text/html": [
       "<div>\n",
       "<style scoped>\n",
       "    .dataframe tbody tr th:only-of-type {\n",
       "        vertical-align: middle;\n",
       "    }\n",
       "\n",
       "    .dataframe tbody tr th {\n",
       "        vertical-align: top;\n",
       "    }\n",
       "\n",
       "    .dataframe thead th {\n",
       "        text-align: right;\n",
       "    }\n",
       "</style>\n",
       "<table border=\"1\" class=\"dataframe\">\n",
       "  <thead>\n",
       "    <tr style=\"text-align: right;\">\n",
       "      <th></th>\n",
       "      <th>A</th>\n",
       "      <th>C</th>\n",
       "    </tr>\n",
       "  </thead>\n",
       "  <tbody>\n",
       "    <tr>\n",
       "      <th>count</th>\n",
       "      <td>5.0</td>\n",
       "      <td>5.000000</td>\n",
       "    </tr>\n",
       "    <tr>\n",
       "      <th>mean</th>\n",
       "      <td>1.0</td>\n",
       "      <td>3.000000</td>\n",
       "    </tr>\n",
       "    <tr>\n",
       "      <th>std</th>\n",
       "      <td>0.0</td>\n",
       "      <td>1.581139</td>\n",
       "    </tr>\n",
       "    <tr>\n",
       "      <th>min</th>\n",
       "      <td>1.0</td>\n",
       "      <td>1.000000</td>\n",
       "    </tr>\n",
       "    <tr>\n",
       "      <th>25%</th>\n",
       "      <td>1.0</td>\n",
       "      <td>2.000000</td>\n",
       "    </tr>\n",
       "    <tr>\n",
       "      <th>50%</th>\n",
       "      <td>1.0</td>\n",
       "      <td>3.000000</td>\n",
       "    </tr>\n",
       "    <tr>\n",
       "      <th>75%</th>\n",
       "      <td>1.0</td>\n",
       "      <td>4.000000</td>\n",
       "    </tr>\n",
       "    <tr>\n",
       "      <th>max</th>\n",
       "      <td>1.0</td>\n",
       "      <td>5.000000</td>\n",
       "    </tr>\n",
       "  </tbody>\n",
       "</table>\n",
       "</div>"
      ],
      "text/plain": [
       "         A         C\n",
       "count  5.0  5.000000\n",
       "mean   1.0  3.000000\n",
       "std    0.0  1.581139\n",
       "min    1.0  1.000000\n",
       "25%    1.0  2.000000\n",
       "50%    1.0  3.000000\n",
       "75%    1.0  4.000000\n",
       "max    1.0  5.000000"
      ]
     },
     "execution_count": 18,
     "metadata": {},
     "output_type": "execute_result"
    }
   ],
   "source": [
    "#Resumen estadística basica descriptiva\n",
    "df.describe()"
   ]
  },
  {
   "cell_type": "code",
   "execution_count": 19,
   "metadata": {
    "id": "lz__Hq3uOULK"
   },
   "outputs": [
    {
     "data": {
      "text/html": [
       "<div>\n",
       "<style scoped>\n",
       "    .dataframe tbody tr th:only-of-type {\n",
       "        vertical-align: middle;\n",
       "    }\n",
       "\n",
       "    .dataframe tbody tr th {\n",
       "        vertical-align: top;\n",
       "    }\n",
       "\n",
       "    .dataframe thead th {\n",
       "        text-align: right;\n",
       "    }\n",
       "</style>\n",
       "<table border=\"1\" class=\"dataframe\">\n",
       "  <thead>\n",
       "    <tr style=\"text-align: right;\">\n",
       "      <th></th>\n",
       "      <th>Municipio</th>\n",
       "      <th>Masculino</th>\n",
       "      <th>Femenino</th>\n",
       "      <th>Otros</th>\n",
       "    </tr>\n",
       "  </thead>\n",
       "  <tbody>\n",
       "    <tr>\n",
       "      <th>0</th>\n",
       "      <td>Las Palmas de Gran Canaria</td>\n",
       "      <td>200000</td>\n",
       "      <td>210000</td>\n",
       "      <td>500</td>\n",
       "    </tr>\n",
       "    <tr>\n",
       "      <th>1</th>\n",
       "      <td>Telde</td>\n",
       "      <td>50000</td>\n",
       "      <td>52000</td>\n",
       "      <td>100</td>\n",
       "    </tr>\n",
       "    <tr>\n",
       "      <th>2</th>\n",
       "      <td>Santa Brígida</td>\n",
       "      <td>10000</td>\n",
       "      <td>11000</td>\n",
       "      <td>50</td>\n",
       "    </tr>\n",
       "    <tr>\n",
       "      <th>3</th>\n",
       "      <td>Arucas</td>\n",
       "      <td>15000</td>\n",
       "      <td>16000</td>\n",
       "      <td>75</td>\n",
       "    </tr>\n",
       "    <tr>\n",
       "      <th>4</th>\n",
       "      <td>Gáldar</td>\n",
       "      <td>12000</td>\n",
       "      <td>13000</td>\n",
       "      <td>60</td>\n",
       "    </tr>\n",
       "  </tbody>\n",
       "</table>\n",
       "</div>"
      ],
      "text/plain": [
       "                    Municipio  Masculino  Femenino  Otros\n",
       "0  Las Palmas de Gran Canaria     200000    210000    500\n",
       "1                       Telde      50000     52000    100\n",
       "2               Santa Brígida      10000     11000     50\n",
       "3                      Arucas      15000     16000     75\n",
       "4                      Gáldar      12000     13000     60"
      ]
     },
     "execution_count": 19,
     "metadata": {},
     "output_type": "execute_result"
    }
   ],
   "source": [
    "#Ejer 4: crear un dataframe con una lista (ficticia) de municipios de Gran canaria y el número de habitantes separados por géneros (Masculino, Femenino, etc...)\n",
    "data = pd.DataFrame({\n",
    "    'Municipio': ['Las Palmas de Gran Canaria', 'Telde', 'Santa Brígida', 'Arucas', 'Gáldar'],\n",
    "    'Masculino': [200000, 50000, 10000, 15000, 12000],\n",
    "    'Femenino': [210000, 52000, 11000, 16000, 13000],\n",
    "    'Otros': [500, 100, 50, 75, 60]\n",
    "})\n",
    "data"
   ]
  },
  {
   "cell_type": "code",
   "execution_count": 20,
   "metadata": {
    "id": "rwjuu7lh2KX7"
   },
   "outputs": [
    {
     "data": {
      "text/plain": [
       "Municipio    object\n",
       "Masculino     int64\n",
       "Femenino      int64\n",
       "Otros         int64\n",
       "dtype: object"
      ]
     },
     "execution_count": 20,
     "metadata": {},
     "output_type": "execute_result"
    }
   ],
   "source": [
    "#Ejer 5: Mostrar los tipos de datos asociados a cada columna\n",
    "data.dtypes"
   ]
  },
  {
   "cell_type": "code",
   "execution_count": null,
   "metadata": {},
   "outputs": [],
   "source": []
  },
  {
   "cell_type": "code",
   "execution_count": 21,
   "metadata": {
    "id": "Q7B5uk2Q3A3B"
   },
   "outputs": [
    {
     "data": {
      "text/html": [
       "<div>\n",
       "<style scoped>\n",
       "    .dataframe tbody tr th:only-of-type {\n",
       "        vertical-align: middle;\n",
       "    }\n",
       "\n",
       "    .dataframe tbody tr th {\n",
       "        vertical-align: top;\n",
       "    }\n",
       "\n",
       "    .dataframe thead th {\n",
       "        text-align: right;\n",
       "    }\n",
       "</style>\n",
       "<table border=\"1\" class=\"dataframe\">\n",
       "  <thead>\n",
       "    <tr style=\"text-align: right;\">\n",
       "      <th></th>\n",
       "      <th>Municipio</th>\n",
       "      <th>Masculino</th>\n",
       "      <th>Femenino</th>\n",
       "      <th>Otros</th>\n",
       "    </tr>\n",
       "  </thead>\n",
       "  <tbody>\n",
       "    <tr>\n",
       "      <th>0</th>\n",
       "      <td>Las Palmas de Gran Canaria</td>\n",
       "      <td>200000</td>\n",
       "      <td>210000</td>\n",
       "      <td>500</td>\n",
       "    </tr>\n",
       "    <tr>\n",
       "      <th>1</th>\n",
       "      <td>Telde</td>\n",
       "      <td>50000</td>\n",
       "      <td>52000</td>\n",
       "      <td>100</td>\n",
       "    </tr>\n",
       "    <tr>\n",
       "      <th>2</th>\n",
       "      <td>Santa Brígida</td>\n",
       "      <td>2</td>\n",
       "      <td>11000</td>\n",
       "      <td>50</td>\n",
       "    </tr>\n",
       "    <tr>\n",
       "      <th>3</th>\n",
       "      <td>Arucas</td>\n",
       "      <td>15000</td>\n",
       "      <td>5</td>\n",
       "      <td>75</td>\n",
       "    </tr>\n",
       "    <tr>\n",
       "      <th>4</th>\n",
       "      <td>Gáldar</td>\n",
       "      <td>12000</td>\n",
       "      <td>13000</td>\n",
       "      <td>60</td>\n",
       "    </tr>\n",
       "  </tbody>\n",
       "</table>\n",
       "</div>"
      ],
      "text/plain": [
       "                    Municipio  Masculino  Femenino  Otros\n",
       "0  Las Palmas de Gran Canaria     200000    210000    500\n",
       "1                       Telde      50000     52000    100\n",
       "2               Santa Brígida          2     11000     50\n",
       "3                      Arucas      15000         5     75\n",
       "4                      Gáldar      12000     13000     60"
      ]
     },
     "execution_count": 21,
     "metadata": {},
     "output_type": "execute_result"
    }
   ],
   "source": [
    "#Ejer 6: modificar uno o más valores de una de las columnas\n",
    "data.at[2, 'Masculino'], data.at[3, 'Femenino'] = 2, 5\n",
    "data"
   ]
  },
  {
   "cell_type": "code",
   "execution_count": 22,
   "metadata": {
    "id": "_dchVHkoDHIM"
   },
   "outputs": [
    {
     "data": {
      "text/html": [
       "<div>\n",
       "<style scoped>\n",
       "    .dataframe tbody tr th:only-of-type {\n",
       "        vertical-align: middle;\n",
       "    }\n",
       "\n",
       "    .dataframe tbody tr th {\n",
       "        vertical-align: top;\n",
       "    }\n",
       "\n",
       "    .dataframe thead th {\n",
       "        text-align: right;\n",
       "    }\n",
       "</style>\n",
       "<table border=\"1\" class=\"dataframe\">\n",
       "  <thead>\n",
       "    <tr style=\"text-align: right;\">\n",
       "      <th></th>\n",
       "      <th>Municipio</th>\n",
       "      <th>Masculino</th>\n",
       "      <th>Femenino</th>\n",
       "      <th>Otros</th>\n",
       "    </tr>\n",
       "  </thead>\n",
       "  <tbody>\n",
       "    <tr>\n",
       "      <th>0</th>\n",
       "      <td>Las Palmas de Gran Canaria</td>\n",
       "      <td>200000</td>\n",
       "      <td>210000</td>\n",
       "      <td>500</td>\n",
       "    </tr>\n",
       "    <tr>\n",
       "      <th>1</th>\n",
       "      <td>Telde</td>\n",
       "      <td>50000</td>\n",
       "      <td>52000</td>\n",
       "      <td>100</td>\n",
       "    </tr>\n",
       "    <tr>\n",
       "      <th>2</th>\n",
       "      <td>Santa Brígida</td>\n",
       "      <td>2</td>\n",
       "      <td>11000</td>\n",
       "      <td>50</td>\n",
       "    </tr>\n",
       "    <tr>\n",
       "      <th>3</th>\n",
       "      <td>Arucas</td>\n",
       "      <td>15000</td>\n",
       "      <td>5</td>\n",
       "      <td>75</td>\n",
       "    </tr>\n",
       "    <tr>\n",
       "      <th>4</th>\n",
       "      <td>Gáldar</td>\n",
       "      <td>12000</td>\n",
       "      <td>13000</td>\n",
       "      <td>60</td>\n",
       "    </tr>\n",
       "  </tbody>\n",
       "</table>\n",
       "</div>"
      ],
      "text/plain": [
       "                    Municipio  Masculino  Femenino  Otros\n",
       "0  Las Palmas de Gran Canaria     200000    210000    500\n",
       "1                       Telde      50000     52000    100\n",
       "2               Santa Brígida          2     11000     50\n",
       "3                      Arucas      15000         5     75\n",
       "4                      Gáldar      12000     13000     60"
      ]
     },
     "execution_count": 22,
     "metadata": {},
     "output_type": "execute_result"
    }
   ],
   "source": [
    "#Ejer 7: Cambiar alguno de los valores de forma directa\n",
    "data.at[2, 'Masculino'], data.at[3, 'Femenino'] = 2, 5\n",
    "data"
   ]
  },
  {
   "cell_type": "code",
   "execution_count": 23,
   "metadata": {
    "id": "pap94GK5GcsP"
   },
   "outputs": [
    {
     "data": {
      "text/html": [
       "<div>\n",
       "<style scoped>\n",
       "    .dataframe tbody tr th:only-of-type {\n",
       "        vertical-align: middle;\n",
       "    }\n",
       "\n",
       "    .dataframe tbody tr th {\n",
       "        vertical-align: top;\n",
       "    }\n",
       "\n",
       "    .dataframe thead th {\n",
       "        text-align: right;\n",
       "    }\n",
       "</style>\n",
       "<table border=\"1\" class=\"dataframe\">\n",
       "  <thead>\n",
       "    <tr style=\"text-align: right;\">\n",
       "      <th></th>\n",
       "      <th>Masculino</th>\n",
       "      <th>Femenino</th>\n",
       "      <th>Otros</th>\n",
       "    </tr>\n",
       "  </thead>\n",
       "  <tbody>\n",
       "    <tr>\n",
       "      <th>count</th>\n",
       "      <td>5.000000</td>\n",
       "      <td>5.000000</td>\n",
       "      <td>5.000000</td>\n",
       "    </tr>\n",
       "    <tr>\n",
       "      <th>mean</th>\n",
       "      <td>55400.400000</td>\n",
       "      <td>57201.000000</td>\n",
       "      <td>157.000000</td>\n",
       "    </tr>\n",
       "    <tr>\n",
       "      <th>std</th>\n",
       "      <td>82950.253772</td>\n",
       "      <td>87655.901142</td>\n",
       "      <td>192.665513</td>\n",
       "    </tr>\n",
       "    <tr>\n",
       "      <th>min</th>\n",
       "      <td>2.000000</td>\n",
       "      <td>5.000000</td>\n",
       "      <td>50.000000</td>\n",
       "    </tr>\n",
       "    <tr>\n",
       "      <th>25%</th>\n",
       "      <td>12000.000000</td>\n",
       "      <td>11000.000000</td>\n",
       "      <td>60.000000</td>\n",
       "    </tr>\n",
       "    <tr>\n",
       "      <th>50%</th>\n",
       "      <td>15000.000000</td>\n",
       "      <td>13000.000000</td>\n",
       "      <td>75.000000</td>\n",
       "    </tr>\n",
       "    <tr>\n",
       "      <th>75%</th>\n",
       "      <td>50000.000000</td>\n",
       "      <td>52000.000000</td>\n",
       "      <td>100.000000</td>\n",
       "    </tr>\n",
       "    <tr>\n",
       "      <th>max</th>\n",
       "      <td>200000.000000</td>\n",
       "      <td>210000.000000</td>\n",
       "      <td>500.000000</td>\n",
       "    </tr>\n",
       "  </tbody>\n",
       "</table>\n",
       "</div>"
      ],
      "text/plain": [
       "           Masculino       Femenino       Otros\n",
       "count       5.000000       5.000000    5.000000\n",
       "mean    55400.400000   57201.000000  157.000000\n",
       "std     82950.253772   87655.901142  192.665513\n",
       "min         2.000000       5.000000   50.000000\n",
       "25%     12000.000000   11000.000000   60.000000\n",
       "50%     15000.000000   13000.000000   75.000000\n",
       "75%     50000.000000   52000.000000  100.000000\n",
       "max    200000.000000  210000.000000  500.000000"
      ]
     },
     "execution_count": 23,
     "metadata": {},
     "output_type": "execute_result"
    }
   ],
   "source": [
    "#Ejer 8: Obtener estadística basica descriptiva\n",
    "data.describe()"
   ]
  },
  {
   "cell_type": "markdown",
   "metadata": {
    "id": "X9kwS5SiJ2VT"
   },
   "source": [
    "**Definición 2**: a partir de un objeto array (creado con numpy) crear un dataframe"
   ]
  },
  {
   "cell_type": "code",
   "execution_count": 24,
   "metadata": {
    "colab": {
     "base_uri": "https://localhost:8080/"
    },
    "id": "m-k7qcJWJkZL",
    "outputId": "40391fe6-6684-4d6d-c650-567d16ed398b"
   },
   "outputs": [
    {
     "data": {
      "text/plain": [
       "DatetimeIndex(['2022-09-10', '2022-09-11', '2022-09-12', '2022-09-13',\n",
       "               '2022-09-14', '2022-09-15', '2022-09-16', '2022-09-17',\n",
       "               '2022-09-18', '2022-09-19', '2022-09-20', '2022-09-21',\n",
       "               '2022-09-22', '2022-09-23', '2022-09-24', '2022-09-25',\n",
       "               '2022-09-26', '2022-09-27', '2022-09-28', '2022-09-29',\n",
       "               '2022-09-30', '2022-10-01', '2022-10-02', '2022-10-03',\n",
       "               '2022-10-04', '2022-10-05', '2022-10-06', '2022-10-07',\n",
       "               '2022-10-08', '2022-10-09', '2022-10-10', '2022-10-11',\n",
       "               '2022-10-12', '2022-10-13', '2022-10-14', '2022-10-15',\n",
       "               '2022-10-16', '2022-10-17', '2022-10-18', '2022-10-19',\n",
       "               '2022-10-20', '2022-10-21', '2022-10-22', '2022-10-23',\n",
       "               '2022-10-24', '2022-10-25', '2022-10-26', '2022-10-27',\n",
       "               '2022-10-28', '2022-10-29', '2022-10-30', '2022-10-31',\n",
       "               '2022-11-01', '2022-11-02', '2022-11-03', '2022-11-04',\n",
       "               '2022-11-05', '2022-11-06', '2022-11-07', '2022-11-08',\n",
       "               '2022-11-09', '2022-11-10', '2022-11-11', '2022-11-12',\n",
       "               '2022-11-13', '2022-11-14', '2022-11-15', '2022-11-16',\n",
       "               '2022-11-17', '2022-11-18'],\n",
       "              dtype='datetime64[ns]', freq='D')"
      ]
     },
     "execution_count": 24,
     "metadata": {},
     "output_type": "execute_result"
    }
   ],
   "source": [
    "# creamos 70 fechas consecutivas iniciando en el día 10-sep-2022, (en inglés, 20220910)\n",
    "fechas = pd.date_range(\"20220910\", periods=70)\n",
    "fechas"
   ]
  },
  {
   "cell_type": "code",
   "execution_count": 25,
   "metadata": {
    "colab": {
     "base_uri": "https://localhost:8080/",
     "height": 423
    },
    "id": "jdNIXAY9Lfzi",
    "outputId": "92d21ebf-cad7-4656-e60a-c738d2f5e489"
   },
   "outputs": [
    {
     "data": {
      "text/html": [
       "<div>\n",
       "<style scoped>\n",
       "    .dataframe tbody tr th:only-of-type {\n",
       "        vertical-align: middle;\n",
       "    }\n",
       "\n",
       "    .dataframe tbody tr th {\n",
       "        vertical-align: top;\n",
       "    }\n",
       "\n",
       "    .dataframe thead th {\n",
       "        text-align: right;\n",
       "    }\n",
       "</style>\n",
       "<table border=\"1\" class=\"dataframe\">\n",
       "  <thead>\n",
       "    <tr style=\"text-align: right;\">\n",
       "      <th></th>\n",
       "      <th>col1</th>\n",
       "      <th>col2</th>\n",
       "    </tr>\n",
       "  </thead>\n",
       "  <tbody>\n",
       "    <tr>\n",
       "      <th>2022-09-10</th>\n",
       "      <td>-1.489056</td>\n",
       "      <td>-1.104105</td>\n",
       "    </tr>\n",
       "    <tr>\n",
       "      <th>2022-09-11</th>\n",
       "      <td>0.476611</td>\n",
       "      <td>-1.461715</td>\n",
       "    </tr>\n",
       "    <tr>\n",
       "      <th>2022-09-12</th>\n",
       "      <td>0.871972</td>\n",
       "      <td>1.727704</td>\n",
       "    </tr>\n",
       "    <tr>\n",
       "      <th>2022-09-13</th>\n",
       "      <td>0.249003</td>\n",
       "      <td>-0.352231</td>\n",
       "    </tr>\n",
       "    <tr>\n",
       "      <th>2022-09-14</th>\n",
       "      <td>-1.257495</td>\n",
       "      <td>-0.202970</td>\n",
       "    </tr>\n",
       "    <tr>\n",
       "      <th>...</th>\n",
       "      <td>...</td>\n",
       "      <td>...</td>\n",
       "    </tr>\n",
       "    <tr>\n",
       "      <th>2022-11-14</th>\n",
       "      <td>1.318505</td>\n",
       "      <td>-1.023711</td>\n",
       "    </tr>\n",
       "    <tr>\n",
       "      <th>2022-11-15</th>\n",
       "      <td>0.011550</td>\n",
       "      <td>-0.443787</td>\n",
       "    </tr>\n",
       "    <tr>\n",
       "      <th>2022-11-16</th>\n",
       "      <td>-1.364608</td>\n",
       "      <td>1.252477</td>\n",
       "    </tr>\n",
       "    <tr>\n",
       "      <th>2022-11-17</th>\n",
       "      <td>-0.682532</td>\n",
       "      <td>-0.482006</td>\n",
       "    </tr>\n",
       "    <tr>\n",
       "      <th>2022-11-18</th>\n",
       "      <td>1.053966</td>\n",
       "      <td>-1.249484</td>\n",
       "    </tr>\n",
       "  </tbody>\n",
       "</table>\n",
       "<p>70 rows × 2 columns</p>\n",
       "</div>"
      ],
      "text/plain": [
       "                col1      col2\n",
       "2022-09-10 -1.489056 -1.104105\n",
       "2022-09-11  0.476611 -1.461715\n",
       "2022-09-12  0.871972  1.727704\n",
       "2022-09-13  0.249003 -0.352231\n",
       "2022-09-14 -1.257495 -0.202970\n",
       "...              ...       ...\n",
       "2022-11-14  1.318505 -1.023711\n",
       "2022-11-15  0.011550 -0.443787\n",
       "2022-11-16 -1.364608  1.252477\n",
       "2022-11-17 -0.682532 -0.482006\n",
       "2022-11-18  1.053966 -1.249484\n",
       "\n",
       "[70 rows x 2 columns]"
      ]
     },
     "execution_count": 25,
     "metadata": {},
     "output_type": "execute_result"
    }
   ],
   "source": [
    "# x-> datos, index-> nombre de filas (es la forma con la que se podrán identificar cada fila), colums-> nombre de columnas\n",
    "# Generamos una matriz de 70 filas por 2 columnas de números aleatorios \"normales\" (Distribución normal)\n",
    "# de media 0 y desviación típica 1\n",
    "df_fechas = pd.DataFrame(np.random.randn(70, 2),index=fechas,columns=[\"col1\",\"col2\"])\n",
    "df_fechas"
   ]
  },
  {
   "cell_type": "code",
   "execution_count": 26,
   "metadata": {
    "colab": {
     "base_uri": "https://localhost:8080/",
     "height": 300
    },
    "id": "1YMCmlZVPZkj",
    "outputId": "6021192b-1f67-4bb0-ce40-5a5964f8ddb0"
   },
   "outputs": [
    {
     "data": {
      "text/html": [
       "<div>\n",
       "<style scoped>\n",
       "    .dataframe tbody tr th:only-of-type {\n",
       "        vertical-align: middle;\n",
       "    }\n",
       "\n",
       "    .dataframe tbody tr th {\n",
       "        vertical-align: top;\n",
       "    }\n",
       "\n",
       "    .dataframe thead th {\n",
       "        text-align: right;\n",
       "    }\n",
       "</style>\n",
       "<table border=\"1\" class=\"dataframe\">\n",
       "  <thead>\n",
       "    <tr style=\"text-align: right;\">\n",
       "      <th></th>\n",
       "      <th>col1</th>\n",
       "      <th>col2</th>\n",
       "    </tr>\n",
       "  </thead>\n",
       "  <tbody>\n",
       "    <tr>\n",
       "      <th>count</th>\n",
       "      <td>70.000000</td>\n",
       "      <td>70.000000</td>\n",
       "    </tr>\n",
       "    <tr>\n",
       "      <th>mean</th>\n",
       "      <td>-0.059278</td>\n",
       "      <td>-0.069673</td>\n",
       "    </tr>\n",
       "    <tr>\n",
       "      <th>std</th>\n",
       "      <td>1.051065</td>\n",
       "      <td>0.966128</td>\n",
       "    </tr>\n",
       "    <tr>\n",
       "      <th>min</th>\n",
       "      <td>-2.859789</td>\n",
       "      <td>-2.927366</td>\n",
       "    </tr>\n",
       "    <tr>\n",
       "      <th>25%</th>\n",
       "      <td>-0.815393</td>\n",
       "      <td>-0.737844</td>\n",
       "    </tr>\n",
       "    <tr>\n",
       "      <th>50%</th>\n",
       "      <td>0.056524</td>\n",
       "      <td>-0.220849</td>\n",
       "    </tr>\n",
       "    <tr>\n",
       "      <th>75%</th>\n",
       "      <td>0.697519</td>\n",
       "      <td>0.545106</td>\n",
       "    </tr>\n",
       "    <tr>\n",
       "      <th>max</th>\n",
       "      <td>2.235068</td>\n",
       "      <td>2.046250</td>\n",
       "    </tr>\n",
       "  </tbody>\n",
       "</table>\n",
       "</div>"
      ],
      "text/plain": [
       "            col1       col2\n",
       "count  70.000000  70.000000\n",
       "mean   -0.059278  -0.069673\n",
       "std     1.051065   0.966128\n",
       "min    -2.859789  -2.927366\n",
       "25%    -0.815393  -0.737844\n",
       "50%     0.056524  -0.220849\n",
       "75%     0.697519   0.545106\n",
       "max     2.235068   2.046250"
      ]
     },
     "execution_count": 26,
     "metadata": {},
     "output_type": "execute_result"
    }
   ],
   "source": [
    "# Metodos objeto.metodo df.< TAB >\n",
    "# Ejemplos: situate al final del comando + barra espaciadora\n",
    "#           df.head() primeros registros\n",
    "#           df.tail() ultimos registros\n",
    "#           df.index() nombre de las filas\n",
    "#           df.columns()  nombre de las columnas\n",
    "#           df.describe() estadística basica descriptiva\n",
    "#           df.T() transpuesta\n",
    "df_fechas.describe()"
   ]
  },
  {
   "cell_type": "code",
   "execution_count": 47,
   "metadata": {
    "id": "QC3usjTKJMub"
   },
   "outputs": [
    {
     "data": {
      "text/html": [
       "<div>\n",
       "<style scoped>\n",
       "    .dataframe tbody tr th:only-of-type {\n",
       "        vertical-align: middle;\n",
       "    }\n",
       "\n",
       "    .dataframe tbody tr th {\n",
       "        vertical-align: top;\n",
       "    }\n",
       "\n",
       "    .dataframe thead th {\n",
       "        text-align: right;\n",
       "    }\n",
       "</style>\n",
       "<table border=\"1\" class=\"dataframe\">\n",
       "  <thead>\n",
       "    <tr style=\"text-align: right;\">\n",
       "      <th></th>\n",
       "      <th>2022-09-10</th>\n",
       "      <th>2022-09-11</th>\n",
       "      <th>2022-09-12</th>\n",
       "      <th>2022-09-13</th>\n",
       "      <th>2022-09-14</th>\n",
       "      <th>2022-09-15</th>\n",
       "      <th>2022-09-16</th>\n",
       "      <th>2022-09-17</th>\n",
       "      <th>2022-09-18</th>\n",
       "      <th>2022-09-19</th>\n",
       "      <th>...</th>\n",
       "      <th>2022-11-09</th>\n",
       "      <th>2022-11-10</th>\n",
       "      <th>2022-11-11</th>\n",
       "      <th>2022-11-12</th>\n",
       "      <th>2022-11-13</th>\n",
       "      <th>2022-11-14</th>\n",
       "      <th>2022-11-15</th>\n",
       "      <th>2022-11-16</th>\n",
       "      <th>2022-11-17</th>\n",
       "      <th>2022-11-18</th>\n",
       "    </tr>\n",
       "  </thead>\n",
       "  <tbody>\n",
       "    <tr>\n",
       "      <th>col1</th>\n",
       "      <td>-1.489056</td>\n",
       "      <td>0.476611</td>\n",
       "      <td>0.871972</td>\n",
       "      <td>0.249003</td>\n",
       "      <td>-1.257495</td>\n",
       "      <td>2.235068</td>\n",
       "      <td>0.626095</td>\n",
       "      <td>-0.536245</td>\n",
       "      <td>-1.146489</td>\n",
       "      <td>-0.282887</td>\n",
       "      <td>...</td>\n",
       "      <td>-0.063326</td>\n",
       "      <td>-0.408651</td>\n",
       "      <td>0.681246</td>\n",
       "      <td>1.284897</td>\n",
       "      <td>1.987638</td>\n",
       "      <td>1.318505</td>\n",
       "      <td>0.011550</td>\n",
       "      <td>-1.364608</td>\n",
       "      <td>-0.682532</td>\n",
       "      <td>1.053966</td>\n",
       "    </tr>\n",
       "    <tr>\n",
       "      <th>col2</th>\n",
       "      <td>-1.104105</td>\n",
       "      <td>-1.461715</td>\n",
       "      <td>1.727704</td>\n",
       "      <td>-0.352231</td>\n",
       "      <td>-0.202970</td>\n",
       "      <td>1.904211</td>\n",
       "      <td>-0.627909</td>\n",
       "      <td>-1.691906</td>\n",
       "      <td>0.475110</td>\n",
       "      <td>-0.218286</td>\n",
       "      <td>...</td>\n",
       "      <td>-0.235312</td>\n",
       "      <td>-0.223412</td>\n",
       "      <td>-0.745531</td>\n",
       "      <td>-0.957860</td>\n",
       "      <td>0.451413</td>\n",
       "      <td>-1.023711</td>\n",
       "      <td>-0.443787</td>\n",
       "      <td>1.252477</td>\n",
       "      <td>-0.482006</td>\n",
       "      <td>-1.249484</td>\n",
       "    </tr>\n",
       "  </tbody>\n",
       "</table>\n",
       "<p>2 rows × 70 columns</p>\n",
       "</div>"
      ],
      "text/plain": [
       "      2022-09-10  2022-09-11  2022-09-12  2022-09-13  2022-09-14  2022-09-15  \\\n",
       "col1   -1.489056    0.476611    0.871972    0.249003   -1.257495    2.235068   \n",
       "col2   -1.104105   -1.461715    1.727704   -0.352231   -0.202970    1.904211   \n",
       "\n",
       "      2022-09-16  2022-09-17  2022-09-18  2022-09-19  ...  2022-11-09  \\\n",
       "col1    0.626095   -0.536245   -1.146489   -0.282887  ...   -0.063326   \n",
       "col2   -0.627909   -1.691906    0.475110   -0.218286  ...   -0.235312   \n",
       "\n",
       "      2022-11-10  2022-11-11  2022-11-12  2022-11-13  2022-11-14  2022-11-15  \\\n",
       "col1   -0.408651    0.681246    1.284897    1.987638    1.318505    0.011550   \n",
       "col2   -0.223412   -0.745531   -0.957860    0.451413   -1.023711   -0.443787   \n",
       "\n",
       "      2022-11-16  2022-11-17  2022-11-18  \n",
       "col1   -1.364608   -0.682532    1.053966  \n",
       "col2    1.252477   -0.482006   -1.249484  \n",
       "\n",
       "[2 rows x 70 columns]"
      ]
     },
     "execution_count": 47,
     "metadata": {},
     "output_type": "execute_result"
    }
   ],
   "source": [
    "#Ejer 9: realizar un ejemplo de cada uno de los siguientes comandos\n",
    "df_fechas.head()\n",
    "df_fechas.tail()\n",
    "df_fechas.index\n",
    "df_fechas.columns\n",
    "df_fechas.describe()\n",
    "df_fechas.T\n"
   ]
  },
  {
   "cell_type": "markdown",
   "metadata": {
    "id": "u3mamPvh1mQM"
   },
   "source": [
    "\n",
    "**Selección de registros**\n",
    "\n",
    "*   Por etiquetas\n",
    "*   Por posición\n",
    "*   Por condición booleana\n",
    "\n",
    "\n",
    "\n",
    "\n",
    "\n",
    "\n"
   ]
  },
  {
   "cell_type": "code",
   "execution_count": 49,
   "metadata": {
    "colab": {
     "base_uri": "https://localhost:8080/",
     "height": 423
    },
    "id": "NNHCaEoF2EPa",
    "outputId": "f2432f4b-24dd-4482-ef33-3bbb9f3ff9af"
   },
   "outputs": [
    {
     "data": {
      "text/html": [
       "<div>\n",
       "<style scoped>\n",
       "    .dataframe tbody tr th:only-of-type {\n",
       "        vertical-align: middle;\n",
       "    }\n",
       "\n",
       "    .dataframe tbody tr th {\n",
       "        vertical-align: top;\n",
       "    }\n",
       "\n",
       "    .dataframe thead th {\n",
       "        text-align: right;\n",
       "    }\n",
       "</style>\n",
       "<table border=\"1\" class=\"dataframe\">\n",
       "  <thead>\n",
       "    <tr style=\"text-align: right;\">\n",
       "      <th></th>\n",
       "      <th>col2</th>\n",
       "    </tr>\n",
       "  </thead>\n",
       "  <tbody>\n",
       "    <tr>\n",
       "      <th>2022-09-10</th>\n",
       "      <td>-1.104105</td>\n",
       "    </tr>\n",
       "    <tr>\n",
       "      <th>2022-09-11</th>\n",
       "      <td>-1.461715</td>\n",
       "    </tr>\n",
       "    <tr>\n",
       "      <th>2022-09-12</th>\n",
       "      <td>1.727704</td>\n",
       "    </tr>\n",
       "    <tr>\n",
       "      <th>2022-09-13</th>\n",
       "      <td>-0.352231</td>\n",
       "    </tr>\n",
       "    <tr>\n",
       "      <th>2022-09-14</th>\n",
       "      <td>-0.202970</td>\n",
       "    </tr>\n",
       "    <tr>\n",
       "      <th>...</th>\n",
       "      <td>...</td>\n",
       "    </tr>\n",
       "    <tr>\n",
       "      <th>2022-11-14</th>\n",
       "      <td>-1.023711</td>\n",
       "    </tr>\n",
       "    <tr>\n",
       "      <th>2022-11-15</th>\n",
       "      <td>-0.443787</td>\n",
       "    </tr>\n",
       "    <tr>\n",
       "      <th>2022-11-16</th>\n",
       "      <td>1.252477</td>\n",
       "    </tr>\n",
       "    <tr>\n",
       "      <th>2022-11-17</th>\n",
       "      <td>-0.482006</td>\n",
       "    </tr>\n",
       "    <tr>\n",
       "      <th>2022-11-18</th>\n",
       "      <td>-1.249484</td>\n",
       "    </tr>\n",
       "  </tbody>\n",
       "</table>\n",
       "<p>70 rows × 1 columns</p>\n",
       "</div>"
      ],
      "text/plain": [
       "                col2\n",
       "2022-09-10 -1.104105\n",
       "2022-09-11 -1.461715\n",
       "2022-09-12  1.727704\n",
       "2022-09-13 -0.352231\n",
       "2022-09-14 -0.202970\n",
       "...              ...\n",
       "2022-11-14 -1.023711\n",
       "2022-11-15 -0.443787\n",
       "2022-11-16  1.252477\n",
       "2022-11-17 -0.482006\n",
       "2022-11-18 -1.249484\n",
       "\n",
       "[70 rows x 1 columns]"
      ]
     },
     "execution_count": 49,
     "metadata": {},
     "output_type": "execute_result"
    }
   ],
   "source": [
    "# Selección de columnas (variable)\n",
    "# Varias columnas df[[\"col1\",\"col2\"]]\n",
    "df_fechas[[\"col2\"]]\n"
   ]
  },
  {
   "cell_type": "code",
   "execution_count": 29,
   "metadata": {
    "colab": {
     "base_uri": "https://localhost:8080/",
     "height": 1000
    },
    "id": "CJzrIYcG3J2z",
    "outputId": "053c3ef4-3e2c-4b12-ee9e-0ea6c429c7cb"
   },
   "outputs": [
    {
     "data": {
      "text/html": [
       "<div>\n",
       "<style scoped>\n",
       "    .dataframe tbody tr th:only-of-type {\n",
       "        vertical-align: middle;\n",
       "    }\n",
       "\n",
       "    .dataframe tbody tr th {\n",
       "        vertical-align: top;\n",
       "    }\n",
       "\n",
       "    .dataframe thead th {\n",
       "        text-align: right;\n",
       "    }\n",
       "</style>\n",
       "<table border=\"1\" class=\"dataframe\">\n",
       "  <thead>\n",
       "    <tr style=\"text-align: right;\">\n",
       "      <th></th>\n",
       "      <th>col1</th>\n",
       "      <th>col2</th>\n",
       "    </tr>\n",
       "  </thead>\n",
       "  <tbody>\n",
       "    <tr>\n",
       "      <th>2022-10-01</th>\n",
       "      <td>-0.267552</td>\n",
       "      <td>-0.853542</td>\n",
       "    </tr>\n",
       "    <tr>\n",
       "      <th>2022-10-02</th>\n",
       "      <td>-2.210120</td>\n",
       "      <td>0.960233</td>\n",
       "    </tr>\n",
       "    <tr>\n",
       "      <th>2022-10-03</th>\n",
       "      <td>-0.783263</td>\n",
       "      <td>-0.762914</td>\n",
       "    </tr>\n",
       "    <tr>\n",
       "      <th>2022-10-04</th>\n",
       "      <td>1.126308</td>\n",
       "      <td>-0.174002</td>\n",
       "    </tr>\n",
       "    <tr>\n",
       "      <th>2022-10-05</th>\n",
       "      <td>0.607412</td>\n",
       "      <td>-1.133965</td>\n",
       "    </tr>\n",
       "    <tr>\n",
       "      <th>2022-10-06</th>\n",
       "      <td>0.342714</td>\n",
       "      <td>0.930066</td>\n",
       "    </tr>\n",
       "    <tr>\n",
       "      <th>2022-10-07</th>\n",
       "      <td>-0.435162</td>\n",
       "      <td>-0.527123</td>\n",
       "    </tr>\n",
       "    <tr>\n",
       "      <th>2022-10-08</th>\n",
       "      <td>1.040903</td>\n",
       "      <td>-0.474574</td>\n",
       "    </tr>\n",
       "    <tr>\n",
       "      <th>2022-10-09</th>\n",
       "      <td>-0.605022</td>\n",
       "      <td>1.566488</td>\n",
       "    </tr>\n",
       "    <tr>\n",
       "      <th>2022-10-10</th>\n",
       "      <td>0.775933</td>\n",
       "      <td>-0.174140</td>\n",
       "    </tr>\n",
       "    <tr>\n",
       "      <th>2022-10-11</th>\n",
       "      <td>-0.275412</td>\n",
       "      <td>0.351118</td>\n",
       "    </tr>\n",
       "    <tr>\n",
       "      <th>2022-10-12</th>\n",
       "      <td>0.417376</td>\n",
       "      <td>0.250790</td>\n",
       "    </tr>\n",
       "    <tr>\n",
       "      <th>2022-10-13</th>\n",
       "      <td>-0.998633</td>\n",
       "      <td>-1.337409</td>\n",
       "    </tr>\n",
       "    <tr>\n",
       "      <th>2022-10-14</th>\n",
       "      <td>-0.266728</td>\n",
       "      <td>-0.034476</td>\n",
       "    </tr>\n",
       "    <tr>\n",
       "      <th>2022-10-15</th>\n",
       "      <td>0.702944</td>\n",
       "      <td>-0.798519</td>\n",
       "    </tr>\n",
       "    <tr>\n",
       "      <th>2022-10-16</th>\n",
       "      <td>-2.017409</td>\n",
       "      <td>-0.449444</td>\n",
       "    </tr>\n",
       "    <tr>\n",
       "      <th>2022-10-17</th>\n",
       "      <td>0.103766</td>\n",
       "      <td>2.046250</td>\n",
       "    </tr>\n",
       "    <tr>\n",
       "      <th>2022-10-18</th>\n",
       "      <td>0.032992</td>\n",
       "      <td>-0.015220</td>\n",
       "    </tr>\n",
       "    <tr>\n",
       "      <th>2022-10-19</th>\n",
       "      <td>0.632542</td>\n",
       "      <td>1.002454</td>\n",
       "    </tr>\n",
       "    <tr>\n",
       "      <th>2022-10-20</th>\n",
       "      <td>1.185124</td>\n",
       "      <td>0.599557</td>\n",
       "    </tr>\n",
       "    <tr>\n",
       "      <th>2022-10-21</th>\n",
       "      <td>1.608959</td>\n",
       "      <td>0.560864</td>\n",
       "    </tr>\n",
       "    <tr>\n",
       "      <th>2022-10-22</th>\n",
       "      <td>1.040018</td>\n",
       "      <td>-0.623583</td>\n",
       "    </tr>\n",
       "    <tr>\n",
       "      <th>2022-10-23</th>\n",
       "      <td>-0.360574</td>\n",
       "      <td>-0.774340</td>\n",
       "    </tr>\n",
       "    <tr>\n",
       "      <th>2022-10-24</th>\n",
       "      <td>-0.826103</td>\n",
       "      <td>-0.501257</td>\n",
       "    </tr>\n",
       "    <tr>\n",
       "      <th>2022-10-25</th>\n",
       "      <td>1.195607</td>\n",
       "      <td>-0.278948</td>\n",
       "    </tr>\n",
       "    <tr>\n",
       "      <th>2022-10-26</th>\n",
       "      <td>-1.104203</td>\n",
       "      <td>-0.202934</td>\n",
       "    </tr>\n",
       "    <tr>\n",
       "      <th>2022-10-27</th>\n",
       "      <td>-0.032490</td>\n",
       "      <td>-0.145423</td>\n",
       "    </tr>\n",
       "    <tr>\n",
       "      <th>2022-10-28</th>\n",
       "      <td>-2.859789</td>\n",
       "      <td>1.729694</td>\n",
       "    </tr>\n",
       "    <tr>\n",
       "      <th>2022-10-29</th>\n",
       "      <td>0.188723</td>\n",
       "      <td>-0.514258</td>\n",
       "    </tr>\n",
       "    <tr>\n",
       "      <th>2022-10-30</th>\n",
       "      <td>0.150228</td>\n",
       "      <td>0.497833</td>\n",
       "    </tr>\n",
       "    <tr>\n",
       "      <th>2022-10-31</th>\n",
       "      <td>0.824963</td>\n",
       "      <td>1.237202</td>\n",
       "    </tr>\n",
       "  </tbody>\n",
       "</table>\n",
       "</div>"
      ],
      "text/plain": [
       "                col1      col2\n",
       "2022-10-01 -0.267552 -0.853542\n",
       "2022-10-02 -2.210120  0.960233\n",
       "2022-10-03 -0.783263 -0.762914\n",
       "2022-10-04  1.126308 -0.174002\n",
       "2022-10-05  0.607412 -1.133965\n",
       "2022-10-06  0.342714  0.930066\n",
       "2022-10-07 -0.435162 -0.527123\n",
       "2022-10-08  1.040903 -0.474574\n",
       "2022-10-09 -0.605022  1.566488\n",
       "2022-10-10  0.775933 -0.174140\n",
       "2022-10-11 -0.275412  0.351118\n",
       "2022-10-12  0.417376  0.250790\n",
       "2022-10-13 -0.998633 -1.337409\n",
       "2022-10-14 -0.266728 -0.034476\n",
       "2022-10-15  0.702944 -0.798519\n",
       "2022-10-16 -2.017409 -0.449444\n",
       "2022-10-17  0.103766  2.046250\n",
       "2022-10-18  0.032992 -0.015220\n",
       "2022-10-19  0.632542  1.002454\n",
       "2022-10-20  1.185124  0.599557\n",
       "2022-10-21  1.608959  0.560864\n",
       "2022-10-22  1.040018 -0.623583\n",
       "2022-10-23 -0.360574 -0.774340\n",
       "2022-10-24 -0.826103 -0.501257\n",
       "2022-10-25  1.195607 -0.278948\n",
       "2022-10-26 -1.104203 -0.202934\n",
       "2022-10-27 -0.032490 -0.145423\n",
       "2022-10-28 -2.859789  1.729694\n",
       "2022-10-29  0.188723 -0.514258\n",
       "2022-10-30  0.150228  0.497833\n",
       "2022-10-31  0.824963  1.237202"
      ]
     },
     "execution_count": 29,
     "metadata": {},
     "output_type": "execute_result"
    }
   ],
   "source": [
    "# Selección de filas\n",
    "# del 01 al 31 de octubre\n",
    "df_fechas[\"20221001\":\"20221031\"]"
   ]
  },
  {
   "cell_type": "code",
   "execution_count": 30,
   "metadata": {
    "colab": {
     "base_uri": "https://localhost:8080/",
     "height": 394
    },
    "id": "3k0SurkU34Zb",
    "outputId": "06e54628-5e7a-4d24-fecc-c0cba3fe3b12"
   },
   "outputs": [
    {
     "data": {
      "text/html": [
       "<div>\n",
       "<style scoped>\n",
       "    .dataframe tbody tr th:only-of-type {\n",
       "        vertical-align: middle;\n",
       "    }\n",
       "\n",
       "    .dataframe tbody tr th {\n",
       "        vertical-align: top;\n",
       "    }\n",
       "\n",
       "    .dataframe thead th {\n",
       "        text-align: right;\n",
       "    }\n",
       "</style>\n",
       "<table border=\"1\" class=\"dataframe\">\n",
       "  <thead>\n",
       "    <tr style=\"text-align: right;\">\n",
       "      <th></th>\n",
       "      <th>col1</th>\n",
       "      <th>col2</th>\n",
       "    </tr>\n",
       "  </thead>\n",
       "  <tbody>\n",
       "    <tr>\n",
       "      <th>2022-09-20</th>\n",
       "      <td>-0.881511</td>\n",
       "      <td>1.073085</td>\n",
       "    </tr>\n",
       "    <tr>\n",
       "      <th>2022-09-21</th>\n",
       "      <td>0.820279</td>\n",
       "      <td>-0.714782</td>\n",
       "    </tr>\n",
       "    <tr>\n",
       "      <th>2022-09-22</th>\n",
       "      <td>0.080056</td>\n",
       "      <td>0.475504</td>\n",
       "    </tr>\n",
       "    <tr>\n",
       "      <th>2022-09-23</th>\n",
       "      <td>-2.130518</td>\n",
       "      <td>-0.836147</td>\n",
       "    </tr>\n",
       "    <tr>\n",
       "      <th>2022-09-24</th>\n",
       "      <td>0.939670</td>\n",
       "      <td>-0.885352</td>\n",
       "    </tr>\n",
       "    <tr>\n",
       "      <th>2022-09-25</th>\n",
       "      <td>-1.528489</td>\n",
       "      <td>-0.452067</td>\n",
       "    </tr>\n",
       "    <tr>\n",
       "      <th>2022-09-26</th>\n",
       "      <td>1.161272</td>\n",
       "      <td>1.189256</td>\n",
       "    </tr>\n",
       "    <tr>\n",
       "      <th>2022-09-27</th>\n",
       "      <td>-0.265587</td>\n",
       "      <td>1.004887</td>\n",
       "    </tr>\n",
       "    <tr>\n",
       "      <th>2022-09-28</th>\n",
       "      <td>-1.335987</td>\n",
       "      <td>-2.927366</td>\n",
       "    </tr>\n",
       "    <tr>\n",
       "      <th>2022-09-29</th>\n",
       "      <td>-1.399778</td>\n",
       "      <td>0.104172</td>\n",
       "    </tr>\n",
       "    <tr>\n",
       "      <th>2022-09-30</th>\n",
       "      <td>0.666953</td>\n",
       "      <td>1.379033</td>\n",
       "    </tr>\n",
       "  </tbody>\n",
       "</table>\n",
       "</div>"
      ],
      "text/plain": [
       "                col1      col2\n",
       "2022-09-20 -0.881511  1.073085\n",
       "2022-09-21  0.820279 -0.714782\n",
       "2022-09-22  0.080056  0.475504\n",
       "2022-09-23 -2.130518 -0.836147\n",
       "2022-09-24  0.939670 -0.885352\n",
       "2022-09-25 -1.528489 -0.452067\n",
       "2022-09-26  1.161272  1.189256\n",
       "2022-09-27 -0.265587  1.004887\n",
       "2022-09-28 -1.335987 -2.927366\n",
       "2022-09-29 -1.399778  0.104172\n",
       "2022-09-30  0.666953  1.379033"
      ]
     },
     "execution_count": 30,
     "metadata": {},
     "output_type": "execute_result"
    }
   ],
   "source": [
    "# Selección de submatriz (slice)\n",
    "# Método .loc selección por etiquetas\n",
    "df_fechas.loc[\"20220920\":\"20220930\", [\"col1\", \"col2\"]]\n"
   ]
  },
  {
   "cell_type": "code",
   "execution_count": 31,
   "metadata": {
    "colab": {
     "base_uri": "https://localhost:8080/",
     "height": 174
    },
    "id": "cL0qo02J4_JA",
    "outputId": "026b0dd4-92a6-478d-fea5-73cfaddc168c"
   },
   "outputs": [
    {
     "data": {
      "text/html": [
       "<div>\n",
       "<style scoped>\n",
       "    .dataframe tbody tr th:only-of-type {\n",
       "        vertical-align: middle;\n",
       "    }\n",
       "\n",
       "    .dataframe tbody tr th {\n",
       "        vertical-align: top;\n",
       "    }\n",
       "\n",
       "    .dataframe thead th {\n",
       "        text-align: right;\n",
       "    }\n",
       "</style>\n",
       "<table border=\"1\" class=\"dataframe\">\n",
       "  <thead>\n",
       "    <tr style=\"text-align: right;\">\n",
       "      <th></th>\n",
       "      <th>A</th>\n",
       "    </tr>\n",
       "  </thead>\n",
       "  <tbody>\n",
       "    <tr>\n",
       "      <th>1</th>\n",
       "      <td>1.0</td>\n",
       "    </tr>\n",
       "    <tr>\n",
       "      <th>2</th>\n",
       "      <td>1.0</td>\n",
       "    </tr>\n",
       "    <tr>\n",
       "      <th>3</th>\n",
       "      <td>1.0</td>\n",
       "    </tr>\n",
       "    <tr>\n",
       "      <th>4</th>\n",
       "      <td>1.0</td>\n",
       "    </tr>\n",
       "  </tbody>\n",
       "</table>\n",
       "</div>"
      ],
      "text/plain": [
       "     A\n",
       "1  1.0\n",
       "2  1.0\n",
       "3  1.0\n",
       "4  1.0"
      ]
     },
     "execution_count": 31,
     "metadata": {},
     "output_type": "execute_result"
    }
   ],
   "source": [
    "# Selección por posición\n",
    "# df.iloc[filas, columnas]\n",
    "# df.iloc[ posiciones 1, 2, 3 , 4, posiciones 0]\n",
    "# df.iloc[ filas 2, 3, 4, 5, columna 1]\n",
    "df.iloc[1:5, 0:1]"
   ]
  },
  {
   "cell_type": "code",
   "execution_count": 32,
   "metadata": {
    "colab": {
     "base_uri": "https://localhost:8080/",
     "height": 125
    },
    "id": "W_OhL7VG5e1l",
    "outputId": "09c87500-0985-4167-ad1d-918191c29bd3"
   },
   "outputs": [
    {
     "data": {
      "text/html": [
       "<div>\n",
       "<style scoped>\n",
       "    .dataframe tbody tr th:only-of-type {\n",
       "        vertical-align: middle;\n",
       "    }\n",
       "\n",
       "    .dataframe tbody tr th {\n",
       "        vertical-align: top;\n",
       "    }\n",
       "\n",
       "    .dataframe thead th {\n",
       "        text-align: right;\n",
       "    }\n",
       "</style>\n",
       "<table border=\"1\" class=\"dataframe\">\n",
       "  <thead>\n",
       "    <tr style=\"text-align: right;\">\n",
       "      <th></th>\n",
       "      <th>A</th>\n",
       "      <th>B</th>\n",
       "      <th>C</th>\n",
       "    </tr>\n",
       "  </thead>\n",
       "  <tbody>\n",
       "    <tr>\n",
       "      <th>3</th>\n",
       "      <td>1.0</td>\n",
       "      <td>M</td>\n",
       "      <td>4.0</td>\n",
       "    </tr>\n",
       "    <tr>\n",
       "      <th>4</th>\n",
       "      <td>1.0</td>\n",
       "      <td>M</td>\n",
       "      <td>5.0</td>\n",
       "    </tr>\n",
       "  </tbody>\n",
       "</table>\n",
       "</div>"
      ],
      "text/plain": [
       "     A  B    C\n",
       "3  1.0  M  4.0\n",
       "4  1.0  M  5.0"
      ]
     },
     "execution_count": 32,
     "metadata": {},
     "output_type": "execute_result"
    }
   ],
   "source": [
    "# Selección por condición booleana\n",
    "# Nos quedamos con los datos que tienen un valor positivo en la columna indicada\n",
    "df1=df[df[\"C\"]>3]\n",
    "df1"
   ]
  },
  {
   "cell_type": "markdown",
   "metadata": {
    "id": "BneOY4AkBWWq"
   },
   "source": [
    "**El método apply**: se combina una funcionalidad de Numpy en un objeto dataframe"
   ]
  },
  {
   "cell_type": "code",
   "execution_count": 33,
   "metadata": {
    "colab": {
     "base_uri": "https://localhost:8080/",
     "height": 423
    },
    "id": "7qqFVySgBcoD",
    "outputId": "6bdb8f26-be58-4ab3-a6f7-a35983465f71"
   },
   "outputs": [
    {
     "data": {
      "text/html": [
       "<div>\n",
       "<style scoped>\n",
       "    .dataframe tbody tr th:only-of-type {\n",
       "        vertical-align: middle;\n",
       "    }\n",
       "\n",
       "    .dataframe tbody tr th {\n",
       "        vertical-align: top;\n",
       "    }\n",
       "\n",
       "    .dataframe thead th {\n",
       "        text-align: right;\n",
       "    }\n",
       "</style>\n",
       "<table border=\"1\" class=\"dataframe\">\n",
       "  <thead>\n",
       "    <tr style=\"text-align: right;\">\n",
       "      <th></th>\n",
       "      <th>col1</th>\n",
       "      <th>col2</th>\n",
       "    </tr>\n",
       "  </thead>\n",
       "  <tbody>\n",
       "    <tr>\n",
       "      <th>2022-09-10</th>\n",
       "      <td>-1.489056</td>\n",
       "      <td>-1.104105</td>\n",
       "    </tr>\n",
       "    <tr>\n",
       "      <th>2022-09-11</th>\n",
       "      <td>-1.012445</td>\n",
       "      <td>-2.565820</td>\n",
       "    </tr>\n",
       "    <tr>\n",
       "      <th>2022-09-12</th>\n",
       "      <td>-0.140473</td>\n",
       "      <td>-0.838117</td>\n",
       "    </tr>\n",
       "    <tr>\n",
       "      <th>2022-09-13</th>\n",
       "      <td>0.108530</td>\n",
       "      <td>-1.190348</td>\n",
       "    </tr>\n",
       "    <tr>\n",
       "      <th>2022-09-14</th>\n",
       "      <td>-1.148964</td>\n",
       "      <td>-1.393318</td>\n",
       "    </tr>\n",
       "    <tr>\n",
       "      <th>...</th>\n",
       "      <td>...</td>\n",
       "      <td>...</td>\n",
       "    </tr>\n",
       "    <tr>\n",
       "      <th>2022-11-14</th>\n",
       "      <td>-3.167840</td>\n",
       "      <td>-3.954330</td>\n",
       "    </tr>\n",
       "    <tr>\n",
       "      <th>2022-11-15</th>\n",
       "      <td>-3.156290</td>\n",
       "      <td>-4.398116</td>\n",
       "    </tr>\n",
       "    <tr>\n",
       "      <th>2022-11-16</th>\n",
       "      <td>-4.520898</td>\n",
       "      <td>-3.145639</td>\n",
       "    </tr>\n",
       "    <tr>\n",
       "      <th>2022-11-17</th>\n",
       "      <td>-5.203430</td>\n",
       "      <td>-3.627645</td>\n",
       "    </tr>\n",
       "    <tr>\n",
       "      <th>2022-11-18</th>\n",
       "      <td>-4.149464</td>\n",
       "      <td>-4.877129</td>\n",
       "    </tr>\n",
       "  </tbody>\n",
       "</table>\n",
       "<p>70 rows × 2 columns</p>\n",
       "</div>"
      ],
      "text/plain": [
       "                col1      col2\n",
       "2022-09-10 -1.489056 -1.104105\n",
       "2022-09-11 -1.012445 -2.565820\n",
       "2022-09-12 -0.140473 -0.838117\n",
       "2022-09-13  0.108530 -1.190348\n",
       "2022-09-14 -1.148964 -1.393318\n",
       "...              ...       ...\n",
       "2022-11-14 -3.167840 -3.954330\n",
       "2022-11-15 -3.156290 -4.398116\n",
       "2022-11-16 -4.520898 -3.145639\n",
       "2022-11-17 -5.203430 -3.627645\n",
       "2022-11-18 -4.149464 -4.877129\n",
       "\n",
       "[70 rows x 2 columns]"
      ]
     },
     "execution_count": 33,
     "metadata": {},
     "output_type": "execute_result"
    }
   ],
   "source": [
    "# aplicamos la función suma acumulada definida en numpy a nuestros datos (dataframe)\n",
    "df_fechas.apply(np.cumsum)"
   ]
  },
  {
   "cell_type": "markdown",
   "metadata": {
    "id": "9ZjpkISsOy_J"
   },
   "source": [
    "**Definición de funciones anónimas**"
   ]
  },
  {
   "cell_type": "code",
   "execution_count": 50,
   "metadata": {
    "colab": {
     "base_uri": "https://localhost:8080/"
    },
    "id": "ZqEN8t37C94D",
    "outputId": "8e681c3b-0a83-47c8-cc50-860f5da13937"
   },
   "outputs": [
    {
     "name": "stdout",
     "output_type": "stream",
     "text": [
      "15\n"
     ]
    }
   ],
   "source": [
    "# La función x toma el argumento a, le suma 10 y lo devuelve\n",
    "mi_funcion_anonima = lambda a : a + 10\n",
    "print(mi_funcion_anonima(5))"
   ]
  },
  {
   "cell_type": "code",
   "execution_count": 35,
   "metadata": {
    "colab": {
     "base_uri": "https://localhost:8080/"
    },
    "id": "ykrv0ySpDRjC",
    "outputId": "c7a4e19e-cd9e-49c8-a01e-d794e138473c"
   },
   "outputs": [
    {
     "name": "stdout",
     "output_type": "stream",
     "text": [
      "30\n"
     ]
    }
   ],
   "source": [
    "mi_funcion_anonima_1 = lambda a, b : a * b\n",
    "print(mi_funcion_anonima_1(5, 6))"
   ]
  },
  {
   "cell_type": "code",
   "execution_count": 36,
   "metadata": {
    "colab": {
     "base_uri": "https://localhost:8080/",
     "height": 241
    },
    "id": "A-NqCpRrRNCZ",
    "outputId": "72deaece-ee7e-4f42-8f3d-17079e1bbcfb"
   },
   "outputs": [
    {
     "data": {
      "text/plain": [
       "0    1.0\n",
       "1    2.0\n",
       "2    3.0\n",
       "3    4.0\n",
       "4    5.0\n",
       "Name: C, dtype: float64"
      ]
     },
     "execution_count": 36,
     "metadata": {},
     "output_type": "execute_result"
    }
   ],
   "source": [
    "df['C']"
   ]
  },
  {
   "cell_type": "code",
   "execution_count": 37,
   "metadata": {
    "colab": {
     "base_uri": "https://localhost:8080/"
    },
    "id": "vsAChnZPPxlS",
    "outputId": "2145a2a9-878e-426a-81f6-9998a9e7d760"
   },
   "outputs": [
    {
     "data": {
      "text/plain": [
       "5.0"
      ]
     },
     "execution_count": 37,
     "metadata": {},
     "output_type": "execute_result"
    }
   ],
   "source": [
    "df['C'].max()"
   ]
  },
  {
   "cell_type": "code",
   "execution_count": 38,
   "metadata": {
    "colab": {
     "base_uri": "https://localhost:8080/"
    },
    "id": "nIX9rGnEWECA",
    "outputId": "ed941521-43aa-48a1-b40d-575730bc5b7c"
   },
   "outputs": [
    {
     "data": {
      "text/plain": [
       "1.0"
      ]
     },
     "execution_count": 38,
     "metadata": {},
     "output_type": "execute_result"
    }
   ],
   "source": [
    "df['C'].min()"
   ]
  },
  {
   "cell_type": "code",
   "execution_count": 60,
   "metadata": {
    "id": "AmgGaeN9RlFx"
   },
   "outputs": [
    {
     "name": "stdout",
     "output_type": "stream",
     "text": [
      "min: 1.0, máx: 5.0\n"
     ]
    }
   ],
   "source": [
    "#Ejer 10: Crear una función anónima denomminada mi_funcion_rango, que pasándole por parámetro la columna \"C\" de df obtenga el rango\n",
    "#      de los valores que forman parte de dicha columna\n",
    "mi_funcion_rango = lambda a : f\"min: {a.min()}, máx: {a.max()}\"\n",
    "print(mi_funcion_rango(df['C']))"
   ]
  },
  {
   "cell_type": "markdown",
   "metadata": {
    "id": "fEl34BBA86Hb"
   },
   "source": [
    "A continuación tenemos unos accesos que nos permitiran conocer de forma rápida las librerías de Matplotlib y Pandas\n",
    "\n",
    "[introducción rápida a Matplotlib](https://aprendeconalf.es/docencia/python/manual/matplotlib/#integraci%C3%B3n-con-pandas)\n",
    "\n",
    "[Introducción rápida a Pandas](https://pandas.pydata.org/pandas-docs/stable/user_guide/10min.html)"
   ]
  },
  {
   "cell_type": "markdown",
   "metadata": {
    "id": "OMNPkKzbDwss"
   },
   "source": [
    "# **Ya podemos empezar**"
   ]
  },
  {
   "cell_type": "code",
   "execution_count": null,
   "metadata": {
    "colab": {
     "base_uri": "https://localhost:8080/"
    },
    "id": "JuP3mLbFkJ4x",
    "outputId": "3b8f8336-897c-4c5f-d006-d6b764818385"
   },
   "outputs": [
    {
     "name": "stderr",
     "output_type": "stream",
     "text": [
      "\"gdown\" no se reconoce como un comando interno o externo,\n",
      "programa o archivo por lotes ejecutable.\n"
     ]
    }
   ],
   "source": [
    "\n",
    "# Descargar el dataset que se utilizará utilizaNdo un enlace compartido de google drive\n",
    "# Si la URL es https://drive.google.com/file/d/IDFICHEROCOMPARTIDO se debe utilizar:\n",
    "# !gdown --id IDFICHEROCOMPARTIDO\n",
    "# En nuestro caso, hemos de hacer uso de parte de la información que hay en el siguiente enlace, que corresponde\n",
    "# con elenlace cunado se comparte un fichero:\n",
    "#\n",
    "# https://drive.google.com/file/d/18vnxFKW097DjW5TMR8sYHG-nYfGmkqj5/view?usp=sharing\n",
    "#\n",
    "# Este comando Linux, solo funciona en Google Colab, no en local\n",
    "# Con la exclamación ! ejecutamos un comando (programa) Linux que se ejecuta en la máquina virtual\n",
    "\n",
    "\n",
    "# --- COMO YO NO ESTOY USANDO GOOGLE COLAB, NO SE PUEDE USAR EL COMANDO ---\n",
    "!gdown --id 18vnxFKW097DjW5TMR8sYHG-nYfGmkqj5   #Lo descargo desde google drive directamente\n",
    "# --- COMO YO NO ESTOY USANDO GOOGLE COLAB, NO SE PUEDE USAR EL COMANDO ---\n",
    "\n",
    "\n",
    "\n",
    "#\n",
    "# Ignorar el mensaje que se muestra al ejecutarse, indicando que el comando -id is deprecated\n",
    "#\n",
    "# Una vez ha sido descargado a nuestros recursos de  Google Colab, como recurso de este cuaderno, es interesante descargarlo\n",
    "# y abrirlo con alguna herramienta  ono Notepad++ o LibreOffice\n"
   ]
  },
  {
   "cell_type": "code",
   "execution_count": 66,
   "metadata": {
    "colab": {
     "base_uri": "https://localhost:8080/"
    },
    "id": "RL8JCZbYFL57",
    "outputId": "8230d631-9c7b-4b9f-fcfe-4382b48ee20d"
   },
   "outputs": [
    {
     "data": {
      "text/plain": [
       "(19, 3)"
      ]
     },
     "execution_count": 66,
     "metadata": {},
     "output_type": "execute_result"
    }
   ],
   "source": [
    "# Cargamos el fichero csv  denominado datos.csv con\n",
    "Datos= pd.read_csv('datos.csv', delimiter=';')\n",
    "# importante--> OBSERVAR que Datos es un DataFrame como el df que se ha trabajado anteriormente\n",
    "# Mostrar filas y columnas de la matriz de datos\n",
    "Datos.shape"
   ]
  },
  {
   "cell_type": "code",
   "execution_count": 67,
   "metadata": {
    "colab": {
     "base_uri": "https://localhost:8080/",
     "height": 645
    },
    "id": "ZcGwl1UvUpLO",
    "outputId": "460cd917-b094-4feb-9e6c-925115a159b1"
   },
   "outputs": [
    {
     "data": {
      "text/html": [
       "<div>\n",
       "<style scoped>\n",
       "    .dataframe tbody tr th:only-of-type {\n",
       "        vertical-align: middle;\n",
       "    }\n",
       "\n",
       "    .dataframe tbody tr th {\n",
       "        vertical-align: top;\n",
       "    }\n",
       "\n",
       "    .dataframe thead th {\n",
       "        text-align: right;\n",
       "    }\n",
       "</style>\n",
       "<table border=\"1\" class=\"dataframe\">\n",
       "  <thead>\n",
       "    <tr style=\"text-align: right;\">\n",
       "      <th></th>\n",
       "      <th>Comunidad</th>\n",
       "      <th>Renta</th>\n",
       "      <th>DiferenciaRenta</th>\n",
       "    </tr>\n",
       "  </thead>\n",
       "  <tbody>\n",
       "    <tr>\n",
       "      <th>0</th>\n",
       "      <td>ANDALUCIA</td>\n",
       "      <td>17747</td>\n",
       "      <td>-9.1</td>\n",
       "    </tr>\n",
       "    <tr>\n",
       "      <th>1</th>\n",
       "      <td>ARAGON</td>\n",
       "      <td>26512</td>\n",
       "      <td>-7.8</td>\n",
       "    </tr>\n",
       "    <tr>\n",
       "      <th>2</th>\n",
       "      <td>ASTURIAS</td>\n",
       "      <td>21149</td>\n",
       "      <td>-9.0</td>\n",
       "    </tr>\n",
       "    <tr>\n",
       "      <th>3</th>\n",
       "      <td>BALEARS</td>\n",
       "      <td>22048</td>\n",
       "      <td>-22.7</td>\n",
       "    </tr>\n",
       "    <tr>\n",
       "      <th>4</th>\n",
       "      <td>CANARIAS</td>\n",
       "      <td>17448</td>\n",
       "      <td>-18.4</td>\n",
       "    </tr>\n",
       "    <tr>\n",
       "      <th>5</th>\n",
       "      <td>CANTABRIA</td>\n",
       "      <td>22096</td>\n",
       "      <td>-9.3</td>\n",
       "    </tr>\n",
       "    <tr>\n",
       "      <th>6</th>\n",
       "      <td>CASTILLA Y LEON</td>\n",
       "      <td>23167</td>\n",
       "      <td>-7.0</td>\n",
       "    </tr>\n",
       "    <tr>\n",
       "      <th>7</th>\n",
       "      <td>CASTILLA Y LA MANCHA</td>\n",
       "      <td>19369</td>\n",
       "      <td>-7.1</td>\n",
       "    </tr>\n",
       "    <tr>\n",
       "      <th>8</th>\n",
       "      <td>CATALUNYA</td>\n",
       "      <td>27812</td>\n",
       "      <td>-10.9</td>\n",
       "    </tr>\n",
       "    <tr>\n",
       "      <th>9</th>\n",
       "      <td>VALENCIA</td>\n",
       "      <td>20792</td>\n",
       "      <td>-9.9</td>\n",
       "    </tr>\n",
       "    <tr>\n",
       "      <th>10</th>\n",
       "      <td>EXTREMADURA</td>\n",
       "      <td>18301</td>\n",
       "      <td>-5.2</td>\n",
       "    </tr>\n",
       "    <tr>\n",
       "      <th>11</th>\n",
       "      <td>GALICIA</td>\n",
       "      <td>21903</td>\n",
       "      <td>-8.1</td>\n",
       "    </tr>\n",
       "    <tr>\n",
       "      <th>12</th>\n",
       "      <td>MADRID</td>\n",
       "      <td>32048</td>\n",
       "      <td>-11.1</td>\n",
       "    </tr>\n",
       "    <tr>\n",
       "      <th>13</th>\n",
       "      <td>MURCIA</td>\n",
       "      <td>19838</td>\n",
       "      <td>-8.1</td>\n",
       "    </tr>\n",
       "    <tr>\n",
       "      <th>14</th>\n",
       "      <td>NAVARRA</td>\n",
       "      <td>29314</td>\n",
       "      <td>-8.5</td>\n",
       "    </tr>\n",
       "    <tr>\n",
       "      <th>15</th>\n",
       "      <td>PAIS VASCO</td>\n",
       "      <td>30401</td>\n",
       "      <td>-10.4</td>\n",
       "    </tr>\n",
       "    <tr>\n",
       "      <th>16</th>\n",
       "      <td>RIOJA</td>\n",
       "      <td>25714</td>\n",
       "      <td>-8.6</td>\n",
       "    </tr>\n",
       "    <tr>\n",
       "      <th>17</th>\n",
       "      <td>CEUTA</td>\n",
       "      <td>19559</td>\n",
       "      <td>-6.7</td>\n",
       "    </tr>\n",
       "    <tr>\n",
       "      <th>18</th>\n",
       "      <td>MELILLA</td>\n",
       "      <td>17900</td>\n",
       "      <td>-6.9</td>\n",
       "    </tr>\n",
       "  </tbody>\n",
       "</table>\n",
       "</div>"
      ],
      "text/plain": [
       "               Comunidad  Renta  DiferenciaRenta\n",
       "0              ANDALUCIA  17747             -9.1\n",
       "1                 ARAGON  26512             -7.8\n",
       "2               ASTURIAS  21149             -9.0\n",
       "3                BALEARS  22048            -22.7\n",
       "4               CANARIAS  17448            -18.4\n",
       "5              CANTABRIA  22096             -9.3\n",
       "6        CASTILLA Y LEON  23167             -7.0\n",
       "7   CASTILLA Y LA MANCHA  19369             -7.1\n",
       "8              CATALUNYA  27812            -10.9\n",
       "9               VALENCIA  20792             -9.9\n",
       "10           EXTREMADURA  18301             -5.2\n",
       "11               GALICIA  21903             -8.1\n",
       "12                MADRID  32048            -11.1\n",
       "13                MURCIA  19838             -8.1\n",
       "14               NAVARRA  29314             -8.5\n",
       "15            PAIS VASCO  30401            -10.4\n",
       "16                 RIOJA  25714             -8.6\n",
       "17                 CEUTA  19559             -6.7\n",
       "18               MELILLA  17900             -6.9"
      ]
     },
     "execution_count": 67,
     "metadata": {},
     "output_type": "execute_result"
    }
   ],
   "source": [
    "# Mostramos el contenido de los datos (variables)\n",
    "# Contiene la renta media en 2020 por comunidades y la variación de rentas (en porcentajes) respecto al año anterior\n",
    "Datos"
   ]
  },
  {
   "cell_type": "code",
   "execution_count": 68,
   "metadata": {
    "colab": {
     "base_uri": "https://localhost:8080/"
    },
    "id": "h15QVso0GXnc",
    "outputId": "bcdfa092-d53f-4213-f4c1-dc4c312a1431"
   },
   "outputs": [
    {
     "data": {
      "text/plain": [
       "0                ANDALUCIA\n",
       "1                   ARAGON\n",
       "2                 ASTURIAS\n",
       "3                  BALEARS\n",
       "4                 CANARIAS\n",
       "5                CANTABRIA\n",
       "6          CASTILLA Y LEON\n",
       "7     CASTILLA Y LA MANCHA\n",
       "8                CATALUNYA\n",
       "9                 VALENCIA\n",
       "10             EXTREMADURA\n",
       "11                 GALICIA\n",
       "12                  MADRID\n",
       "13                  MURCIA\n",
       "14                 NAVARRA\n",
       "15              PAIS VASCO\n",
       "16                   RIOJA\n",
       "17                   CEUTA\n",
       "18                 MELILLA\n",
       "Name: Comunidad, dtype: object"
      ]
     },
     "execution_count": 68,
     "metadata": {},
     "output_type": "execute_result"
    }
   ],
   "source": [
    "# Mostramos las comunidades autónomas\n",
    "Datos[\"Comunidad\"]"
   ]
  },
  {
   "cell_type": "code",
   "execution_count": null,
   "metadata": {
    "colab": {
     "base_uri": "https://localhost:8080/",
     "height": 645
    },
    "id": "3YPEQURXGuyb",
    "outputId": "c255c4ee-2872-4644-882f-f3aa78c80da7"
   },
   "outputs": [
    {
     "data": {
      "text/html": [
       "\n",
       "  <div id=\"df-b7bd599c-f3d8-41f3-a5be-787034a080bd\">\n",
       "    <div class=\"colab-df-container\">\n",
       "      <div>\n",
       "<style scoped>\n",
       "    .dataframe tbody tr th:only-of-type {\n",
       "        vertical-align: middle;\n",
       "    }\n",
       "\n",
       "    .dataframe tbody tr th {\n",
       "        vertical-align: top;\n",
       "    }\n",
       "\n",
       "    .dataframe thead th {\n",
       "        text-align: right;\n",
       "    }\n",
       "</style>\n",
       "<table border=\"1\" class=\"dataframe\">\n",
       "  <thead>\n",
       "    <tr style=\"text-align: right;\">\n",
       "      <th></th>\n",
       "      <th>Comunidad</th>\n",
       "      <th>Renta</th>\n",
       "      <th>DiferenciaRenta</th>\n",
       "    </tr>\n",
       "  </thead>\n",
       "  <tbody>\n",
       "    <tr>\n",
       "      <th>0</th>\n",
       "      <td>ANDALUCIA</td>\n",
       "      <td>17747</td>\n",
       "      <td>-9.1</td>\n",
       "    </tr>\n",
       "    <tr>\n",
       "      <th>1</th>\n",
       "      <td>ARAGON</td>\n",
       "      <td>26512</td>\n",
       "      <td>-7.8</td>\n",
       "    </tr>\n",
       "    <tr>\n",
       "      <th>2</th>\n",
       "      <td>ASTURIAS</td>\n",
       "      <td>21149</td>\n",
       "      <td>-9.0</td>\n",
       "    </tr>\n",
       "    <tr>\n",
       "      <th>3</th>\n",
       "      <td>BALEARS</td>\n",
       "      <td>22048</td>\n",
       "      <td>-22.7</td>\n",
       "    </tr>\n",
       "    <tr>\n",
       "      <th>4</th>\n",
       "      <td>Islas Canarias</td>\n",
       "      <td>17448</td>\n",
       "      <td>-18.4</td>\n",
       "    </tr>\n",
       "    <tr>\n",
       "      <th>5</th>\n",
       "      <td>CANTABRIA</td>\n",
       "      <td>22096</td>\n",
       "      <td>-9.3</td>\n",
       "    </tr>\n",
       "    <tr>\n",
       "      <th>6</th>\n",
       "      <td>CASTILLA Y LEON</td>\n",
       "      <td>23167</td>\n",
       "      <td>-7.0</td>\n",
       "    </tr>\n",
       "    <tr>\n",
       "      <th>7</th>\n",
       "      <td>CASTILLA Y LA MANCHA</td>\n",
       "      <td>19369</td>\n",
       "      <td>-7.1</td>\n",
       "    </tr>\n",
       "    <tr>\n",
       "      <th>8</th>\n",
       "      <td>CATALUNYA</td>\n",
       "      <td>27812</td>\n",
       "      <td>-10.9</td>\n",
       "    </tr>\n",
       "    <tr>\n",
       "      <th>9</th>\n",
       "      <td>VALENCIA</td>\n",
       "      <td>20792</td>\n",
       "      <td>-9.9</td>\n",
       "    </tr>\n",
       "    <tr>\n",
       "      <th>10</th>\n",
       "      <td>EXTREMADURA</td>\n",
       "      <td>18301</td>\n",
       "      <td>-5.2</td>\n",
       "    </tr>\n",
       "    <tr>\n",
       "      <th>11</th>\n",
       "      <td>GALICIA</td>\n",
       "      <td>21903</td>\n",
       "      <td>-8.1</td>\n",
       "    </tr>\n",
       "    <tr>\n",
       "      <th>12</th>\n",
       "      <td>MADRID</td>\n",
       "      <td>32048</td>\n",
       "      <td>-11.1</td>\n",
       "    </tr>\n",
       "    <tr>\n",
       "      <th>13</th>\n",
       "      <td>MURCIA</td>\n",
       "      <td>19838</td>\n",
       "      <td>-8.1</td>\n",
       "    </tr>\n",
       "    <tr>\n",
       "      <th>14</th>\n",
       "      <td>NAVARRA</td>\n",
       "      <td>29314</td>\n",
       "      <td>-8.5</td>\n",
       "    </tr>\n",
       "    <tr>\n",
       "      <th>15</th>\n",
       "      <td>PAIS VASCO</td>\n",
       "      <td>30401</td>\n",
       "      <td>-10.4</td>\n",
       "    </tr>\n",
       "    <tr>\n",
       "      <th>16</th>\n",
       "      <td>RIOJA</td>\n",
       "      <td>25714</td>\n",
       "      <td>-8.6</td>\n",
       "    </tr>\n",
       "    <tr>\n",
       "      <th>17</th>\n",
       "      <td>CEUTA</td>\n",
       "      <td>19559</td>\n",
       "      <td>-6.7</td>\n",
       "    </tr>\n",
       "    <tr>\n",
       "      <th>18</th>\n",
       "      <td>MELILLA</td>\n",
       "      <td>17900</td>\n",
       "      <td>-6.9</td>\n",
       "    </tr>\n",
       "  </tbody>\n",
       "</table>\n",
       "</div>\n",
       "      <button class=\"colab-df-convert\" onclick=\"convertToInteractive('df-b7bd599c-f3d8-41f3-a5be-787034a080bd')\"\n",
       "              title=\"Convert this dataframe to an interactive table.\"\n",
       "              style=\"display:none;\">\n",
       "        \n",
       "  <svg xmlns=\"http://www.w3.org/2000/svg\" height=\"24px\"viewBox=\"0 0 24 24\"\n",
       "       width=\"24px\">\n",
       "    <path d=\"M0 0h24v24H0V0z\" fill=\"none\"/>\n",
       "    <path d=\"M18.56 5.44l.94 2.06.94-2.06 2.06-.94-2.06-.94-.94-2.06-.94 2.06-2.06.94zm-11 1L8.5 8.5l.94-2.06 2.06-.94-2.06-.94L8.5 2.5l-.94 2.06-2.06.94zm10 10l.94 2.06.94-2.06 2.06-.94-2.06-.94-.94-2.06-.94 2.06-2.06.94z\"/><path d=\"M17.41 7.96l-1.37-1.37c-.4-.4-.92-.59-1.43-.59-.52 0-1.04.2-1.43.59L10.3 9.45l-7.72 7.72c-.78.78-.78 2.05 0 2.83L4 21.41c.39.39.9.59 1.41.59.51 0 1.02-.2 1.41-.59l7.78-7.78 2.81-2.81c.8-.78.8-2.07 0-2.86zM5.41 20L4 18.59l7.72-7.72 1.47 1.35L5.41 20z\"/>\n",
       "  </svg>\n",
       "      </button>\n",
       "      \n",
       "  <style>\n",
       "    .colab-df-container {\n",
       "      display:flex;\n",
       "      flex-wrap:wrap;\n",
       "      gap: 12px;\n",
       "    }\n",
       "\n",
       "    .colab-df-convert {\n",
       "      background-color: #E8F0FE;\n",
       "      border: none;\n",
       "      border-radius: 50%;\n",
       "      cursor: pointer;\n",
       "      display: none;\n",
       "      fill: #1967D2;\n",
       "      height: 32px;\n",
       "      padding: 0 0 0 0;\n",
       "      width: 32px;\n",
       "    }\n",
       "\n",
       "    .colab-df-convert:hover {\n",
       "      background-color: #E2EBFA;\n",
       "      box-shadow: 0px 1px 2px rgba(60, 64, 67, 0.3), 0px 1px 3px 1px rgba(60, 64, 67, 0.15);\n",
       "      fill: #174EA6;\n",
       "    }\n",
       "\n",
       "    [theme=dark] .colab-df-convert {\n",
       "      background-color: #3B4455;\n",
       "      fill: #D2E3FC;\n",
       "    }\n",
       "\n",
       "    [theme=dark] .colab-df-convert:hover {\n",
       "      background-color: #434B5C;\n",
       "      box-shadow: 0px 1px 3px 1px rgba(0, 0, 0, 0.15);\n",
       "      filter: drop-shadow(0px 1px 2px rgba(0, 0, 0, 0.3));\n",
       "      fill: #FFFFFF;\n",
       "    }\n",
       "  </style>\n",
       "\n",
       "      <script>\n",
       "        const buttonEl =\n",
       "          document.querySelector('#df-b7bd599c-f3d8-41f3-a5be-787034a080bd button.colab-df-convert');\n",
       "        buttonEl.style.display =\n",
       "          google.colab.kernel.accessAllowed ? 'block' : 'none';\n",
       "\n",
       "        async function convertToInteractive(key) {\n",
       "          const element = document.querySelector('#df-b7bd599c-f3d8-41f3-a5be-787034a080bd');\n",
       "          const dataTable =\n",
       "            await google.colab.kernel.invokeFunction('convertToInteractive',\n",
       "                                                     [key], {});\n",
       "          if (!dataTable) return;\n",
       "\n",
       "          const docLinkHtml = 'Like what you see? Visit the ' +\n",
       "            '<a target=\"_blank\" href=https://colab.research.google.com/notebooks/data_table.ipynb>data table notebook</a>'\n",
       "            + ' to learn more about interactive tables.';\n",
       "          element.innerHTML = '';\n",
       "          dataTable['output_type'] = 'display_data';\n",
       "          await google.colab.output.renderOutput(dataTable, element);\n",
       "          const docLink = document.createElement('div');\n",
       "          docLink.innerHTML = docLinkHtml;\n",
       "          element.appendChild(docLink);\n",
       "        }\n",
       "      </script>\n",
       "    </div>\n",
       "  </div>\n",
       "  "
      ],
      "text/plain": [
       "               Comunidad  Renta  DiferenciaRenta\n",
       "0              ANDALUCIA  17747             -9.1\n",
       "1                 ARAGON  26512             -7.8\n",
       "2               ASTURIAS  21149             -9.0\n",
       "3                BALEARS  22048            -22.7\n",
       "4         Islas Canarias  17448            -18.4\n",
       "5              CANTABRIA  22096             -9.3\n",
       "6        CASTILLA Y LEON  23167             -7.0\n",
       "7   CASTILLA Y LA MANCHA  19369             -7.1\n",
       "8              CATALUNYA  27812            -10.9\n",
       "9               VALENCIA  20792             -9.9\n",
       "10           EXTREMADURA  18301             -5.2\n",
       "11               GALICIA  21903             -8.1\n",
       "12                MADRID  32048            -11.1\n",
       "13                MURCIA  19838             -8.1\n",
       "14               NAVARRA  29314             -8.5\n",
       "15            PAIS VASCO  30401            -10.4\n",
       "16                 RIOJA  25714             -8.6\n",
       "17                 CEUTA  19559             -6.7\n",
       "18               MELILLA  17900             -6.9"
      ]
     },
     "execution_count": 12,
     "metadata": {},
     "output_type": "execute_result"
    }
   ],
   "source": [
    "# Le cambiamos el nombre de la comunidad de CANARIAS a Islas Canarias\n",
    "Datos.iloc[4,0]='Islas Canarias'\n",
    "\n",
    "Datos\n"
   ]
  },
  {
   "cell_type": "code",
   "execution_count": 69,
   "metadata": {
    "colab": {
     "base_uri": "https://localhost:8080/",
     "height": 645
    },
    "id": "kNrsQk4uls6f",
    "outputId": "e4627d21-59d7-4c2d-cfd1-c061f3bb428d"
   },
   "outputs": [
    {
     "data": {
      "text/html": [
       "<div>\n",
       "<style scoped>\n",
       "    .dataframe tbody tr th:only-of-type {\n",
       "        vertical-align: middle;\n",
       "    }\n",
       "\n",
       "    .dataframe tbody tr th {\n",
       "        vertical-align: top;\n",
       "    }\n",
       "\n",
       "    .dataframe thead th {\n",
       "        text-align: right;\n",
       "    }\n",
       "</style>\n",
       "<table border=\"1\" class=\"dataframe\">\n",
       "  <thead>\n",
       "    <tr style=\"text-align: right;\">\n",
       "      <th></th>\n",
       "      <th>Comunidad</th>\n",
       "      <th>Renta</th>\n",
       "      <th>DiferenciaRenta</th>\n",
       "    </tr>\n",
       "  </thead>\n",
       "  <tbody>\n",
       "    <tr>\n",
       "      <th>0</th>\n",
       "      <td>ANDALUCIA</td>\n",
       "      <td>17747</td>\n",
       "      <td>-9.1</td>\n",
       "    </tr>\n",
       "    <tr>\n",
       "      <th>1</th>\n",
       "      <td>ARAGON</td>\n",
       "      <td>26512</td>\n",
       "      <td>-7.8</td>\n",
       "    </tr>\n",
       "    <tr>\n",
       "      <th>2</th>\n",
       "      <td>ASTURIAS</td>\n",
       "      <td>21149</td>\n",
       "      <td>-9.0</td>\n",
       "    </tr>\n",
       "    <tr>\n",
       "      <th>3</th>\n",
       "      <td>BALEARS</td>\n",
       "      <td>22048</td>\n",
       "      <td>-22.7</td>\n",
       "    </tr>\n",
       "    <tr>\n",
       "      <th>4</th>\n",
       "      <td>CANARIAS</td>\n",
       "      <td>17448</td>\n",
       "      <td>-18.4</td>\n",
       "    </tr>\n",
       "    <tr>\n",
       "      <th>5</th>\n",
       "      <td>CANTABRIA</td>\n",
       "      <td>22096</td>\n",
       "      <td>-9.3</td>\n",
       "    </tr>\n",
       "    <tr>\n",
       "      <th>6</th>\n",
       "      <td>CASTILLA Y LEON</td>\n",
       "      <td>23167</td>\n",
       "      <td>-7.0</td>\n",
       "    </tr>\n",
       "    <tr>\n",
       "      <th>7</th>\n",
       "      <td>CASTILLA Y LA MANCHA</td>\n",
       "      <td>19369</td>\n",
       "      <td>-7.1</td>\n",
       "    </tr>\n",
       "    <tr>\n",
       "      <th>8</th>\n",
       "      <td>CATALUNYA</td>\n",
       "      <td>27812</td>\n",
       "      <td>-10.9</td>\n",
       "    </tr>\n",
       "    <tr>\n",
       "      <th>9</th>\n",
       "      <td>VALENCIA</td>\n",
       "      <td>20792</td>\n",
       "      <td>-9.9</td>\n",
       "    </tr>\n",
       "    <tr>\n",
       "      <th>10</th>\n",
       "      <td>EXTREMADURA</td>\n",
       "      <td>18301</td>\n",
       "      <td>-5.2</td>\n",
       "    </tr>\n",
       "    <tr>\n",
       "      <th>11</th>\n",
       "      <td>GALICIA</td>\n",
       "      <td>21903</td>\n",
       "      <td>-8.1</td>\n",
       "    </tr>\n",
       "    <tr>\n",
       "      <th>12</th>\n",
       "      <td>MADRID</td>\n",
       "      <td>32048</td>\n",
       "      <td>-11.1</td>\n",
       "    </tr>\n",
       "    <tr>\n",
       "      <th>13</th>\n",
       "      <td>MURCIA</td>\n",
       "      <td>19838</td>\n",
       "      <td>-8.1</td>\n",
       "    </tr>\n",
       "    <tr>\n",
       "      <th>14</th>\n",
       "      <td>NAVARRA</td>\n",
       "      <td>29314</td>\n",
       "      <td>-8.5</td>\n",
       "    </tr>\n",
       "    <tr>\n",
       "      <th>15</th>\n",
       "      <td>PAIS VASCO</td>\n",
       "      <td>30401</td>\n",
       "      <td>-10.4</td>\n",
       "    </tr>\n",
       "    <tr>\n",
       "      <th>16</th>\n",
       "      <td>RIOJA</td>\n",
       "      <td>25714</td>\n",
       "      <td>-8.6</td>\n",
       "    </tr>\n",
       "    <tr>\n",
       "      <th>17</th>\n",
       "      <td>CEUTA</td>\n",
       "      <td>19559</td>\n",
       "      <td>-6.7</td>\n",
       "    </tr>\n",
       "    <tr>\n",
       "      <th>18</th>\n",
       "      <td>MELILLA</td>\n",
       "      <td>17900</td>\n",
       "      <td>-6.9</td>\n",
       "    </tr>\n",
       "  </tbody>\n",
       "</table>\n",
       "</div>"
      ],
      "text/plain": [
       "               Comunidad  Renta  DiferenciaRenta\n",
       "0              ANDALUCIA  17747             -9.1\n",
       "1                 ARAGON  26512             -7.8\n",
       "2               ASTURIAS  21149             -9.0\n",
       "3                BALEARS  22048            -22.7\n",
       "4               CANARIAS  17448            -18.4\n",
       "5              CANTABRIA  22096             -9.3\n",
       "6        CASTILLA Y LEON  23167             -7.0\n",
       "7   CASTILLA Y LA MANCHA  19369             -7.1\n",
       "8              CATALUNYA  27812            -10.9\n",
       "9               VALENCIA  20792             -9.9\n",
       "10           EXTREMADURA  18301             -5.2\n",
       "11               GALICIA  21903             -8.1\n",
       "12                MADRID  32048            -11.1\n",
       "13                MURCIA  19838             -8.1\n",
       "14               NAVARRA  29314             -8.5\n",
       "15            PAIS VASCO  30401            -10.4\n",
       "16                 RIOJA  25714             -8.6\n",
       "17                 CEUTA  19559             -6.7\n",
       "18               MELILLA  17900             -6.9"
      ]
     },
     "execution_count": 69,
     "metadata": {},
     "output_type": "execute_result"
    }
   ],
   "source": [
    "#Ejer 11: Volver a cambiar a CANARIAS\n",
    "Datos.iloc[4,0]= 'CANARIAS'\n",
    "Datos"
   ]
  },
  {
   "cell_type": "code",
   "execution_count": null,
   "metadata": {
    "colab": {
     "base_uri": "https://localhost:8080/",
     "height": 300
    },
    "id": "e_deUh3gkmAp",
    "outputId": "cf100d10-b409-4f5f-fdd7-89e9805e9976"
   },
   "outputs": [
    {
     "data": {
      "text/html": [
       "\n",
       "  <div id=\"df-95d197c8-fdf3-4cf6-8ba0-2bfee27f4299\">\n",
       "    <div class=\"colab-df-container\">\n",
       "      <div>\n",
       "<style scoped>\n",
       "    .dataframe tbody tr th:only-of-type {\n",
       "        vertical-align: middle;\n",
       "    }\n",
       "\n",
       "    .dataframe tbody tr th {\n",
       "        vertical-align: top;\n",
       "    }\n",
       "\n",
       "    .dataframe thead th {\n",
       "        text-align: right;\n",
       "    }\n",
       "</style>\n",
       "<table border=\"1\" class=\"dataframe\">\n",
       "  <thead>\n",
       "    <tr style=\"text-align: right;\">\n",
       "      <th></th>\n",
       "      <th>Renta</th>\n",
       "      <th>DiferenciaRenta</th>\n",
       "    </tr>\n",
       "  </thead>\n",
       "  <tbody>\n",
       "    <tr>\n",
       "      <th>count</th>\n",
       "      <td>19.000000</td>\n",
       "      <td>19.000000</td>\n",
       "    </tr>\n",
       "    <tr>\n",
       "      <th>mean</th>\n",
       "      <td>22795.684211</td>\n",
       "      <td>-9.726316</td>\n",
       "    </tr>\n",
       "    <tr>\n",
       "      <th>std</th>\n",
       "      <td>4542.137982</td>\n",
       "      <td>4.164245</td>\n",
       "    </tr>\n",
       "    <tr>\n",
       "      <th>min</th>\n",
       "      <td>17448.000000</td>\n",
       "      <td>-22.700000</td>\n",
       "    </tr>\n",
       "    <tr>\n",
       "      <th>25%</th>\n",
       "      <td>19464.000000</td>\n",
       "      <td>-10.150000</td>\n",
       "    </tr>\n",
       "    <tr>\n",
       "      <th>50%</th>\n",
       "      <td>21903.000000</td>\n",
       "      <td>-8.600000</td>\n",
       "    </tr>\n",
       "    <tr>\n",
       "      <th>75%</th>\n",
       "      <td>26113.000000</td>\n",
       "      <td>-7.450000</td>\n",
       "    </tr>\n",
       "    <tr>\n",
       "      <th>max</th>\n",
       "      <td>32048.000000</td>\n",
       "      <td>-5.200000</td>\n",
       "    </tr>\n",
       "  </tbody>\n",
       "</table>\n",
       "</div>\n",
       "      <button class=\"colab-df-convert\" onclick=\"convertToInteractive('df-95d197c8-fdf3-4cf6-8ba0-2bfee27f4299')\"\n",
       "              title=\"Convert this dataframe to an interactive table.\"\n",
       "              style=\"display:none;\">\n",
       "        \n",
       "  <svg xmlns=\"http://www.w3.org/2000/svg\" height=\"24px\"viewBox=\"0 0 24 24\"\n",
       "       width=\"24px\">\n",
       "    <path d=\"M0 0h24v24H0V0z\" fill=\"none\"/>\n",
       "    <path d=\"M18.56 5.44l.94 2.06.94-2.06 2.06-.94-2.06-.94-.94-2.06-.94 2.06-2.06.94zm-11 1L8.5 8.5l.94-2.06 2.06-.94-2.06-.94L8.5 2.5l-.94 2.06-2.06.94zm10 10l.94 2.06.94-2.06 2.06-.94-2.06-.94-.94-2.06-.94 2.06-2.06.94z\"/><path d=\"M17.41 7.96l-1.37-1.37c-.4-.4-.92-.59-1.43-.59-.52 0-1.04.2-1.43.59L10.3 9.45l-7.72 7.72c-.78.78-.78 2.05 0 2.83L4 21.41c.39.39.9.59 1.41.59.51 0 1.02-.2 1.41-.59l7.78-7.78 2.81-2.81c.8-.78.8-2.07 0-2.86zM5.41 20L4 18.59l7.72-7.72 1.47 1.35L5.41 20z\"/>\n",
       "  </svg>\n",
       "      </button>\n",
       "      \n",
       "  <style>\n",
       "    .colab-df-container {\n",
       "      display:flex;\n",
       "      flex-wrap:wrap;\n",
       "      gap: 12px;\n",
       "    }\n",
       "\n",
       "    .colab-df-convert {\n",
       "      background-color: #E8F0FE;\n",
       "      border: none;\n",
       "      border-radius: 50%;\n",
       "      cursor: pointer;\n",
       "      display: none;\n",
       "      fill: #1967D2;\n",
       "      height: 32px;\n",
       "      padding: 0 0 0 0;\n",
       "      width: 32px;\n",
       "    }\n",
       "\n",
       "    .colab-df-convert:hover {\n",
       "      background-color: #E2EBFA;\n",
       "      box-shadow: 0px 1px 2px rgba(60, 64, 67, 0.3), 0px 1px 3px 1px rgba(60, 64, 67, 0.15);\n",
       "      fill: #174EA6;\n",
       "    }\n",
       "\n",
       "    [theme=dark] .colab-df-convert {\n",
       "      background-color: #3B4455;\n",
       "      fill: #D2E3FC;\n",
       "    }\n",
       "\n",
       "    [theme=dark] .colab-df-convert:hover {\n",
       "      background-color: #434B5C;\n",
       "      box-shadow: 0px 1px 3px 1px rgba(0, 0, 0, 0.15);\n",
       "      filter: drop-shadow(0px 1px 2px rgba(0, 0, 0, 0.3));\n",
       "      fill: #FFFFFF;\n",
       "    }\n",
       "  </style>\n",
       "\n",
       "      <script>\n",
       "        const buttonEl =\n",
       "          document.querySelector('#df-95d197c8-fdf3-4cf6-8ba0-2bfee27f4299 button.colab-df-convert');\n",
       "        buttonEl.style.display =\n",
       "          google.colab.kernel.accessAllowed ? 'block' : 'none';\n",
       "\n",
       "        async function convertToInteractive(key) {\n",
       "          const element = document.querySelector('#df-95d197c8-fdf3-4cf6-8ba0-2bfee27f4299');\n",
       "          const dataTable =\n",
       "            await google.colab.kernel.invokeFunction('convertToInteractive',\n",
       "                                                     [key], {});\n",
       "          if (!dataTable) return;\n",
       "\n",
       "          const docLinkHtml = 'Like what you see? Visit the ' +\n",
       "            '<a target=\"_blank\" href=https://colab.research.google.com/notebooks/data_table.ipynb>data table notebook</a>'\n",
       "            + ' to learn more about interactive tables.';\n",
       "          element.innerHTML = '';\n",
       "          dataTable['output_type'] = 'display_data';\n",
       "          await google.colab.output.renderOutput(dataTable, element);\n",
       "          const docLink = document.createElement('div');\n",
       "          docLink.innerHTML = docLinkHtml;\n",
       "          element.appendChild(docLink);\n",
       "        }\n",
       "      </script>\n",
       "    </div>\n",
       "  </div>\n",
       "  "
      ],
      "text/plain": [
       "              Renta  DiferenciaRenta\n",
       "count     19.000000        19.000000\n",
       "mean   22795.684211        -9.726316\n",
       "std     4542.137982         4.164245\n",
       "min    17448.000000       -22.700000\n",
       "25%    19464.000000       -10.150000\n",
       "50%    21903.000000        -8.600000\n",
       "75%    26113.000000        -7.450000\n",
       "max    32048.000000        -5.200000"
      ]
     },
     "execution_count": 29,
     "metadata": {},
     "output_type": "execute_result"
    }
   ],
   "source": [
    "Datos.describe()"
   ]
  },
  {
   "cell_type": "markdown",
   "metadata": {
    "id": "ewrQ2vipIika"
   },
   "source": [
    "**Objeto matriz de numpy**"
   ]
  },
  {
   "cell_type": "code",
   "execution_count": null,
   "metadata": {
    "colab": {
     "base_uri": "https://localhost:8080/"
    },
    "id": "QsYuccZY96XI",
    "outputId": "27a77341-0a53-4ef9-c8ec-9fe154cae08f"
   },
   "outputs": [
    {
     "name": "stdout",
     "output_type": "stream",
     "text": [
      "   Comunidad  Renta  DiferenciaRenta\n",
      "1     ARAGON  26512             -7.8\n",
      "8  CATALUNYA  27812            -10.9\n"
     ]
    }
   ],
   "source": [
    "# Transformamos una parte del objeto DataFrame a un objeto matriz para trabajar con métodos de numpy\n",
    "DatosMatriz=Datos[[\"Renta\", \"DiferenciaRenta\"]].to_numpy()\n",
    "DatosMatriz\n",
    "# Por curiosidad, fijarse como los datos de Canarias coinciden en la fila (al igual que el resto de los datos...)\n"
   ]
  },
  {
   "cell_type": "markdown",
   "metadata": {
    "id": "A1XwgbJhWbVi"
   },
   "source": [
    "**Visualizar DatosMatriz**"
   ]
  },
  {
   "cell_type": "code",
   "execution_count": null,
   "metadata": {
    "colab": {
     "base_uri": "https://localhost:8080/"
    },
    "id": "4dBgtEiFWb6h",
    "outputId": "31608823-7ae4-4993-a4f4-8afe8c677cff"
   },
   "outputs": [
    {
     "data": {
      "text/plain": [
       "array([[ 1.7747e+04, -9.1000e+00],\n",
       "       [ 2.6512e+04, -7.8000e+00],\n",
       "       [ 2.1149e+04, -9.0000e+00],\n",
       "       [ 2.2048e+04, -2.2700e+01],\n",
       "       [ 1.7448e+04, -1.8400e+01],\n",
       "       [ 2.2096e+04, -9.3000e+00],\n",
       "       [ 2.3167e+04, -7.0000e+00],\n",
       "       [ 1.9369e+04, -7.1000e+00],\n",
       "       [ 2.7812e+04, -1.0900e+01],\n",
       "       [ 2.0792e+04, -9.9000e+00],\n",
       "       [ 1.8301e+04, -5.2000e+00],\n",
       "       [ 2.1903e+04, -8.1000e+00],\n",
       "       [ 3.2048e+04, -1.1100e+01],\n",
       "       [ 1.9838e+04, -8.1000e+00],\n",
       "       [ 2.9314e+04, -8.5000e+00],\n",
       "       [ 3.0401e+04, -1.0400e+01],\n",
       "       [ 2.5714e+04, -8.6000e+00],\n",
       "       [ 1.9559e+04, -6.7000e+00],\n",
       "       [ 1.7900e+04, -6.9000e+00]])"
      ]
     },
     "execution_count": 31,
     "metadata": {},
     "output_type": "execute_result"
    }
   ],
   "source": [
    "DatosMatriz"
   ]
  },
  {
   "cell_type": "markdown",
   "metadata": {
    "id": "kWr28StmjoYd"
   },
   "source": [
    "**Cálculo de la media y desviación típica**"
   ]
  },
  {
   "cell_type": "code",
   "execution_count": null,
   "metadata": {
    "colab": {
     "base_uri": "https://localhost:8080/"
    },
    "id": "qXSk8-PzXYZC",
    "outputId": "32661866-d2bc-43b2-8080-5fc55718de32"
   },
   "outputs": [
    {
     "data": {
      "text/plain": [
       "array([ 2.27956842e+04, -9.72631579e+00])"
      ]
     },
     "execution_count": 32,
     "metadata": {},
     "output_type": "execute_result"
    }
   ],
   "source": [
    "np.mean(DatosMatriz,axis=0) # Calcula la media aritmetica de los datos,\n",
    "                      # (por columnas) axis=1 para calcular la media por filas"
   ]
  },
  {
   "cell_type": "markdown",
   "metadata": {
    "id": "FEqF81XCJMU8"
   },
   "source": [
    "**Librería matplotlib: Histograma**"
   ]
  },
  {
   "cell_type": "code",
   "execution_count": null,
   "metadata": {
    "colab": {
     "base_uri": "https://localhost:8080/",
     "height": 295
    },
    "id": "1vZx0m1jlVAD",
    "outputId": "d81de1e5-7f0f-4c77-cfc4-a45c4668b1d5"
   },
   "outputs": [
    {
     "data": {
      "image/png": "[encoded data removed]",
      "text/plain": [
       "<Figure size 432x288 with 1 Axes>"
      ]
     },
     "metadata": {
      "needs_background": "light"
     },
     "output_type": "display_data"
    }
   ],
   "source": [
    "# Para mostrar en el histograma los datos de ingresos hemos de indicar que queremos todas las filas de la primera columna\n",
    "plt.hist(DatosMatriz[:,0],7 ) # recordar, columna 0 = primera variable y el 7 indica el número de grupos(columnas) a mostrar\n",
    "#plt.hist(DatosMatriz[:,0]) # recordar, columna 0 = primera variable\n",
    "plt.ylabel('Número de Comunidades')\n",
    "plt.xlabel('Ingresos')\n",
    "plt.title('Renta')\n",
    "plt.show()"
   ]
  },
  {
   "cell_type": "code",
   "execution_count": null,
   "metadata": {
    "id": "0Dh4JfussthV"
   },
   "outputs": [
    {
     "name": "stdout",
     "output_type": "stream",
     "text": [
      "apartado 1:\n",
      "    Comunidad  Renta  DiferenciaRenta\n",
      "1     ARAGON  26512             -7.8\n",
      "8  CATALUNYA  27812            -10.9\n",
      "apartado 2:\n",
      "      Comunidad  Renta  DiferenciaRenta\n",
      "12      MADRID  32048            -11.1\n",
      "15  PAIS VASCO  30401            -10.4\n"
     ]
    }
   ],
   "source": [
    "#Ejer 12: Filtrando los datos en el dataframe Datos, identificar las comunidades autónomas cuya renta\n",
    "#      Apartado 1: Renta entre 26000€ y 28000€\n",
    "apartado_1 = Datos[(Datos['Renta'] >= 26000) & (Datos['Renta'] <= 28000)] \n",
    "#      Apartado 2: Renta superior a 30000€\n",
    "apartado_2 = Datos[Datos['Renta'] > 30000]\n",
    "\n",
    "print(\"apartado 1:\\n\",apartado_1)\n",
    "print(\"apartado 2:\\n\",apartado_2)\n"
   ]
  },
  {
   "cell_type": "markdown",
   "metadata": {
    "id": "sZPT06jbmLy8"
   },
   "source": [
    "¿Y si queremos visualizar la diferencia de ingresos?"
   ]
  },
  {
   "cell_type": "code",
   "execution_count": null,
   "metadata": {
    "colab": {
     "base_uri": "https://localhost:8080/",
     "height": 295
    },
    "id": "P4hSMNX4mUDD",
    "outputId": "4bb48105-945a-4837-d377-ce4cfea8c758"
   },
   "outputs": [
    {
     "data": {
      "image/png": "[encoded data removed]",
      "text/plain": [
       "<Figure size 432x288 with 1 Axes>"
      ]
     },
     "metadata": {
      "needs_background": "light"
     },
     "output_type": "display_data"
    }
   ],
   "source": [
    "plt.hist(DatosMatriz[:,1],7 ) # columna 1 = segunda variable\n",
    "plt.ylabel('Número de Comuniades')\n",
    "plt.xlabel('Ingresos')\n",
    "plt.title('Renta')\n",
    "plt.show()"
   ]
  },
  {
   "cell_type": "markdown",
   "metadata": {
    "id": "B7ZpNPNAnVji"
   },
   "source": [
    "\n",
    "\n",
    "# Vamos a analizar los datos de muestra de las comunidades autónomas para la Detección de **outliers**\n",
    "Adaptación del cuaderno **Ejemplo 2.3 Outliers.ipynb**"
   ]
  },
  {
   "cell_type": "markdown",
   "metadata": {
    "id": "xHKTViOTyJ0C"
   },
   "source": []
  },
  {
   "cell_type": "code",
   "execution_count": null,
   "metadata": {
    "id": "qSP8DAwVMQ6D"
   },
   "outputs": [],
   "source": [
    "Ingresos=DatosMatriz[:,0] # Ingresos medios\n",
    "datos=Ingresos # para reutilizar el código"
   ]
  },
  {
   "cell_type": "markdown",
   "metadata": {
    "id": "vA1-jF42yKs5"
   },
   "source": [
    "**MÉTODO 1:**  Basado en la distribución normal"
   ]
  },
  {
   "cell_type": "code",
   "execution_count": null,
   "metadata": {
    "colab": {
     "base_uri": "https://localhost:8080/"
    },
    "id": "ypKdX8Q4nVDs",
    "outputId": "ae934b40-8ddf-434e-aa19-62ad14a9c199"
   },
   "outputs": [
    {
     "name": "stdout",
     "output_type": "stream",
     "text": [
      " Alfa =0.00133\n",
      " CUANTIL Z_(1-alfa/2) =3.20907\n"
     ]
    }
   ],
   "source": [
    "# CRITERIO 1: PROBABILIDAD GLOBAL\n",
    "# probabilidad de la muestra de estar dentro de las bandas\n",
    "p_g=0.95\n",
    "# probabilidad global de una cola\n",
    "alfa_g=(1-p_g)/2\n",
    "# probabilidad  de las colas para un solo dato\n",
    "alfa= 1-(1-alfa_g)**(1/len(datos))\n",
    "## CRITERIO 2:  Criterio Chauvenet\n",
    "#alfa=1/(2*len(datos))\n",
    "Z_alfa=st.norm.ppf(1-alfa/2)\n",
    "# Impresión de resultados\n",
    "alfa=round(alfa,5)\n",
    "Z_alfa=round(Z_alfa,5)# k\n",
    "print(f\" Alfa ={alfa}\")\n",
    "print(f\" CUANTIL Z_(1-alfa/2) ={Z_alfa}\")"
   ]
  },
  {
   "cell_type": "code",
   "execution_count": null,
   "metadata": {
    "colab": {
     "base_uri": "https://localhost:8080/"
    },
    "id": "XEK76q1hMDlE",
    "outputId": "51659e4b-9a9c-4291-b098-05dc717c38e4"
   },
   "outputs": [
    {
     "name": "stdout",
     "output_type": "stream",
     "text": [
      " Banda= [ 8608.4099,36982.9585]\n"
     ]
    }
   ],
   "source": [
    "xL=  round(np.mean(datos)-Z_alfa*  np.std(datos),4)\n",
    "xU=  round(np.mean(datos)+Z_alfa*  np.std(datos),4)\n",
    "print(f\" Banda= [ {xL},{xU}]\")"
   ]
  },
  {
   "cell_type": "code",
   "execution_count": null,
   "metadata": {
    "id": "KZOUweQ_LsfO"
   },
   "outputs": [],
   "source": [
    "# No hay ninguna comunidad outlier respecto a los ingresos\n",
    "for i in  range(len(datos)):\n",
    "        if datos[i] < xL  or datos[i]>xU:\n",
    "          print(f\" El dato[{i}]={datos[i]} es un outlier\")\n"
   ]
  },
  {
   "cell_type": "markdown",
   "metadata": {
    "id": "pBsJTzKHUegV"
   },
   "source": [
    "**MÉTODO 2:**  Basado en la distancia entre cuartiles"
   ]
  },
  {
   "cell_type": "code",
   "execution_count": null,
   "metadata": {
    "id": "02SEYuHJ-iol"
   },
   "outputs": [],
   "source": [
    "Q1 = np.quantile(datos,0.25)\n",
    "Q3 = np.quantile(datos,0.75)\n",
    "IQR = Q3 - Q1\n",
    "k=1.5\n",
    "xL=Q1 - k * IQR\n",
    "xU=Q3 + k * IQR\n",
    "outlier=np.array([]) # almacenamiento de las posiciones de los outliers\n",
    "for i in  range(len(datos)):\n",
    "        if datos[i] < xL  or datos[i]>xU:\n",
    "          print(f\" El dato[{i}]={datos[i]} es un outlier\")\n",
    "          outlier=np.concatenate((outlier,np.array([i])))"
   ]
  },
  {
   "cell_type": "markdown",
   "metadata": {
    "id": "CjgB6KjGNQ9d"
   },
   "source": [
    "**¿Qué comunidades son?**"
   ]
  },
  {
   "cell_type": "code",
   "execution_count": null,
   "metadata": {
    "colab": {
     "base_uri": "https://localhost:8080/"
    },
    "id": "I6dk8QIlNc_E",
    "outputId": "76a49f8d-f5eb-420b-f481-8d70fa4e201e"
   },
   "outputs": [
    {
     "data": {
      "text/plain": [
       "Series([], Name: Comunidad, dtype: object)"
      ]
     },
     "execution_count": 34,
     "metadata": {},
     "output_type": "execute_result"
    }
   ],
   "source": [
    "Datos.loc[outlier,\"Comunidad\"]"
   ]
  },
  {
   "cell_type": "markdown",
   "metadata": {
    "id": "WRHKddlhEPia"
   },
   "source": [
    "# Aplicamos las técnicas de **escalameniento de datos** a la información que tenemos de las comunidades autónomas\n",
    "\n",
    "Adaptación del cuaderno **Ejemplo 2.5 Escalamiento de datos.**ipynb"
   ]
  },
  {
   "cell_type": "code",
   "execution_count": null,
   "metadata": {
    "colab": {
     "base_uri": "https://localhost:8080/",
     "height": 645
    },
    "id": "oQ2c9EBowkFI",
    "outputId": "67be0c55-7df6-4046-8a01-9e107c2be4ff"
   },
   "outputs": [
    {
     "data": {
      "text/html": [
       "\n",
       "  <div id=\"df-a2006af1-e6d9-4a10-aeb7-8833c8e51e0d\">\n",
       "    <div class=\"colab-df-container\">\n",
       "      <div>\n",
       "<style scoped>\n",
       "    .dataframe tbody tr th:only-of-type {\n",
       "        vertical-align: middle;\n",
       "    }\n",
       "\n",
       "    .dataframe tbody tr th {\n",
       "        vertical-align: top;\n",
       "    }\n",
       "\n",
       "    .dataframe thead th {\n",
       "        text-align: right;\n",
       "    }\n",
       "</style>\n",
       "<table border=\"1\" class=\"dataframe\">\n",
       "  <thead>\n",
       "    <tr style=\"text-align: right;\">\n",
       "      <th></th>\n",
       "      <th>Comunidad</th>\n",
       "      <th>Renta</th>\n",
       "      <th>DiferenciaRenta</th>\n",
       "    </tr>\n",
       "  </thead>\n",
       "  <tbody>\n",
       "    <tr>\n",
       "      <th>0</th>\n",
       "      <td>ANDALUCIA</td>\n",
       "      <td>17747</td>\n",
       "      <td>-9.1</td>\n",
       "    </tr>\n",
       "    <tr>\n",
       "      <th>1</th>\n",
       "      <td>ARAGON</td>\n",
       "      <td>26512</td>\n",
       "      <td>-7.8</td>\n",
       "    </tr>\n",
       "    <tr>\n",
       "      <th>2</th>\n",
       "      <td>ASTURIAS</td>\n",
       "      <td>21149</td>\n",
       "      <td>-9.0</td>\n",
       "    </tr>\n",
       "    <tr>\n",
       "      <th>3</th>\n",
       "      <td>BALEARS</td>\n",
       "      <td>22048</td>\n",
       "      <td>-22.7</td>\n",
       "    </tr>\n",
       "    <tr>\n",
       "      <th>4</th>\n",
       "      <td>CANARIAS</td>\n",
       "      <td>17448</td>\n",
       "      <td>-18.4</td>\n",
       "    </tr>\n",
       "    <tr>\n",
       "      <th>5</th>\n",
       "      <td>CANTABRIA</td>\n",
       "      <td>22096</td>\n",
       "      <td>-9.3</td>\n",
       "    </tr>\n",
       "    <tr>\n",
       "      <th>6</th>\n",
       "      <td>CASTILLA Y LEON</td>\n",
       "      <td>23167</td>\n",
       "      <td>-7.0</td>\n",
       "    </tr>\n",
       "    <tr>\n",
       "      <th>7</th>\n",
       "      <td>CASTILLA Y LA MANCHA</td>\n",
       "      <td>19369</td>\n",
       "      <td>-7.1</td>\n",
       "    </tr>\n",
       "    <tr>\n",
       "      <th>8</th>\n",
       "      <td>CATALUNYA</td>\n",
       "      <td>27812</td>\n",
       "      <td>-10.9</td>\n",
       "    </tr>\n",
       "    <tr>\n",
       "      <th>9</th>\n",
       "      <td>VALENCIA</td>\n",
       "      <td>20792</td>\n",
       "      <td>-9.9</td>\n",
       "    </tr>\n",
       "    <tr>\n",
       "      <th>10</th>\n",
       "      <td>EXTREMADURA</td>\n",
       "      <td>18301</td>\n",
       "      <td>-5.2</td>\n",
       "    </tr>\n",
       "    <tr>\n",
       "      <th>11</th>\n",
       "      <td>GALICIA</td>\n",
       "      <td>21903</td>\n",
       "      <td>-8.1</td>\n",
       "    </tr>\n",
       "    <tr>\n",
       "      <th>12</th>\n",
       "      <td>MADRID</td>\n",
       "      <td>32048</td>\n",
       "      <td>-11.1</td>\n",
       "    </tr>\n",
       "    <tr>\n",
       "      <th>13</th>\n",
       "      <td>MURCIA</td>\n",
       "      <td>19838</td>\n",
       "      <td>-8.1</td>\n",
       "    </tr>\n",
       "    <tr>\n",
       "      <th>14</th>\n",
       "      <td>NAVARRA</td>\n",
       "      <td>29314</td>\n",
       "      <td>-8.5</td>\n",
       "    </tr>\n",
       "    <tr>\n",
       "      <th>15</th>\n",
       "      <td>PAIS VASCO</td>\n",
       "      <td>30401</td>\n",
       "      <td>-10.4</td>\n",
       "    </tr>\n",
       "    <tr>\n",
       "      <th>16</th>\n",
       "      <td>RIOJA</td>\n",
       "      <td>25714</td>\n",
       "      <td>-8.6</td>\n",
       "    </tr>\n",
       "    <tr>\n",
       "      <th>17</th>\n",
       "      <td>CEUTA</td>\n",
       "      <td>19559</td>\n",
       "      <td>-6.7</td>\n",
       "    </tr>\n",
       "    <tr>\n",
       "      <th>18</th>\n",
       "      <td>MELILLA</td>\n",
       "      <td>17900</td>\n",
       "      <td>-6.9</td>\n",
       "    </tr>\n",
       "  </tbody>\n",
       "</table>\n",
       "</div>\n",
       "      <button class=\"colab-df-convert\" onclick=\"convertToInteractive('df-a2006af1-e6d9-4a10-aeb7-8833c8e51e0d')\"\n",
       "              title=\"Convert this dataframe to an interactive table.\"\n",
       "              style=\"display:none;\">\n",
       "        \n",
       "  <svg xmlns=\"http://www.w3.org/2000/svg\" height=\"24px\"viewBox=\"0 0 24 24\"\n",
       "       width=\"24px\">\n",
       "    <path d=\"M0 0h24v24H0V0z\" fill=\"none\"/>\n",
       "    <path d=\"M18.56 5.44l.94 2.06.94-2.06 2.06-.94-2.06-.94-.94-2.06-.94 2.06-2.06.94zm-11 1L8.5 8.5l.94-2.06 2.06-.94-2.06-.94L8.5 2.5l-.94 2.06-2.06.94zm10 10l.94 2.06.94-2.06 2.06-.94-2.06-.94-.94-2.06-.94 2.06-2.06.94z\"/><path d=\"M17.41 7.96l-1.37-1.37c-.4-.4-.92-.59-1.43-.59-.52 0-1.04.2-1.43.59L10.3 9.45l-7.72 7.72c-.78.78-.78 2.05 0 2.83L4 21.41c.39.39.9.59 1.41.59.51 0 1.02-.2 1.41-.59l7.78-7.78 2.81-2.81c.8-.78.8-2.07 0-2.86zM5.41 20L4 18.59l7.72-7.72 1.47 1.35L5.41 20z\"/>\n",
       "  </svg>\n",
       "      </button>\n",
       "      \n",
       "  <style>\n",
       "    .colab-df-container {\n",
       "      display:flex;\n",
       "      flex-wrap:wrap;\n",
       "      gap: 12px;\n",
       "    }\n",
       "\n",
       "    .colab-df-convert {\n",
       "      background-color: #E8F0FE;\n",
       "      border: none;\n",
       "      border-radius: 50%;\n",
       "      cursor: pointer;\n",
       "      display: none;\n",
       "      fill: #1967D2;\n",
       "      height: 32px;\n",
       "      padding: 0 0 0 0;\n",
       "      width: 32px;\n",
       "    }\n",
       "\n",
       "    .colab-df-convert:hover {\n",
       "      background-color: #E2EBFA;\n",
       "      box-shadow: 0px 1px 2px rgba(60, 64, 67, 0.3), 0px 1px 3px 1px rgba(60, 64, 67, 0.15);\n",
       "      fill: #174EA6;\n",
       "    }\n",
       "\n",
       "    [theme=dark] .colab-df-convert {\n",
       "      background-color: #3B4455;\n",
       "      fill: #D2E3FC;\n",
       "    }\n",
       "\n",
       "    [theme=dark] .colab-df-convert:hover {\n",
       "      background-color: #434B5C;\n",
       "      box-shadow: 0px 1px 3px 1px rgba(0, 0, 0, 0.15);\n",
       "      filter: drop-shadow(0px 1px 2px rgba(0, 0, 0, 0.3));\n",
       "      fill: #FFFFFF;\n",
       "    }\n",
       "  </style>\n",
       "\n",
       "      <script>\n",
       "        const buttonEl =\n",
       "          document.querySelector('#df-a2006af1-e6d9-4a10-aeb7-8833c8e51e0d button.colab-df-convert');\n",
       "        buttonEl.style.display =\n",
       "          google.colab.kernel.accessAllowed ? 'block' : 'none';\n",
       "\n",
       "        async function convertToInteractive(key) {\n",
       "          const element = document.querySelector('#df-a2006af1-e6d9-4a10-aeb7-8833c8e51e0d');\n",
       "          const dataTable =\n",
       "            await google.colab.kernel.invokeFunction('convertToInteractive',\n",
       "                                                     [key], {});\n",
       "          if (!dataTable) return;\n",
       "\n",
       "          const docLinkHtml = 'Like what you see? Visit the ' +\n",
       "            '<a target=\"_blank\" href=https://colab.research.google.com/notebooks/data_table.ipynb>data table notebook</a>'\n",
       "            + ' to learn more about interactive tables.';\n",
       "          element.innerHTML = '';\n",
       "          dataTable['output_type'] = 'display_data';\n",
       "          await google.colab.output.renderOutput(dataTable, element);\n",
       "          const docLink = document.createElement('div');\n",
       "          docLink.innerHTML = docLinkHtml;\n",
       "          element.appendChild(docLink);\n",
       "        }\n",
       "      </script>\n",
       "    </div>\n",
       "  </div>\n",
       "  "
      ],
      "text/plain": [
       "               Comunidad  Renta  DiferenciaRenta\n",
       "0              ANDALUCIA  17747             -9.1\n",
       "1                 ARAGON  26512             -7.8\n",
       "2               ASTURIAS  21149             -9.0\n",
       "3                BALEARS  22048            -22.7\n",
       "4               CANARIAS  17448            -18.4\n",
       "5              CANTABRIA  22096             -9.3\n",
       "6        CASTILLA Y LEON  23167             -7.0\n",
       "7   CASTILLA Y LA MANCHA  19369             -7.1\n",
       "8              CATALUNYA  27812            -10.9\n",
       "9               VALENCIA  20792             -9.9\n",
       "10           EXTREMADURA  18301             -5.2\n",
       "11               GALICIA  21903             -8.1\n",
       "12                MADRID  32048            -11.1\n",
       "13                MURCIA  19838             -8.1\n",
       "14               NAVARRA  29314             -8.5\n",
       "15            PAIS VASCO  30401            -10.4\n",
       "16                 RIOJA  25714             -8.6\n",
       "17                 CEUTA  19559             -6.7\n",
       "18               MELILLA  17900             -6.9"
      ]
     },
     "execution_count": 39,
     "metadata": {},
     "output_type": "execute_result"
    }
   ],
   "source": [
    "Datos"
   ]
  },
  {
   "cell_type": "code",
   "execution_count": null,
   "metadata": {
    "id": "4y6C-yuUFJPJ"
   },
   "outputs": [],
   "source": [
    "# Escalamiento\n",
    "# ==============================================================================\n",
    "# Selección de columnas numéricas tipo doble o enteras\n",
    "numeric_cols = Datos.select_dtypes(include=['float64', 'int']).columns.to_list()\n",
    "# Standard scaler\n",
    "preprocessor_SS = ColumnTransformer(\n",
    "                   [('scale', StandardScaler(), numeric_cols)],remainder='passthrough')\n",
    "\n",
    "# MinMaxScaler\n",
    "preprocessor_MM = ColumnTransformer(\n",
    "                   [('scale', MinMaxScaler(), numeric_cols)],remainder='passthrough')\n",
    "\n",
    "Datos_prep_SS = preprocessor_SS.fit_transform(Datos)\n",
    "Datos_prep_MM = preprocessor_MM.fit_transform(Datos)\n",
    "# Nota:\n",
    "# Se podría aplicar las transformaciones a cualquier conjunto de datos con\n",
    "# Data_new_prep_SS  = preprocessor_SS.transform(Data_new)"
   ]
  },
  {
   "cell_type": "code",
   "execution_count": null,
   "metadata": {
    "colab": {
     "base_uri": "https://localhost:8080/",
     "height": 283
    },
    "id": "R2MzzAYOHEIL",
    "outputId": "41ca1f16-52ea-4f60-cb94-ca0e3edb1d19"
   },
   "outputs": [
    {
     "data": {
      "image/png": "[encoded data removed]",
      "text/plain": [
       "<Figure size 432x288 with 1 Axes>"
      ]
     },
     "metadata": {
      "needs_background": "light"
     },
     "output_type": "display_data"
    }
   ],
   "source": [
    "# Representación de las dos variables escaladas z-score\n",
    "fig, ax = plt.subplots()\n",
    "ax.scatter(Datos_prep_SS[:,0], Datos_prep_SS[:,1])\n",
    "ax.set_xlabel(\"Renta\", fontdict = {'fontsize':14,  'color':'tab:blue'})\n",
    "ax.set_ylabel(\"Diferencia de Renta\",fontdict = {'fontsize':14,  'color':'tab:blue'})\n",
    "plt.show()\n"
   ]
  },
  {
   "cell_type": "code",
   "execution_count": null,
   "metadata": {
    "colab": {
     "base_uri": "https://localhost:8080/",
     "height": 283
    },
    "id": "QFbAMjzYL-Qp",
    "outputId": "927c93a7-6216-4221-e390-4f30871a35e0"
   },
   "outputs": [
    {
     "data": {
      "image/png": "[encoded data removed]",
      "text/plain": [
       "<Figure size 432x288 with 1 Axes>"
      ]
     },
     "metadata": {
      "needs_background": "light"
     },
     "output_type": "display_data"
    }
   ],
   "source": [
    "# Representación de las variables escaladas Min-Max\n",
    "fig, ax = plt.subplots()\n",
    "ax.scatter(Datos_prep_MM[:,0], Datos_prep_MM[:,1])\n",
    "ax.set_xlabel(\"Renta\", fontdict = {'fontsize':14,  'color':'tab:blue'})\n",
    "ax.set_ylabel(\"Diferencia de Renta\",fontdict = {'fontsize':14,  'color':'tab:blue'})\n",
    "plt.show()"
   ]
  },
  {
   "cell_type": "code",
   "execution_count": null,
   "metadata": {
    "colab": {
     "base_uri": "https://localhost:8080/",
     "height": 300
    },
    "id": "yDDCREuUPp86",
    "outputId": "4a37cfa3-cfec-439e-ce4a-a39976ee5502"
   },
   "outputs": [
    {
     "data": {
      "text/plain": [
       "<matplotlib.axes._subplots.AxesSubplot at 0x7f2d7e8ebfd0>"
      ]
     },
     "execution_count": 38,
     "metadata": {},
     "output_type": "execute_result"
    },
    {
     "data": {
      "image/png": "[encoded data removed]",
      "text/plain": [
       "<Figure size 432x288 with 1 Axes>"
      ]
     },
     "metadata": {
      "needs_background": "light"
     },
     "output_type": "display_data"
    }
   ],
   "source": [
    "# Dibujar los datos originales. Integración de matplotlib con pandas\n",
    "# df.plot\n",
    "fig, ax = plt.subplots()\n",
    "ax.set_xlabel(\"Renta\", fontdict = {'fontsize':14,  'color':'tab:blue'})\n",
    "ax.set_ylabel(\"Diferencia de Renta\",fontdict = {'fontsize':14,  'color':'tab:blue'})\n",
    "Datos.plot(kind='scatter', x='Renta', y='DiferenciaRenta',ax=ax)"
   ]
  }
 ],
 "metadata": {
  "colab": {
   "provenance": []
  },
  "kernelspec": {
   "display_name": "Python 3",
   "name": "python3"
  },
  "language_info": {
   "codemirror_mode": {
    "name": "ipython",
    "version": 3
   },
   "file_extension": ".py",
   "mimetype": "text/x-python",
   "name": "python",
   "nbconvert_exporter": "python",
   "pygments_lexer": "ipython3",
   "version": "3.12.0"
  }
 },
 "nbformat": 4,
 "nbformat_minor": 0
}
