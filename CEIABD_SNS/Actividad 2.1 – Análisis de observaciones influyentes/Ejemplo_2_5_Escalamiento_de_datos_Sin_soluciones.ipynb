{
 "cells": [
  {
   "cell_type": "markdown",
   "metadata": {
    "id": "JNlEk7ihS-5l"
   },
   "source": [
    "# **Ejemplo 5:** Escalamiento de datos\n",
    "24_25"
   ]
  },
  {
   "cell_type": "code",
   "execution_count": 1,
   "metadata": {
    "id": "ZXs_JcsqTF59"
   },
   "outputs": [],
   "source": [
    "# LIBRERÍAS EMPLEADAS EN EL EJEMPLO\n",
    "# Tratamiento de datos\n",
    "# ==============================================================================\n",
    "import numpy as np\n",
    "import pandas as pd\n",
    "# Gráficos\n",
    "# ==============================================================================\n",
    "import matplotlib.pyplot as plt\n",
    "# Preprocesado\n",
    "#==============================================================================\n",
    "from sklearn.compose import ColumnTransformer\n",
    "from sklearn.preprocessing import StandardScaler  # Para el escalamiento Estandarización Z\n",
    "from sklearn.preprocessing import MinMaxScaler # Para el escalamiento por Rangos\n",
    "from sklearn.compose import make_column_selector\n",
    "\n",
    "# Creación del conjunto de datos (dos máquinas embotelladoras)\n",
    "# ==============================================================================\n",
    "muA, sigmaA = 1000, 1 # media y desviación estándar embotelladora A\n",
    "muB, sigmaB = 1000, 4 # media y desviación estándar embotelladora B\n",
    "datosA = np.random.normal(muA, sigmaA, 1000)\n",
    "datosB = np.random.normal(muB, sigmaB, 1000)\n",
    "datos=np.column_stack((datosA, datosB))\n",
    "\n",
    "# Título: ¿qué es un DataFrame?\n",
    "#Url: https://datacarpentry.org/python-ecology-lesson-es/02-starting-with-data/#entonces-qu%C3%A9-es-un-dataframe\n",
    "Data = pd.DataFrame(datos, columns=['Embotelladora_A', 'Embotelladora_B'])\n",
    "\n",
    "# Escalamiento\n",
    "# ==============================================================================\n",
    "# Selección de columnas numéricas\n",
    "numeric_cols = Data.select_dtypes(include=['float64', 'int']).columns.to_list()\n",
    "# Standard scaler - Definimos el tipo de escalamientoa realizar: estandarización Z-score\n",
    "preprocessor_SS = ColumnTransformer(\n",
    "                   [('scale', StandardScaler(), numeric_cols)],remainder='passthrough')\n",
    "\n",
    "# MinMaxScaler - Definimos el tipo de escalamiento a realizar: Estandarización por rangos\n",
    "preprocessor_RR = ColumnTransformer(\n",
    "                   [('scale', MinMaxScaler(), numeric_cols)],remainder='passthrough')\n",
    "\n",
    "Data_prep_SS = preprocessor_SS.fit_transform(Data)\n",
    "Data_prep_RR = preprocessor_RR.fit_transform(Data)\n",
    "# Nota:\n",
    "# Se podría aplicar las transformaciones a cualquier conjunto de datos con\n",
    "# Data_new_prep_SS  = preprocessor_SS.transform(Data_new)\n",
    "Data_prep_SS_v2  = preprocessor_SS.transform(Data) # Podemos observar que los resultados son los mismos que el método fit_transform\n",
    "\n",
    "# Título: Diferencia entre fit_transform() y transform() en Scikit-Learn\n",
    "# Url: https://forum.huawei.com/enterprise/es/diferencia-entre-fit-transform-y-transform-en-scikit-learn/thread/891275-100757"
   ]
  },
  {
   "cell_type": "code",
   "execution_count": null,
   "metadata": {},
   "outputs": [
    {
     "name": "stdout",
     "output_type": "stream",
     "text": [
      "Media: 5.5\n",
      "Mediana: 5.5\n",
      "Varianza muestral: 8.25\n",
      "Desviación estándar muestral: 2.8722813232690143\n",
      "Rango: 9\n"
     ]
    },
    {
     "data": {
      "text/html": [
       "<div>\n",
       "<style scoped>\n",
       "    .dataframe tbody tr th:only-of-type {\n",
       "        vertical-align: middle;\n",
       "    }\n",
       "\n",
       "    .dataframe tbody tr th {\n",
       "        vertical-align: top;\n",
       "    }\n",
       "\n",
       "    .dataframe thead th {\n",
       "        text-align: right;\n",
       "    }\n",
       "</style>\n",
       "<table border=\"1\" class=\"dataframe\">\n",
       "  <thead>\n",
       "    <tr style=\"text-align: right;\">\n",
       "      <th></th>\n",
       "      <th>0</th>\n",
       "    </tr>\n",
       "  </thead>\n",
       "  <tbody>\n",
       "    <tr>\n",
       "      <th>count</th>\n",
       "      <td>10.00000</td>\n",
       "    </tr>\n",
       "    <tr>\n",
       "      <th>mean</th>\n",
       "      <td>5.50000</td>\n",
       "    </tr>\n",
       "    <tr>\n",
       "      <th>std</th>\n",
       "      <td>3.02765</td>\n",
       "    </tr>\n",
       "    <tr>\n",
       "      <th>min</th>\n",
       "      <td>1.00000</td>\n",
       "    </tr>\n",
       "    <tr>\n",
       "      <th>25%</th>\n",
       "      <td>3.25000</td>\n",
       "    </tr>\n",
       "    <tr>\n",
       "      <th>50%</th>\n",
       "      <td>5.50000</td>\n",
       "    </tr>\n",
       "    <tr>\n",
       "      <th>75%</th>\n",
       "      <td>7.75000</td>\n",
       "    </tr>\n",
       "    <tr>\n",
       "      <th>max</th>\n",
       "      <td>10.00000</td>\n",
       "    </tr>\n",
       "  </tbody>\n",
       "</table>\n",
       "</div>"
      ],
      "text/plain": [
       "              0\n",
       "count  10.00000\n",
       "mean    5.50000\n",
       "std     3.02765\n",
       "min     1.00000\n",
       "25%     3.25000\n",
       "50%     5.50000\n",
       "75%     7.75000\n",
       "max    10.00000"
      ]
     },
     "execution_count": 9,
     "metadata": {},
     "output_type": "execute_result"
    }
   ],
   "source": [
    "# ----- EJERCICIOS -----\n",
    "#Considerar que la variable X toma los valores 1,2,3,4,5,6,7,8,9,10. Se pide: \n",
    "#a) (2 Puntos) ¿Cuánto vale la media, mediana, la desviación estándar muestral, la  varianza muestral y el rango de la variable X?\n",
    "import numpy as np\n",
    "import pandas as pd\n",
    "\n",
    "# Valores de la variable X\n",
    "X = np.array([1, 2, 3, 4, 5, 6, 7, 8, 9, 10])\n",
    "df = pd.DataFrame(X)\n",
    "# Cálculos\n",
    "media = np.mean(X)\n",
    "mediana = np.median(X)\n",
    "varianza_muestral = np.var(X, ddof=1)  # ddof=1 para la varianza muestral\n",
    "desviacion_estandar_muestral = np.std(X, ddof=1)  # ddof=1 para la desviación estándar muestral\n",
    "rango = np.ptp(X)  # Diferencia entre el máximo y el mínimo\n",
    "print(f\"Media: {media}\")\n",
    "print(f\"Mediana: {mediana}\")\n",
    "print(f\"Varianza muestral: {varianza_muestral}\")\n",
    "print(f\"Desviación estándar muestral: {desviacion_estandar_muestral}\")\n",
    "print(f\"Rango: {rango}\")\n",
    "\n",
    "#b) (1 Punto) Utilizar la función describe() de Panda, para obtener la media, desviación estándar, etc...\n",
    "df.describe()\n",
    "\n",
    "#c) (1 Punto)¿Por qué el resultado de calcular la desviación estándar con Numpy es diferente a la calculada por describe de Panda? \n",
    "# ¿Qué ajuste sería necesario realizar para que los resultados fuesen similares/iguales?\n",
    "# Respuesta: \n",
    "    # En estadística, la \"desviación estándar de la muestra\" se calcula usando N-1 en el denominador, lo que se llama \"corrección de Bessel\". \n",
    "    # Esto corrige el sesgo hacia valores más bajos cuando se usa la media de la muestra en lugar de la media real de la población. \n",
    "    # Aunque la estimación sigue estando sesgada, es menos sesgada que sin la corrección. Para aplicar esta corrección en pandas, se usa ddof=1.\n",
    "\n"
   ]
  },
  {
   "cell_type": "code",
   "execution_count": null,
   "metadata": {
    "colab": {
     "base_uri": "https://localhost:8080/",
     "height": 472
    },
    "id": "gB5pTCLd3QvU",
    "outputId": "bf58cafe-71ff-4a5a-de78-fe5fa3043303"
   },
   "outputs": [
    {
     "data": {
      "image/png": "[encoded data removed]",
      "text/plain": [
       "<Figure size 640x480 with 1 Axes>"
      ]
     },
     "metadata": {},
     "output_type": "display_data"
    }
   ],
   "source": [
    "# Histograma antes de escalamiento\n",
    "plt.hist(Data, 50)\n",
    "plt.ylabel('Número de datos')\n",
    "plt.xlabel('valores')\n",
    "plt.title('Histograma antes de escalamiento')\n",
    "plt.show()"
   ]
  },
  {
   "cell_type": "markdown",
   "metadata": {
    "id": "msK4x0lsT9aV"
   },
   "source": [
    "Representacióón de los datos escalado con **Standard Scaler**\n",
    " - Estandariación/Escalamiento por desviación típica\n"
   ]
  },
  {
   "cell_type": "code",
   "execution_count": 2,
   "metadata": {
    "colab": {
     "base_uri": "https://localhost:8080/",
     "height": 472
    },
    "id": "0y6FUrwLUipt",
    "outputId": "0df3760f-8ec7-4c8a-faf5-735820cfd31d"
   },
   "outputs": [
    {
     "data": {
      "image/png": "[encoded data removed]",
      "text/plain": [
       "<Figure size 640x480 with 1 Axes>"
      ]
     },
     "metadata": {},
     "output_type": "display_data"
    }
   ],
   "source": [
    "plt.hist(Data_prep_SS, 50)\n",
    "plt.ylabel('Número de datos')\n",
    "plt.xlabel('valores')\n",
    "plt.title('Histograma con Standard scaler - Estandarización Z')\n",
    "plt.show()"
   ]
  },
  {
   "cell_type": "markdown",
   "metadata": {
    "id": "AM9ZLM4Vs64f"
   },
   "source": [
    "**NOTA** Observar que las **dos** variables tienen la misma desviación típica (s=1)"
   ]
  },
  {
   "cell_type": "code",
   "execution_count": 3,
   "metadata": {
    "colab": {
     "base_uri": "https://localhost:8080/"
    },
    "id": "kVSO26IL7REf",
    "outputId": "ead37332-dbf0-4a6d-bab0-b10e1cd6b411"
   },
   "outputs": [
    {
     "data": {
      "text/plain": [
       "np.float64(0.9999999999999998)"
      ]
     },
     "execution_count": 3,
     "metadata": {},
     "output_type": "execute_result"
    }
   ],
   "source": [
    "Data_prep_SS.std()\n"
   ]
  },
  {
   "cell_type": "markdown",
   "metadata": {
    "id": "InNWa2tdV1yb"
   },
   "source": [
    "Representación de los datos escalado con **Min Max Scaler** - Estandariación/Escalamiento por rangos\n",
    "\n"
   ]
  },
  {
   "cell_type": "code",
   "execution_count": 4,
   "metadata": {
    "colab": {
     "base_uri": "https://localhost:8080/",
     "height": 472
    },
    "id": "tb5uNSt5Vgx-",
    "outputId": "73b7fbf6-b56d-4af8-b261-69f686134086"
   },
   "outputs": [
    {
     "data": {
      "image/png": "[encoded data removed]",
      "text/plain": [
       "<Figure size 640x480 with 1 Axes>"
      ]
     },
     "metadata": {},
     "output_type": "display_data"
    }
   ],
   "source": [
    "plt.hist(Data_prep_RR, 50)\n",
    "plt.ylabel('Número de datos')\n",
    "plt.xlabel('valores')\n",
    "plt.title('Histograma con MinMaxScaler - Por Rangos')\n",
    "plt.show()"
   ]
  },
  {
   "cell_type": "markdown",
   "metadata": {
    "id": "oVEusoT3tST1"
   },
   "source": [
    "**NOTA** Observar que las **dos** variables tienen el mismo rango"
   ]
  },
  {
   "cell_type": "code",
   "execution_count": 5,
   "metadata": {
    "colab": {
     "base_uri": "https://localhost:8080/"
    },
    "id": "1wmnQasXIbl3",
    "outputId": "dcc87608-d2d8-4b20-c8d8-aadc3c6cdba9"
   },
   "outputs": [
    {
     "data": {
      "text/plain": [
       "np.float64(1.0)"
      ]
     },
     "execution_count": 5,
     "metadata": {},
     "output_type": "execute_result"
    }
   ],
   "source": [
    "#Rango\n",
    "#Data_prep_RR[:,0]\n",
    "np.max(Data_prep_RR[:,0])-np.min(Data_prep_RR[:,0])"
   ]
  },
  {
   "cell_type": "code",
   "execution_count": 6,
   "metadata": {
    "colab": {
     "base_uri": "https://localhost:8080/"
    },
    "id": "o_RLBkVWIeR4",
    "outputId": "835d04c3-2af8-4126-da6d-8c0a12754a4c"
   },
   "outputs": [
    {
     "data": {
      "text/plain": [
       "np.float64(1.0)"
      ]
     },
     "execution_count": 6,
     "metadata": {},
     "output_type": "execute_result"
    }
   ],
   "source": [
    "#Rango\n",
    "#Data_prep_RR[:,1]\n",
    "np.max(Data_prep_RR[:,1])-np.min(Data_prep_RR[:,1])"
   ]
  }
 ],
 "metadata": {
  "colab": {
   "provenance": []
  },
  "kernelspec": {
   "display_name": "Python 3",
   "name": "python3"
  },
  "language_info": {
   "codemirror_mode": {
    "name": "ipython",
    "version": 3
   },
   "file_extension": ".py",
   "mimetype": "text/x-python",
   "name": "python",
   "nbconvert_exporter": "python",
   "pygments_lexer": "ipython3",
   "version": "3.12.7"
  }
 },
 "nbformat": 4,
 "nbformat_minor": 0
}
