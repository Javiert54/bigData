{
 "cells": [
  {
   "cell_type": "code",
   "execution_count": null,
   "metadata": {},
   "outputs": [],
   "source": [
    "#Importamos las librerías necesarias\n",
    "import random"
   ]
  },
  {
   "cell_type": "code",
   "execution_count": null,
   "metadata": {},
   "outputs": [],
   "source": [
    "#Creamos la clase Pelicula y una lista de películas\n",
    "class Pelicula:\n",
    "    def __init__(self, titulo: str, genero: str, pesoGB: float):\n",
    "        self.titulo = titulo\n",
    "        self.genero = genero\n",
    "        self.pesoGB = pesoGB\n",
    "\n",
    "    def __str__(self):\n",
    "        return f\"{self.titulo} - {self.genero} - {self.pesoGB}GB\"\n",
    "\n",
    "peliculas = (\n",
    "    Pelicula('La última casa a la izquierda', 'TERROR', 1.830),\n",
    "    Pelicula('Saw IV', 'TERROR', 1.435),\n",
    "    Pelicula('La huérfana', 'TERROR', 2.163),\n",
    "    Pelicula('Furia de Titanes', 'ACCIÓN', 1.746),\n",
    "    Pelicula('El hombre de Acero', 'ACCIÓN', 0.964),\n",
    "    Pelicula('Los Vengadores', 'ACCIÓN', 2.032),\n",
    "    Pelicula('American Pie: El reencuentro', 'COMEDIA', 1.746),\n",
    "    Pelicula('El lado Bueno de las Cosas', 'COMEDIA', 3.139),\n",
    "    Pelicula('Los tres Chiflados', 'COMEDIA', 0.750),\n",
    "    Pelicula('Jugada Salvaje', 'SUSPENSE', 2.275),\n",
    "    Pelicula('El Cuerpo', 'SUSPENSE', 2.082),\n",
    "    Pelicula('15 años y un día', 'SUSPENSE', 2.321)\n",
    ")"
   ]
  },
  {
   "cell_type": "code",
   "execution_count": null,
   "metadata": {},
   "outputs": [],
   "source": [
    "\n",
    "#Creamos la función fitness\n",
    "def fitness(peliculas, cromosoma: str, tamaño_dvd: float, restricciones_genero: tuple):\n",
    "    \"\"\"\n",
    "    Calcula qué tan adecuado es un \"individuo\" (una combinación de películas) basado en el tamaño de DVD y restricciones de género. \n",
    "    Penaliza combinaciones que excedan el tamaño del DVD o que se mezclen ciertos géneros o títulos específicos.\n",
    "    USO: fitness_score = fitness(peliculas, \"000001001010\", ((\"COMEDIA\", \"TERROR\")))\n",
    "    \"\"\"\n",
    "    if len(cromosoma) != len(peliculas):\n",
    "        return f\"ERROR: La longitud de la combinación no coincide con la cantidad de películas. \\n Longitud combinación: {len(cromosoma)} Cantidad de películas:  {len(peliculas)}\"\n",
    "    \n",
    "    tamaño_total = 0\n",
    "    generos = set()\n",
    "    titulos = set()\n",
    "    for index, bit in enumerate(cromosoma):\n",
    "        if bit == \"0\":\n",
    "            continue\n",
    "        tamaño_total += peliculas[index].pesoGB\n",
    "        generos.add(peliculas[index].genero)\n",
    "        titulos.add(peliculas[index].titulo)\n",
    "    \n",
    "    if tamaño_total > tamaño_dvd:\n",
    "        return 0  # Penaliza si excede el tamaño del DVD\n",
    "\n",
    "    if len(titulos & set([\"Jugada Salvaje\", \"El Cuerpo\", \"Furia de Titanes\", \"El hombre de Acero\"])) > 1:  # Si tenemos más de uno de los títulos especificados\n",
    "        return 0  # Penaliza si se mezclan títulos específicos\n",
    "        \n",
    "    for restriccion in restricciones_genero:\n",
    "        if restriccion[0] in generos and restriccion[1] in generos:\n",
    "            return 0  # Penaliza si se mezclan géneros restringidos\n",
    "\n",
    "    return tamaño_total\n"
   ]
  },
  {
   "cell_type": "code",
   "execution_count": null,
   "metadata": {},
   "outputs": [],
   "source": [
    "#Creamos la función para crear una población inicial\n",
    "def poblacionInicial(tamano_poblacion: int):\n",
    "    # Genera una población inicial de individuos aleatorios.\n",
    "    poblacion =  tuple(\"\".join(tuple (str(random.randint(0,1)) for _ in range(len(peliculas)))) for _ in range(tamano_poblacion))\n",
    "    return poblacion  # Devuelve la población inicial"
   ]
  },
  {
   "cell_type": "code",
   "execution_count": null,
   "metadata": {},
   "outputs": [],
   "source": []
  }
 ],
 "metadata": {
  "kernelspec": {
   "display_name": "Python 3",
   "language": "python",
   "name": "python3"
  },
  "language_info": {
   "name": "python",
   "version": "3.12.7"
  }
 },
 "nbformat": 4,
 "nbformat_minor": 2
}
