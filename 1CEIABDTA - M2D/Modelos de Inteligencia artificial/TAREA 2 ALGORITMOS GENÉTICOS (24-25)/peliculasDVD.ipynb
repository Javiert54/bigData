{
 "cells": [
  {
   "cell_type": "code",
   "execution_count": 698,
   "metadata": {},
   "outputs": [],
   "source": [
    "#Importamos las librerías necesarias\n",
    "import random"
   ]
  },
  {
   "cell_type": "code",
   "execution_count": 699,
   "metadata": {},
   "outputs": [],
   "source": [
    "#Creamos la clase Pelicula y una lista de películas\n",
    "class Pelicula:\n",
    "    def __init__(self, titulo: str, genero: str, pesoGB: float):\n",
    "        self.titulo = titulo\n",
    "        self.genero = genero\n",
    "        self.pesoGB = pesoGB\n",
    "\n",
    "    def __str__(self):\n",
    "        return f\"{self.titulo} - {self.genero} - {self.pesoGB}GB\"\n",
    "\n",
    "peliculas = (\n",
    "    Pelicula('La última casa a la izquierda', 'TERROR', 1.830),\n",
    "    Pelicula('Saw IV', 'TERROR', 1.435),\n",
    "    Pelicula('La huérfana', 'TERROR', 2.163),\n",
    "    Pelicula('Furia de Titanes', 'ACCIÓN', 1.746),\n",
    "    Pelicula('El hombre de Acero', 'ACCIÓN', 0.964),\n",
    "    Pelicula('Los Vengadores', 'ACCIÓN', 2.032),\n",
    "    Pelicula('American Pie: El reencuentro', 'COMEDIA', 1.746),\n",
    "    Pelicula('El lado Bueno de las Cosas', 'COMEDIA', 3.139),\n",
    "    Pelicula('Los tres Chiflados', 'COMEDIA', 0.750),\n",
    "    Pelicula('Jugada Salvaje', 'SUSPENSE', 2.275),\n",
    "    Pelicula('El Cuerpo', 'SUSPENSE', 2.082),\n",
    "    Pelicula('15 años y un día', 'SUSPENSE', 2.321)\n",
    ")"
   ]
  },
  {
   "cell_type": "code",
   "execution_count": 700,
   "metadata": {},
   "outputs": [],
   "source": [
    "\n",
    "#Creamos la función fitness\n",
    "def fitness(peliculas, cromosoma: str, tamaño_dvd: float, restricciones_genero: tuple):\n",
    "    \"\"\"\n",
    "    Calcula qué tan adecuado es un \"individuo\" (una combinación de películas) basado en el tamaño de DVD y restricciones de género. \n",
    "    Penaliza combinaciones que excedan el tamaño del DVD o que se mezclen ciertos géneros o títulos específicos.\n",
    "    USO: fitness_score = fitness(peliculas, \"000001001010\", ((\"COMEDIA\", \"TERROR\")))\n",
    "    \"\"\"\n",
    "    if len(cromosoma) != len(peliculas):\n",
    "        return f\"ERROR: La longitud de la combinación no coincide con la cantidad de películas. \\n Longitud combinación: {len(cromosoma)} Cantidad de películas:  {len(peliculas)}\"\n",
    "    \n",
    "    tamaño_total = 0\n",
    "    generos = set()\n",
    "    titulos = set()\n",
    "    for index, bit in enumerate(cromosoma):\n",
    "        if bit == \"0\":\n",
    "            continue\n",
    "        tamaño_total += peliculas[index].pesoGB\n",
    "        generos.add(peliculas[index].genero)\n",
    "        titulos.add(peliculas[index].titulo)\n",
    "    \n",
    "    if tamaño_total > tamaño_dvd:\n",
    "        return 0  # Penaliza si excede el tamaño del DVD\n",
    "\n",
    "    if len(titulos & set([\"Jugada Salvaje\", \"El Cuerpo\", \"Furia de Titanes\", \"El hombre de Acero\"])) > 1:  # Si tenemos más de uno de los títulos especificados\n",
    "        return 0  # Penaliza si se mezclan títulos específicos\n",
    "        \n",
    "    for restriccion in restricciones_genero:\n",
    "        if restriccion[0] in generos and restriccion[1] in generos:\n",
    "            return 0  # Penaliza si se mezclan géneros restringidos\n",
    "\n",
    "    return tamaño_total\n"
   ]
  },
  {
   "cell_type": "code",
   "execution_count": 701,
   "metadata": {},
   "outputs": [],
   "source": [
    "#Creamos la función para crear una población inicial\n",
    "def poblacionInicial(tamano_poblacion: int):\n",
    "    # Genera una población inicial de individuos aleatorios.\n",
    "    poblacion =  tuple(\"\".join(tuple (str(random.randint(0,1)) for _ in range(len(peliculas)))) for _ in range(tamano_poblacion))\n",
    "    return poblacion  # Devuelve la población inicial"
   ]
  },
  {
   "cell_type": "code",
   "execution_count": 702,
   "metadata": {},
   "outputs": [],
   "source": [
    "#Definimos la función de recombinación\n",
    "def recombinacion(padre1: str, padre2: str):\n",
    "    \"\"\"\n",
    "    Realiza el cruce entre dos individuos (padre1 y padre2) para generar un nuevo individuo (hijo).\n",
    "    \"\"\"\n",
    "    punto_cruce = random.randint(1, len(padre1) - 1)\n",
    "    hijo = padre1[:punto_cruce] + padre2[punto_cruce:]\n",
    "    return hijo"
   ]
  },
  {
   "cell_type": "code",
   "execution_count": 703,
   "metadata": {},
   "outputs": [],
   "source": [
    "#Definimos la función de mutación\n",
    "def mutacion(individuo: str, tasa_mutacion: float):\n",
    "    \"\"\"\n",
    "    Realiza la mutación de un individuo con una cierta tasa de mutación.\n",
    "    \"\"\"\n",
    "    individuo_mutado = list(individuo)\n",
    "    for i in range(len(individuo)):\n",
    "        if random.random() < tasa_mutacion:\n",
    "            individuo_mutado[i] = '1' if individuo_mutado[i] == '0' else '0'\n",
    "    return ''.join(individuo_mutado)"
   ]
  },
  {
   "cell_type": "code",
   "execution_count": 704,
   "metadata": {},
   "outputs": [],
   "source": [
    "#Definimos el algoritmo genético\n",
    "def algoritmogenetico(peliculas, tamaño_dvd, restricciones_genero, tamano_poblacion, Ngeneraciones, tasa_mutacion):\n",
    "    \"\"\"\n",
    "    Ejecuta el proceso de evolución durante varias generaciones, optimizando los individuos para ajustarse mejor al tamaño de DVD.\n",
    "    \"\"\"\n",
    "    # Generar la población inicial\n",
    "    poblacion = poblacionInicial(tamano_poblacion)\n",
    "    while max([fitness(peliculas, individuo, tamaño_dvd, restricciones_genero) for individuo in poblacion]) ==0: #Si la población inicial no cumple el fitness, generamos otra población\n",
    "        poblacion = poblacionInicial(tamano_poblacion)\n",
    "    \n",
    "    for generacion in range(Ngeneraciones):\n",
    "        # Evaluar la aptitud de cada individuo\n",
    "        aptitudes = [fitness(peliculas, individuo, tamaño_dvd, restricciones_genero) for individuo in poblacion]\n",
    "        \n",
    "        # Seleccionar los mejores individuos para la reproducción\n",
    "        seleccionados = [poblacion[i] for i in range(len(poblacion)) if aptitudes[i] > 0]\n",
    "        \n",
    "        # Generar la nueva población mediante cruce y mutación\n",
    "        nueva_poblacion = []\n",
    "        while len(nueva_poblacion) < tamano_poblacion:\n",
    "            padre1, padre2 = random.sample(seleccionados, 2)\n",
    "            hijo = recombinacion(padre1, padre2)\n",
    "            hijo = mutacion(hijo, tasa_mutacion)\n",
    "            nueva_poblacion.append(hijo)\n",
    "        \n",
    "        poblacion = nueva_poblacion\n",
    "    \n",
    "    # Evaluar la aptitud de la población final\n",
    "    aptitudes_finales = [fitness(peliculas, individuo, tamaño_dvd, restricciones_genero) for individuo in poblacion]\n",
    "    \n",
    "    # Encontrar el mejor individuo\n",
    "    mejor_individuo = poblacion[aptitudes_finales.index(max(aptitudes_finales))]\n",
    "    mejor_aptitud = max(aptitudes_finales)\n",
    "    peliculasMejorIndividuo = tuple(peliculas[index] for index, i in enumerate(mejor_individuo) if i == \"1\")\n",
    "    return mejor_individuo, mejor_aptitud, peliculasMejorIndividuo"
   ]
  },
  {
   "cell_type": "code",
   "execution_count": null,
   "metadata": {},
   "outputs": [
    {
     "ename": "ValueError",
     "evalue": "Sample larger than population or is negative",
     "output_type": "error",
     "traceback": [
      "\u001b[1;31m---------------------------------------------------------------------------\u001b[0m",
      "\u001b[1;31mValueError\u001b[0m                                Traceback (most recent call last)",
      "Cell \u001b[1;32mIn[705], line 8\u001b[0m\n\u001b[0;32m      5\u001b[0m generaciones \u001b[38;5;241m=\u001b[39m \u001b[38;5;241m60\u001b[39m\n\u001b[0;32m      6\u001b[0m tasa_mutacion \u001b[38;5;241m=\u001b[39m \u001b[38;5;241m0.5\u001b[39m\n\u001b[1;32m----> 8\u001b[0m mejor_individuo, mejor_aptitud, peliculasMejorIndividuo \u001b[38;5;241m=\u001b[39m \u001b[43malgoritmogenetico\u001b[49m\u001b[43m(\u001b[49m\u001b[43mpeliculas\u001b[49m\u001b[43m,\u001b[49m\u001b[43m \u001b[49m\u001b[43mtamaño_dvd\u001b[49m\u001b[43m,\u001b[49m\u001b[43m \u001b[49m\u001b[43mrestricciones_genero\u001b[49m\u001b[43m,\u001b[49m\u001b[43m \u001b[49m\u001b[43mtamano_poblacion\u001b[49m\u001b[43m,\u001b[49m\u001b[43m \u001b[49m\u001b[43mgeneraciones\u001b[49m\u001b[43m,\u001b[49m\u001b[43m \u001b[49m\u001b[43mtasa_mutacion\u001b[49m\u001b[43m)\u001b[49m\n\u001b[0;32m      9\u001b[0m \u001b[38;5;28mprint\u001b[39m(\u001b[38;5;124mf\u001b[39m\u001b[38;5;124m\"\u001b[39m\u001b[38;5;124mMejor individuo: \u001b[39m\u001b[38;5;132;01m{\u001b[39;00mmejor_individuo\u001b[38;5;132;01m}\u001b[39;00m\u001b[38;5;124m\"\u001b[39m)\n\u001b[0;32m     10\u001b[0m \u001b[38;5;28mprint\u001b[39m(\u001b[38;5;124mf\u001b[39m\u001b[38;5;124m\"\u001b[39m\u001b[38;5;124mPeso total: \u001b[39m\u001b[38;5;132;01m{\u001b[39;00mmejor_aptitud\u001b[38;5;132;01m}\u001b[39;00m\u001b[38;5;124mGB\u001b[39m\u001b[38;5;124m\"\u001b[39m)\n",
      "Cell \u001b[1;32mIn[704], line 21\u001b[0m, in \u001b[0;36malgoritmogenetico\u001b[1;34m(peliculas, tamaño_dvd, restricciones_genero, tamano_poblacion, Ngeneraciones, tasa_mutacion)\u001b[0m\n\u001b[0;32m     19\u001b[0m nueva_poblacion \u001b[38;5;241m=\u001b[39m []\n\u001b[0;32m     20\u001b[0m \u001b[38;5;28;01mwhile\u001b[39;00m \u001b[38;5;28mlen\u001b[39m(nueva_poblacion) \u001b[38;5;241m<\u001b[39m tamano_poblacion:\n\u001b[1;32m---> 21\u001b[0m     padre1, padre2 \u001b[38;5;241m=\u001b[39m \u001b[43mrandom\u001b[49m\u001b[38;5;241;43m.\u001b[39;49m\u001b[43msample\u001b[49m\u001b[43m(\u001b[49m\u001b[43mseleccionados\u001b[49m\u001b[43m,\u001b[49m\u001b[43m \u001b[49m\u001b[38;5;241;43m2\u001b[39;49m\u001b[43m)\u001b[49m\n\u001b[0;32m     22\u001b[0m     hijo \u001b[38;5;241m=\u001b[39m recombinacion(padre1, padre2)\n\u001b[0;32m     23\u001b[0m     hijo \u001b[38;5;241m=\u001b[39m mutacion(hijo, tasa_mutacion)\n",
      "File \u001b[1;32mc:\\Users\\Javier\\AppData\\Local\\Programs\\Python\\Python312\\Lib\\random.py:430\u001b[0m, in \u001b[0;36mRandom.sample\u001b[1;34m(self, population, k, counts)\u001b[0m\n\u001b[0;32m    428\u001b[0m randbelow \u001b[38;5;241m=\u001b[39m \u001b[38;5;28mself\u001b[39m\u001b[38;5;241m.\u001b[39m_randbelow\n\u001b[0;32m    429\u001b[0m \u001b[38;5;28;01mif\u001b[39;00m \u001b[38;5;129;01mnot\u001b[39;00m \u001b[38;5;241m0\u001b[39m \u001b[38;5;241m<\u001b[39m\u001b[38;5;241m=\u001b[39m k \u001b[38;5;241m<\u001b[39m\u001b[38;5;241m=\u001b[39m n:\n\u001b[1;32m--> 430\u001b[0m     \u001b[38;5;28;01mraise\u001b[39;00m \u001b[38;5;167;01mValueError\u001b[39;00m(\u001b[38;5;124m\"\u001b[39m\u001b[38;5;124mSample larger than population or is negative\u001b[39m\u001b[38;5;124m\"\u001b[39m)\n\u001b[0;32m    431\u001b[0m result \u001b[38;5;241m=\u001b[39m [\u001b[38;5;28;01mNone\u001b[39;00m] \u001b[38;5;241m*\u001b[39m k\n\u001b[0;32m    432\u001b[0m setsize \u001b[38;5;241m=\u001b[39m \u001b[38;5;241m21\u001b[39m        \u001b[38;5;66;03m# size of a small set minus size of an empty list\u001b[39;00m\n",
      "\u001b[1;31mValueError\u001b[0m: Sample larger than population or is negative"
     ]
    }
   ],
   "source": [
    "#Probamos el código\n",
    "tamaño_dvd = 4.7\n",
    "restricciones_genero = ((\"COMEDIA\", \"TERROR\"))\n",
    "tamano_poblacion = 200\n",
    "generaciones = 60\n",
    "tasa_mutacion = 0.09\n",
    "\n",
    "mejor_individuo, mejor_aptitud, peliculasMejorIndividuo = algoritmogenetico(peliculas, tamaño_dvd, restricciones_genero, tamano_poblacion, generaciones, tasa_mutacion)\n",
    "print(f\"Mejor individuo: {mejor_individuo}\")\n",
    "print(f\"Peso total: {mejor_aptitud}GB\")\n",
    "print(\"Películas del mejor individuo:\")\n",
    "pesoTotal = 0\n",
    "for pelicula in peliculasMejorIndividuo:\n",
    "    print(pelicula.__str__())\n",
    "    pesoTotal += pelicula.pesoGB"
   ]
  }
 ],
 "metadata": {
  "kernelspec": {
   "display_name": "Python 3",
   "language": "python",
   "name": "python3"
  },
  "language_info": {
   "codemirror_mode": {
    "name": "ipython",
    "version": 3
   },
   "file_extension": ".py",
   "mimetype": "text/x-python",
   "name": "python",
   "nbconvert_exporter": "python",
   "pygments_lexer": "ipython3",
   "version": "3.12.7"
  }
 },
 "nbformat": 4,
 "nbformat_minor": 2
}
