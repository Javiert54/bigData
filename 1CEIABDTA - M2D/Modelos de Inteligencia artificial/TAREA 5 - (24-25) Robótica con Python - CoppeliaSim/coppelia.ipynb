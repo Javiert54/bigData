{
 "cells": [
  {
   "cell_type": "code",
   "execution_count": 30,
   "metadata": {},
   "outputs": [],
   "source": [
    "import sim\n",
    "import numpy as np"
   ]
  },
  {
   "cell_type": "code",
   "execution_count": 31,
   "metadata": {},
   "outputs": [],
   "source": [
    "def connect(port):\n",
    "    sim.simxFinish(-1) # just in case, close all opened connections\n",
    "    clientID=sim.simxStart('127.0.0.1',port,True,True,2000,5) # Conectarse\n",
    "    if clientID == 0: print(\"conectado a\", port)\n",
    "    else: print(\"no se pudo conectar\")\n",
    "    return clientID"
   ]
  },
  {
   "cell_type": "code",
   "execution_count": 32,
   "metadata": {},
   "outputs": [
    {
     "name": "stdout",
     "output_type": "stream",
     "text": [
      "conectado a 19999\n"
     ]
    }
   ],
   "source": [
    "clientID = connect(19999)"
   ]
  },
  {
   "cell_type": "markdown",
   "metadata": {},
   "source": [
    "Obtener los Handlers"
   ]
  },
  {
   "cell_type": "code",
   "execution_count": 38,
   "metadata": {},
   "outputs": [
    {
     "name": "stdout",
     "output_type": "stream",
     "text": [
      "dummy: 0, dummy's pos: [0.6613926291465759, -0.8682999014854431, 0.6941603422164917]\n",
      "joint1: 0, joint1 pos: 0.0\n",
      "joint2: 0, joint2 pos: 0.0\n"
     ]
    }
   ],
   "source": [
    "returnCode,dummy=sim.simxGetObjectHandle(clientID,'Dummy',sim.simx_opmode_blocking)\n",
    "returnCode,dummyPos=sim.simxGetObjectPosition(clientID, dummy, -1, sim.simx_opmode_blocking)\n",
    "\n",
    "ret,joint1=sim.simxGetObjectHandle(clientID,'joint1',sim.simx_opmode_blocking)\n",
    "ret,joint2=sim.simxGetObjectHandle(clientID,'joint2',sim.simx_opmode_blocking)\n",
    "returnCode,joint1Pos=sim.simxGetJointPosition(clientID, joint1, sim.simx_opmode_blocking)\n",
    "returnCode,joint2Pos=sim.simxGetJointPosition(clientID, joint2, sim.simx_opmode_blocking)\n",
    "print(f\"dummy: {dummy}, dummy's pos: {dummyPos}\\njoint1: {joint1}, joint1 pos: {joint1Pos}\\njoint2: {joint2}, joint2 pos: {joint2Pos}\")"
   ]
  }
 ],
 "metadata": {
  "kernelspec": {
   "display_name": "Python 3",
   "language": "python",
   "name": "python3"
  },
  "language_info": {
   "codemirror_mode": {
    "name": "ipython",
    "version": 3
   },
   "file_extension": ".py",
   "mimetype": "text/x-python",
   "name": "python",
   "nbconvert_exporter": "python",
   "pygments_lexer": "ipython3",
   "version": "3.13.2"
  }
 },
 "nbformat": 4,
 "nbformat_minor": 2
}
