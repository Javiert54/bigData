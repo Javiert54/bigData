{
 "cells": [
  {
   "cell_type": "code",
   "execution_count": 22,
   "metadata": {},
   "outputs": [],
   "source": [
    "import sim\n",
    "import numpy as np"
   ]
  },
  {
   "cell_type": "code",
   "execution_count": 23,
   "metadata": {},
   "outputs": [],
   "source": [
    "def connect(port):\n",
    "    sim.simxFinish(-1) # just in case, close all opened connections\n",
    "    clientID=sim.simxStart('127.0.0.1',port,True,True,2000,5) # Conectarse\n",
    "    if clientID == 0: print(\"conectado a\", port)\n",
    "    else: print(\"no se pudo conectar\")\n",
    "    return clientID"
   ]
  },
  {
   "cell_type": "code",
   "execution_count": 24,
   "metadata": {},
   "outputs": [
    {
     "name": "stdout",
     "output_type": "stream",
     "text": [
      "no se pudo conectar\n"
     ]
    }
   ],
   "source": [
    "clientID = connect(19999)"
   ]
  },
  {
   "cell_type": "markdown",
   "metadata": {},
   "source": [
    "Obtener los Handlers"
   ]
  },
  {
   "cell_type": "code",
   "execution_count": 25,
   "metadata": {},
   "outputs": [
    {
     "name": "stdout",
     "output_type": "stream",
     "text": [
      "dummy: 0, dummy's pos: [0.0, 0.0, 0.0]\n",
      "joint1: 0, joint1 pos: 0.0\n",
      "joint2: 0, joint2 pos: 0.0\n"
     ]
    }
   ],
   "source": [
    "returnCode,dummy=sim.simxGetObjectHandle(clientID,'Dummy',sim.simx_opmode_blocking)\n",
    "returnCode,dummyPos=sim.simxGetObjectPosition(clientID, dummy, -1, sim.simx_opmode_blocking)\n",
    "\n",
    "ret,joint1=sim.simxGetObjectHandle(clientID,'joint1',sim.simx_opmode_blocking)\n",
    "ret,joint2=sim.simxGetObjectHandle(clientID,'joint2',sim.simx_opmode_blocking)\n",
    "returnCode,joint1Pos=sim.simxGetJointPosition(clientID, joint1, sim.simx_opmode_blocking)\n",
    "returnCode,joint2Pos=sim.simxGetJointPosition(clientID, joint2, sim.simx_opmode_blocking)\n",
    "print(f\"dummy: {dummy}, dummy's pos: {dummyPos}\\njoint1: {joint1}, joint1 pos: {joint1Pos}\\njoint2: {joint2}, joint2 pos: {joint2Pos}\")"
   ]
  },
  {
   "cell_type": "code",
   "execution_count": null,
   "metadata": {},
   "outputs": [
    {
     "name": "stdout",
     "output_type": "stream",
     "text": [
      "64\n",
      "64\n"
     ]
    }
   ],
   "source": [
    "# enviamos la posición de joint1, en radianes.\n",
    "q1 = -30 * np.pi/180\n",
    "returnCode = sim.simxSetJointTargetPosition(clientID, joint1, q1, sim.simx_opmode_oneshot)\n",
    "print(returnCode)\n",
    "# enviamos la posición de joint2, en radianes.\n",
    "q2 = 30 * np.pi/180\n",
    "returnCode = sim.simxSetJointTargetPosition(clientID, joint2, q2, sim.simx_opmode_oneshot)\n",
    "print(returnCode)"
   ]
  },
  {
   "cell_type": "code",
   "execution_count": 29,
   "metadata": {},
   "outputs": [
    {
     "name": "stdout",
     "output_type": "stream",
     "text": [
      "[0.0, 0.0, 0.0]\n"
     ]
    }
   ],
   "source": [
    "returnCode,pos=sim.simxGetObjectPosition(clientID, dummy, -1, sim.simx_opmode_blocking)\n",
    "print(pos)"
   ]
  }
 ],
 "metadata": {
  "kernelspec": {
   "display_name": "Python 3",
   "language": "python",
   "name": "python3"
  },
  "language_info": {
   "codemirror_mode": {
    "name": "ipython",
    "version": 3
   },
   "file_extension": ".py",
   "mimetype": "text/x-python",
   "name": "python",
   "nbconvert_exporter": "python",
   "pygments_lexer": "ipython3",
   "version": "3.13.2"
  }
 },
 "nbformat": 4,
 "nbformat_minor": 2
}
