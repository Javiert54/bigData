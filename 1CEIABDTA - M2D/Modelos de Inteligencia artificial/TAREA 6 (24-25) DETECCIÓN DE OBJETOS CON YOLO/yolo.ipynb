{
  "cells": [
    {
      "cell_type": "code",
      "execution_count": 6,
      "metadata": {
        "id": "Uxhhu3oDWE9P",
        "outputId": "586eda71-8b58-4cca-b841-63f73edf6dab"
      },
      "outputs": [
        {
          "name": "stdout",
          "output_type": "stream",
          "text": [
            "Cámaras disponibles: [0]\n"
          ]
        }
      ],
      "source": [
        "import cv2\n",
        "from ultralytics import YOLO\n",
        "def detectar_camaras():\n",
        "    index = 0\n",
        "    arr = []\n",
        "    while True:\n",
        "        cap = cv2.VideoCapture(index)\n",
        "        if not cap.read()[0]:\n",
        "            break\n",
        "        else:\n",
        "            arr.append(index)\n",
        "        cap.release()\n",
        "        index += 1\n",
        "    return arr\n",
        "\n",
        "# Uso de la función\n",
        "camaras_disponibles = detectar_camaras()\n",
        "print(\"Cámaras disponibles:\", camaras_disponibles)"
      ]
    },
    {
      "cell_type": "code",
      "execution_count": 7,
      "metadata": {
        "id": "gACds2s1WE9Q",
        "outputId": "7d23ca06-ed47-4eef-d0f8-eb796326ecbe"
      },
      "outputs": [
        {
          "name": "stdout",
          "output_type": "stream",
          "text": [
            "\n",
            "1/1: 0... Success  (inf frames of shape 640x480 at 30.00 FPS)\n",
            "\n",
            "\n",
            "WARNING  inference results will accumulate in RAM unless `stream=True` is passed, causing potential out-of-memory\n",
            "errors for large sources or long-running streams and videos. See https://docs.ultralytics.com/modes/predict/ for help.\n",
            "\n",
            "Example:\n",
            "    results = model(source=..., stream=True)  # generator of Results objects\n",
            "    for r in results:\n",
            "        boxes = r.boxes  # Boxes object for bbox outputs\n",
            "        masks = r.masks  # Masks object for segment masks outputs\n",
            "        probs = r.probs  # Class probabilities for classification outputs\n",
            "\n",
            "0: 480x640 1 person, 111.8ms\n",
            "0: 480x640 1 person, 54.5ms\n",
            "0: 480x640 1 person, 59.5ms\n",
            "0: 480x640 1 person, 53.0ms\n",
            "WARNING  Waiting for stream 0\n",
            "0: 480x640 1 person, 57.3ms\n",
            "0: 480x640 1 person, 55.1ms\n",
            "0: 480x640 1 person, 60.9ms\n",
            "0: 480x640 1 person, 56.1ms\n",
            "0: 480x640 1 person, 54.6ms\n",
            "0: 480x640 1 person, 58.8ms\n",
            "0: 480x640 1 person, 54.3ms\n",
            "0: 480x640 1 person, 57.0ms\n",
            "0: 480x640 1 person, 67.3ms\n",
            "0: 480x640 1 person, 78.2ms\n",
            "0: 480x640 1 person, 56.9ms\n",
            "0: 480x640 1 person, 57.3ms\n",
            "0: 480x640 1 person, 54.7ms\n",
            "0: 480x640 1 person, 54.6ms\n",
            "0: 480x640 1 person, 62.1ms\n",
            "0: 480x640 1 person, 60.0ms\n",
            "0: 480x640 1 person, 53.7ms\n",
            "0: 480x640 1 person, 50.1ms\n",
            "0: 480x640 1 person, 51.6ms\n",
            "0: 480x640 (no detections), 50.7ms\n",
            "0: 480x640 (no detections), 50.9ms\n",
            "0: 480x640 1 person, 58.4ms\n",
            "0: 480x640 1 person, 51.5ms\n",
            "0: 480x640 1 orange, 54.0ms\n",
            "0: 480x640 1 orange, 59.4ms\n",
            "0: 480x640 1 person, 52.5ms\n",
            "0: 480x640 1 person, 50.2ms\n",
            "0: 480x640 2 persons, 51.6ms\n",
            "0: 480x640 2 persons, 51.7ms\n",
            "0: 480x640 (no detections), 55.5ms\n",
            "0: 480x640 (no detections), 52.7ms\n",
            "0: 480x640 (no detections), 50.6ms\n",
            "0: 480x640 (no detections), 50.2ms\n",
            "0: 480x640 1 person, 47.3ms\n",
            "0: 480x640 (no detections), 47.6ms\n",
            "0: 480x640 (no detections), 50.9ms\n",
            "0: 480x640 1 person, 53.4ms\n",
            "0: 480x640 1 person, 51.0ms\n",
            "0: 480x640 2 persons, 54.6ms\n",
            "0: 480x640 2 persons, 50.9ms\n",
            "0: 480x640 1 person, 57.9ms\n",
            "0: 480x640 1 person, 52.5ms\n",
            "0: 480x640 1 person, 55.1ms\n",
            "0: 480x640 1 person, 68.9ms\n",
            "0: 480x640 1 person, 51.9ms\n",
            "WARNING  Waiting for stream 0\n",
            "0: 480x640 1 person, 53.2ms\n",
            "0: 480x640 1 person, 49.0ms\n",
            "0: 480x640 1 person, 49.9ms\n",
            "0: 480x640 1 person, 53.1ms\n",
            "0: 480x640 1 person, 51.7ms\n",
            "0: 480x640 1 person, 51.3ms\n",
            "0: 480x640 1 person, 1 couch, 54.9ms\n",
            "0: 480x640 1 person, 1 couch, 51.3ms\n",
            "0: 480x640 1 person, 52.4ms\n",
            "0: 480x640 1 person, 50.5ms\n",
            "0: 480x640 1 person, 50.9ms\n",
            "0: 480x640 1 person, 51.0ms\n",
            "0: 480x640 1 person, 49.3ms\n",
            "0: 480x640 1 person, 50.1ms\n",
            "0: 480x640 1 person, 51.7ms\n",
            "0: 480x640 1 carrot, 50.6ms\n",
            "0: 480x640 1 carrot, 53.4ms\n",
            "0: 480x640 1 carrot, 51.0ms\n",
            "0: 480x640 1 carrot, 52.6ms\n",
            "0: 480x640 2 persons, 51.6ms\n",
            "0: 480x640 2 persons, 51.2ms\n",
            "0: 480x640 1 person, 60.7ms\n",
            "0: 480x640 1 person, 50.7ms\n",
            "0: 480x640 2 persons, 54.0ms\n",
            "0: 480x640 2 persons, 61.1ms\n",
            "0: 480x640 2 persons, 55.1ms\n",
            "0: 480x640 1 person, 51.2ms\n",
            "0: 480x640 1 person, 51.8ms\n",
            "0: 480x640 2 persons, 54.7ms\n",
            "0: 480x640 2 persons, 49.4ms\n",
            "0: 480x640 2 persons, 51.4ms\n",
            "0: 480x640 2 persons, 51.1ms\n",
            "0: 480x640 1 person, 55.1ms\n",
            "0: 480x640 1 person, 51.8ms\n",
            "0: 480x640 1 person, 50.0ms\n",
            "0: 480x640 1 person, 51.5ms\n",
            "0: 480x640 2 persons, 52.1ms\n",
            "0: 480x640 2 persons, 51.4ms\n",
            "0: 480x640 2 persons, 50.0ms\n",
            "WARNING  Waiting for stream 0\n",
            "0: 480x640 2 persons, 51.8ms\n",
            "0: 480x640 2 persons, 54.2ms\n",
            "0: 480x640 1 person, 53.4ms\n",
            "0: 480x640 1 person, 50.1ms\n",
            "0: 480x640 1 person, 51.7ms\n",
            "0: 480x640 1 person, 50.3ms\n",
            "0: 480x640 1 person, 50.5ms\n",
            "0: 480x640 1 person, 49.9ms\n",
            "0: 480x640 1 person, 50.6ms\n",
            "0: 480x640 (no detections), 52.6ms\n",
            "0: 480x640 (no detections), 51.7ms\n",
            "0: 480x640 1 orange, 50.6ms\n",
            "0: 480x640 1 orange, 50.5ms\n",
            "0: 480x640 1 person, 46.2ms\n",
            "0: 480x640 2 persons, 57.6ms\n",
            "0: 480x640 2 persons, 56.6ms\n",
            "0: 480x640 1 person, 51.1ms\n",
            "0: 480x640 1 person, 49.1ms\n",
            "0: 480x640 1 person, 51.4ms\n",
            "0: 480x640 1 person, 47.9ms\n",
            "0: 480x640 1 person, 48.7ms\n",
            "0: 480x640 1 person, 50.4ms\n",
            "0: 480x640 1 person, 55.1ms\n",
            "0: 480x640 1 person, 56.1ms\n",
            "0: 480x640 1 person, 57.8ms\n",
            "0: 480x640 1 person, 57.0ms\n",
            "0: 480x640 1 person, 53.8ms\n",
            "0: 480x640 1 person, 48.8ms\n",
            "0: 480x640 1 person, 2 oranges, 51.1ms\n",
            "0: 480x640 1 person, 2 oranges, 48.5ms\n",
            "0: 480x640 1 person, 1 orange, 51.5ms\n",
            "0: 480x640 2 persons, 1 carrot, 51.6ms\n",
            "0: 480x640 2 persons, 1 carrot, 51.8ms\n",
            "0: 480x640 (no detections), 50.9ms\n",
            "0: 480x640 (no detections), 52.1ms\n",
            "0: 480x640 1 person, 1 donut, 53.0ms\n",
            "0: 480x640 1 person, 1 donut, 48.7ms\n",
            "0: 480x640 2 persons, 49.6ms\n",
            "0: 480x640 2 persons, 52.3ms\n",
            "0: 480x640 2 persons, 50.2ms\n",
            "0: 480x640 2 persons, 1 teddy bear, 53.1ms\n",
            "0: 480x640 2 persons, 1 teddy bear, 56.9ms\n",
            "0: 480x640 2 persons, 1 teddy bear, 62.9ms\n",
            "0: 480x640 2 persons, 1 teddy bear, 60.6ms\n",
            "0: 480x640 2 persons, 50.2ms\n",
            "0: 480x640 2 persons, 54.3ms\n",
            "0: 480x640 2 persons, 51.5ms\n",
            "0: 480x640 2 persons, 50.7ms\n",
            "0: 480x640 2 persons, 1 teddy bear, 47.4ms\n",
            "0: 480x640 2 persons, 50.2ms\n",
            "0: 480x640 2 persons, 53.5ms\n",
            "0: 480x640 1 person, 52.1ms\n",
            "0: 480x640 1 person, 52.0ms\n",
            "0: 480x640 1 person, 1 teddy bear, 49.6ms\n",
            "0: 480x640 2 persons, 49.4ms\n",
            "0: 480x640 2 persons, 1 teddy bear, 53.3ms\n",
            "0: 480x640 2 persons, 1 teddy bear, 52.0ms\n",
            "0: 480x640 2 persons, 53.6ms\n",
            "0: 480x640 2 persons, 51.7ms\n",
            "0: 480x640 1 person, 1 teddy bear, 50.7ms\n",
            "0: 480x640 1 person, 1 teddy bear, 49.5ms\n",
            "0: 480x640 2 persons, 1 teddy bear, 49.5ms\n",
            "0: 480x640 2 persons, 48.0ms\n",
            "0: 480x640 2 persons, 51.1ms\n",
            "0: 480x640 1 person, 49.8ms\n",
            "0: 480x640 1 person, 51.6ms\n",
            "0: 480x640 2 persons, 1 sports ball, 1 orange, 54.5ms\n",
            "0: 480x640 2 persons, 1 sports ball, 1 orange, 57.2ms\n",
            "0: 480x640 2 persons, 55.5ms\n",
            "0: 480x640 (no detections), 48.9ms\n",
            "0: 480x640 1 person, 49.4ms\n",
            "0: 480x640 1 person, 52.3ms\n",
            "0: 480x640 (no detections), 47.3ms\n",
            "0: 480x640 1 person, 51.3ms\n",
            "0: 480x640 1 person, 50.7ms\n",
            "0: 480x640 1 person, 1 teddy bear, 53.1ms\n",
            "0: 480x640 1 person, 1 teddy bear, 50.1ms\n",
            "0: 480x640 1 person, 1 teddy bear, 49.6ms\n",
            "0: 480x640 1 person, 51.1ms\n",
            "0: 480x640 1 person, 50.8ms\n",
            "0: 480x640 2 persons, 51.2ms\n",
            "0: 480x640 2 persons, 50.9ms\n",
            "0: 480x640 2 persons, 1 cat, 50.6ms\n",
            "0: 480x640 2 persons, 1 cat, 50.6ms\n",
            "0: 480x640 1 person, 52.6ms\n",
            "0: 480x640 1 person, 50.9ms\n",
            "0: 480x640 1 person, 51.8ms\n",
            "0: 480x640 1 person, 50.5ms\n",
            "0: 480x640 1 person, 50.1ms\n",
            "0: 480x640 1 person, 49.5ms\n",
            "0: 480x640 1 person, 50.4ms\n",
            "0: 480x640 1 person, 51.6ms\n",
            "0: 480x640 1 person, 49.9ms\n",
            "0: 480x640 1 person, 52.6ms\n",
            "0: 480x640 1 person, 50.4ms\n",
            "0: 480x640 2 persons, 52.0ms\n",
            "0: 480x640 2 persons, 59.4ms\n",
            "0: 480x640 2 persons, 56.2ms\n",
            "0: 480x640 2 persons, 52.0ms\n",
            "0: 480x640 1 person, 52.0ms\n",
            "0: 480x640 1 person, 54.0ms\n",
            "0: 480x640 2 persons, 1 tv, 51.3ms\n",
            "0: 480x640 2 persons, 1 tv, 50.9ms\n",
            "0: 480x640 1 person, 51.4ms\n",
            "0: 480x640 1 person, 58.7ms\n",
            "0: 480x640 2 persons, 50.4ms\n",
            "0: 480x640 2 persons, 49.3ms\n",
            "0: 480x640 2 persons, 50.7ms\n",
            "0: 480x640 2 persons, 51.9ms\n",
            "0: 480x640 2 persons, 50.3ms\n",
            "0: 480x640 1 person, 51.4ms\n",
            "0: 480x640 1 person, 48.4ms\n",
            "0: 480x640 1 person, 49.8ms\n",
            "0: 480x640 1 person, 50.3ms\n",
            "0: 480x640 1 person, 50.5ms\n",
            "0: 480x640 2 persons, 52.3ms\n",
            "0: 480x640 2 persons, 55.4ms\n",
            "0: 480x640 1 person, 54.2ms\n",
            "0: 480x640 1 person, 52.7ms\n",
            "0: 480x640 2 persons, 49.5ms\n",
            "0: 480x640 1 person, 51.4ms\n",
            "0: 480x640 1 person, 53.1ms\n",
            "0: 480x640 1 person, 51.3ms\n",
            "0: 480x640 1 person, 50.5ms\n",
            "0: 480x640 1 person, 53.4ms\n",
            "0: 480x640 1 person, 51.5ms\n",
            "0: 480x640 1 person, 55.2ms\n",
            "0: 480x640 1 person, 47.9ms\n",
            "0: 480x640 1 person, 1 mouse, 52.2ms\n",
            "0: 480x640 1 person, 1 mouse, 50.7ms\n",
            "0: 480x640 3 persons, 48.5ms\n",
            "0: 480x640 1 person, 1 cat, 48.6ms\n",
            "0: 480x640 1 person, 1 cat, 50.7ms\n",
            "0: 480x640 1 donut, 51.7ms\n",
            "0: 480x640 1 donut, 51.1ms\n",
            "0: 480x640 1 person, 49.4ms\n",
            "0: 480x640 1 person, 52.1ms\n",
            "0: 480x640 1 person, 53.8ms\n",
            "0: 480x640 1 person, 48.5ms\n",
            "0: 480x640 2 persons, 1 tv, 52.4ms\n",
            "0: 480x640 3 persons, 51.4ms\n",
            "0: 480x640 3 persons, 56.0ms\n",
            "0: 480x640 1 person, 1 donut, 49.8ms\n",
            "0: 480x640 1 person, 1 donut, 53.3ms\n",
            "0: 480x640 2 persons, 50.3ms\n",
            "0: 480x640 2 persons, 48.1ms\n",
            "0: 480x640 2 persons, 51.3ms\n",
            "0: 480x640 2 persons, 51.2ms\n",
            "0: 480x640 1 cat, 53.4ms\n",
            "0: 480x640 1 cat, 51.9ms\n",
            "0: 480x640 (no detections), 53.0ms\n",
            "0: 480x640 (no detections), 51.9ms\n",
            "0: 480x640 1 person, 53.3ms\n",
            "0: 480x640 1 person, 50.4ms\n",
            "0: 480x640 1 person, 55.7ms\n",
            "0: 480x640 2 persons, 48.7ms\n",
            "0: 480x640 (no detections), 50.7ms\n",
            "0: 480x640 (no detections), 50.1ms\n",
            "0: 480x640 1 person, 49.2ms\n",
            "0: 480x640 1 person, 49.5ms\n",
            "0: 480x640 1 person, 52.8ms\n",
            "0: 480x640 1 person, 49.8ms\n",
            "0: 480x640 1 person, 48.8ms\n",
            "0: 480x640 1 person, 1 cake, 49.1ms\n",
            "0: 480x640 1 person, 1 cake, 50.8ms\n",
            "0: 480x640 1 person, 1 book, 57.0ms\n",
            "0: 480x640 1 person, 1 book, 53.3ms\n",
            "0: 480x640 1 person, 1 tv, 51.1ms\n",
            "0: 480x640 1 person, 1 tv, 52.2ms\n",
            "0: 480x640 1 person, 52.8ms\n",
            "0: 480x640 1 person, 55.4ms\n",
            "0: 480x640 1 person, 1 tv, 52.2ms\n",
            "0: 480x640 2 persons, 49.2ms\n",
            "0: 480x640 2 persons, 49.9ms\n",
            "0: 480x640 2 persons, 1 tv, 50.9ms\n",
            "0: 480x640 2 persons, 49.2ms\n",
            "0: 480x640 2 persons, 51.2ms\n",
            "0: 480x640 1 person, 50.7ms\n",
            "0: 480x640 1 person, 51.7ms\n",
            "0: 480x640 1 person, 1 traffic light, 51.6ms\n",
            "0: 480x640 1 person, 1 traffic light, 51.4ms\n",
            "0: 480x640 1 person, 50.7ms\n",
            "0: 480x640 1 person, 55.8ms\n",
            "0: 480x640 1 person, 58.9ms\n",
            "0: 480x640 1 person, 50.8ms\n",
            "0: 480x640 1 person, 52.5ms\n",
            "0: 480x640 1 person, 52.2ms\n",
            "0: 480x640 1 person, 51.1ms\n",
            "0: 480x640 1 person, 50.6ms\n",
            "0: 480x640 1 person, 1 tv, 2 books, 52.0ms\n",
            "0: 480x640 1 person, 1 tv, 2 books, 51.8ms\n",
            "0: 480x640 1 person, 1 tv, 50.5ms\n",
            "0: 480x640 1 person, 1 tv, 48.4ms\n",
            "0: 480x640 1 person, 49.0ms\n",
            "0: 480x640 1 person, 50.3ms\n",
            "0: 480x640 1 person, 1 tv, 52.4ms\n",
            "0: 480x640 1 person, 1 tv, 50.3ms\n",
            "0: 480x640 1 person, 1 tv, 54.6ms\n",
            "0: 480x640 1 person, 1 tv, 53.1ms\n",
            "0: 480x640 1 person, 50.5ms\n",
            "0: 480x640 1 person, 50.8ms\n",
            "0: 480x640 1 person, 51.6ms\n",
            "0: 480x640 1 person, 123.6ms\n",
            "0: 480x640 1 person, 65.7ms\n",
            "0: 480x640 3 persons, 50.8ms\n",
            "0: 480x640 3 persons, 50.9ms\n",
            "0: 480x640 2 persons, 50.7ms\n",
            "0: 480x640 2 persons, 52.8ms\n",
            "0: 480x640 1 person, 1 tv, 53.0ms\n",
            "0: 480x640 1 person, 1 tv, 52.0ms\n",
            "0: 480x640 1 person, 51.8ms\n",
            "0: 480x640 1 person, 53.6ms\n",
            "0: 480x640 1 person, 59.0ms\n",
            "0: 480x640 1 person, 1 traffic light, 52.2ms\n",
            "0: 480x640 1 person, 49.5ms\n",
            "0: 480x640 1 person, 51.7ms\n",
            "0: 480x640 2 persons, 49.2ms\n",
            "0: 480x640 2 persons, 49.2ms\n",
            "WARNING  Waiting for stream 0\n",
            "0: 480x640 2 persons, 49.9ms\n",
            "0: 480x640 1 person, 57.2ms\n",
            "0: 480x640 1 person, 57.8ms\n",
            "0: 480x640 1 person, 62.3ms\n",
            "0: 480x640 1 person, 58.8ms\n",
            "0: 480x640 1 person, 50.1ms\n",
            "0: 480x640 1 person, 50.6ms\n",
            "0: 480x640 2 persons, 56.9ms\n",
            "0: 480x640 2 persons, 51.1ms\n",
            "0: 480x640 2 persons, 51.6ms\n",
            "0: 480x640 2 persons, 51.8ms\n",
            "0: 480x640 2 persons, 53.4ms\n",
            "0: 480x640 2 persons, 53.9ms\n",
            "0: 480x640 2 persons, 54.3ms\n",
            "0: 480x640 2 persons, 52.0ms\n",
            "0: 480x640 2 persons, 55.6ms\n",
            "0: 480x640 2 persons, 56.1ms\n",
            "0: 480x640 2 persons, 51.9ms\n",
            "0: 480x640 2 persons, 64.9ms\n",
            "0: 480x640 2 persons, 62.4ms\n",
            "0: 480x640 2 persons, 51.4ms\n",
            "0: 480x640 1 person, 54.5ms\n",
            "0: 480x640 1 person, 53.9ms\n",
            "0: 480x640 4 persons, 57.1ms\n",
            "0: 480x640 4 persons, 55.1ms\n",
            "0: 480x640 2 persons, 53.0ms\n",
            "0: 480x640 2 persons, 52.6ms\n",
            "0: 480x640 2 persons, 52.3ms\n",
            "0: 480x640 2 persons, 54.7ms\n",
            "0: 480x640 2 persons, 55.0ms\n",
            "0: 480x640 2 persons, 54.9ms\n",
            "0: 480x640 1 person, 54.6ms\n",
            "0: 480x640 1 person, 55.1ms\n",
            "0: 480x640 2 persons, 56.2ms\n",
            "0: 480x640 2 persons, 57.8ms\n",
            "0: 480x640 2 persons, 54.2ms\n",
            "0: 480x640 2 persons, 53.5ms\n",
            "0: 480x640 2 persons, 52.2ms\n",
            "0: 480x640 2 persons, 56.4ms\n",
            "0: 480x640 1 person, 53.9ms\n",
            "0: 480x640 1 person, 1 cat, 50.3ms\n",
            "0: 480x640 1 person, 1 cat, 55.6ms\n",
            "0: 480x640 2 persons, 55.3ms\n",
            "WARNING  Waiting for stream 0\n",
            "0: 480x640 2 persons, 58.3ms\n",
            "0: 480x640 1 person, 1 cat, 52.8ms\n",
            "0: 480x640 1 person, 1 cat, 52.4ms\n",
            "0: 480x640 1 person, 1 cat, 54.4ms\n",
            "0: 480x640 1 person, 1 tv, 57.8ms\n",
            "0: 480x640 1 person, 1 tv, 55.6ms\n",
            "0: 480x640 1 cat, 1 tv, 55.0ms\n",
            "0: 480x640 1 cat, 1 tv, 56.3ms\n",
            "0: 480x640 2 persons, 63.8ms\n",
            "0: 480x640 2 persons, 55.9ms\n",
            "0: 480x640 1 person, 1 cat, 52.2ms\n",
            "0: 480x640 1 person, 1 cat, 55.2ms\n",
            "0: 480x640 1 person, 54.3ms\n",
            "0: 480x640 1 person, 54.3ms\n",
            "0: 480x640 1 person, 60.6ms\n",
            "0: 480x640 1 person, 53.7ms\n",
            "0: 480x640 1 person, 54.1ms\n",
            "0: 480x640 1 person, 1 cat, 1 tv, 51.1ms\n",
            "0: 480x640 1 cat, 1 remote, 53.9ms\n",
            "0: 480x640 1 cat, 1 remote, 55.7ms\n",
            "0: 480x640 1 person, 1 cat, 59.7ms\n",
            "0: 480x640 1 person, 1 cat, 54.5ms\n",
            "0: 480x640 (no detections), 52.9ms\n",
            "0: 480x640 (no detections), 55.1ms\n",
            "0: 480x640 (no detections), 63.9ms\n",
            "0: 480x640 (no detections), 52.4ms\n",
            "0: 480x640 1 person, 55.4ms\n",
            "0: 480x640 1 person, 64.4ms\n",
            "0: 480x640 (no detections), 56.5ms\n",
            "0: 480x640 (no detections), 60.2ms\n",
            "0: 480x640 (no detections), 55.9ms\n",
            "0: 480x640 (no detections), 55.2ms\n",
            "0: 480x640 (no detections), 56.5ms\n",
            "0: 480x640 (no detections), 54.8ms\n",
            "0: 480x640 1 bird, 52.2ms\n",
            "WARNING  Waiting for stream 0\n",
            "0: 480x640 (no detections), 50.4ms\n",
            "0: 480x640 (no detections), 50.9ms\n",
            "0: 480x640 (no detections), 54.7ms\n",
            "0: 480x640 1 person, 58.2ms\n",
            "0: 480x640 1 person, 54.3ms\n",
            "0: 480x640 (no detections), 53.0ms\n",
            "0: 480x640 (no detections), 50.8ms\n",
            "0: 480x640 (no detections), 56.7ms\n",
            "0: 480x640 1 person, 1 cat, 55.1ms\n",
            "0: 480x640 1 tv, 53.4ms\n",
            "0: 480x640 1 tv, 53.4ms\n",
            "0: 480x640 2 persons, 54.9ms\n",
            "0: 480x640 2 persons, 57.0ms\n",
            "0: 480x640 (no detections), 56.5ms\n",
            "0: 480x640 (no detections), 55.9ms\n",
            "0: 480x640 1 tv, 53.7ms\n",
            "0: 480x640 (no detections), 53.6ms\n",
            "WARNING  Waiting for stream 0\n",
            "0: 480x640 (no detections), 54.9ms\n",
            "0: 480x640 (no detections), 60.7ms\n",
            "0: 480x640 (no detections), 56.2ms\n",
            "0: 480x640 (no detections), 56.0ms\n",
            "0: 480x640 (no detections), 56.8ms\n",
            "0: 480x640 1 cat, 54.7ms\n",
            "0: 480x640 1 cat, 53.0ms\n",
            "0: 480x640 1 cat, 54.1ms\n",
            "0: 480x640 (no detections), 56.7ms\n",
            "0: 480x640 (no detections), 55.6ms\n",
            "0: 480x640 (no detections), 54.5ms\n",
            "0: 480x640 (no detections), 56.1ms\n",
            "0: 480x640 (no detections), 55.3ms\n",
            "0: 480x640 (no detections), 56.1ms\n",
            "0: 480x640 1 vase, 57.7ms\n",
            "0: 480x640 1 vase, 55.6ms\n",
            "0: 480x640 (no detections), 55.7ms\n",
            "0: 480x640 (no detections), 53.8ms\n",
            "0: 480x640 (no detections), 53.0ms\n",
            "WARNING  Waiting for stream 0\n",
            "0: 480x640 (no detections), 52.5ms\n",
            "0: 480x640 (no detections), 54.0ms\n",
            "0: 480x640 (no detections), 54.9ms\n",
            "0: 480x640 (no detections), 55.4ms\n",
            "0: 480x640 (no detections), 56.6ms\n",
            "0: 480x640 (no detections), 56.3ms\n",
            "0: 480x640 (no detections), 57.0ms\n",
            "0: 480x640 1 person, 1 backpack, 54.8ms\n",
            "0: 480x640 1 person, 1 backpack, 58.9ms\n",
            "0: 480x640 1 backpack, 60.1ms\n",
            "0: 480x640 1 backpack, 60.9ms\n",
            "0: 480x640 1 cell phone, 53.6ms\n",
            "0: 480x640 1 person, 51.4ms\n",
            "WARNING  Waiting for stream 0\n",
            "0: 480x640 1 cell phone, 49.9ms\n",
            "0: 480x640 1 person, 1 cell phone, 51.5ms\n",
            "0: 480x640 1 person, 1 cell phone, 52.4ms\n",
            "0: 480x640 1 person, 1 cell phone, 53.3ms\n",
            "0: 480x640 1 person, 57.2ms\n",
            "0: 480x640 1 person, 54.3ms\n",
            "0: 480x640 1 person, 54.7ms\n",
            "0: 480x640 1 person, 58.9ms\n",
            "0: 480x640 (no detections), 54.5ms\n",
            "0: 480x640 1 person, 1 tv, 56.6ms\n",
            "0: 480x640 1 person, 1 tv, 57.4ms\n",
            "0: 480x640 1 person, 81.3ms\n",
            "0: 480x640 1 person, 52.1ms\n",
            "0: 480x640 1 person, 1 backpack, 54.4ms\n",
            "0: 480x640 1 person, 1 backpack, 53.6ms\n",
            "0: 480x640 (no detections), 55.5ms\n",
            "0: 480x640 (no detections), 55.5ms\n",
            "0: 480x640 1 person, 54.8ms\n",
            "0: 480x640 2 persons, 53.0ms\n",
            "0: 480x640 (no detections), 53.3ms\n",
            "0: 480x640 (no detections), 59.4ms\n",
            "0: 480x640 1 cell phone, 58.1ms\n",
            "0: 480x640 2 persons, 55.0ms\n",
            "0: 480x640 2 persons, 54.8ms\n",
            "0: 480x640 2 persons, 54.8ms\n",
            "0: 480x640 2 persons, 55.9ms\n",
            "0: 480x640 1 person, 53.0ms\n",
            "0: 480x640 1 person, 55.0ms\n",
            "0: 480x640 1 person, 57.9ms\n",
            "0: 480x640 (no detections), 57.5ms\n",
            "0: 480x640 1 frisbee, 55.1ms\n",
            "0: 480x640 1 frisbee, 54.7ms\n",
            "0: 480x640 (no detections), 57.2ms\n",
            "0: 480x640 (no detections), 58.7ms\n",
            "0: 480x640 (no detections), 53.7ms\n",
            "0: 480x640 1 person, 51.4ms\n",
            "0: 480x640 1 person, 59.0ms\n",
            "0: 480x640 (no detections), 54.9ms\n",
            "0: 480x640 (no detections), 52.1ms\n",
            "0: 480x640 (no detections), 53.3ms\n",
            "0: 480x640 (no detections), 56.9ms\n",
            "0: 480x640 (no detections), 57.9ms\n",
            "0: 480x640 (no detections), 55.4ms\n",
            "0: 480x640 (no detections), 53.4ms\n",
            "0: 480x640 (no detections), 55.2ms\n",
            "0: 480x640 1 person, 55.8ms\n",
            "0: 480x640 1 person, 57.0ms\n",
            "0: 480x640 1 person, 66.7ms\n",
            "0: 480x640 1 person, 62.0ms\n",
            "0: 480x640 1 person, 57.4ms\n",
            "0: 480x640 1 person, 53.9ms\n",
            "0: 480x640 1 person, 54.9ms\n",
            "0: 480x640 1 person, 56.6ms\n",
            "0: 480x640 1 person, 55.1ms\n",
            "0: 480x640 1 person, 1 tv, 55.1ms\n",
            "0: 480x640 1 person, 55.7ms\n",
            "0: 480x640 1 person, 51.7ms\n",
            "0: 480x640 1 person, 53.8ms\n",
            "0: 480x640 1 person, 53.3ms\n",
            "0: 480x640 1 person, 66.0ms\n",
            "0: 480x640 1 person, 57.8ms\n",
            "0: 480x640 1 person, 53.7ms\n",
            "0: 480x640 2 persons, 1 tv, 51.2ms\n",
            "0: 480x640 1 person, 2 tvs, 51.2ms\n",
            "WARNING  Waiting for stream 0\n",
            "0: 480x640 1 person, 2 tvs, 50.5ms\n",
            "0: 480x640 1 person, 49.3ms\n",
            "WARNING  Waiting for stream 0\n",
            "0: 480x640 1 person, 1 tv, 50.9ms\n",
            "0: 480x640 1 person, 51.8ms\n",
            "0: 480x640 1 person, 1 tv, 54.8ms\n",
            "0: 480x640 1 person, 1 tv, 54.2ms\n",
            "0: 480x640 1 person, 54.6ms\n",
            "0: 480x640 1 person, 62.7ms\n",
            "0: 480x640 1 person, 1 microwave, 62.7ms\n",
            "0: 480x640 1 person, 53.4ms\n",
            "0: 480x640 1 person, 1 tv, 53.9ms\n",
            "0: 480x640 1 person, 1 tv, 57.1ms\n",
            "0: 480x640 2 persons, 54.5ms\n",
            "0: 480x640 1 person, 51.9ms\n",
            "WARNING  Waiting for stream 0\n",
            "0: 480x640 3 persons, 50.1ms\n",
            "0: 480x640 3 persons, 52.9ms\n",
            "0: 480x640 3 persons, 54.9ms\n",
            "0: 480x640 3 persons, 55.1ms\n",
            "0: 480x640 3 persons, 55.4ms\n",
            "0: 480x640 1 person, 52.1ms\n",
            "0: 480x640 2 persons, 52.1ms\n",
            "0: 480x640 2 persons, 52.5ms\n",
            "0: 480x640 2 persons, 54.9ms\n",
            "0: 480x640 (no detections), 54.5ms\n",
            "0: 480x640 (no detections), 54.9ms\n",
            "0: 480x640 1 person, 1 bird, 54.5ms\n",
            "0: 480x640 1 person, 1 bird, 54.4ms\n",
            "0: 480x640 1 person, 55.3ms\n",
            "0: 480x640 1 person, 58.6ms\n",
            "0: 480x640 1 person, 55.2ms\n",
            "0: 480x640 1 person, 55.3ms\n",
            "0: 480x640 1 bird, 56.2ms\n",
            "0: 480x640 (no detections), 57.0ms\n",
            "0: 480x640 (no detections), 56.0ms\n",
            "0: 480x640 (no detections), 52.0ms\n",
            "0: 480x640 (no detections), 54.1ms\n",
            "0: 480x640 (no detections), 54.7ms\n",
            "0: 480x640 (no detections), 54.1ms\n",
            "0: 480x640 1 cat, 55.5ms\n",
            "0: 480x640 1 cat, 58.5ms\n",
            "0: 480x640 1 cat, 55.6ms\n",
            "0: 480x640 (no detections), 52.6ms\n",
            "0: 480x640 (no detections), 51.3ms\n",
            "0: 480x640 (no detections), 55.5ms\n",
            "0: 480x640 (no detections), 55.5ms\n",
            "0: 480x640 (no detections), 54.6ms\n",
            "0: 480x640 1 toothbrush, 52.9ms\n",
            "0: 480x640 (no detections), 52.0ms\n",
            "0: 480x640 (no detections), 59.2ms\n",
            "0: 480x640 1 person, 56.0ms\n",
            "0: 480x640 1 person, 56.3ms\n",
            "0: 480x640 (no detections), 53.6ms\n",
            "0: 480x640 1 person, 54.9ms\n",
            "0: 480x640 1 person, 61.0ms\n",
            "0: 480x640 1 person, 61.2ms\n",
            "0: 480x640 1 person, 57.3ms\n",
            "0: 480x640 1 person, 53.7ms\n",
            "0: 480x640 3 persons, 52.8ms\n",
            "0: 480x640 1 person, 57.0ms\n",
            "0: 480x640 1 person, 55.7ms\n",
            "0: 480x640 1 person, 55.7ms\n",
            "0: 480x640 1 person, 79.3ms\n",
            "0: 480x640 (no detections), 62.9ms\n",
            "0: 480x640 (no detections), 53.2ms\n",
            "0: 480x640 (no detections), 60.5ms\n",
            "0: 480x640 1 person, 55.5ms\n",
            "0: 480x640 1 person, 56.0ms\n",
            "0: 480x640 1 person, 56.4ms\n",
            "0: 480x640 1 remote, 58.1ms\n",
            "0: 480x640 (no detections), 53.7ms\n",
            "0: 480x640 (no detections), 58.7ms\n",
            "0: 480x640 1 cat, 55.1ms\n",
            "0: 480x640 1 cat, 53.9ms\n",
            "0: 480x640 1 bird, 56.0ms\n",
            "0: 480x640 1 bird, 58.0ms\n",
            "0: 480x640 (no detections), 54.1ms\n",
            "0: 480x640 (no detections), 52.9ms\n",
            "0: 480x640 (no detections), 59.2ms\n",
            "0: 480x640 (no detections), 55.3ms\n",
            "0: 480x640 (no detections), 54.8ms\n",
            "0: 480x640 (no detections), 54.4ms\n",
            "0: 480x640 (no detections), 54.4ms\n",
            "0: 480x640 (no detections), 53.5ms\n",
            "WARNING  Waiting for stream 0\n",
            "0: 480x640 1 laptop, 56.4ms\n",
            "0: 480x640 1 laptop, 52.5ms\n",
            "0: 480x640 1 laptop, 52.0ms\n",
            "0: 480x640 1 laptop, 54.4ms\n",
            "0: 480x640 1 laptop, 56.2ms\n",
            "0: 480x640 1 laptop, 55.5ms\n",
            "0: 480x640 (no detections), 54.7ms\n",
            "0: 480x640 1 tv, 1 laptop, 52.4ms\n",
            "0: 480x640 1 tv, 1 laptop, 52.1ms\n",
            "0: 480x640 1 tv, 1 laptop, 53.8ms\n",
            "0: 480x640 1 laptop, 55.1ms\n",
            "0: 480x640 1 laptop, 59.8ms\n",
            "0: 480x640 1 laptop, 54.5ms\n",
            "0: 480x640 1 laptop, 56.8ms\n",
            "0: 480x640 1 laptop, 52.5ms\n",
            "0: 480x640 1 tv, 1 laptop, 54.4ms\n",
            "0: 480x640 1 tv, 1 laptop, 56.8ms\n",
            "0: 480x640 1 tv, 1 laptop, 57.7ms\n",
            "0: 480x640 1 tv, 1 laptop, 54.1ms\n",
            "0: 480x640 1 tv, 1 laptop, 56.0ms\n",
            "0: 480x640 1 tv, 1 laptop, 52.4ms\n",
            "0: 480x640 1 laptop, 52.2ms\n",
            "0: 480x640 1 laptop, 55.0ms\n",
            "0: 480x640 2 tvs, 1 laptop, 57.8ms\n",
            "0: 480x640 2 tvs, 1 laptop, 52.1ms\n",
            "0: 480x640 1 tv, 57.6ms\n",
            "0: 480x640 1 tv, 62.4ms\n",
            "0: 480x640 (no detections), 57.2ms\n",
            "0: 480x640 1 tv, 51.8ms\n",
            "0: 480x640 1 tv, 57.0ms\n",
            "0: 480x640 (no detections), 53.1ms\n",
            "0: 480x640 2 tvs, 52.0ms\n",
            "0: 480x640 2 tvs, 56.0ms\n",
            "0: 480x640 1 tv, 54.4ms\n",
            "0: 480x640 1 tv, 56.8ms\n",
            "0: 480x640 2 tvs, 56.5ms\n",
            "0: 480x640 2 tvs, 57.2ms\n",
            "0: 480x640 1 cake, 2 tvs, 57.0ms\n",
            "0: 480x640 2 tvs, 51.9ms\n",
            "0: 480x640 2 tvs, 53.2ms\n",
            "0: 480x640 2 tvs, 56.1ms\n",
            "0: 480x640 2 tvs, 55.2ms\n",
            "0: 480x640 2 tvs, 57.1ms\n",
            "0: 480x640 2 tvs, 51.4ms\n",
            "0: 480x640 2 tvs, 51.3ms\n",
            "WARNING  Waiting for stream 0\n",
            "0: 480x640 1 tv, 51.1ms\n",
            "0: 480x640 2 tvs, 52.2ms\n",
            "0: 480x640 2 tvs, 53.8ms\n",
            "0: 480x640 2 tvs, 54.9ms\n",
            "0: 480x640 2 tvs, 54.1ms\n",
            "0: 480x640 2 tvs, 56.1ms\n",
            "0: 480x640 2 tvs, 60.4ms\n",
            "0: 480x640 2 tvs, 63.8ms\n",
            "0: 480x640 2 tvs, 54.3ms\n",
            "0: 480x640 (no detections), 52.1ms\n",
            "0: 480x640 (no detections), 56.2ms\n",
            "0: 480x640 (no detections), 53.1ms\n",
            "0: 480x640 (no detections), 54.5ms\n",
            "0: 480x640 (no detections), 56.2ms\n",
            "0: 480x640 (no detections), 53.8ms\n",
            "0: 480x640 1 bird, 61.1ms\n",
            "0: 480x640 1 bird, 55.3ms\n",
            "0: 480x640 (no detections), 56.4ms\n",
            "0: 480x640 1 person, 55.4ms\n",
            "0: 480x640 1 person, 58.5ms\n",
            "0: 480x640 1 person, 56.7ms\n",
            "0: 480x640 1 person, 52.7ms\n",
            "0: 480x640 1 person, 53.4ms\n",
            "0: 480x640 1 person, 56.2ms\n",
            "0: 480x640 1 person, 53.6ms\n",
            "0: 480x640 1 person, 52.5ms\n",
            "0: 480x640 1 person, 55.1ms\n",
            "0: 480x640 1 person, 61.6ms\n",
            "0: 480x640 1 person, 56.5ms\n",
            "0: 480x640 1 person, 55.6ms\n",
            "0: 480x640 2 persons, 53.1ms\n",
            "0: 480x640 1 person, 51.0ms\n",
            "0: 480x640 1 person, 93.8ms\n",
            "0: 480x640 1 person, 76.6ms\n",
            "0: 480x640 2 persons, 61.4ms\n",
            "0: 480x640 2 persons, 58.7ms\n",
            "0: 480x640 2 persons, 54.4ms\n",
            "0: 480x640 1 person, 52.0ms\n",
            "0: 480x640 1 person, 54.6ms\n",
            "0: 480x640 1 person, 56.8ms\n",
            "0: 480x640 (no detections), 55.3ms\n",
            "0: 480x640 (no detections), 55.5ms\n",
            "0: 480x640 1 person, 54.2ms\n",
            "0: 480x640 1 person, 56.4ms\n",
            "0: 480x640 1 person, 56.7ms\n",
            "WARNING  Waiting for stream 0\n",
            "0: 480x640 1 person, 52.0ms\n",
            "0: 480x640 1 person, 50.6ms\n",
            "0: 480x640 1 person, 54.0ms\n",
            "0: 480x640 1 person, 53.7ms\n",
            "0: 480x640 1 person, 58.2ms\n",
            "0: 480x640 1 person, 53.5ms\n",
            "0: 480x640 1 person, 53.2ms\n",
            "0: 480x640 1 person, 50.8ms\n",
            "0: 480x640 1 person, 58.5ms\n",
            "0: 480x640 1 person, 57.3ms\n",
            "0: 480x640 1 person, 54.9ms\n",
            "0: 480x640 1 person, 58.1ms\n",
            "0: 480x640 1 person, 61.0ms\n",
            "0: 480x640 1 person, 58.4ms\n",
            "0: 480x640 1 person, 60.1ms\n",
            "0: 480x640 1 person, 63.6ms\n",
            "0: 480x640 1 person, 56.6ms\n",
            "0: 480x640 2 persons, 56.2ms\n",
            "0: 480x640 2 persons, 59.9ms\n",
            "0: 480x640 2 persons, 57.5ms\n",
            "0: 480x640 2 persons, 55.6ms\n",
            "0: 480x640 2 persons, 54.3ms\n",
            "0: 480x640 2 persons, 53.9ms\n",
            "0: 480x640 2 persons, 51.8ms\n",
            "0: 480x640 2 persons, 53.3ms\n",
            "0: 480x640 2 persons, 55.8ms\n",
            "0: 480x640 2 persons, 55.9ms\n",
            "0: 480x640 2 persons, 152.0ms\n",
            "0: 480x640 2 persons, 96.0ms\n",
            "0: 480x640 2 persons, 84.7ms\n",
            "0: 480x640 (no detections), 69.2ms\n",
            "0: 480x640 1 person, 70.0ms\n",
            "0: 480x640 2 persons, 90.7ms\n",
            "0: 480x640 2 persons, 62.5ms\n",
            "0: 480x640 2 persons, 57.4ms\n",
            "0: 480x640 2 persons, 59.3ms\n",
            "0: 480x640 2 persons, 59.2ms\n",
            "0: 480x640 (no detections), 60.4ms\n",
            "0: 480x640 (no detections), 153.8ms\n",
            "0: 480x640 (no detections), 110.8ms\n",
            "0: 480x640 (no detections), 82.0ms\n",
            "0: 480x640 (no detections), 80.8ms\n",
            "0: 480x640 (no detections), 70.2ms\n",
            "0: 480x640 (no detections), 64.4ms\n",
            "0: 480x640 (no detections), 61.0ms\n",
            "0: 480x640 (no detections), 60.5ms\n",
            "0: 480x640 1 person, 57.6ms\n",
            "0: 480x640 1 person, 59.5ms\n",
            "0: 480x640 (no detections), 55.4ms\n",
            "0: 480x640 1 dog, 55.1ms\n",
            "0: 480x640 1 person, 53.6ms\n",
            "0: 480x640 1 person, 64.4ms\n",
            "0: 480x640 1 person, 1 cat, 66.9ms\n",
            "0: 480x640 1 person, 1 cat, 75.6ms\n",
            "0: 480x640 1 person, 77.6ms\n",
            "0: 480x640 (no detections), 91.2ms\n",
            "0: 480x640 (no detections), 60.8ms\n",
            "0: 480x640 (no detections), 61.6ms\n",
            "0: 480x640 1 person, 55.6ms\n",
            "0: 480x640 1 person, 58.5ms\n",
            "0: 480x640 1 person, 65.6ms\n",
            "0: 480x640 (no detections), 56.5ms\n",
            "0: 480x640 1 person, 61.4ms\n",
            "0: 480x640 1 person, 59.3ms\n",
            "0: 480x640 1 person, 66.1ms\n",
            "0: 480x640 1 person, 75.4ms\n",
            "0: 480x640 1 person, 66.9ms\n",
            "0: 480x640 2 persons, 75.0ms\n",
            "0: 480x640 2 persons, 66.3ms\n",
            "0: 480x640 1 person, 61.5ms\n"
          ]
        },
        {
          "ename": "KeyboardInterrupt",
          "evalue": "",
          "output_type": "error",
          "traceback": [
            "\u001b[31m---------------------------------------------------------------------------\u001b[39m",
            "\u001b[31mKeyboardInterrupt\u001b[39m                         Traceback (most recent call last)",
            "\u001b[36mCell\u001b[39m\u001b[36m \u001b[39m\u001b[32mIn[7]\u001b[39m\u001b[32m, line 12\u001b[39m\n\u001b[32m      9\u001b[39m \u001b[38;5;28;01melse\u001b[39;00m:\n\u001b[32m     10\u001b[39m     \u001b[38;5;28;01mtry\u001b[39;00m:\n\u001b[32m     11\u001b[39m         \u001b[38;5;66;03m# Realiza la detección de objetos en el flujo de video de la cámara del computador\u001b[39;00m\n\u001b[32m---> \u001b[39m\u001b[32m12\u001b[39m         results = \u001b[43mmodel\u001b[49m\u001b[43m(\u001b[49m\u001b[43msource\u001b[49m\u001b[43m=\u001b[49m\u001b[32;43m0\u001b[39;49m\u001b[43m,\u001b[49m\u001b[43m \u001b[49m\u001b[43mshow\u001b[49m\u001b[43m=\u001b[49m\u001b[38;5;28;43;01mTrue\u001b[39;49;00m\u001b[43m,\u001b[49m\u001b[43m \u001b[49m\u001b[43mconf\u001b[49m\u001b[43m=\u001b[49m\u001b[32;43m0.3\u001b[39;49m\u001b[43m,\u001b[49m\u001b[43m \u001b[49m\u001b[43msave\u001b[49m\u001b[43m=\u001b[49m\u001b[38;5;28;43;01mTrue\u001b[39;49;00m\u001b[43m)\u001b[49m\n\u001b[32m     13\u001b[39m     \u001b[38;5;28;01mexcept\u001b[39;00m \u001b[38;5;167;01mException\u001b[39;00m \u001b[38;5;28;01mas\u001b[39;00m e:\n\u001b[32m     14\u001b[39m         \u001b[38;5;28mprint\u001b[39m(\u001b[33m\"\u001b[39m\u001b[33mOcurrió un error al realizar la detección de objetos:\u001b[39m\u001b[33m\"\u001b[39m, e)\n",
            "\u001b[36mFile \u001b[39m\u001b[32m~\\AppData\\Roaming\\Python\\Python313\\site-packages\\ultralytics\\engine\\model.py:182\u001b[39m, in \u001b[36mModel.__call__\u001b[39m\u001b[34m(self, source, stream, **kwargs)\u001b[39m\n\u001b[32m    153\u001b[39m \u001b[38;5;28;01mdef\u001b[39;00m\u001b[38;5;250m \u001b[39m\u001b[34m__call__\u001b[39m(\n\u001b[32m    154\u001b[39m     \u001b[38;5;28mself\u001b[39m,\n\u001b[32m    155\u001b[39m     source: Union[\u001b[38;5;28mstr\u001b[39m, Path, \u001b[38;5;28mint\u001b[39m, Image.Image, \u001b[38;5;28mlist\u001b[39m, \u001b[38;5;28mtuple\u001b[39m, np.ndarray, torch.Tensor] = \u001b[38;5;28;01mNone\u001b[39;00m,\n\u001b[32m    156\u001b[39m     stream: \u001b[38;5;28mbool\u001b[39m = \u001b[38;5;28;01mFalse\u001b[39;00m,\n\u001b[32m    157\u001b[39m     **kwargs: Any,\n\u001b[32m    158\u001b[39m ) -> \u001b[38;5;28mlist\u001b[39m:\n\u001b[32m    159\u001b[39m \u001b[38;5;250m    \u001b[39m\u001b[33;03m\"\"\"\u001b[39;00m\n\u001b[32m    160\u001b[39m \u001b[33;03m    Alias for the predict method, enabling the model instance to be callable for predictions.\u001b[39;00m\n\u001b[32m    161\u001b[39m \n\u001b[32m   (...)\u001b[39m\u001b[32m    180\u001b[39m \u001b[33;03m        ...     print(f\"Detected {len(r)} objects in image\")\u001b[39;00m\n\u001b[32m    181\u001b[39m \u001b[33;03m    \"\"\"\u001b[39;00m\n\u001b[32m--> \u001b[39m\u001b[32m182\u001b[39m     \u001b[38;5;28;01mreturn\u001b[39;00m \u001b[38;5;28;43mself\u001b[39;49m\u001b[43m.\u001b[49m\u001b[43mpredict\u001b[49m\u001b[43m(\u001b[49m\u001b[43msource\u001b[49m\u001b[43m,\u001b[49m\u001b[43m \u001b[49m\u001b[43mstream\u001b[49m\u001b[43m,\u001b[49m\u001b[43m \u001b[49m\u001b[43m*\u001b[49m\u001b[43m*\u001b[49m\u001b[43mkwargs\u001b[49m\u001b[43m)\u001b[49m\n",
            "\u001b[36mFile \u001b[39m\u001b[32m~\\AppData\\Roaming\\Python\\Python313\\site-packages\\ultralytics\\engine\\model.py:560\u001b[39m, in \u001b[36mModel.predict\u001b[39m\u001b[34m(self, source, stream, predictor, **kwargs)\u001b[39m\n\u001b[32m    558\u001b[39m \u001b[38;5;28;01mif\u001b[39;00m prompts \u001b[38;5;129;01mand\u001b[39;00m \u001b[38;5;28mhasattr\u001b[39m(\u001b[38;5;28mself\u001b[39m.predictor, \u001b[33m\"\u001b[39m\u001b[33mset_prompts\u001b[39m\u001b[33m\"\u001b[39m):  \u001b[38;5;66;03m# for SAM-type models\u001b[39;00m\n\u001b[32m    559\u001b[39m     \u001b[38;5;28mself\u001b[39m.predictor.set_prompts(prompts)\n\u001b[32m--> \u001b[39m\u001b[32m560\u001b[39m \u001b[38;5;28;01mreturn\u001b[39;00m \u001b[38;5;28mself\u001b[39m.predictor.predict_cli(source=source) \u001b[38;5;28;01mif\u001b[39;00m is_cli \u001b[38;5;28;01melse\u001b[39;00m \u001b[38;5;28;43mself\u001b[39;49m\u001b[43m.\u001b[49m\u001b[43mpredictor\u001b[49m\u001b[43m(\u001b[49m\u001b[43msource\u001b[49m\u001b[43m=\u001b[49m\u001b[43msource\u001b[49m\u001b[43m,\u001b[49m\u001b[43m \u001b[49m\u001b[43mstream\u001b[49m\u001b[43m=\u001b[49m\u001b[43mstream\u001b[49m\u001b[43m)\u001b[49m\n",
            "\u001b[36mFile \u001b[39m\u001b[32m~\\AppData\\Roaming\\Python\\Python313\\site-packages\\ultralytics\\engine\\predictor.py:175\u001b[39m, in \u001b[36mBasePredictor.__call__\u001b[39m\u001b[34m(self, source, model, stream, *args, **kwargs)\u001b[39m\n\u001b[32m    173\u001b[39m     \u001b[38;5;28;01mreturn\u001b[39;00m \u001b[38;5;28mself\u001b[39m.stream_inference(source, model, *args, **kwargs)\n\u001b[32m    174\u001b[39m \u001b[38;5;28;01melse\u001b[39;00m:\n\u001b[32m--> \u001b[39m\u001b[32m175\u001b[39m     \u001b[38;5;28;01mreturn\u001b[39;00m \u001b[38;5;28;43mlist\u001b[39;49m\u001b[43m(\u001b[49m\u001b[38;5;28;43mself\u001b[39;49m\u001b[43m.\u001b[49m\u001b[43mstream_inference\u001b[49m\u001b[43m(\u001b[49m\u001b[43msource\u001b[49m\u001b[43m,\u001b[49m\u001b[43m \u001b[49m\u001b[43mmodel\u001b[49m\u001b[43m,\u001b[49m\u001b[43m \u001b[49m\u001b[43m*\u001b[49m\u001b[43margs\u001b[49m\u001b[43m,\u001b[49m\u001b[43m \u001b[49m\u001b[43m*\u001b[49m\u001b[43m*\u001b[49m\u001b[43mkwargs\u001b[49m\u001b[43m)\u001b[49m\u001b[43m)\u001b[49m\n",
            "\u001b[36mFile \u001b[39m\u001b[32m~\\AppData\\Roaming\\Python\\Python313\\site-packages\\torch\\utils\\_contextlib.py:57\u001b[39m, in \u001b[36m_wrap_generator.<locals>.generator_context\u001b[39m\u001b[34m(*args, **kwargs)\u001b[39m\n\u001b[32m     54\u001b[39m         \u001b[38;5;28;01melse\u001b[39;00m:\n\u001b[32m     55\u001b[39m             \u001b[38;5;66;03m# Pass the last request to the generator and get its response\u001b[39;00m\n\u001b[32m     56\u001b[39m             \u001b[38;5;28;01mwith\u001b[39;00m ctx_factory():\n\u001b[32m---> \u001b[39m\u001b[32m57\u001b[39m                 response = \u001b[43mgen\u001b[49m\u001b[43m.\u001b[49m\u001b[43msend\u001b[49m\u001b[43m(\u001b[49m\u001b[43mrequest\u001b[49m\u001b[43m)\u001b[49m\n\u001b[32m     59\u001b[39m \u001b[38;5;66;03m# We let the exceptions raised above by the generator's `.throw` or\u001b[39;00m\n\u001b[32m     60\u001b[39m \u001b[38;5;66;03m# `.send` methods bubble up to our caller, except for StopIteration\u001b[39;00m\n\u001b[32m     61\u001b[39m \u001b[38;5;28;01mexcept\u001b[39;00m \u001b[38;5;167;01mStopIteration\u001b[39;00m \u001b[38;5;28;01mas\u001b[39;00m e:\n\u001b[32m     62\u001b[39m     \u001b[38;5;66;03m# The generator informed us that it is done: take whatever its\u001b[39;00m\n\u001b[32m     63\u001b[39m     \u001b[38;5;66;03m# returned value (if any) was and indicate that we're done too\u001b[39;00m\n\u001b[32m     64\u001b[39m     \u001b[38;5;66;03m# by returning it (see docs for python's return-statement).\u001b[39;00m\n",
            "\u001b[36mFile \u001b[39m\u001b[32m~\\AppData\\Roaming\\Python\\Python313\\site-packages\\ultralytics\\engine\\predictor.py:251\u001b[39m, in \u001b[36mBasePredictor.stream_inference\u001b[39m\u001b[34m(self, source, model, *args, **kwargs)\u001b[39m\n\u001b[32m    245\u001b[39m profilers = (\n\u001b[32m    246\u001b[39m     ops.Profile(device=\u001b[38;5;28mself\u001b[39m.device),\n\u001b[32m    247\u001b[39m     ops.Profile(device=\u001b[38;5;28mself\u001b[39m.device),\n\u001b[32m    248\u001b[39m     ops.Profile(device=\u001b[38;5;28mself\u001b[39m.device),\n\u001b[32m    249\u001b[39m )\n\u001b[32m    250\u001b[39m \u001b[38;5;28mself\u001b[39m.run_callbacks(\u001b[33m\"\u001b[39m\u001b[33mon_predict_start\u001b[39m\u001b[33m\"\u001b[39m)\n\u001b[32m--> \u001b[39m\u001b[32m251\u001b[39m \u001b[43m\u001b[49m\u001b[38;5;28;43;01mfor\u001b[39;49;00m\u001b[43m \u001b[49m\u001b[38;5;28;43mself\u001b[39;49m\u001b[43m.\u001b[49m\u001b[43mbatch\u001b[49m\u001b[43m \u001b[49m\u001b[38;5;129;43;01min\u001b[39;49;00m\u001b[43m \u001b[49m\u001b[38;5;28;43mself\u001b[39;49m\u001b[43m.\u001b[49m\u001b[43mdataset\u001b[49m\u001b[43m:\u001b[49m\n\u001b[32m    252\u001b[39m \u001b[43m    \u001b[49m\u001b[38;5;28;43mself\u001b[39;49m\u001b[43m.\u001b[49m\u001b[43mrun_callbacks\u001b[49m\u001b[43m(\u001b[49m\u001b[33;43m\"\u001b[39;49m\u001b[33;43mon_predict_batch_start\u001b[39;49m\u001b[33;43m\"\u001b[39;49m\u001b[43m)\u001b[49m\n\u001b[32m    253\u001b[39m \u001b[43m    \u001b[49m\u001b[43mpaths\u001b[49m\u001b[43m,\u001b[49m\u001b[43m \u001b[49m\u001b[43mim0s\u001b[49m\u001b[43m,\u001b[49m\u001b[43m \u001b[49m\u001b[43ms\u001b[49m\u001b[43m \u001b[49m\u001b[43m=\u001b[49m\u001b[43m \u001b[49m\u001b[38;5;28;43mself\u001b[39;49m\u001b[43m.\u001b[49m\u001b[43mbatch\u001b[49m\n",
            "\u001b[36mFile \u001b[39m\u001b[32m~\\AppData\\Roaming\\Python\\Python313\\site-packages\\ultralytics\\data\\loaders.py:192\u001b[39m, in \u001b[36mLoadStreams.__next__\u001b[39m\u001b[34m(self)\u001b[39m\n\u001b[32m    190\u001b[39m     \u001b[38;5;28mself\u001b[39m.close()\n\u001b[32m    191\u001b[39m     \u001b[38;5;28;01mraise\u001b[39;00m \u001b[38;5;167;01mStopIteration\u001b[39;00m\n\u001b[32m--> \u001b[39m\u001b[32m192\u001b[39m \u001b[43mtime\u001b[49m\u001b[43m.\u001b[49m\u001b[43msleep\u001b[49m\u001b[43m(\u001b[49m\u001b[32;43m1\u001b[39;49m\u001b[43m \u001b[49m\u001b[43m/\u001b[49m\u001b[43m \u001b[49m\u001b[38;5;28;43mmin\u001b[39;49m\u001b[43m(\u001b[49m\u001b[38;5;28;43mself\u001b[39;49m\u001b[43m.\u001b[49m\u001b[43mfps\u001b[49m\u001b[43m)\u001b[49m\u001b[43m)\u001b[49m\n\u001b[32m    193\u001b[39m x = \u001b[38;5;28mself\u001b[39m.imgs[i]\n\u001b[32m    194\u001b[39m \u001b[38;5;28;01mif\u001b[39;00m \u001b[38;5;129;01mnot\u001b[39;00m x:\n",
            "\u001b[31mKeyboardInterrupt\u001b[39m: "
          ]
        }
      ],
      "source": [
        "\n",
        "# Instancia del modelo YOLO con los pesos especificados\n",
        "pesos_yolo = \"yolov8n.pt\" # Usamos la ruta relativa\n",
        "model = YOLO(pesos_yolo)\n",
        "\n",
        "# Verificar si la cámara está disponible\n",
        "cap = cv2.VideoCapture(0)\n",
        "if not cap.isOpened():\n",
        "    print(\"No se pudo acceder a la cámara.\")\n",
        "else:\n",
        "    try:\n",
        "        # Realiza la detección de objetos en el flujo de video de la cámara del computador\n",
        "        results = model(source=0, show=True, conf=0.3, save=True)\n",
        "    except Exception as e:\n",
        "        print(\"Ocurrió un error al realizar la detección de objetos:\", e)\n",
        "    finally:\n",
        "        cap.release()"
      ]
    },
    {
      "cell_type": "code",
      "execution_count": null,
      "metadata": {
        "id": "VCgvLFz-WE9Q",
        "outputId": "ff5d7227-1e3d-4349-e5a1-0b98450cb2c0"
      },
      "outputs": [
        {
          "ename": "KeyboardInterrupt",
          "evalue": "",
          "output_type": "error",
          "traceback": [
            "\u001b[1;31m---------------------------------------------------------------------------\u001b[0m",
            "\u001b[1;31mKeyboardInterrupt\u001b[0m                         Traceback (most recent call last)",
            "Cell \u001b[1;32mIn[1], line 2\u001b[0m\n\u001b[0;32m      1\u001b[0m \u001b[38;5;66;03m# Tracking\u001b[39;00m\n\u001b[1;32m----> 2\u001b[0m \u001b[38;5;28;01mfrom\u001b[39;00m\u001b[38;5;250m \u001b[39m\u001b[38;5;21;01multralytics\u001b[39;00m\u001b[38;5;250m \u001b[39m\u001b[38;5;28;01mimport\u001b[39;00m YOLO\n\u001b[0;32m      3\u001b[0m \u001b[38;5;66;03m# Configure the tracking parameters and run the tracker\u001b[39;00m\n\u001b[0;32m      4\u001b[0m model \u001b[38;5;241m=\u001b[39m YOLO(\u001b[38;5;124m'\u001b[39m\u001b[38;5;124myolov8n.pt\u001b[39m\u001b[38;5;124m'\u001b[39m)\n",
            "File \u001b[1;32mc:\\Users\\Javier\\AppData\\Local\\Programs\\Python\\Python312\\Lib\\site-packages\\ultralytics\\__init__.py:11\u001b[0m\n\u001b[0;32m      8\u001b[0m \u001b[38;5;28;01mif\u001b[39;00m \u001b[38;5;129;01mnot\u001b[39;00m os\u001b[38;5;241m.\u001b[39menviron\u001b[38;5;241m.\u001b[39mget(\u001b[38;5;124m\"\u001b[39m\u001b[38;5;124mOMP_NUM_THREADS\u001b[39m\u001b[38;5;124m\"\u001b[39m):\n\u001b[0;32m      9\u001b[0m     os\u001b[38;5;241m.\u001b[39menviron[\u001b[38;5;124m\"\u001b[39m\u001b[38;5;124mOMP_NUM_THREADS\u001b[39m\u001b[38;5;124m\"\u001b[39m] \u001b[38;5;241m=\u001b[39m \u001b[38;5;124m\"\u001b[39m\u001b[38;5;124m1\u001b[39m\u001b[38;5;124m\"\u001b[39m  \u001b[38;5;66;03m# default for reduced CPU utilization during training\u001b[39;00m\n\u001b[1;32m---> 11\u001b[0m \u001b[38;5;28;01mfrom\u001b[39;00m\u001b[38;5;250m \u001b[39m\u001b[38;5;21;01multralytics\u001b[39;00m\u001b[38;5;21;01m.\u001b[39;00m\u001b[38;5;21;01mmodels\u001b[39;00m\u001b[38;5;250m \u001b[39m\u001b[38;5;28;01mimport\u001b[39;00m NAS, RTDETR, SAM, YOLO, FastSAM, YOLOWorld\n\u001b[0;32m     12\u001b[0m \u001b[38;5;28;01mfrom\u001b[39;00m\u001b[38;5;250m \u001b[39m\u001b[38;5;21;01multralytics\u001b[39;00m\u001b[38;5;21;01m.\u001b[39;00m\u001b[38;5;21;01mutils\u001b[39;00m\u001b[38;5;250m \u001b[39m\u001b[38;5;28;01mimport\u001b[39;00m ASSETS, SETTINGS\n\u001b[0;32m     13\u001b[0m \u001b[38;5;28;01mfrom\u001b[39;00m\u001b[38;5;250m \u001b[39m\u001b[38;5;21;01multralytics\u001b[39;00m\u001b[38;5;21;01m.\u001b[39;00m\u001b[38;5;21;01mutils\u001b[39;00m\u001b[38;5;21;01m.\u001b[39;00m\u001b[38;5;21;01mchecks\u001b[39;00m\u001b[38;5;250m \u001b[39m\u001b[38;5;28;01mimport\u001b[39;00m check_yolo \u001b[38;5;28;01mas\u001b[39;00m checks\n",
            "File \u001b[1;32mc:\\Users\\Javier\\AppData\\Local\\Programs\\Python\\Python312\\Lib\\site-packages\\ultralytics\\models\\__init__.py:3\u001b[0m\n\u001b[0;32m      1\u001b[0m \u001b[38;5;66;03m# Ultralytics 🚀 AGPL-3.0 License - https://ultralytics.com/license\u001b[39;00m\n\u001b[1;32m----> 3\u001b[0m \u001b[38;5;28;01mfrom\u001b[39;00m\u001b[38;5;250m \u001b[39m\u001b[38;5;21;01m.\u001b[39;00m\u001b[38;5;21;01mfastsam\u001b[39;00m\u001b[38;5;250m \u001b[39m\u001b[38;5;28;01mimport\u001b[39;00m FastSAM\n\u001b[0;32m      4\u001b[0m \u001b[38;5;28;01mfrom\u001b[39;00m\u001b[38;5;250m \u001b[39m\u001b[38;5;21;01m.\u001b[39;00m\u001b[38;5;21;01mnas\u001b[39;00m\u001b[38;5;250m \u001b[39m\u001b[38;5;28;01mimport\u001b[39;00m NAS\n\u001b[0;32m      5\u001b[0m \u001b[38;5;28;01mfrom\u001b[39;00m\u001b[38;5;250m \u001b[39m\u001b[38;5;21;01m.\u001b[39;00m\u001b[38;5;21;01mrtdetr\u001b[39;00m\u001b[38;5;250m \u001b[39m\u001b[38;5;28;01mimport\u001b[39;00m RTDETR\n",
            "File \u001b[1;32mc:\\Users\\Javier\\AppData\\Local\\Programs\\Python\\Python312\\Lib\\site-packages\\ultralytics\\models\\fastsam\\__init__.py:3\u001b[0m\n\u001b[0;32m      1\u001b[0m \u001b[38;5;66;03m# Ultralytics 🚀 AGPL-3.0 License - https://ultralytics.com/license\u001b[39;00m\n\u001b[1;32m----> 3\u001b[0m \u001b[38;5;28;01mfrom\u001b[39;00m\u001b[38;5;250m \u001b[39m\u001b[38;5;21;01m.\u001b[39;00m\u001b[38;5;21;01mmodel\u001b[39;00m\u001b[38;5;250m \u001b[39m\u001b[38;5;28;01mimport\u001b[39;00m FastSAM\n\u001b[0;32m      4\u001b[0m \u001b[38;5;28;01mfrom\u001b[39;00m\u001b[38;5;250m \u001b[39m\u001b[38;5;21;01m.\u001b[39;00m\u001b[38;5;21;01mpredict\u001b[39;00m\u001b[38;5;250m \u001b[39m\u001b[38;5;28;01mimport\u001b[39;00m FastSAMPredictor\n\u001b[0;32m      5\u001b[0m \u001b[38;5;28;01mfrom\u001b[39;00m\u001b[38;5;250m \u001b[39m\u001b[38;5;21;01m.\u001b[39;00m\u001b[38;5;21;01mval\u001b[39;00m\u001b[38;5;250m \u001b[39m\u001b[38;5;28;01mimport\u001b[39;00m FastSAMValidator\n",
            "File \u001b[1;32mc:\\Users\\Javier\\AppData\\Local\\Programs\\Python\\Python312\\Lib\\site-packages\\ultralytics\\models\\fastsam\\model.py:5\u001b[0m\n\u001b[0;32m      1\u001b[0m \u001b[38;5;66;03m# Ultralytics 🚀 AGPL-3.0 License - https://ultralytics.com/license\u001b[39;00m\n\u001b[0;32m      3\u001b[0m \u001b[38;5;28;01mfrom\u001b[39;00m\u001b[38;5;250m \u001b[39m\u001b[38;5;21;01mpathlib\u001b[39;00m\u001b[38;5;250m \u001b[39m\u001b[38;5;28;01mimport\u001b[39;00m Path\n\u001b[1;32m----> 5\u001b[0m \u001b[38;5;28;01mfrom\u001b[39;00m\u001b[38;5;250m \u001b[39m\u001b[38;5;21;01multralytics\u001b[39;00m\u001b[38;5;21;01m.\u001b[39;00m\u001b[38;5;21;01mengine\u001b[39;00m\u001b[38;5;21;01m.\u001b[39;00m\u001b[38;5;21;01mmodel\u001b[39;00m\u001b[38;5;250m \u001b[39m\u001b[38;5;28;01mimport\u001b[39;00m Model\n\u001b[0;32m      7\u001b[0m \u001b[38;5;28;01mfrom\u001b[39;00m\u001b[38;5;250m \u001b[39m\u001b[38;5;21;01m.\u001b[39;00m\u001b[38;5;21;01mpredict\u001b[39;00m\u001b[38;5;250m \u001b[39m\u001b[38;5;28;01mimport\u001b[39;00m FastSAMPredictor\n\u001b[0;32m      8\u001b[0m \u001b[38;5;28;01mfrom\u001b[39;00m\u001b[38;5;250m \u001b[39m\u001b[38;5;21;01m.\u001b[39;00m\u001b[38;5;21;01mval\u001b[39;00m\u001b[38;5;250m \u001b[39m\u001b[38;5;28;01mimport\u001b[39;00m FastSAMValidator\n",
            "File \u001b[1;32mc:\\Users\\Javier\\AppData\\Local\\Programs\\Python\\Python312\\Lib\\site-packages\\ultralytics\\engine\\model.py:11\u001b[0m\n\u001b[0;32m      8\u001b[0m \u001b[38;5;28;01mimport\u001b[39;00m\u001b[38;5;250m \u001b[39m\u001b[38;5;21;01mtorch\u001b[39;00m\n\u001b[0;32m      9\u001b[0m \u001b[38;5;28;01mfrom\u001b[39;00m\u001b[38;5;250m \u001b[39m\u001b[38;5;21;01mPIL\u001b[39;00m\u001b[38;5;250m \u001b[39m\u001b[38;5;28;01mimport\u001b[39;00m Image\n\u001b[1;32m---> 11\u001b[0m \u001b[38;5;28;01mfrom\u001b[39;00m\u001b[38;5;250m \u001b[39m\u001b[38;5;21;01multralytics\u001b[39;00m\u001b[38;5;21;01m.\u001b[39;00m\u001b[38;5;21;01mcfg\u001b[39;00m\u001b[38;5;250m \u001b[39m\u001b[38;5;28;01mimport\u001b[39;00m TASK2DATA, get_cfg, get_save_dir\n\u001b[0;32m     12\u001b[0m \u001b[38;5;28;01mfrom\u001b[39;00m\u001b[38;5;250m \u001b[39m\u001b[38;5;21;01multralytics\u001b[39;00m\u001b[38;5;21;01m.\u001b[39;00m\u001b[38;5;21;01mengine\u001b[39;00m\u001b[38;5;21;01m.\u001b[39;00m\u001b[38;5;21;01mresults\u001b[39;00m\u001b[38;5;250m \u001b[39m\u001b[38;5;28;01mimport\u001b[39;00m Results\n\u001b[0;32m     13\u001b[0m \u001b[38;5;28;01mfrom\u001b[39;00m\u001b[38;5;250m \u001b[39m\u001b[38;5;21;01multralytics\u001b[39;00m\u001b[38;5;21;01m.\u001b[39;00m\u001b[38;5;21;01mhub\u001b[39;00m\u001b[38;5;250m \u001b[39m\u001b[38;5;28;01mimport\u001b[39;00m HUB_WEB_ROOT, HUBTrainingSession\n",
            "File \u001b[1;32mc:\\Users\\Javier\\AppData\\Local\\Programs\\Python\\Python312\\Lib\\site-packages\\ultralytics\\cfg\\__init__.py:12\u001b[0m\n\u001b[0;32m      8\u001b[0m \u001b[38;5;28;01mfrom\u001b[39;00m\u001b[38;5;250m \u001b[39m\u001b[38;5;21;01mtyping\u001b[39;00m\u001b[38;5;250m \u001b[39m\u001b[38;5;28;01mimport\u001b[39;00m Dict, List, Union\n\u001b[0;32m     10\u001b[0m \u001b[38;5;28;01mimport\u001b[39;00m\u001b[38;5;250m \u001b[39m\u001b[38;5;21;01mcv2\u001b[39;00m\n\u001b[1;32m---> 12\u001b[0m \u001b[38;5;28;01mfrom\u001b[39;00m\u001b[38;5;250m \u001b[39m\u001b[38;5;21;01multralytics\u001b[39;00m\u001b[38;5;21;01m.\u001b[39;00m\u001b[38;5;21;01mutils\u001b[39;00m\u001b[38;5;250m \u001b[39m\u001b[38;5;28;01mimport\u001b[39;00m (\n\u001b[0;32m     13\u001b[0m     ASSETS,\n\u001b[0;32m     14\u001b[0m     DEFAULT_CFG,\n\u001b[0;32m     15\u001b[0m     DEFAULT_CFG_DICT,\n\u001b[0;32m     16\u001b[0m     DEFAULT_CFG_PATH,\n\u001b[0;32m     17\u001b[0m     DEFAULT_SOL_DICT,\n\u001b[0;32m     18\u001b[0m     IS_VSCODE,\n\u001b[0;32m     19\u001b[0m     LOGGER,\n\u001b[0;32m     20\u001b[0m     RANK,\n\u001b[0;32m     21\u001b[0m     ROOT,\n\u001b[0;32m     22\u001b[0m     RUNS_DIR,\n\u001b[0;32m     23\u001b[0m     SETTINGS,\n\u001b[0;32m     24\u001b[0m     SETTINGS_FILE,\n\u001b[0;32m     25\u001b[0m     TESTS_RUNNING,\n\u001b[0;32m     26\u001b[0m     IterableSimpleNamespace,\n\u001b[0;32m     27\u001b[0m     __version__,\n\u001b[0;32m     28\u001b[0m     checks,\n\u001b[0;32m     29\u001b[0m     colorstr,\n\u001b[0;32m     30\u001b[0m     deprecation_warn,\n\u001b[0;32m     31\u001b[0m     vscode_msg,\n\u001b[0;32m     32\u001b[0m     yaml_load,\n\u001b[0;32m     33\u001b[0m     yaml_print,\n\u001b[0;32m     34\u001b[0m )\n\u001b[0;32m     36\u001b[0m \u001b[38;5;66;03m# Define valid solutions\u001b[39;00m\n\u001b[0;32m     37\u001b[0m SOLUTION_MAP \u001b[38;5;241m=\u001b[39m {\n\u001b[0;32m     38\u001b[0m     \u001b[38;5;124m\"\u001b[39m\u001b[38;5;124mcount\u001b[39m\u001b[38;5;124m\"\u001b[39m: (\u001b[38;5;124m\"\u001b[39m\u001b[38;5;124mObjectCounter\u001b[39m\u001b[38;5;124m\"\u001b[39m, \u001b[38;5;124m\"\u001b[39m\u001b[38;5;124mcount\u001b[39m\u001b[38;5;124m\"\u001b[39m),\n\u001b[0;32m     39\u001b[0m     \u001b[38;5;124m\"\u001b[39m\u001b[38;5;124mheatmap\u001b[39m\u001b[38;5;124m\"\u001b[39m: (\u001b[38;5;124m\"\u001b[39m\u001b[38;5;124mHeatmap\u001b[39m\u001b[38;5;124m\"\u001b[39m, \u001b[38;5;124m\"\u001b[39m\u001b[38;5;124mgenerate_heatmap\u001b[39m\u001b[38;5;124m\"\u001b[39m),\n\u001b[1;32m   (...)\u001b[0m\n\u001b[0;32m     46\u001b[0m     \u001b[38;5;124m\"\u001b[39m\u001b[38;5;124mhelp\u001b[39m\u001b[38;5;124m\"\u001b[39m: \u001b[38;5;28;01mNone\u001b[39;00m,\n\u001b[0;32m     47\u001b[0m }\n",
            "File \u001b[1;32mc:\\Users\\Javier\\AppData\\Local\\Programs\\Python\\Python312\\Lib\\site-packages\\ultralytics\\utils\\__init__.py:24\u001b[0m\n\u001b[0;32m     21\u001b[0m \u001b[38;5;28;01mfrom\u001b[39;00m\u001b[38;5;250m \u001b[39m\u001b[38;5;21;01murllib\u001b[39;00m\u001b[38;5;21;01m.\u001b[39;00m\u001b[38;5;21;01mparse\u001b[39;00m\u001b[38;5;250m \u001b[39m\u001b[38;5;28;01mimport\u001b[39;00m unquote\n\u001b[0;32m     23\u001b[0m \u001b[38;5;28;01mimport\u001b[39;00m\u001b[38;5;250m \u001b[39m\u001b[38;5;21;01mcv2\u001b[39;00m\n\u001b[1;32m---> 24\u001b[0m \u001b[38;5;28;01mimport\u001b[39;00m\u001b[38;5;250m \u001b[39m\u001b[38;5;21;01mmatplotlib\u001b[39;00m\u001b[38;5;21;01m.\u001b[39;00m\u001b[38;5;21;01mpyplot\u001b[39;00m\u001b[38;5;250m \u001b[39m\u001b[38;5;28;01mas\u001b[39;00m\u001b[38;5;250m \u001b[39m\u001b[38;5;21;01mplt\u001b[39;00m\n\u001b[0;32m     25\u001b[0m \u001b[38;5;28;01mimport\u001b[39;00m\u001b[38;5;250m \u001b[39m\u001b[38;5;21;01mnumpy\u001b[39;00m\u001b[38;5;250m \u001b[39m\u001b[38;5;28;01mas\u001b[39;00m\u001b[38;5;250m \u001b[39m\u001b[38;5;21;01mnp\u001b[39;00m\n\u001b[0;32m     26\u001b[0m \u001b[38;5;28;01mimport\u001b[39;00m\u001b[38;5;250m \u001b[39m\u001b[38;5;21;01mtorch\u001b[39;00m\n",
            "File \u001b[1;32mc:\\Users\\Javier\\AppData\\Local\\Programs\\Python\\Python312\\Lib\\site-packages\\matplotlib\\pyplot.py:55\u001b[0m\n\u001b[0;32m     53\u001b[0m \u001b[38;5;28;01mfrom\u001b[39;00m\u001b[38;5;250m \u001b[39m\u001b[38;5;21;01mcycler\u001b[39;00m\u001b[38;5;250m \u001b[39m\u001b[38;5;28;01mimport\u001b[39;00m cycler  \u001b[38;5;66;03m# noqa: F401\u001b[39;00m\n\u001b[0;32m     54\u001b[0m \u001b[38;5;28;01mimport\u001b[39;00m\u001b[38;5;250m \u001b[39m\u001b[38;5;21;01mmatplotlib\u001b[39;00m\n\u001b[1;32m---> 55\u001b[0m \u001b[38;5;28;01mimport\u001b[39;00m\u001b[38;5;250m \u001b[39m\u001b[38;5;21;01mmatplotlib\u001b[39;00m\u001b[38;5;21;01m.\u001b[39;00m\u001b[38;5;21;01mcolorbar\u001b[39;00m\n\u001b[0;32m     56\u001b[0m \u001b[38;5;28;01mimport\u001b[39;00m\u001b[38;5;250m \u001b[39m\u001b[38;5;21;01mmatplotlib\u001b[39;00m\u001b[38;5;21;01m.\u001b[39;00m\u001b[38;5;21;01mimage\u001b[39;00m\n\u001b[0;32m     57\u001b[0m \u001b[38;5;28;01mfrom\u001b[39;00m\u001b[38;5;250m \u001b[39m\u001b[38;5;21;01mmatplotlib\u001b[39;00m\u001b[38;5;250m \u001b[39m\u001b[38;5;28;01mimport\u001b[39;00m _api\n",
            "File \u001b[1;32mc:\\Users\\Javier\\AppData\\Local\\Programs\\Python\\Python312\\Lib\\site-packages\\matplotlib\\colorbar.py:19\u001b[0m\n\u001b[0;32m     16\u001b[0m \u001b[38;5;28;01mimport\u001b[39;00m\u001b[38;5;250m \u001b[39m\u001b[38;5;21;01mnumpy\u001b[39;00m\u001b[38;5;250m \u001b[39m\u001b[38;5;28;01mas\u001b[39;00m\u001b[38;5;250m \u001b[39m\u001b[38;5;21;01mnp\u001b[39;00m\n\u001b[0;32m     18\u001b[0m \u001b[38;5;28;01mimport\u001b[39;00m\u001b[38;5;250m \u001b[39m\u001b[38;5;21;01mmatplotlib\u001b[39;00m\u001b[38;5;250m \u001b[39m\u001b[38;5;28;01mas\u001b[39;00m\u001b[38;5;250m \u001b[39m\u001b[38;5;21;01mmpl\u001b[39;00m\n\u001b[1;32m---> 19\u001b[0m \u001b[38;5;28;01mfrom\u001b[39;00m\u001b[38;5;250m \u001b[39m\u001b[38;5;21;01mmatplotlib\u001b[39;00m\u001b[38;5;250m \u001b[39m\u001b[38;5;28;01mimport\u001b[39;00m _api, cbook, collections, cm, colors, contour, ticker\n\u001b[0;32m     20\u001b[0m \u001b[38;5;28;01mimport\u001b[39;00m\u001b[38;5;250m \u001b[39m\u001b[38;5;21;01mmatplotlib\u001b[39;00m\u001b[38;5;21;01m.\u001b[39;00m\u001b[38;5;21;01martist\u001b[39;00m\u001b[38;5;250m \u001b[39m\u001b[38;5;28;01mas\u001b[39;00m\u001b[38;5;250m \u001b[39m\u001b[38;5;21;01mmartist\u001b[39;00m\n\u001b[0;32m     21\u001b[0m \u001b[38;5;28;01mimport\u001b[39;00m\u001b[38;5;250m \u001b[39m\u001b[38;5;21;01mmatplotlib\u001b[39;00m\u001b[38;5;21;01m.\u001b[39;00m\u001b[38;5;21;01mpatches\u001b[39;00m\u001b[38;5;250m \u001b[39m\u001b[38;5;28;01mas\u001b[39;00m\u001b[38;5;250m \u001b[39m\u001b[38;5;21;01mmpatches\u001b[39;00m\n",
            "File \u001b[1;32m<frozen importlib._bootstrap>:1360\u001b[0m, in \u001b[0;36m_find_and_load\u001b[1;34m(name, import_)\u001b[0m\n",
            "File \u001b[1;32m<frozen importlib._bootstrap>:1322\u001b[0m, in \u001b[0;36m_find_and_load_unlocked\u001b[1;34m(name, import_)\u001b[0m\n",
            "File \u001b[1;32m<frozen importlib._bootstrap>:1262\u001b[0m, in \u001b[0;36m_find_spec\u001b[1;34m(name, path, target)\u001b[0m\n",
            "File \u001b[1;32m<frozen importlib._bootstrap_external>:1528\u001b[0m, in \u001b[0;36mfind_spec\u001b[1;34m(cls, fullname, path, target)\u001b[0m\n",
            "File \u001b[1;32m<frozen importlib._bootstrap_external>:1502\u001b[0m, in \u001b[0;36m_get_spec\u001b[1;34m(cls, fullname, path, target)\u001b[0m\n",
            "File \u001b[1;32m<frozen importlib._bootstrap_external>:1634\u001b[0m, in \u001b[0;36mfind_spec\u001b[1;34m(self, fullname, target)\u001b[0m\n",
            "File \u001b[1;32m<frozen importlib._bootstrap_external>:161\u001b[0m, in \u001b[0;36m_path_isfile\u001b[1;34m(path)\u001b[0m\n",
            "File \u001b[1;32m<frozen importlib._bootstrap_external>:153\u001b[0m, in \u001b[0;36m_path_is_mode_type\u001b[1;34m(path, mode)\u001b[0m\n",
            "File \u001b[1;32m<frozen importlib._bootstrap_external>:147\u001b[0m, in \u001b[0;36m_path_stat\u001b[1;34m(path)\u001b[0m\n",
            "\u001b[1;31mKeyboardInterrupt\u001b[0m: "
          ]
        }
      ],
      "source": [
        "# Tracking\n",
        "from ultralytics import YOLO\n",
        "# Configure the tracking parameters and run the tracker\n",
        "model = YOLO('yolov8n.pt')\n",
        "# Seleccionamos la clase 66 (keyboard)\n",
        "results = model.track(source=\"0\", conf=0.3, iou=0.5, show=True, classes=[66])"
      ]
    },
    {
      "cell_type": "code",
      "execution_count": null,
      "metadata": {
        "colab": {
          "base_uri": "https://localhost:8080/",
          "height": 1000
        },
        "id": "leJ-Nar5Zq-I",
        "outputId": "e0e05646-0c55-4956-93b9-c26e310d63c5"
      },
      "outputs": [
        {
          "name": "stdout",
          "output_type": "stream",
          "text": [
            "Looking in indexes: https://download.pytorch.org/whl/cu118\n",
            "Requirement already satisfied: torch in /usr/local/lib/python3.11/dist-packages (2.5.1+cu124)\n",
            "Collecting torch\n",
            "  Downloading https://download.pytorch.org/whl/cu118/torch-2.6.0%2Bcu118-cp311-cp311-linux_x86_64.whl.metadata (27 kB)\n",
            "Requirement already satisfied: torchvision in /usr/local/lib/python3.11/dist-packages (0.20.1+cu124)\n",
            "Collecting torchvision\n",
            "  Downloading https://download.pytorch.org/whl/cu118/torchvision-0.21.0%2Bcu118-cp311-cp311-linux_x86_64.whl.metadata (6.1 kB)\n",
            "Requirement already satisfied: torchaudio in /usr/local/lib/python3.11/dist-packages (2.5.1+cu124)\n",
            "Collecting torchaudio\n",
            "  Downloading https://download.pytorch.org/whl/cu118/torchaudio-2.6.0%2Bcu118-cp311-cp311-linux_x86_64.whl.metadata (6.6 kB)\n",
            "Requirement already satisfied: filelock in /usr/local/lib/python3.11/dist-packages (from torch) (3.17.0)\n",
            "Requirement already satisfied: typing-extensions>=4.10.0 in /usr/local/lib/python3.11/dist-packages (from torch) (4.12.2)\n",
            "Requirement already satisfied: networkx in /usr/local/lib/python3.11/dist-packages (from torch) (3.4.2)\n",
            "Requirement already satisfied: jinja2 in /usr/local/lib/python3.11/dist-packages (from torch) (3.1.6)\n",
            "Requirement already satisfied: fsspec in /usr/local/lib/python3.11/dist-packages (from torch) (2024.10.0)\n",
            "Collecting nvidia-cuda-nvrtc-cu11==11.8.89 (from torch)\n",
            "  Downloading https://download.pytorch.org/whl/cu118/nvidia_cuda_nvrtc_cu11-11.8.89-py3-none-manylinux1_x86_64.whl (23.2 MB)\n",
            "\u001b[2K     \u001b[90m━━━━━━━━━━━━━━━━━━━━━━━━━━━━━━━━━━━━━━━━\u001b[0m \u001b[32m23.2/23.2 MB\u001b[0m \u001b[31m79.6 MB/s\u001b[0m eta \u001b[36m0:00:00\u001b[0m\n",
            "\u001b[?25hCollecting nvidia-cuda-runtime-cu11==11.8.89 (from torch)\n",
            "  Downloading https://download.pytorch.org/whl/cu118/nvidia_cuda_runtime_cu11-11.8.89-py3-none-manylinux1_x86_64.whl (875 kB)\n",
            "\u001b[2K     \u001b[90m━━━━━━━━━━━━━━━━━━━━━━━━━━━━━━━━━━━━━━━━\u001b[0m \u001b[32m875.6/875.6 kB\u001b[0m \u001b[31m45.0 MB/s\u001b[0m eta \u001b[36m0:00:00\u001b[0m\n",
            "\u001b[?25hCollecting nvidia-cuda-cupti-cu11==11.8.87 (from torch)\n",
            "  Downloading https://download.pytorch.org/whl/cu118/nvidia_cuda_cupti_cu11-11.8.87-py3-none-manylinux1_x86_64.whl (13.1 MB)\n",
            "\u001b[2K     \u001b[90m━━━━━━━━━━━━━━━━━━━━━━━━━━━━━━━━━━━━━━━━\u001b[0m \u001b[32m13.1/13.1 MB\u001b[0m \u001b[31m89.0 MB/s\u001b[0m eta \u001b[36m0:00:00\u001b[0m\n",
            "\u001b[?25hCollecting nvidia-cudnn-cu11==9.1.0.70 (from torch)\n",
            "  Downloading https://download.pytorch.org/whl/cu118/nvidia_cudnn_cu11-9.1.0.70-py3-none-manylinux2014_x86_64.whl (663.9 MB)\n",
            "\u001b[2K     \u001b[90m━━━━━━━━━━━━━━━━━━━━━━━━━━━━━━━━━━━━━━━━\u001b[0m \u001b[32m663.9/663.9 MB\u001b[0m \u001b[31m1.9 MB/s\u001b[0m eta \u001b[36m0:00:00\u001b[0m\n",
            "\u001b[?25hCollecting nvidia-cublas-cu11==11.11.3.6 (from torch)\n",
            "  Downloading https://download.pytorch.org/whl/cu118/nvidia_cublas_cu11-11.11.3.6-py3-none-manylinux1_x86_64.whl (417.9 MB)\n",
            "\u001b[2K     \u001b[90m━━━━━━━━━━━━━━━━━━━━━━━━━━━━━━━━━━━━━━━━\u001b[0m \u001b[32m417.9/417.9 MB\u001b[0m \u001b[31m3.9 MB/s\u001b[0m eta \u001b[36m0:00:00\u001b[0m\n",
            "\u001b[?25hCollecting nvidia-cufft-cu11==10.9.0.58 (from torch)\n",
            "  Downloading https://download.pytorch.org/whl/cu118/nvidia_cufft_cu11-10.9.0.58-py3-none-manylinux1_x86_64.whl (168.4 MB)\n",
            "\u001b[2K     \u001b[90m━━━━━━━━━━━━━━━━━━━━━━━━━━━━━━━━━━━━━━━━\u001b[0m \u001b[32m168.4/168.4 MB\u001b[0m \u001b[31m7.2 MB/s\u001b[0m eta \u001b[36m0:00:00\u001b[0m\n",
            "\u001b[?25hCollecting nvidia-curand-cu11==10.3.0.86 (from torch)\n",
            "  Downloading https://download.pytorch.org/whl/cu118/nvidia_curand_cu11-10.3.0.86-py3-none-manylinux1_x86_64.whl (58.1 MB)\n",
            "\u001b[2K     \u001b[90m━━━━━━━━━━━━━━━━━━━━━━━━━━━━━━━━━━━━━━━━\u001b[0m \u001b[32m58.1/58.1 MB\u001b[0m \u001b[31m12.5 MB/s\u001b[0m eta \u001b[36m0:00:00\u001b[0m\n",
            "\u001b[?25hCollecting nvidia-cusolver-cu11==11.4.1.48 (from torch)\n",
            "  Downloading https://download.pytorch.org/whl/cu118/nvidia_cusolver_cu11-11.4.1.48-py3-none-manylinux1_x86_64.whl (128.2 MB)\n",
            "\u001b[2K     \u001b[90m━━━━━━━━━━━━━━━━━━━━━━━━━━━━━━━━━━━━━━━━\u001b[0m \u001b[32m128.2/128.2 MB\u001b[0m \u001b[31m8.7 MB/s\u001b[0m eta \u001b[36m0:00:00\u001b[0m\n",
            "\u001b[?25hCollecting nvidia-cusparse-cu11==11.7.5.86 (from torch)\n",
            "  Downloading https://download.pytorch.org/whl/cu118/nvidia_cusparse_cu11-11.7.5.86-py3-none-manylinux1_x86_64.whl (204.1 MB)\n",
            "\u001b[2K     \u001b[90m━━━━━━━━━━━━━━━━━━━━━━━━━━━━━━━━━━━━━━━━\u001b[0m \u001b[32m204.1/204.1 MB\u001b[0m \u001b[31m6.3 MB/s\u001b[0m eta \u001b[36m0:00:00\u001b[0m\n",
            "\u001b[?25hCollecting nvidia-nccl-cu11==2.21.5 (from torch)\n",
            "  Downloading https://download.pytorch.org/whl/cu118/nvidia_nccl_cu11-2.21.5-py3-none-manylinux2014_x86_64.whl (147.8 MB)\n",
            "\u001b[2K     \u001b[90m━━━━━━━━━━━━━━━━━━━━━━━━━━━━━━━━━━━━━━━━\u001b[0m \u001b[32m147.8/147.8 MB\u001b[0m \u001b[31m6.4 MB/s\u001b[0m eta \u001b[36m0:00:00\u001b[0m\n",
            "\u001b[?25hCollecting nvidia-nvtx-cu11==11.8.86 (from torch)\n",
            "  Downloading https://download.pytorch.org/whl/cu118/nvidia_nvtx_cu11-11.8.86-py3-none-manylinux1_x86_64.whl (99 kB)\n",
            "\u001b[2K     \u001b[90m━━━━━━━━━━━━━━━━━━━━━━━━━━━━━━━━━━━━━━━━\u001b[0m \u001b[32m99.1/99.1 kB\u001b[0m \u001b[31m6.5 MB/s\u001b[0m eta \u001b[36m0:00:00\u001b[0m\n",
            "\u001b[?25hCollecting triton==3.2.0 (from torch)\n",
            "  Downloading https://download.pytorch.org/whl/triton-3.2.0-cp311-cp311-manylinux_2_27_x86_64.manylinux_2_28_x86_64.whl.metadata (1.4 kB)\n",
            "Requirement already satisfied: sympy==1.13.1 in /usr/local/lib/python3.11/dist-packages (from torch) (1.13.1)\n",
            "Requirement already satisfied: mpmath<1.4,>=1.1.0 in /usr/local/lib/python3.11/dist-packages (from sympy==1.13.1->torch) (1.3.0)\n",
            "Requirement already satisfied: numpy in /usr/local/lib/python3.11/dist-packages (from torchvision) (1.26.4)\n",
            "Requirement already satisfied: pillow!=8.3.*,>=5.3.0 in /usr/local/lib/python3.11/dist-packages (from torchvision) (11.1.0)\n",
            "Requirement already satisfied: MarkupSafe>=2.0 in /usr/local/lib/python3.11/dist-packages (from jinja2->torch) (3.0.2)\n",
            "Downloading https://download.pytorch.org/whl/cu118/torch-2.6.0%2Bcu118-cp311-cp311-linux_x86_64.whl (848.7 MB)\n",
            "\u001b[2K   \u001b[90m━━━━━━━━━━━━━━━━━━━━━━━━━━━━━━━━━━━━━━━━\u001b[0m \u001b[32m848.7/848.7 MB\u001b[0m \u001b[31m2.4 MB/s\u001b[0m eta \u001b[36m0:00:00\u001b[0m\n",
            "\u001b[?25hDownloading https://download.pytorch.org/whl/triton-3.2.0-cp311-cp311-manylinux_2_27_x86_64.manylinux_2_28_x86_64.whl (166.7 MB)\n",
            "\u001b[2K   \u001b[90m━━━━━━━━━━━━━━━━━━━━━━━━━━━━━━━━━━━━━━━━\u001b[0m \u001b[32m166.7/166.7 MB\u001b[0m \u001b[31m6.6 MB/s\u001b[0m eta \u001b[36m0:00:00\u001b[0m\n",
            "\u001b[?25hDownloading https://download.pytorch.org/whl/cu118/torchvision-0.21.0%2Bcu118-cp311-cp311-linux_x86_64.whl (6.5 MB)\n",
            "\u001b[2K   \u001b[90m━━━━━━━━━━━━━━━━━━━━━━━━━━━━━━━━━━━━━━━━\u001b[0m \u001b[32m6.5/6.5 MB\u001b[0m \u001b[31m65.4 MB/s\u001b[0m eta \u001b[36m0:00:00\u001b[0m\n",
            "\u001b[?25hDownloading https://download.pytorch.org/whl/cu118/torchaudio-2.6.0%2Bcu118-cp311-cp311-linux_x86_64.whl (3.3 MB)\n",
            "\u001b[2K   \u001b[90m━━━━━━━━━━━━━━━━━━━━━━━━━━━━━━━━━━━━━━━━\u001b[0m \u001b[32m3.3/3.3 MB\u001b[0m \u001b[31m57.1 MB/s\u001b[0m eta \u001b[36m0:00:00\u001b[0m\n",
            "\u001b[?25hInstalling collected packages: triton, nvidia-nvtx-cu11, nvidia-nccl-cu11, nvidia-cusparse-cu11, nvidia-curand-cu11, nvidia-cufft-cu11, nvidia-cuda-runtime-cu11, nvidia-cuda-nvrtc-cu11, nvidia-cuda-cupti-cu11, nvidia-cublas-cu11, nvidia-cusolver-cu11, nvidia-cudnn-cu11, torch, torchvision, torchaudio\n",
            "  Attempting uninstall: triton\n",
            "    Found existing installation: triton 3.1.0\n",
            "    Uninstalling triton-3.1.0:\n",
            "      Successfully uninstalled triton-3.1.0\n",
            "  Attempting uninstall: torch\n",
            "    Found existing installation: torch 2.5.1+cu124\n",
            "    Uninstalling torch-2.5.1+cu124:\n",
            "      Successfully uninstalled torch-2.5.1+cu124\n",
            "  Attempting uninstall: torchvision\n",
            "    Found existing installation: torchvision 0.20.1+cu124\n",
            "    Uninstalling torchvision-0.20.1+cu124:\n",
            "      Successfully uninstalled torchvision-0.20.1+cu124\n",
            "  Attempting uninstall: torchaudio\n",
            "    Found existing installation: torchaudio 2.5.1+cu124\n",
            "    Uninstalling torchaudio-2.5.1+cu124:\n",
            "      Successfully uninstalled torchaudio-2.5.1+cu124\n",
            "\u001b[31mERROR: pip's dependency resolver does not currently take into account all the packages that are installed. This behaviour is the source of the following dependency conflicts.\n",
            "fastai 2.7.18 requires torch<2.6,>=1.10, but you have torch 2.6.0+cu118 which is incompatible.\u001b[0m\u001b[31m\n",
            "\u001b[0mSuccessfully installed nvidia-cublas-cu11-11.11.3.6 nvidia-cuda-cupti-cu11-11.8.87 nvidia-cuda-nvrtc-cu11-11.8.89 nvidia-cuda-runtime-cu11-11.8.89 nvidia-cudnn-cu11-9.1.0.70 nvidia-cufft-cu11-10.9.0.58 nvidia-curand-cu11-10.3.0.86 nvidia-cusolver-cu11-11.4.1.48 nvidia-cusparse-cu11-11.7.5.86 nvidia-nccl-cu11-2.21.5 nvidia-nvtx-cu11-11.8.86 torch-2.6.0+cu118 torchaudio-2.6.0+cu118 torchvision-0.21.0+cu118 triton-3.2.0\n"
          ]
        },
        {
          "data": {
            "application/vnd.colab-display-data+json": {
              "id": "8824818ddb574029b762218afc5e4618",
              "pip_warning": {
                "packages": [
                  "torchgen"
                ]
              }
            }
          },
          "metadata": {},
          "output_type": "display_data"
        },
        {
          "name": "stdout",
          "output_type": "stream",
          "text": [
            "Requirement already satisfied: ultralytics in /usr/local/lib/python3.11/dist-packages (8.3.88)\n",
            "Requirement already satisfied: numpy<=2.1.1,>=1.23.0 in /usr/local/lib/python3.11/dist-packages (from ultralytics) (1.26.4)\n",
            "Requirement already satisfied: matplotlib>=3.3.0 in /usr/local/lib/python3.11/dist-packages (from ultralytics) (3.10.0)\n",
            "Requirement already satisfied: opencv-python>=4.6.0 in /usr/local/lib/python3.11/dist-packages (from ultralytics) (4.11.0.86)\n",
            "Requirement already satisfied: pillow>=7.1.2 in /usr/local/lib/python3.11/dist-packages (from ultralytics) (11.1.0)\n",
            "Requirement already satisfied: pyyaml>=5.3.1 in /usr/local/lib/python3.11/dist-packages (from ultralytics) (6.0.2)\n",
            "Requirement already satisfied: requests>=2.23.0 in /usr/local/lib/python3.11/dist-packages (from ultralytics) (2.32.3)\n",
            "Requirement already satisfied: scipy>=1.4.1 in /usr/local/lib/python3.11/dist-packages (from ultralytics) (1.14.1)\n",
            "Requirement already satisfied: torch>=1.8.0 in /usr/local/lib/python3.11/dist-packages (from ultralytics) (2.6.0+cu118)\n",
            "Requirement already satisfied: torchvision>=0.9.0 in /usr/local/lib/python3.11/dist-packages (from ultralytics) (0.21.0+cu118)\n",
            "Requirement already satisfied: tqdm>=4.64.0 in /usr/local/lib/python3.11/dist-packages (from ultralytics) (4.67.1)\n",
            "Requirement already satisfied: psutil in /usr/local/lib/python3.11/dist-packages (from ultralytics) (5.9.5)\n",
            "Requirement already satisfied: py-cpuinfo in /usr/local/lib/python3.11/dist-packages (from ultralytics) (9.0.0)\n",
            "Requirement already satisfied: pandas>=1.1.4 in /usr/local/lib/python3.11/dist-packages (from ultralytics) (2.2.2)\n",
            "Requirement already satisfied: seaborn>=0.11.0 in /usr/local/lib/python3.11/dist-packages (from ultralytics) (0.13.2)\n",
            "Requirement already satisfied: ultralytics-thop>=2.0.0 in /usr/local/lib/python3.11/dist-packages (from ultralytics) (2.0.14)\n",
            "Requirement already satisfied: contourpy>=1.0.1 in /usr/local/lib/python3.11/dist-packages (from matplotlib>=3.3.0->ultralytics) (1.3.1)\n",
            "Requirement already satisfied: cycler>=0.10 in /usr/local/lib/python3.11/dist-packages (from matplotlib>=3.3.0->ultralytics) (0.12.1)\n",
            "Requirement already satisfied: fonttools>=4.22.0 in /usr/local/lib/python3.11/dist-packages (from matplotlib>=3.3.0->ultralytics) (4.56.0)\n",
            "Requirement already satisfied: kiwisolver>=1.3.1 in /usr/local/lib/python3.11/dist-packages (from matplotlib>=3.3.0->ultralytics) (1.4.8)\n",
            "Requirement already satisfied: packaging>=20.0 in /usr/local/lib/python3.11/dist-packages (from matplotlib>=3.3.0->ultralytics) (24.2)\n",
            "Requirement already satisfied: pyparsing>=2.3.1 in /usr/local/lib/python3.11/dist-packages (from matplotlib>=3.3.0->ultralytics) (3.2.1)\n",
            "Requirement already satisfied: python-dateutil>=2.7 in /usr/local/lib/python3.11/dist-packages (from matplotlib>=3.3.0->ultralytics) (2.8.2)\n",
            "Requirement already satisfied: pytz>=2020.1 in /usr/local/lib/python3.11/dist-packages (from pandas>=1.1.4->ultralytics) (2025.1)\n",
            "Requirement already satisfied: tzdata>=2022.7 in /usr/local/lib/python3.11/dist-packages (from pandas>=1.1.4->ultralytics) (2025.1)\n",
            "Requirement already satisfied: charset-normalizer<4,>=2 in /usr/local/lib/python3.11/dist-packages (from requests>=2.23.0->ultralytics) (3.4.1)\n",
            "Requirement already satisfied: idna<4,>=2.5 in /usr/local/lib/python3.11/dist-packages (from requests>=2.23.0->ultralytics) (3.10)\n",
            "Requirement already satisfied: urllib3<3,>=1.21.1 in /usr/local/lib/python3.11/dist-packages (from requests>=2.23.0->ultralytics) (2.3.0)\n",
            "Requirement already satisfied: certifi>=2017.4.17 in /usr/local/lib/python3.11/dist-packages (from requests>=2.23.0->ultralytics) (2025.1.31)\n",
            "Requirement already satisfied: filelock in /usr/local/lib/python3.11/dist-packages (from torch>=1.8.0->ultralytics) (3.17.0)\n",
            "Requirement already satisfied: typing-extensions>=4.10.0 in /usr/local/lib/python3.11/dist-packages (from torch>=1.8.0->ultralytics) (4.12.2)\n",
            "Requirement already satisfied: networkx in /usr/local/lib/python3.11/dist-packages (from torch>=1.8.0->ultralytics) (3.4.2)\n",
            "Requirement already satisfied: jinja2 in /usr/local/lib/python3.11/dist-packages (from torch>=1.8.0->ultralytics) (3.1.6)\n",
            "Requirement already satisfied: fsspec in /usr/local/lib/python3.11/dist-packages (from torch>=1.8.0->ultralytics) (2024.10.0)\n",
            "Requirement already satisfied: nvidia-cuda-nvrtc-cu11==11.8.89 in /usr/local/lib/python3.11/dist-packages (from torch>=1.8.0->ultralytics) (11.8.89)\n",
            "Requirement already satisfied: nvidia-cuda-runtime-cu11==11.8.89 in /usr/local/lib/python3.11/dist-packages (from torch>=1.8.0->ultralytics) (11.8.89)\n",
            "Requirement already satisfied: nvidia-cuda-cupti-cu11==11.8.87 in /usr/local/lib/python3.11/dist-packages (from torch>=1.8.0->ultralytics) (11.8.87)\n",
            "Requirement already satisfied: nvidia-cudnn-cu11==9.1.0.70 in /usr/local/lib/python3.11/dist-packages (from torch>=1.8.0->ultralytics) (9.1.0.70)\n",
            "Requirement already satisfied: nvidia-cublas-cu11==11.11.3.6 in /usr/local/lib/python3.11/dist-packages (from torch>=1.8.0->ultralytics) (11.11.3.6)\n",
            "Requirement already satisfied: nvidia-cufft-cu11==10.9.0.58 in /usr/local/lib/python3.11/dist-packages (from torch>=1.8.0->ultralytics) (10.9.0.58)\n",
            "Requirement already satisfied: nvidia-curand-cu11==10.3.0.86 in /usr/local/lib/python3.11/dist-packages (from torch>=1.8.0->ultralytics) (10.3.0.86)\n",
            "Requirement already satisfied: nvidia-cusolver-cu11==11.4.1.48 in /usr/local/lib/python3.11/dist-packages (from torch>=1.8.0->ultralytics) (11.4.1.48)\n",
            "Requirement already satisfied: nvidia-cusparse-cu11==11.7.5.86 in /usr/local/lib/python3.11/dist-packages (from torch>=1.8.0->ultralytics) (11.7.5.86)\n",
            "Requirement already satisfied: nvidia-nccl-cu11==2.21.5 in /usr/local/lib/python3.11/dist-packages (from torch>=1.8.0->ultralytics) (2.21.5)\n",
            "Requirement already satisfied: nvidia-nvtx-cu11==11.8.86 in /usr/local/lib/python3.11/dist-packages (from torch>=1.8.0->ultralytics) (11.8.86)\n",
            "Requirement already satisfied: triton==3.2.0 in /usr/local/lib/python3.11/dist-packages (from torch>=1.8.0->ultralytics) (3.2.0)\n",
            "Requirement already satisfied: sympy==1.13.1 in /usr/local/lib/python3.11/dist-packages (from torch>=1.8.0->ultralytics) (1.13.1)\n",
            "Requirement already satisfied: mpmath<1.4,>=1.1.0 in /usr/local/lib/python3.11/dist-packages (from sympy==1.13.1->torch>=1.8.0->ultralytics) (1.3.0)\n",
            "Requirement already satisfied: six>=1.5 in /usr/local/lib/python3.11/dist-packages (from python-dateutil>=2.7->matplotlib>=3.3.0->ultralytics) (1.17.0)\n",
            "Requirement already satisfied: MarkupSafe>=2.0 in /usr/local/lib/python3.11/dist-packages (from jinja2->torch>=1.8.0->ultralytics) (3.0.2)\n"
          ]
        }
      ],
      "source": [
        "!rm -rf datasets\\\\train\\\\images\n",
        "!rm -rf datasets\\\\valid\\\\images\n",
        "!rm -rf datasets\\\\test\\\\images\n",
        "!rm -rf datasets\n",
        "!rm -rf Dice.v2-medium-color.yolov8\n",
        "!pip install --upgrade torch torchvision torchaudio --index-url https://download.pytorch.org/whl/cu118\n",
        "!pip install --upgrade ultralytics"
      ]
    },
    {
      "cell_type": "code",
      "execution_count": 1,
      "metadata": {
        "id": "__WTHQeAWE9R"
      },
      "outputs": [],
      "source": [
        "from sklearn.model_selection import train_test_split\n",
        "import shutil\n",
        "import os\n",
        "import zipfile\n",
        "\n",
        "dataset_ZIP_path = \"datasets.zip\"\n",
        "\n",
        "dataset_path = dataset_ZIP_path[:-4]\n",
        "if not os.path.exists(dataset_path):\n",
        "    # Create a directory to store the dataset\n",
        "    os.makedirs(dataset_path)\n",
        "    # Unzip the dataset in the created directory\n",
        "\n",
        "    with zipfile.ZipFile(dataset_ZIP_path, \"r\") as zip_ref:\n",
        "        zip_ref.extractall(\".\")"
      ]
    },
    {
      "cell_type": "code",
      "execution_count": 2,
      "metadata": {
        "colab": {
          "base_uri": "https://localhost:8080/"
        },
        "id": "OxgOKYi4ubA0",
        "outputId": "1ae12d70-ab6c-4943-a8bb-b253265c7092"
      },
      "outputs": [
        {
          "name": "stdout",
          "output_type": "stream",
          "text": [
            "Collecting ultralytics\n",
            "  Downloading ultralytics-8.3.88-py3-none-any.whl.metadata (35 kB)\n",
            "Requirement already satisfied: numpy<=2.1.1,>=1.23.0 in /usr/local/lib/python3.11/dist-packages (from ultralytics) (1.26.4)\n",
            "Requirement already satisfied: matplotlib>=3.3.0 in /usr/local/lib/python3.11/dist-packages (from ultralytics) (3.10.0)\n",
            "Requirement already satisfied: opencv-python>=4.6.0 in /usr/local/lib/python3.11/dist-packages (from ultralytics) (4.11.0.86)\n",
            "Requirement already satisfied: pillow>=7.1.2 in /usr/local/lib/python3.11/dist-packages (from ultralytics) (11.1.0)\n",
            "Requirement already satisfied: pyyaml>=5.3.1 in /usr/local/lib/python3.11/dist-packages (from ultralytics) (6.0.2)\n",
            "Requirement already satisfied: requests>=2.23.0 in /usr/local/lib/python3.11/dist-packages (from ultralytics) (2.32.3)\n",
            "Requirement already satisfied: scipy>=1.4.1 in /usr/local/lib/python3.11/dist-packages (from ultralytics) (1.14.1)\n",
            "Requirement already satisfied: torch>=1.8.0 in /usr/local/lib/python3.11/dist-packages (from ultralytics) (2.5.1+cu124)\n",
            "Requirement already satisfied: torchvision>=0.9.0 in /usr/local/lib/python3.11/dist-packages (from ultralytics) (0.20.1+cu124)\n",
            "Requirement already satisfied: tqdm>=4.64.0 in /usr/local/lib/python3.11/dist-packages (from ultralytics) (4.67.1)\n",
            "Requirement already satisfied: psutil in /usr/local/lib/python3.11/dist-packages (from ultralytics) (5.9.5)\n",
            "Requirement already satisfied: py-cpuinfo in /usr/local/lib/python3.11/dist-packages (from ultralytics) (9.0.0)\n",
            "Requirement already satisfied: pandas>=1.1.4 in /usr/local/lib/python3.11/dist-packages (from ultralytics) (2.2.2)\n",
            "Requirement already satisfied: seaborn>=0.11.0 in /usr/local/lib/python3.11/dist-packages (from ultralytics) (0.13.2)\n",
            "Collecting ultralytics-thop>=2.0.0 (from ultralytics)\n",
            "  Downloading ultralytics_thop-2.0.14-py3-none-any.whl.metadata (9.4 kB)\n",
            "Requirement already satisfied: contourpy>=1.0.1 in /usr/local/lib/python3.11/dist-packages (from matplotlib>=3.3.0->ultralytics) (1.3.1)\n",
            "Requirement already satisfied: cycler>=0.10 in /usr/local/lib/python3.11/dist-packages (from matplotlib>=3.3.0->ultralytics) (0.12.1)\n",
            "Requirement already satisfied: fonttools>=4.22.0 in /usr/local/lib/python3.11/dist-packages (from matplotlib>=3.3.0->ultralytics) (4.56.0)\n",
            "Requirement already satisfied: kiwisolver>=1.3.1 in /usr/local/lib/python3.11/dist-packages (from matplotlib>=3.3.0->ultralytics) (1.4.8)\n",
            "Requirement already satisfied: packaging>=20.0 in /usr/local/lib/python3.11/dist-packages (from matplotlib>=3.3.0->ultralytics) (24.2)\n",
            "Requirement already satisfied: pyparsing>=2.3.1 in /usr/local/lib/python3.11/dist-packages (from matplotlib>=3.3.0->ultralytics) (3.2.1)\n",
            "Requirement already satisfied: python-dateutil>=2.7 in /usr/local/lib/python3.11/dist-packages (from matplotlib>=3.3.0->ultralytics) (2.8.2)\n",
            "Requirement already satisfied: pytz>=2020.1 in /usr/local/lib/python3.11/dist-packages (from pandas>=1.1.4->ultralytics) (2025.1)\n",
            "Requirement already satisfied: tzdata>=2022.7 in /usr/local/lib/python3.11/dist-packages (from pandas>=1.1.4->ultralytics) (2025.1)\n",
            "Requirement already satisfied: charset-normalizer<4,>=2 in /usr/local/lib/python3.11/dist-packages (from requests>=2.23.0->ultralytics) (3.4.1)\n",
            "Requirement already satisfied: idna<4,>=2.5 in /usr/local/lib/python3.11/dist-packages (from requests>=2.23.0->ultralytics) (3.10)\n",
            "Requirement already satisfied: urllib3<3,>=1.21.1 in /usr/local/lib/python3.11/dist-packages (from requests>=2.23.0->ultralytics) (2.3.0)\n",
            "Requirement already satisfied: certifi>=2017.4.17 in /usr/local/lib/python3.11/dist-packages (from requests>=2.23.0->ultralytics) (2025.1.31)\n",
            "Requirement already satisfied: filelock in /usr/local/lib/python3.11/dist-packages (from torch>=1.8.0->ultralytics) (3.17.0)\n",
            "Requirement already satisfied: typing-extensions>=4.8.0 in /usr/local/lib/python3.11/dist-packages (from torch>=1.8.0->ultralytics) (4.12.2)\n",
            "Requirement already satisfied: networkx in /usr/local/lib/python3.11/dist-packages (from torch>=1.8.0->ultralytics) (3.4.2)\n",
            "Requirement already satisfied: jinja2 in /usr/local/lib/python3.11/dist-packages (from torch>=1.8.0->ultralytics) (3.1.6)\n",
            "Requirement already satisfied: fsspec in /usr/local/lib/python3.11/dist-packages (from torch>=1.8.0->ultralytics) (2024.10.0)\n",
            "Collecting nvidia-cuda-nvrtc-cu12==12.4.127 (from torch>=1.8.0->ultralytics)\n",
            "  Downloading nvidia_cuda_nvrtc_cu12-12.4.127-py3-none-manylinux2014_x86_64.whl.metadata (1.5 kB)\n",
            "Collecting nvidia-cuda-runtime-cu12==12.4.127 (from torch>=1.8.0->ultralytics)\n",
            "  Downloading nvidia_cuda_runtime_cu12-12.4.127-py3-none-manylinux2014_x86_64.whl.metadata (1.5 kB)\n",
            "Collecting nvidia-cuda-cupti-cu12==12.4.127 (from torch>=1.8.0->ultralytics)\n",
            "  Downloading nvidia_cuda_cupti_cu12-12.4.127-py3-none-manylinux2014_x86_64.whl.metadata (1.6 kB)\n",
            "Collecting nvidia-cudnn-cu12==9.1.0.70 (from torch>=1.8.0->ultralytics)\n",
            "  Downloading nvidia_cudnn_cu12-9.1.0.70-py3-none-manylinux2014_x86_64.whl.metadata (1.6 kB)\n",
            "Collecting nvidia-cublas-cu12==12.4.5.8 (from torch>=1.8.0->ultralytics)\n",
            "  Downloading nvidia_cublas_cu12-12.4.5.8-py3-none-manylinux2014_x86_64.whl.metadata (1.5 kB)\n",
            "Collecting nvidia-cufft-cu12==11.2.1.3 (from torch>=1.8.0->ultralytics)\n",
            "  Downloading nvidia_cufft_cu12-11.2.1.3-py3-none-manylinux2014_x86_64.whl.metadata (1.5 kB)\n",
            "Collecting nvidia-curand-cu12==10.3.5.147 (from torch>=1.8.0->ultralytics)\n",
            "  Downloading nvidia_curand_cu12-10.3.5.147-py3-none-manylinux2014_x86_64.whl.metadata (1.5 kB)\n",
            "Collecting nvidia-cusolver-cu12==11.6.1.9 (from torch>=1.8.0->ultralytics)\n",
            "  Downloading nvidia_cusolver_cu12-11.6.1.9-py3-none-manylinux2014_x86_64.whl.metadata (1.6 kB)\n",
            "Collecting nvidia-cusparse-cu12==12.3.1.170 (from torch>=1.8.0->ultralytics)\n",
            "  Downloading nvidia_cusparse_cu12-12.3.1.170-py3-none-manylinux2014_x86_64.whl.metadata (1.6 kB)\n",
            "Requirement already satisfied: nvidia-nccl-cu12==2.21.5 in /usr/local/lib/python3.11/dist-packages (from torch>=1.8.0->ultralytics) (2.21.5)\n",
            "Requirement already satisfied: nvidia-nvtx-cu12==12.4.127 in /usr/local/lib/python3.11/dist-packages (from torch>=1.8.0->ultralytics) (12.4.127)\n",
            "Collecting nvidia-nvjitlink-cu12==12.4.127 (from torch>=1.8.0->ultralytics)\n",
            "  Downloading nvidia_nvjitlink_cu12-12.4.127-py3-none-manylinux2014_x86_64.whl.metadata (1.5 kB)\n",
            "Requirement already satisfied: triton==3.1.0 in /usr/local/lib/python3.11/dist-packages (from torch>=1.8.0->ultralytics) (3.1.0)\n",
            "Requirement already satisfied: sympy==1.13.1 in /usr/local/lib/python3.11/dist-packages (from torch>=1.8.0->ultralytics) (1.13.1)\n",
            "Requirement already satisfied: mpmath<1.4,>=1.1.0 in /usr/local/lib/python3.11/dist-packages (from sympy==1.13.1->torch>=1.8.0->ultralytics) (1.3.0)\n",
            "Requirement already satisfied: six>=1.5 in /usr/local/lib/python3.11/dist-packages (from python-dateutil>=2.7->matplotlib>=3.3.0->ultralytics) (1.17.0)\n",
            "Requirement already satisfied: MarkupSafe>=2.0 in /usr/local/lib/python3.11/dist-packages (from jinja2->torch>=1.8.0->ultralytics) (3.0.2)\n",
            "Downloading ultralytics-8.3.88-py3-none-any.whl (932 kB)\n",
            "\u001b[2K   \u001b[90m━━━━━━━━━━━━━━━━━━━━━━━━━━━━━━━━━━━━━━━━\u001b[0m \u001b[32m932.9/932.9 kB\u001b[0m \u001b[31m30.8 MB/s\u001b[0m eta \u001b[36m0:00:00\u001b[0m\n",
            "\u001b[?25hDownloading nvidia_cublas_cu12-12.4.5.8-py3-none-manylinux2014_x86_64.whl (363.4 MB)\n",
            "\u001b[2K   \u001b[90m━━━━━━━━━━━━━━━━━━━━━━━━━━━━━━━━━━━━━━━━\u001b[0m \u001b[32m363.4/363.4 MB\u001b[0m \u001b[31m4.0 MB/s\u001b[0m eta \u001b[36m0:00:00\u001b[0m\n",
            "\u001b[?25hDownloading nvidia_cuda_cupti_cu12-12.4.127-py3-none-manylinux2014_x86_64.whl (13.8 MB)\n",
            "\u001b[2K   \u001b[90m━━━━━━━━━━━━━━━━━━━━━━━━━━━━━━━━━━━━━━━━\u001b[0m \u001b[32m13.8/13.8 MB\u001b[0m \u001b[31m77.6 MB/s\u001b[0m eta \u001b[36m0:00:00\u001b[0m\n",
            "\u001b[?25hDownloading nvidia_cuda_nvrtc_cu12-12.4.127-py3-none-manylinux2014_x86_64.whl (24.6 MB)\n",
            "\u001b[2K   \u001b[90m━━━━━━━━━━━━━━━━━━━━━━━━━━━━━━━━━━━━━━━━\u001b[0m \u001b[32m24.6/24.6 MB\u001b[0m \u001b[31m56.5 MB/s\u001b[0m eta \u001b[36m0:00:00\u001b[0m\n",
            "\u001b[?25hDownloading nvidia_cuda_runtime_cu12-12.4.127-py3-none-manylinux2014_x86_64.whl (883 kB)\n",
            "\u001b[2K   \u001b[90m━━━━━━━━━━━━━━━━━━━━━━━━━━━━━━━━━━━━━━━━\u001b[0m \u001b[32m883.7/883.7 kB\u001b[0m \u001b[31m45.9 MB/s\u001b[0m eta \u001b[36m0:00:00\u001b[0m\n",
            "\u001b[?25hDownloading nvidia_cudnn_cu12-9.1.0.70-py3-none-manylinux2014_x86_64.whl (664.8 MB)\n",
            "\u001b[2K   \u001b[90m━━━━━━━━━━━━━━━━━━━━━━━━━━━━━━━━━━━━━━━━\u001b[0m \u001b[32m664.8/664.8 MB\u001b[0m \u001b[31m2.8 MB/s\u001b[0m eta \u001b[36m0:00:00\u001b[0m\n",
            "\u001b[?25hDownloading nvidia_cufft_cu12-11.2.1.3-py3-none-manylinux2014_x86_64.whl (211.5 MB)\n",
            "\u001b[2K   \u001b[90m━━━━━━━━━━━━━━━━━━━━━━━━━━━━━━━━━━━━━━━━\u001b[0m \u001b[32m211.5/211.5 MB\u001b[0m \u001b[31m5.7 MB/s\u001b[0m eta \u001b[36m0:00:00\u001b[0m\n",
            "\u001b[?25hDownloading nvidia_curand_cu12-10.3.5.147-py3-none-manylinux2014_x86_64.whl (56.3 MB)\n",
            "\u001b[2K   \u001b[90m━━━━━━━━━━━━━━━━━━━━━━━━━━━━━━━━━━━━━━━━\u001b[0m \u001b[32m56.3/56.3 MB\u001b[0m \u001b[31m15.7 MB/s\u001b[0m eta \u001b[36m0:00:00\u001b[0m\n",
            "\u001b[?25hDownloading nvidia_cusolver_cu12-11.6.1.9-py3-none-manylinux2014_x86_64.whl (127.9 MB)\n",
            "\u001b[2K   \u001b[90m━━━━━━━━━━━━━━━━━━━━━━━━━━━━━━━━━━━━━━━━\u001b[0m \u001b[32m127.9/127.9 MB\u001b[0m \u001b[31m7.5 MB/s\u001b[0m eta \u001b[36m0:00:00\u001b[0m\n",
            "\u001b[?25hDownloading nvidia_cusparse_cu12-12.3.1.170-py3-none-manylinux2014_x86_64.whl (207.5 MB)\n",
            "\u001b[2K   \u001b[90m━━━━━━━━━━━━━━━━━━━━━━━━━━━━━━━━━━━━━━━━\u001b[0m \u001b[32m207.5/207.5 MB\u001b[0m \u001b[31m5.7 MB/s\u001b[0m eta \u001b[36m0:00:00\u001b[0m\n",
            "\u001b[?25hDownloading nvidia_nvjitlink_cu12-12.4.127-py3-none-manylinux2014_x86_64.whl (21.1 MB)\n",
            "\u001b[2K   \u001b[90m━━━━━━━━━━━━━━━━━━━━━━━━━━━━━━━━━━━━━━━━\u001b[0m \u001b[32m21.1/21.1 MB\u001b[0m \u001b[31m86.9 MB/s\u001b[0m eta \u001b[36m0:00:00\u001b[0m\n",
            "\u001b[?25hDownloading ultralytics_thop-2.0.14-py3-none-any.whl (26 kB)\n",
            "Installing collected packages: nvidia-nvjitlink-cu12, nvidia-curand-cu12, nvidia-cufft-cu12, nvidia-cuda-runtime-cu12, nvidia-cuda-nvrtc-cu12, nvidia-cuda-cupti-cu12, nvidia-cublas-cu12, nvidia-cusparse-cu12, nvidia-cudnn-cu12, nvidia-cusolver-cu12, ultralytics-thop, ultralytics\n",
            "  Attempting uninstall: nvidia-nvjitlink-cu12\n",
            "    Found existing installation: nvidia-nvjitlink-cu12 12.5.82\n",
            "    Uninstalling nvidia-nvjitlink-cu12-12.5.82:\n",
            "      Successfully uninstalled nvidia-nvjitlink-cu12-12.5.82\n",
            "  Attempting uninstall: nvidia-curand-cu12\n",
            "    Found existing installation: nvidia-curand-cu12 10.3.6.82\n",
            "    Uninstalling nvidia-curand-cu12-10.3.6.82:\n",
            "      Successfully uninstalled nvidia-curand-cu12-10.3.6.82\n",
            "  Attempting uninstall: nvidia-cufft-cu12\n",
            "    Found existing installation: nvidia-cufft-cu12 11.2.3.61\n",
            "    Uninstalling nvidia-cufft-cu12-11.2.3.61:\n",
            "      Successfully uninstalled nvidia-cufft-cu12-11.2.3.61\n",
            "  Attempting uninstall: nvidia-cuda-runtime-cu12\n",
            "    Found existing installation: nvidia-cuda-runtime-cu12 12.5.82\n",
            "    Uninstalling nvidia-cuda-runtime-cu12-12.5.82:\n",
            "      Successfully uninstalled nvidia-cuda-runtime-cu12-12.5.82\n",
            "  Attempting uninstall: nvidia-cuda-nvrtc-cu12\n",
            "    Found existing installation: nvidia-cuda-nvrtc-cu12 12.5.82\n",
            "    Uninstalling nvidia-cuda-nvrtc-cu12-12.5.82:\n",
            "      Successfully uninstalled nvidia-cuda-nvrtc-cu12-12.5.82\n",
            "  Attempting uninstall: nvidia-cuda-cupti-cu12\n",
            "    Found existing installation: nvidia-cuda-cupti-cu12 12.5.82\n",
            "    Uninstalling nvidia-cuda-cupti-cu12-12.5.82:\n",
            "      Successfully uninstalled nvidia-cuda-cupti-cu12-12.5.82\n",
            "  Attempting uninstall: nvidia-cublas-cu12\n",
            "    Found existing installation: nvidia-cublas-cu12 12.5.3.2\n",
            "    Uninstalling nvidia-cublas-cu12-12.5.3.2:\n",
            "      Successfully uninstalled nvidia-cublas-cu12-12.5.3.2\n",
            "  Attempting uninstall: nvidia-cusparse-cu12\n",
            "    Found existing installation: nvidia-cusparse-cu12 12.5.1.3\n",
            "    Uninstalling nvidia-cusparse-cu12-12.5.1.3:\n",
            "      Successfully uninstalled nvidia-cusparse-cu12-12.5.1.3\n",
            "  Attempting uninstall: nvidia-cudnn-cu12\n",
            "    Found existing installation: nvidia-cudnn-cu12 9.3.0.75\n",
            "    Uninstalling nvidia-cudnn-cu12-9.3.0.75:\n",
            "      Successfully uninstalled nvidia-cudnn-cu12-9.3.0.75\n",
            "  Attempting uninstall: nvidia-cusolver-cu12\n",
            "    Found existing installation: nvidia-cusolver-cu12 11.6.3.83\n",
            "    Uninstalling nvidia-cusolver-cu12-11.6.3.83:\n",
            "      Successfully uninstalled nvidia-cusolver-cu12-11.6.3.83\n",
            "Successfully installed nvidia-cublas-cu12-12.4.5.8 nvidia-cuda-cupti-cu12-12.4.127 nvidia-cuda-nvrtc-cu12-12.4.127 nvidia-cuda-runtime-cu12-12.4.127 nvidia-cudnn-cu12-9.1.0.70 nvidia-cufft-cu12-11.2.1.3 nvidia-curand-cu12-10.3.5.147 nvidia-cusolver-cu12-11.6.1.9 nvidia-cusparse-cu12-12.3.1.170 nvidia-nvjitlink-cu12-12.4.127 ultralytics-8.3.88 ultralytics-thop-2.0.14\n"
          ]
        }
      ],
      "source": [
        "!pip install ultralytics"
      ]
    },
    {
      "cell_type": "code",
      "execution_count": 3,
      "metadata": {
        "colab": {
          "base_uri": "https://localhost:8080/"
        },
        "id": "d7lOQ125WE9R",
        "outputId": "5abeb3d8-925b-4425-8a47-e79e1c8c2ad9"
      },
      "outputs": [
        {
          "name": "stdout",
          "output_type": "stream",
          "text": [
            "Creating new Ultralytics Settings v0.0.6 file ✅ \n",
            "View Ultralytics Settings with 'yolo settings' or at '/root/.config/Ultralytics/settings.json'\n",
            "Update Settings with 'yolo settings key=value', i.e. 'yolo settings runs_dir=path/to/dir'. For help see https://docs.ultralytics.com/quickstart/#ultralytics-settings.\n",
            "Ultralytics 8.3.88 🚀 Python-3.11.11 torch-2.5.1+cu124 CUDA:0 (Tesla T4, 15095MiB)\n",
            "\u001b[34m\u001b[1mengine/trainer: \u001b[0mtask=detect, mode=train, model=yolov8n.pt, data=datasets/config.yaml, epochs=50, time=None, patience=100, batch=16, imgsz=640, save=True, save_period=-1, cache=False, device=None, workers=8, project=None, name=train, exist_ok=False, pretrained=True, optimizer=auto, verbose=True, seed=0, deterministic=True, single_cls=False, rect=False, cos_lr=False, close_mosaic=10, resume=False, amp=True, fraction=1.0, profile=False, freeze=None, multi_scale=False, overlap_mask=True, mask_ratio=4, dropout=0.0, val=True, split=val, save_json=False, save_hybrid=False, conf=None, iou=0.7, max_det=300, half=False, dnn=False, plots=True, source=None, vid_stride=1, stream_buffer=False, visualize=False, augment=False, agnostic_nms=False, classes=None, retina_masks=False, embed=None, show=False, save_frames=False, save_txt=False, save_conf=False, save_crop=False, show_labels=True, show_conf=True, show_boxes=True, line_width=None, format=torchscript, keras=False, optimize=False, int8=False, dynamic=False, simplify=True, opset=None, workspace=None, nms=False, lr0=0.01, lrf=0.01, momentum=0.937, weight_decay=0.0005, warmup_epochs=3.0, warmup_momentum=0.8, warmup_bias_lr=0.1, box=7.5, cls=0.5, dfl=1.5, pose=12.0, kobj=1.0, nbs=64, hsv_h=0.015, hsv_s=0.7, hsv_v=0.4, degrees=0.0, translate=0.1, scale=0.5, shear=0.0, perspective=0.0, flipud=0.0, fliplr=0.5, bgr=0.0, mosaic=1.0, mixup=0.0, copy_paste=0.0, copy_paste_mode=flip, auto_augment=randaugment, erasing=0.4, crop_fraction=1.0, cfg=None, tracker=botsort.yaml, save_dir=runs/detect/train\n",
            "Downloading https://ultralytics.com/assets/Arial.ttf to '/root/.config/Ultralytics/Arial.ttf'...\n"
          ]
        },
        {
          "name": "stderr",
          "output_type": "stream",
          "text": [
            "100%|██████████| 755k/755k [00:00<00:00, 28.0MB/s]\n"
          ]
        },
        {
          "name": "stdout",
          "output_type": "stream",
          "text": [
            "Overriding model.yaml nc=80 with nc=6\n",
            "\n",
            "                   from  n    params  module                                       arguments                     \n",
            "  0                  -1  1       464  ultralytics.nn.modules.conv.Conv             [3, 16, 3, 2]                 \n",
            "  1                  -1  1      4672  ultralytics.nn.modules.conv.Conv             [16, 32, 3, 2]                \n",
            "  2                  -1  1      7360  ultralytics.nn.modules.block.C2f             [32, 32, 1, True]             \n",
            "  3                  -1  1     18560  ultralytics.nn.modules.conv.Conv             [32, 64, 3, 2]                \n",
            "  4                  -1  2     49664  ultralytics.nn.modules.block.C2f             [64, 64, 2, True]             \n",
            "  5                  -1  1     73984  ultralytics.nn.modules.conv.Conv             [64, 128, 3, 2]               \n",
            "  6                  -1  2    197632  ultralytics.nn.modules.block.C2f             [128, 128, 2, True]           \n",
            "  7                  -1  1    295424  ultralytics.nn.modules.conv.Conv             [128, 256, 3, 2]              \n",
            "  8                  -1  1    460288  ultralytics.nn.modules.block.C2f             [256, 256, 1, True]           \n",
            "  9                  -1  1    164608  ultralytics.nn.modules.block.SPPF            [256, 256, 5]                 \n",
            " 10                  -1  1         0  torch.nn.modules.upsampling.Upsample         [None, 2, 'nearest']          \n",
            " 11             [-1, 6]  1         0  ultralytics.nn.modules.conv.Concat           [1]                           \n",
            " 12                  -1  1    148224  ultralytics.nn.modules.block.C2f             [384, 128, 1]                 \n",
            " 13                  -1  1         0  torch.nn.modules.upsampling.Upsample         [None, 2, 'nearest']          \n",
            " 14             [-1, 4]  1         0  ultralytics.nn.modules.conv.Concat           [1]                           \n",
            " 15                  -1  1     37248  ultralytics.nn.modules.block.C2f             [192, 64, 1]                  \n",
            " 16                  -1  1     36992  ultralytics.nn.modules.conv.Conv             [64, 64, 3, 2]                \n",
            " 17            [-1, 12]  1         0  ultralytics.nn.modules.conv.Concat           [1]                           \n",
            " 18                  -1  1    123648  ultralytics.nn.modules.block.C2f             [192, 128, 1]                 \n",
            " 19                  -1  1    147712  ultralytics.nn.modules.conv.Conv             [128, 128, 3, 2]              \n",
            " 20             [-1, 9]  1         0  ultralytics.nn.modules.conv.Concat           [1]                           \n",
            " 21                  -1  1    493056  ultralytics.nn.modules.block.C2f             [384, 256, 1]                 \n",
            " 22        [15, 18, 21]  1    752482  ultralytics.nn.modules.head.Detect           [6, [64, 128, 256]]           \n",
            "Model summary: 129 layers, 3,012,018 parameters, 3,012,002 gradients, 8.2 GFLOPs\n",
            "\n",
            "Transferred 319/355 items from pretrained weights\n",
            "\u001b[34m\u001b[1mTensorBoard: \u001b[0mStart with 'tensorboard --logdir runs/detect/train', view at http://localhost:6006/\n",
            "Freezing layer 'model.22.dfl.conv.weight'\n",
            "\u001b[34m\u001b[1mAMP: \u001b[0mrunning Automatic Mixed Precision (AMP) checks...\n",
            "Downloading https://github.com/ultralytics/assets/releases/download/v8.3.0/yolo11n.pt to 'yolo11n.pt'...\n"
          ]
        },
        {
          "name": "stderr",
          "output_type": "stream",
          "text": [
            "100%|██████████| 5.35M/5.35M [00:00<00:00, 97.6MB/s]\n"
          ]
        },
        {
          "name": "stdout",
          "output_type": "stream",
          "text": [
            "\u001b[34m\u001b[1mAMP: \u001b[0mchecks passed ✅\n"
          ]
        },
        {
          "name": "stderr",
          "output_type": "stream",
          "text": [
            "\u001b[34m\u001b[1mtrain: \u001b[0mScanning /content/datasets/labels/train... 538 images, 0 backgrounds, 0 corrupt: 100%|██████████| 538/538 [00:01<00:00, 378.84it/s]\n"
          ]
        },
        {
          "name": "stdout",
          "output_type": "stream",
          "text": [
            "\u001b[34m\u001b[1mtrain: \u001b[0mNew cache created: /content/datasets/labels/train.cache\n",
            "\u001b[34m\u001b[1malbumentations: \u001b[0mBlur(p=0.01, blur_limit=(3, 7)), MedianBlur(p=0.01, blur_limit=(3, 7)), ToGray(p=0.01, num_output_channels=3, method='weighted_average'), CLAHE(p=0.01, clip_limit=(1.0, 4.0), tile_grid_size=(8, 8))\n"
          ]
        },
        {
          "name": "stderr",
          "output_type": "stream",
          "text": [
            "\u001b[34m\u001b[1mval: \u001b[0mScanning /content/datasets/labels/val... 180 images, 0 backgrounds, 0 corrupt: 100%|██████████| 180/180 [00:00<00:00, 274.18it/s]"
          ]
        },
        {
          "name": "stdout",
          "output_type": "stream",
          "text": [
            "\u001b[34m\u001b[1mval: \u001b[0mNew cache created: /content/datasets/labels/val.cache\n"
          ]
        },
        {
          "name": "stderr",
          "output_type": "stream",
          "text": [
            "\n"
          ]
        },
        {
          "name": "stdout",
          "output_type": "stream",
          "text": [
            "Plotting labels to runs/detect/train/labels.jpg... \n",
            "\u001b[34m\u001b[1moptimizer:\u001b[0m 'optimizer=auto' found, ignoring 'lr0=0.01' and 'momentum=0.937' and determining best 'optimizer', 'lr0' and 'momentum' automatically... \n",
            "\u001b[34m\u001b[1moptimizer:\u001b[0m AdamW(lr=0.001, momentum=0.9) with parameter groups 57 weight(decay=0.0), 64 weight(decay=0.0005), 63 bias(decay=0.0)\n",
            "\u001b[34m\u001b[1mTensorBoard: \u001b[0mmodel graph visualization added ✅\n",
            "Image sizes 640 train, 640 val\n",
            "Using 2 dataloader workers\n",
            "Logging results to \u001b[1mruns/detect/train\u001b[0m\n",
            "Starting training for 50 epochs...\n",
            "\n",
            "      Epoch    GPU_mem   box_loss   cls_loss   dfl_loss  Instances       Size\n"
          ]
        },
        {
          "name": "stderr",
          "output_type": "stream",
          "text": [
            "       1/50      2.29G      2.065      4.934      1.173         76        640: 100%|██████████| 34/34 [00:12<00:00,  2.72it/s]\n",
            "                 Class     Images  Instances      Box(P          R      mAP50  mAP50-95): 100%|██████████| 6/6 [00:02<00:00,  2.10it/s]"
          ]
        },
        {
          "name": "stdout",
          "output_type": "stream",
          "text": [
            "                   all        180        432    0.00201      0.209     0.0266    0.00981\n"
          ]
        },
        {
          "name": "stderr",
          "output_type": "stream",
          "text": [
            "\n"
          ]
        },
        {
          "name": "stdout",
          "output_type": "stream",
          "text": [
            "\n",
            "      Epoch    GPU_mem   box_loss   cls_loss   dfl_loss  Instances       Size\n"
          ]
        },
        {
          "name": "stderr",
          "output_type": "stream",
          "text": [
            "       2/50      2.45G      1.505      3.261      0.949         60        640: 100%|██████████| 34/34 [00:09<00:00,  3.43it/s]\n",
            "                 Class     Images  Instances      Box(P          R      mAP50  mAP50-95): 100%|██████████| 6/6 [00:02<00:00,  2.82it/s]"
          ]
        },
        {
          "name": "stdout",
          "output_type": "stream",
          "text": [
            "                   all        180        432    0.00694      0.616      0.116     0.0684\n"
          ]
        },
        {
          "name": "stderr",
          "output_type": "stream",
          "text": [
            "\n"
          ]
        },
        {
          "name": "stdout",
          "output_type": "stream",
          "text": [
            "\n",
            "      Epoch    GPU_mem   box_loss   cls_loss   dfl_loss  Instances       Size\n"
          ]
        },
        {
          "name": "stderr",
          "output_type": "stream",
          "text": [
            "       3/50      2.61G      1.447      2.967     0.9315         78        640: 100%|██████████| 34/34 [00:09<00:00,  3.47it/s]\n",
            "                 Class     Images  Instances      Box(P          R      mAP50  mAP50-95): 100%|██████████| 6/6 [00:01<00:00,  3.18it/s]"
          ]
        },
        {
          "name": "stdout",
          "output_type": "stream",
          "text": [
            "                   all        180        432      0.184     0.0755      0.184        0.1\n"
          ]
        },
        {
          "name": "stderr",
          "output_type": "stream",
          "text": [
            "\n"
          ]
        },
        {
          "name": "stdout",
          "output_type": "stream",
          "text": [
            "\n",
            "      Epoch    GPU_mem   box_loss   cls_loss   dfl_loss  Instances       Size\n"
          ]
        },
        {
          "name": "stderr",
          "output_type": "stream",
          "text": [
            "       4/50      2.61G      1.345      2.641     0.9139         99        640: 100%|██████████| 34/34 [00:10<00:00,  3.20it/s]\n",
            "                 Class     Images  Instances      Box(P          R      mAP50  mAP50-95): 100%|██████████| 6/6 [00:01<00:00,  3.22it/s]"
          ]
        },
        {
          "name": "stdout",
          "output_type": "stream",
          "text": [
            "                   all        180        432      0.223      0.353      0.237       0.15\n"
          ]
        },
        {
          "name": "stderr",
          "output_type": "stream",
          "text": [
            "\n"
          ]
        },
        {
          "name": "stdout",
          "output_type": "stream",
          "text": [
            "\n",
            "      Epoch    GPU_mem   box_loss   cls_loss   dfl_loss  Instances       Size\n"
          ]
        },
        {
          "name": "stderr",
          "output_type": "stream",
          "text": [
            "       5/50      2.61G      1.285      2.512     0.9104         49        640: 100%|██████████| 34/34 [00:09<00:00,  3.46it/s]\n",
            "                 Class     Images  Instances      Box(P          R      mAP50  mAP50-95): 100%|██████████| 6/6 [00:01<00:00,  3.10it/s]\n"
          ]
        },
        {
          "name": "stdout",
          "output_type": "stream",
          "text": [
            "                   all        180        432      0.259      0.464      0.309      0.192\n",
            "\n",
            "      Epoch    GPU_mem   box_loss   cls_loss   dfl_loss  Instances       Size\n"
          ]
        },
        {
          "name": "stderr",
          "output_type": "stream",
          "text": [
            "       6/50      2.61G      1.272      2.323     0.9018         15        640: 100%|██████████| 34/34 [00:09<00:00,  3.41it/s]\n",
            "                 Class     Images  Instances      Box(P          R      mAP50  mAP50-95): 100%|██████████| 6/6 [00:01<00:00,  3.42it/s]\n"
          ]
        },
        {
          "name": "stdout",
          "output_type": "stream",
          "text": [
            "                   all        180        432      0.334      0.466      0.372      0.231\n",
            "\n",
            "      Epoch    GPU_mem   box_loss   cls_loss   dfl_loss  Instances       Size\n"
          ]
        },
        {
          "name": "stderr",
          "output_type": "stream",
          "text": [
            "       7/50      2.78G      1.237      2.143     0.9014         84        640: 100%|██████████| 34/34 [00:09<00:00,  3.47it/s]\n",
            "                 Class     Images  Instances      Box(P          R      mAP50  mAP50-95): 100%|██████████| 6/6 [00:01<00:00,  3.35it/s]\n"
          ]
        },
        {
          "name": "stdout",
          "output_type": "stream",
          "text": [
            "                   all        180        432      0.385      0.488      0.409      0.261\n",
            "\n",
            "      Epoch    GPU_mem   box_loss   cls_loss   dfl_loss  Instances       Size\n"
          ]
        },
        {
          "name": "stderr",
          "output_type": "stream",
          "text": [
            "       8/50      2.78G      1.179      2.021     0.8962         78        640: 100%|██████████| 34/34 [00:09<00:00,  3.45it/s]\n",
            "                 Class     Images  Instances      Box(P          R      mAP50  mAP50-95): 100%|██████████| 6/6 [00:01<00:00,  3.40it/s]\n"
          ]
        },
        {
          "name": "stdout",
          "output_type": "stream",
          "text": [
            "                   all        180        432      0.433      0.549      0.466      0.319\n",
            "\n",
            "      Epoch    GPU_mem   box_loss   cls_loss   dfl_loss  Instances       Size\n"
          ]
        },
        {
          "name": "stderr",
          "output_type": "stream",
          "text": [
            "       9/50      2.78G      1.151      1.963     0.8791         22        640: 100%|██████████| 34/34 [00:09<00:00,  3.51it/s]\n",
            "                 Class     Images  Instances      Box(P          R      mAP50  mAP50-95): 100%|██████████| 6/6 [00:01<00:00,  3.07it/s]"
          ]
        },
        {
          "name": "stdout",
          "output_type": "stream",
          "text": [
            "                   all        180        432       0.43      0.523      0.504      0.343\n"
          ]
        },
        {
          "name": "stderr",
          "output_type": "stream",
          "text": [
            "\n"
          ]
        },
        {
          "name": "stdout",
          "output_type": "stream",
          "text": [
            "\n",
            "      Epoch    GPU_mem   box_loss   cls_loss   dfl_loss  Instances       Size\n"
          ]
        },
        {
          "name": "stderr",
          "output_type": "stream",
          "text": [
            "      10/50      2.78G      1.139      1.846     0.8956         23        640: 100%|██████████| 34/34 [00:09<00:00,  3.42it/s]\n",
            "                 Class     Images  Instances      Box(P          R      mAP50  mAP50-95): 100%|██████████| 6/6 [00:01<00:00,  3.38it/s]"
          ]
        },
        {
          "name": "stdout",
          "output_type": "stream",
          "text": [
            "                   all        180        432      0.449      0.581      0.522      0.358\n"
          ]
        },
        {
          "name": "stderr",
          "output_type": "stream",
          "text": [
            "\n"
          ]
        },
        {
          "name": "stdout",
          "output_type": "stream",
          "text": [
            "\n",
            "      Epoch    GPU_mem   box_loss   cls_loss   dfl_loss  Instances       Size\n"
          ]
        },
        {
          "name": "stderr",
          "output_type": "stream",
          "text": [
            "      11/50      2.78G      1.113      1.685     0.8845         33        640: 100%|██████████| 34/34 [00:09<00:00,  3.43it/s]\n",
            "                 Class     Images  Instances      Box(P          R      mAP50  mAP50-95): 100%|██████████| 6/6 [00:01<00:00,  3.39it/s]"
          ]
        },
        {
          "name": "stdout",
          "output_type": "stream",
          "text": [
            "                   all        180        432      0.557      0.544      0.594      0.409\n"
          ]
        },
        {
          "name": "stderr",
          "output_type": "stream",
          "text": [
            "\n"
          ]
        },
        {
          "name": "stdout",
          "output_type": "stream",
          "text": [
            "\n",
            "      Epoch    GPU_mem   box_loss   cls_loss   dfl_loss  Instances       Size\n"
          ]
        },
        {
          "name": "stderr",
          "output_type": "stream",
          "text": [
            "      12/50      2.78G      1.137      1.638     0.8787         35        640: 100%|██████████| 34/34 [00:09<00:00,  3.41it/s]\n",
            "                 Class     Images  Instances      Box(P          R      mAP50  mAP50-95): 100%|██████████| 6/6 [00:01<00:00,  3.07it/s]"
          ]
        },
        {
          "name": "stdout",
          "output_type": "stream",
          "text": [
            "                   all        180        432      0.598      0.574      0.625      0.433\n"
          ]
        },
        {
          "name": "stderr",
          "output_type": "stream",
          "text": [
            "\n"
          ]
        },
        {
          "name": "stdout",
          "output_type": "stream",
          "text": [
            "\n",
            "      Epoch    GPU_mem   box_loss   cls_loss   dfl_loss  Instances       Size\n"
          ]
        },
        {
          "name": "stderr",
          "output_type": "stream",
          "text": [
            "      13/50      2.78G      1.073       1.46     0.8798         23        640: 100%|██████████| 34/34 [00:09<00:00,  3.62it/s]\n",
            "                 Class     Images  Instances      Box(P          R      mAP50  mAP50-95): 100%|██████████| 6/6 [00:02<00:00,  2.94it/s]"
          ]
        },
        {
          "name": "stdout",
          "output_type": "stream",
          "text": [
            "                   all        180        432      0.583      0.648      0.639      0.436\n"
          ]
        },
        {
          "name": "stderr",
          "output_type": "stream",
          "text": [
            "\n"
          ]
        },
        {
          "name": "stdout",
          "output_type": "stream",
          "text": [
            "\n",
            "      Epoch    GPU_mem   box_loss   cls_loss   dfl_loss  Instances       Size\n"
          ]
        },
        {
          "name": "stderr",
          "output_type": "stream",
          "text": [
            "      14/50      2.78G       1.06       1.35     0.8708         32        640: 100%|██████████| 34/34 [00:08<00:00,  3.85it/s]\n",
            "                 Class     Images  Instances      Box(P          R      mAP50  mAP50-95): 100%|██████████| 6/6 [00:02<00:00,  2.30it/s]"
          ]
        },
        {
          "name": "stdout",
          "output_type": "stream",
          "text": [
            "                   all        180        432      0.608      0.648      0.707      0.476\n"
          ]
        },
        {
          "name": "stderr",
          "output_type": "stream",
          "text": [
            "\n"
          ]
        },
        {
          "name": "stdout",
          "output_type": "stream",
          "text": [
            "\n",
            "      Epoch    GPU_mem   box_loss   cls_loss   dfl_loss  Instances       Size\n"
          ]
        },
        {
          "name": "stderr",
          "output_type": "stream",
          "text": [
            "      15/50      2.78G      1.027      1.358     0.8659         48        640: 100%|██████████| 34/34 [00:08<00:00,  3.91it/s]\n",
            "                 Class     Images  Instances      Box(P          R      mAP50  mAP50-95): 100%|██████████| 6/6 [00:02<00:00,  2.14it/s]"
          ]
        },
        {
          "name": "stdout",
          "output_type": "stream",
          "text": [
            "                   all        180        432      0.655      0.623      0.701      0.488\n"
          ]
        },
        {
          "name": "stderr",
          "output_type": "stream",
          "text": [
            "\n"
          ]
        },
        {
          "name": "stdout",
          "output_type": "stream",
          "text": [
            "\n",
            "      Epoch    GPU_mem   box_loss   cls_loss   dfl_loss  Instances       Size\n"
          ]
        },
        {
          "name": "stderr",
          "output_type": "stream",
          "text": [
            "      16/50      2.96G      1.033       1.31     0.8671         38        640: 100%|██████████| 34/34 [00:08<00:00,  3.98it/s]\n",
            "                 Class     Images  Instances      Box(P          R      mAP50  mAP50-95): 100%|██████████| 6/6 [00:02<00:00,  2.91it/s]"
          ]
        },
        {
          "name": "stdout",
          "output_type": "stream",
          "text": [
            "                   all        180        432      0.657       0.64      0.721      0.484\n"
          ]
        },
        {
          "name": "stderr",
          "output_type": "stream",
          "text": [
            "\n"
          ]
        },
        {
          "name": "stdout",
          "output_type": "stream",
          "text": [
            "\n",
            "      Epoch    GPU_mem   box_loss   cls_loss   dfl_loss  Instances       Size\n"
          ]
        },
        {
          "name": "stderr",
          "output_type": "stream",
          "text": [
            "      17/50      2.96G      1.026      1.266     0.8695         61        640: 100%|██████████| 34/34 [00:09<00:00,  3.75it/s]\n",
            "                 Class     Images  Instances      Box(P          R      mAP50  mAP50-95): 100%|██████████| 6/6 [00:01<00:00,  3.52it/s]\n"
          ]
        },
        {
          "name": "stdout",
          "output_type": "stream",
          "text": [
            "                   all        180        432        0.6      0.675      0.714        0.5\n",
            "\n",
            "      Epoch    GPU_mem   box_loss   cls_loss   dfl_loss  Instances       Size\n"
          ]
        },
        {
          "name": "stderr",
          "output_type": "stream",
          "text": [
            "      18/50      2.96G      1.025      1.193     0.8772         23        640: 100%|██████████| 34/34 [00:09<00:00,  3.46it/s]\n",
            "                 Class     Images  Instances      Box(P          R      mAP50  mAP50-95): 100%|██████████| 6/6 [00:01<00:00,  3.46it/s]\n"
          ]
        },
        {
          "name": "stdout",
          "output_type": "stream",
          "text": [
            "                   all        180        432      0.686      0.663      0.743      0.515\n",
            "\n",
            "      Epoch    GPU_mem   box_loss   cls_loss   dfl_loss  Instances       Size\n"
          ]
        },
        {
          "name": "stderr",
          "output_type": "stream",
          "text": [
            "      19/50      2.96G      1.002      1.165     0.8683         47        640: 100%|██████████| 34/34 [00:09<00:00,  3.52it/s]\n",
            "                 Class     Images  Instances      Box(P          R      mAP50  mAP50-95): 100%|██████████| 6/6 [00:01<00:00,  3.24it/s]"
          ]
        },
        {
          "name": "stdout",
          "output_type": "stream",
          "text": [
            "                   all        180        432      0.705      0.643      0.743       0.53\n"
          ]
        },
        {
          "name": "stderr",
          "output_type": "stream",
          "text": [
            "\n"
          ]
        },
        {
          "name": "stdout",
          "output_type": "stream",
          "text": [
            "\n",
            "      Epoch    GPU_mem   box_loss   cls_loss   dfl_loss  Instances       Size\n"
          ]
        },
        {
          "name": "stderr",
          "output_type": "stream",
          "text": [
            "      20/50      2.96G     0.9462      1.143     0.8477         27        640: 100%|██████████| 34/34 [00:09<00:00,  3.46it/s]\n",
            "                 Class     Images  Instances      Box(P          R      mAP50  mAP50-95): 100%|██████████| 6/6 [00:01<00:00,  3.08it/s]"
          ]
        },
        {
          "name": "stdout",
          "output_type": "stream",
          "text": [
            "                   all        180        432      0.744      0.579      0.735      0.527\n"
          ]
        },
        {
          "name": "stderr",
          "output_type": "stream",
          "text": [
            "\n"
          ]
        },
        {
          "name": "stdout",
          "output_type": "stream",
          "text": [
            "\n",
            "      Epoch    GPU_mem   box_loss   cls_loss   dfl_loss  Instances       Size\n"
          ]
        },
        {
          "name": "stderr",
          "output_type": "stream",
          "text": [
            "      21/50      3.15G       0.98      1.128     0.8607         57        640: 100%|██████████| 34/34 [00:09<00:00,  3.47it/s]\n",
            "                 Class     Images  Instances      Box(P          R      mAP50  mAP50-95): 100%|██████████| 6/6 [00:01<00:00,  3.58it/s]\n"
          ]
        },
        {
          "name": "stdout",
          "output_type": "stream",
          "text": [
            "                   all        180        432      0.732      0.641       0.77      0.547\n",
            "\n",
            "      Epoch    GPU_mem   box_loss   cls_loss   dfl_loss  Instances       Size\n"
          ]
        },
        {
          "name": "stderr",
          "output_type": "stream",
          "text": [
            "      22/50      3.15G     0.9762      1.048      0.856         29        640: 100%|██████████| 34/34 [00:09<00:00,  3.45it/s]\n",
            "                 Class     Images  Instances      Box(P          R      mAP50  mAP50-95): 100%|██████████| 6/6 [00:01<00:00,  3.75it/s]"
          ]
        },
        {
          "name": "stdout",
          "output_type": "stream",
          "text": [
            "                   all        180        432      0.684      0.693      0.775      0.545\n"
          ]
        },
        {
          "name": "stderr",
          "output_type": "stream",
          "text": [
            "\n"
          ]
        },
        {
          "name": "stdout",
          "output_type": "stream",
          "text": [
            "\n",
            "      Epoch    GPU_mem   box_loss   cls_loss   dfl_loss  Instances       Size\n"
          ]
        },
        {
          "name": "stderr",
          "output_type": "stream",
          "text": [
            "      23/50      3.15G     0.9706      1.029     0.8512         35        640: 100%|██████████| 34/34 [00:09<00:00,  3.48it/s]\n",
            "                 Class     Images  Instances      Box(P          R      mAP50  mAP50-95): 100%|██████████| 6/6 [00:01<00:00,  3.47it/s]"
          ]
        },
        {
          "name": "stdout",
          "output_type": "stream",
          "text": [
            "                   all        180        432      0.718      0.732      0.819      0.593\n"
          ]
        },
        {
          "name": "stderr",
          "output_type": "stream",
          "text": [
            "\n"
          ]
        },
        {
          "name": "stdout",
          "output_type": "stream",
          "text": [
            "\n",
            "      Epoch    GPU_mem   box_loss   cls_loss   dfl_loss  Instances       Size\n"
          ]
        },
        {
          "name": "stderr",
          "output_type": "stream",
          "text": [
            "      24/50      3.34G      1.002      1.073     0.8599         19        640: 100%|██████████| 34/34 [00:09<00:00,  3.48it/s]\n",
            "                 Class     Images  Instances      Box(P          R      mAP50  mAP50-95): 100%|██████████| 6/6 [00:01<00:00,  3.28it/s]\n"
          ]
        },
        {
          "name": "stdout",
          "output_type": "stream",
          "text": [
            "                   all        180        432      0.726      0.732      0.806      0.559\n",
            "\n",
            "      Epoch    GPU_mem   box_loss   cls_loss   dfl_loss  Instances       Size\n"
          ]
        },
        {
          "name": "stderr",
          "output_type": "stream",
          "text": [
            "      25/50      3.34G     0.9654     0.9764     0.8606         83        640: 100%|██████████| 34/34 [00:09<00:00,  3.59it/s]\n",
            "                 Class     Images  Instances      Box(P          R      mAP50  mAP50-95): 100%|██████████| 6/6 [00:02<00:00,  2.83it/s]"
          ]
        },
        {
          "name": "stdout",
          "output_type": "stream",
          "text": [
            "                   all        180        432      0.829      0.709      0.855      0.608\n"
          ]
        },
        {
          "name": "stderr",
          "output_type": "stream",
          "text": [
            "\n"
          ]
        },
        {
          "name": "stdout",
          "output_type": "stream",
          "text": [
            "\n",
            "      Epoch    GPU_mem   box_loss   cls_loss   dfl_loss  Instances       Size\n"
          ]
        },
        {
          "name": "stderr",
          "output_type": "stream",
          "text": [
            "      26/50      3.34G     0.9345     0.9332     0.8464         28        640: 100%|██████████| 34/34 [00:09<00:00,  3.67it/s]\n",
            "                 Class     Images  Instances      Box(P          R      mAP50  mAP50-95): 100%|██████████| 6/6 [00:02<00:00,  2.45it/s]"
          ]
        },
        {
          "name": "stdout",
          "output_type": "stream",
          "text": [
            "                   all        180        432      0.783      0.736      0.849      0.597\n"
          ]
        },
        {
          "name": "stderr",
          "output_type": "stream",
          "text": [
            "\n"
          ]
        },
        {
          "name": "stdout",
          "output_type": "stream",
          "text": [
            "\n",
            "      Epoch    GPU_mem   box_loss   cls_loss   dfl_loss  Instances       Size\n"
          ]
        },
        {
          "name": "stderr",
          "output_type": "stream",
          "text": [
            "      27/50      3.34G     0.9045     0.8891     0.8543         25        640: 100%|██████████| 34/34 [00:08<00:00,  3.93it/s]\n",
            "                 Class     Images  Instances      Box(P          R      mAP50  mAP50-95): 100%|██████████| 6/6 [00:02<00:00,  2.04it/s]"
          ]
        },
        {
          "name": "stdout",
          "output_type": "stream",
          "text": [
            "                   all        180        432      0.805      0.785      0.877      0.614\n"
          ]
        },
        {
          "name": "stderr",
          "output_type": "stream",
          "text": [
            "\n"
          ]
        },
        {
          "name": "stdout",
          "output_type": "stream",
          "text": [
            "\n",
            "      Epoch    GPU_mem   box_loss   cls_loss   dfl_loss  Instances       Size\n"
          ]
        },
        {
          "name": "stderr",
          "output_type": "stream",
          "text": [
            "      28/50      3.34G     0.9155     0.8988     0.8497         64        640: 100%|██████████| 34/34 [00:08<00:00,  3.83it/s]\n",
            "                 Class     Images  Instances      Box(P          R      mAP50  mAP50-95): 100%|██████████| 6/6 [00:02<00:00,  2.62it/s]"
          ]
        },
        {
          "name": "stdout",
          "output_type": "stream",
          "text": [
            "                   all        180        432      0.838       0.77      0.888      0.643\n"
          ]
        },
        {
          "name": "stderr",
          "output_type": "stream",
          "text": [
            "\n"
          ]
        },
        {
          "name": "stdout",
          "output_type": "stream",
          "text": [
            "\n",
            "      Epoch    GPU_mem   box_loss   cls_loss   dfl_loss  Instances       Size\n"
          ]
        },
        {
          "name": "stderr",
          "output_type": "stream",
          "text": [
            "      29/50      3.34G     0.9244     0.8756     0.8494         33        640: 100%|██████████| 34/34 [00:08<00:00,  3.86it/s]\n",
            "                 Class     Images  Instances      Box(P          R      mAP50  mAP50-95): 100%|██████████| 6/6 [00:01<00:00,  3.06it/s]"
          ]
        },
        {
          "name": "stdout",
          "output_type": "stream",
          "text": [
            "                   all        180        432      0.794      0.791      0.877      0.628\n"
          ]
        },
        {
          "name": "stderr",
          "output_type": "stream",
          "text": [
            "\n"
          ]
        },
        {
          "name": "stdout",
          "output_type": "stream",
          "text": [
            "\n",
            "      Epoch    GPU_mem   box_loss   cls_loss   dfl_loss  Instances       Size\n"
          ]
        },
        {
          "name": "stderr",
          "output_type": "stream",
          "text": [
            "      30/50      3.34G     0.8985     0.8655     0.8395         38        640: 100%|██████████| 34/34 [00:09<00:00,  3.52it/s]\n",
            "                 Class     Images  Instances      Box(P          R      mAP50  mAP50-95): 100%|██████████| 6/6 [00:01<00:00,  3.62it/s]\n"
          ]
        },
        {
          "name": "stdout",
          "output_type": "stream",
          "text": [
            "                   all        180        432      0.843      0.742      0.883      0.625\n",
            "\n",
            "      Epoch    GPU_mem   box_loss   cls_loss   dfl_loss  Instances       Size\n"
          ]
        },
        {
          "name": "stderr",
          "output_type": "stream",
          "text": [
            "      31/50      3.34G     0.8871     0.8293     0.8468         75        640: 100%|██████████| 34/34 [00:09<00:00,  3.50it/s]\n",
            "                 Class     Images  Instances      Box(P          R      mAP50  mAP50-95): 100%|██████████| 6/6 [00:01<00:00,  3.57it/s]"
          ]
        },
        {
          "name": "stdout",
          "output_type": "stream",
          "text": [
            "                   all        180        432      0.851      0.701      0.882      0.642\n"
          ]
        },
        {
          "name": "stderr",
          "output_type": "stream",
          "text": [
            "\n"
          ]
        },
        {
          "name": "stdout",
          "output_type": "stream",
          "text": [
            "\n",
            "      Epoch    GPU_mem   box_loss   cls_loss   dfl_loss  Instances       Size\n"
          ]
        },
        {
          "name": "stderr",
          "output_type": "stream",
          "text": [
            "      32/50      3.34G     0.8995     0.8388     0.8488         84        640: 100%|██████████| 34/34 [00:09<00:00,  3.50it/s]\n",
            "                 Class     Images  Instances      Box(P          R      mAP50  mAP50-95): 100%|██████████| 6/6 [00:01<00:00,  3.45it/s]"
          ]
        },
        {
          "name": "stdout",
          "output_type": "stream",
          "text": [
            "                   all        180        432      0.809      0.738      0.854      0.632\n"
          ]
        },
        {
          "name": "stderr",
          "output_type": "stream",
          "text": [
            "\n"
          ]
        },
        {
          "name": "stdout",
          "output_type": "stream",
          "text": [
            "\n",
            "      Epoch    GPU_mem   box_loss   cls_loss   dfl_loss  Instances       Size\n"
          ]
        },
        {
          "name": "stderr",
          "output_type": "stream",
          "text": [
            "      33/50      3.34G     0.8983     0.8385     0.8439         20        640: 100%|██████████| 34/34 [00:09<00:00,  3.48it/s]\n",
            "                 Class     Images  Instances      Box(P          R      mAP50  mAP50-95): 100%|██████████| 6/6 [00:01<00:00,  3.27it/s]"
          ]
        },
        {
          "name": "stdout",
          "output_type": "stream",
          "text": [
            "                   all        180        432      0.851      0.747      0.888       0.65\n"
          ]
        },
        {
          "name": "stderr",
          "output_type": "stream",
          "text": [
            "\n"
          ]
        },
        {
          "name": "stdout",
          "output_type": "stream",
          "text": [
            "\n",
            "      Epoch    GPU_mem   box_loss   cls_loss   dfl_loss  Instances       Size\n"
          ]
        },
        {
          "name": "stderr",
          "output_type": "stream",
          "text": [
            "      34/50      3.34G     0.8586     0.8167     0.8339         26        640: 100%|██████████| 34/34 [00:09<00:00,  3.49it/s]\n",
            "                 Class     Images  Instances      Box(P          R      mAP50  mAP50-95): 100%|██████████| 6/6 [00:01<00:00,  3.27it/s]"
          ]
        },
        {
          "name": "stdout",
          "output_type": "stream",
          "text": [
            "                   all        180        432      0.858       0.76        0.9      0.663\n"
          ]
        },
        {
          "name": "stderr",
          "output_type": "stream",
          "text": [
            "\n"
          ]
        },
        {
          "name": "stdout",
          "output_type": "stream",
          "text": [
            "\n",
            "      Epoch    GPU_mem   box_loss   cls_loss   dfl_loss  Instances       Size\n"
          ]
        },
        {
          "name": "stderr",
          "output_type": "stream",
          "text": [
            "      35/50      3.34G     0.8452     0.8039     0.8423         30        640: 100%|██████████| 34/34 [00:09<00:00,  3.44it/s]\n",
            "                 Class     Images  Instances      Box(P          R      mAP50  mAP50-95): 100%|██████████| 6/6 [00:01<00:00,  3.33it/s]"
          ]
        },
        {
          "name": "stdout",
          "output_type": "stream",
          "text": [
            "                   all        180        432      0.851      0.815      0.911      0.664\n"
          ]
        },
        {
          "name": "stderr",
          "output_type": "stream",
          "text": [
            "\n"
          ]
        },
        {
          "name": "stdout",
          "output_type": "stream",
          "text": [
            "\n",
            "      Epoch    GPU_mem   box_loss   cls_loss   dfl_loss  Instances       Size\n"
          ]
        },
        {
          "name": "stderr",
          "output_type": "stream",
          "text": [
            "      36/50      3.34G     0.8219      0.789     0.8443         63        640: 100%|██████████| 34/34 [00:09<00:00,  3.56it/s]\n",
            "                 Class     Images  Instances      Box(P          R      mAP50  mAP50-95): 100%|██████████| 6/6 [00:01<00:00,  3.15it/s]"
          ]
        },
        {
          "name": "stdout",
          "output_type": "stream",
          "text": [
            "                   all        180        432      0.876      0.775      0.904      0.667\n"
          ]
        },
        {
          "name": "stderr",
          "output_type": "stream",
          "text": [
            "\n"
          ]
        },
        {
          "name": "stdout",
          "output_type": "stream",
          "text": [
            "\n",
            "      Epoch    GPU_mem   box_loss   cls_loss   dfl_loss  Instances       Size\n"
          ]
        },
        {
          "name": "stderr",
          "output_type": "stream",
          "text": [
            "      37/50      3.34G     0.8533     0.8111     0.8431         74        640: 100%|██████████| 34/34 [00:09<00:00,  3.52it/s]\n",
            "                 Class     Images  Instances      Box(P          R      mAP50  mAP50-95): 100%|██████████| 6/6 [00:01<00:00,  3.35it/s]"
          ]
        },
        {
          "name": "stdout",
          "output_type": "stream",
          "text": [
            "                   all        180        432      0.813      0.789      0.887      0.659\n"
          ]
        },
        {
          "name": "stderr",
          "output_type": "stream",
          "text": [
            "\n"
          ]
        },
        {
          "name": "stdout",
          "output_type": "stream",
          "text": [
            "\n",
            "      Epoch    GPU_mem   box_loss   cls_loss   dfl_loss  Instances       Size\n"
          ]
        },
        {
          "name": "stderr",
          "output_type": "stream",
          "text": [
            "      38/50      3.34G      0.838     0.7895     0.8342         69        640: 100%|██████████| 34/34 [00:10<00:00,  3.37it/s]\n",
            "                 Class     Images  Instances      Box(P          R      mAP50  mAP50-95): 100%|██████████| 6/6 [00:01<00:00,  3.52it/s]"
          ]
        },
        {
          "name": "stdout",
          "output_type": "stream",
          "text": [
            "                   all        180        432      0.861      0.793      0.916      0.669\n"
          ]
        },
        {
          "name": "stderr",
          "output_type": "stream",
          "text": [
            "\n"
          ]
        },
        {
          "name": "stdout",
          "output_type": "stream",
          "text": [
            "\n",
            "      Epoch    GPU_mem   box_loss   cls_loss   dfl_loss  Instances       Size\n"
          ]
        },
        {
          "name": "stderr",
          "output_type": "stream",
          "text": [
            "      39/50      3.34G     0.8365     0.7399     0.8404         23        640: 100%|██████████| 34/34 [00:09<00:00,  3.60it/s]\n",
            "                 Class     Images  Instances      Box(P          R      mAP50  mAP50-95): 100%|██████████| 6/6 [00:02<00:00,  2.67it/s]"
          ]
        },
        {
          "name": "stdout",
          "output_type": "stream",
          "text": [
            "                   all        180        432      0.903      0.762       0.92      0.678\n"
          ]
        },
        {
          "name": "stderr",
          "output_type": "stream",
          "text": [
            "\n"
          ]
        },
        {
          "name": "stdout",
          "output_type": "stream",
          "text": [
            "\n",
            "      Epoch    GPU_mem   box_loss   cls_loss   dfl_loss  Instances       Size\n"
          ]
        },
        {
          "name": "stderr",
          "output_type": "stream",
          "text": [
            "      40/50      3.34G     0.7862     0.6984     0.8341         61        640: 100%|██████████| 34/34 [00:08<00:00,  3.92it/s]\n",
            "                 Class     Images  Instances      Box(P          R      mAP50  mAP50-95): 100%|██████████| 6/6 [00:02<00:00,  2.13it/s]"
          ]
        },
        {
          "name": "stdout",
          "output_type": "stream",
          "text": [
            "                   all        180        432      0.869      0.793      0.913      0.687\n"
          ]
        },
        {
          "name": "stderr",
          "output_type": "stream",
          "text": [
            "\n"
          ]
        },
        {
          "name": "stdout",
          "output_type": "stream",
          "text": [
            "Closing dataloader mosaic\n",
            "\u001b[34m\u001b[1malbumentations: \u001b[0mBlur(p=0.01, blur_limit=(3, 7)), MedianBlur(p=0.01, blur_limit=(3, 7)), ToGray(p=0.01, num_output_channels=3, method='weighted_average'), CLAHE(p=0.01, clip_limit=(1.0, 4.0), tile_grid_size=(8, 8))\n",
            "\n",
            "      Epoch    GPU_mem   box_loss   cls_loss   dfl_loss  Instances       Size\n"
          ]
        },
        {
          "name": "stderr",
          "output_type": "stream",
          "text": [
            "      41/50      3.34G     0.7871     0.7188     0.8237         15        640: 100%|██████████| 34/34 [00:10<00:00,  3.25it/s]\n",
            "                 Class     Images  Instances      Box(P          R      mAP50  mAP50-95): 100%|██████████| 6/6 [00:02<00:00,  2.67it/s]\n"
          ]
        },
        {
          "name": "stdout",
          "output_type": "stream",
          "text": [
            "                   all        180        432      0.884       0.78      0.911      0.682\n",
            "\n",
            "      Epoch    GPU_mem   box_loss   cls_loss   dfl_loss  Instances       Size\n"
          ]
        },
        {
          "name": "stderr",
          "output_type": "stream",
          "text": [
            "      42/50      3.34G     0.7834       0.69     0.8291         33        640: 100%|██████████| 34/34 [00:08<00:00,  4.04it/s]\n",
            "                 Class     Images  Instances      Box(P          R      mAP50  mAP50-95): 100%|██████████| 6/6 [00:02<00:00,  2.23it/s]"
          ]
        },
        {
          "name": "stdout",
          "output_type": "stream",
          "text": [
            "                   all        180        432       0.89      0.803      0.912      0.682\n"
          ]
        },
        {
          "name": "stderr",
          "output_type": "stream",
          "text": [
            "\n"
          ]
        },
        {
          "name": "stdout",
          "output_type": "stream",
          "text": [
            "\n",
            "      Epoch    GPU_mem   box_loss   cls_loss   dfl_loss  Instances       Size\n"
          ]
        },
        {
          "name": "stderr",
          "output_type": "stream",
          "text": [
            "      43/50      3.34G     0.7857     0.7073     0.8364         18        640: 100%|██████████| 34/34 [00:08<00:00,  4.12it/s]\n",
            "                 Class     Images  Instances      Box(P          R      mAP50  mAP50-95): 100%|██████████| 6/6 [00:01<00:00,  3.06it/s]"
          ]
        },
        {
          "name": "stdout",
          "output_type": "stream",
          "text": [
            "                   all        180        432      0.872      0.815      0.926      0.679\n"
          ]
        },
        {
          "name": "stderr",
          "output_type": "stream",
          "text": [
            "\n"
          ]
        },
        {
          "name": "stdout",
          "output_type": "stream",
          "text": [
            "\n",
            "      Epoch    GPU_mem   box_loss   cls_loss   dfl_loss  Instances       Size\n"
          ]
        },
        {
          "name": "stderr",
          "output_type": "stream",
          "text": [
            "      44/50      3.34G      0.733     0.6559     0.8186         15        640: 100%|██████████| 34/34 [00:08<00:00,  3.84it/s]\n",
            "                 Class     Images  Instances      Box(P          R      mAP50  mAP50-95): 100%|██████████| 6/6 [00:01<00:00,  3.42it/s]"
          ]
        },
        {
          "name": "stdout",
          "output_type": "stream",
          "text": [
            "                   all        180        432      0.892      0.855      0.949      0.702\n"
          ]
        },
        {
          "name": "stderr",
          "output_type": "stream",
          "text": [
            "\n"
          ]
        },
        {
          "name": "stdout",
          "output_type": "stream",
          "text": [
            "\n",
            "      Epoch    GPU_mem   box_loss   cls_loss   dfl_loss  Instances       Size\n"
          ]
        },
        {
          "name": "stderr",
          "output_type": "stream",
          "text": [
            "      45/50      3.34G     0.7646     0.6578      0.822         16        640: 100%|██████████| 34/34 [00:09<00:00,  3.62it/s]\n",
            "                 Class     Images  Instances      Box(P          R      mAP50  mAP50-95): 100%|██████████| 6/6 [00:01<00:00,  3.35it/s]"
          ]
        },
        {
          "name": "stdout",
          "output_type": "stream",
          "text": [
            "                   all        180        432      0.846       0.86       0.93      0.696\n"
          ]
        },
        {
          "name": "stderr",
          "output_type": "stream",
          "text": [
            "\n"
          ]
        },
        {
          "name": "stdout",
          "output_type": "stream",
          "text": [
            "\n",
            "      Epoch    GPU_mem   box_loss   cls_loss   dfl_loss  Instances       Size\n"
          ]
        },
        {
          "name": "stderr",
          "output_type": "stream",
          "text": [
            "      46/50      3.34G     0.7482     0.6529     0.8212         18        640: 100%|██████████| 34/34 [00:09<00:00,  3.65it/s]\n",
            "                 Class     Images  Instances      Box(P          R      mAP50  mAP50-95): 100%|██████████| 6/6 [00:01<00:00,  3.34it/s]"
          ]
        },
        {
          "name": "stdout",
          "output_type": "stream",
          "text": [
            "                   all        180        432      0.859      0.853      0.928      0.697\n"
          ]
        },
        {
          "name": "stderr",
          "output_type": "stream",
          "text": [
            "\n"
          ]
        },
        {
          "name": "stdout",
          "output_type": "stream",
          "text": [
            "\n",
            "      Epoch    GPU_mem   box_loss   cls_loss   dfl_loss  Instances       Size\n"
          ]
        },
        {
          "name": "stderr",
          "output_type": "stream",
          "text": [
            "      47/50      3.34G     0.7315     0.6334      0.819         14        640: 100%|██████████| 34/34 [00:09<00:00,  3.68it/s]\n",
            "                 Class     Images  Instances      Box(P          R      mAP50  mAP50-95): 100%|██████████| 6/6 [00:01<00:00,  3.44it/s]\n"
          ]
        },
        {
          "name": "stdout",
          "output_type": "stream",
          "text": [
            "                   all        180        432      0.861      0.853      0.928      0.706\n",
            "\n",
            "      Epoch    GPU_mem   box_loss   cls_loss   dfl_loss  Instances       Size\n"
          ]
        },
        {
          "name": "stderr",
          "output_type": "stream",
          "text": [
            "      48/50      3.34G     0.7358     0.6284     0.8145         14        640: 100%|██████████| 34/34 [00:09<00:00,  3.58it/s]\n",
            "                 Class     Images  Instances      Box(P          R      mAP50  mAP50-95): 100%|██████████| 6/6 [00:01<00:00,  3.03it/s]"
          ]
        },
        {
          "name": "stdout",
          "output_type": "stream",
          "text": [
            "                   all        180        432      0.902      0.831      0.938       0.71\n"
          ]
        },
        {
          "name": "stderr",
          "output_type": "stream",
          "text": [
            "\n"
          ]
        },
        {
          "name": "stdout",
          "output_type": "stream",
          "text": [
            "\n",
            "      Epoch    GPU_mem   box_loss   cls_loss   dfl_loss  Instances       Size\n"
          ]
        },
        {
          "name": "stderr",
          "output_type": "stream",
          "text": [
            "      49/50      3.34G     0.7395     0.6203      0.817         14        640: 100%|██████████| 34/34 [00:09<00:00,  3.59it/s]\n",
            "                 Class     Images  Instances      Box(P          R      mAP50  mAP50-95): 100%|██████████| 6/6 [00:01<00:00,  3.59it/s]"
          ]
        },
        {
          "name": "stdout",
          "output_type": "stream",
          "text": [
            "                   all        180        432      0.893      0.847      0.947      0.712\n"
          ]
        },
        {
          "name": "stderr",
          "output_type": "stream",
          "text": [
            "\n"
          ]
        },
        {
          "name": "stdout",
          "output_type": "stream",
          "text": [
            "\n",
            "      Epoch    GPU_mem   box_loss   cls_loss   dfl_loss  Instances       Size\n"
          ]
        },
        {
          "name": "stderr",
          "output_type": "stream",
          "text": [
            "      50/50      3.34G     0.7162     0.6142     0.8152         14        640: 100%|██████████| 34/34 [00:09<00:00,  3.67it/s]\n",
            "                 Class     Images  Instances      Box(P          R      mAP50  mAP50-95): 100%|██████████| 6/6 [00:01<00:00,  3.06it/s]"
          ]
        },
        {
          "name": "stdout",
          "output_type": "stream",
          "text": [
            "                   all        180        432      0.903      0.844      0.949      0.717\n"
          ]
        },
        {
          "name": "stderr",
          "output_type": "stream",
          "text": [
            "\n"
          ]
        },
        {
          "name": "stdout",
          "output_type": "stream",
          "text": [
            "\n",
            "50 epochs completed in 0.167 hours.\n",
            "Optimizer stripped from runs/detect/train/weights/last.pt, 6.2MB\n",
            "Optimizer stripped from runs/detect/train/weights/best.pt, 6.2MB\n",
            "\n",
            "Validating runs/detect/train/weights/best.pt...\n",
            "Ultralytics 8.3.88 🚀 Python-3.11.11 torch-2.5.1+cu124 CUDA:0 (Tesla T4, 15095MiB)\n",
            "Model summary (fused): 72 layers, 3,006,818 parameters, 0 gradients, 8.1 GFLOPs\n"
          ]
        },
        {
          "name": "stderr",
          "output_type": "stream",
          "text": [
            "                 Class     Images  Instances      Box(P          R      mAP50  mAP50-95): 100%|██████████| 6/6 [00:03<00:00,  1.96it/s]\n"
          ]
        },
        {
          "name": "stdout",
          "output_type": "stream",
          "text": [
            "                   all        180        432      0.903      0.844      0.949      0.716\n",
            "                     1         50         67      0.972      0.776      0.943      0.773\n",
            "                     2         47         63      0.988       0.81      0.961      0.701\n",
            "                     3         38         75      0.874       0.88      0.952      0.726\n",
            "                     4         60         79      0.918      0.848      0.958      0.714\n",
            "                     5         42         48      0.827      0.798      0.909      0.668\n",
            "                     6         43        100      0.838       0.95      0.968      0.715\n",
            "Speed: 0.3ms preprocess, 2.1ms inference, 0.0ms loss, 3.5ms postprocess per image\n",
            "Results saved to \u001b[1mruns/detect/train\u001b[0m\n",
            "Ultralytics 8.3.88 🚀 Python-3.11.11 torch-2.5.1+cu124 CUDA:0 (Tesla T4, 15095MiB)\n",
            "Model summary (fused): 72 layers, 3,006,818 parameters, 0 gradients, 8.1 GFLOPs\n"
          ]
        },
        {
          "name": "stderr",
          "output_type": "stream",
          "text": [
            "\u001b[34m\u001b[1mval: \u001b[0mScanning /content/datasets/labels/val.cache... 180 images, 0 backgrounds, 0 corrupt: 100%|██████████| 180/180 [00:00<?, ?it/s]\n",
            "                 Class     Images  Instances      Box(P          R      mAP50  mAP50-95): 100%|██████████| 12/12 [00:03<00:00,  3.35it/s]\n"
          ]
        },
        {
          "name": "stdout",
          "output_type": "stream",
          "text": [
            "                   all        180        432      0.903      0.844      0.947      0.722\n",
            "                     1         50         67      0.972      0.776      0.943      0.773\n",
            "                     2         47         63      0.988       0.81      0.962       0.71\n",
            "                     3         38         75      0.874       0.88      0.952      0.738\n",
            "                     4         60         79      0.918      0.848      0.947      0.718\n",
            "                     5         42         48      0.828        0.8      0.908      0.679\n",
            "                     6         43        100      0.838       0.95      0.968      0.715\n",
            "Speed: 3.9ms preprocess, 4.7ms inference, 0.0ms loss, 1.5ms postprocess per image\n",
            "Results saved to \u001b[1mruns/detect/train2\u001b[0m\n"
          ]
        }
      ],
      "source": [
        "\n",
        "import zipfile\n",
        "import os\n",
        "from ultralytics import YOLO\n",
        "# import torch\n",
        "# Load a model\n",
        "model = YOLO(\"yolov8n.pt\")\n",
        "\n",
        "\n",
        "# Train the model\n",
        "train_results = model.train(\n",
        "    data=dataset_ZIP_path[:-4] + \"/config.yaml\",  # path to dataset YAML\n",
        "    epochs=50,  # number of training epochs\n",
        "    imgsz=640,  # training image size\n",
        ")\n",
        "\n",
        "# Evaluate model performance on the validation set\n",
        "metrics = model.val()\n",
        "\n"
      ]
    },
    {
      "cell_type": "code",
      "execution_count": 4,
      "metadata": {
        "colab": {
          "base_uri": "https://localhost:8080/",
          "height": 1000
        },
        "id": "d7cYJ-bEkqLj",
        "outputId": "5e5e6f1b-48ed-4f60-e3f1-1127016072b9"
      },
      "outputs": [
        {
          "name": "stdout",
          "output_type": "stream",
          "text": [
            "\n",
            "image 1/1 /content/prueba/OIP.jpeg: 640x640 (no detections), 7.4ms\n",
            "Speed: 2.9ms preprocess, 7.4ms inference, 0.6ms postprocess per image at shape (1, 3, 640, 640)\n"
          ]
        },
        {
          "data": {
            "image/jpeg": "[encoded data removed]",
            "image/png": "[encoded data removed]",
            "text/plain": [
              "<PIL.Image.Image image mode=RGB size=175x180>"
            ]
          },
          "metadata": {},
          "output_type": "display_data"
        },
        {
          "name": "stdout",
          "output_type": "stream",
          "text": [
            "\n",
            "image 1/1 /content/prueba/OIP (2).jpeg: 640x640 1 1, 8.2ms\n",
            "Speed: 4.7ms preprocess, 8.2ms inference, 1.3ms postprocess per image at shape (1, 3, 640, 640)\n"
          ]
        },
        {
          "data": {
            "image/jpeg": "[encoded data removed]",
            "image/png": "[encoded data removed]",
            "text/plain": [
              "<PIL.Image.Image image mode=RGB size=155x162>"
            ]
          },
          "metadata": {},
          "output_type": "display_data"
        },
        {
          "name": "stdout",
          "output_type": "stream",
          "text": [
            "\n",
            "image 1/1 /content/prueba/OIP (1).jpeg: 640x640 (no detections), 9.0ms\n",
            "Speed: 3.7ms preprocess, 9.0ms inference, 0.5ms postprocess per image at shape (1, 3, 640, 640)\n"
          ]
        },
        {
          "data": {
            "image/jpeg": "[encoded data removed]",
            "image/png": "[encoded data removed]",
            "text/plain": [
              "<PIL.Image.Image image mode=RGB size=200x200>"
            ]
          },
          "metadata": {},
          "output_type": "display_data"
        },
        {
          "name": "stdout",
          "output_type": "stream",
          "text": [
            "Ultralytics 8.3.88 🚀 Python-3.11.11 torch-2.5.1+cu124 CPU (Intel Xeon 2.20GHz)\n",
            "\n",
            "\u001b[34m\u001b[1mPyTorch:\u001b[0m starting from 'runs/detect/train/weights/best.pt' with input shape (1, 3, 640, 640) BCHW and output shape(s) (1, 10, 8400) (5.9 MB)\n",
            "\u001b[31m\u001b[1mrequirements:\u001b[0m Ultralytics requirements ['onnx>=1.12.0', 'onnxslim', 'onnxruntime-gpu'] not found, attempting AutoUpdate...\n",
            "Collecting onnx>=1.12.0\n",
            "  Downloading onnx-1.17.0-cp311-cp311-manylinux_2_17_x86_64.manylinux2014_x86_64.whl.metadata (16 kB)\n",
            "Collecting onnxslim\n",
            "  Downloading onnxslim-0.1.48-py3-none-any.whl.metadata (4.6 kB)\n",
            "Collecting onnxruntime-gpu\n",
            "  Downloading onnxruntime_gpu-1.21.0-cp311-cp311-manylinux_2_27_x86_64.manylinux_2_28_x86_64.whl.metadata (4.8 kB)\n",
            "Requirement already satisfied: numpy>=1.20 in /usr/local/lib/python3.11/dist-packages (from onnx>=1.12.0) (1.26.4)\n",
            "Requirement already satisfied: protobuf>=3.20.2 in /usr/local/lib/python3.11/dist-packages (from onnx>=1.12.0) (4.25.6)\n",
            "Requirement already satisfied: sympy in /usr/local/lib/python3.11/dist-packages (from onnxslim) (1.13.1)\n",
            "Requirement already satisfied: packaging in /usr/local/lib/python3.11/dist-packages (from onnxslim) (24.2)\n",
            "Collecting coloredlogs (from onnxruntime-gpu)\n",
            "  Downloading coloredlogs-15.0.1-py2.py3-none-any.whl.metadata (12 kB)\n",
            "Requirement already satisfied: flatbuffers in /usr/local/lib/python3.11/dist-packages (from onnxruntime-gpu) (25.2.10)\n",
            "Collecting humanfriendly>=9.1 (from coloredlogs->onnxruntime-gpu)\n",
            "  Downloading humanfriendly-10.0-py2.py3-none-any.whl.metadata (9.2 kB)\n",
            "Requirement already satisfied: mpmath<1.4,>=1.1.0 in /usr/local/lib/python3.11/dist-packages (from sympy->onnxslim) (1.3.0)\n",
            "Downloading onnx-1.17.0-cp311-cp311-manylinux_2_17_x86_64.manylinux2014_x86_64.whl (16.0 MB)\n",
            "   ━━━━━━━━━━━━━━━━━━━━━━━━━━━━━━━━━━━━━━━━ 16.0/16.0 MB 86.4 MB/s eta 0:00:00\n",
            "Downloading onnxslim-0.1.48-py3-none-any.whl (142 kB)\n",
            "   ━━━━━━━━━━━━━━━━━━━━━━━━━━━━━━━━━━━━━━━━ 142.9/142.9 kB 243.1 MB/s eta 0:00:00\n",
            "Downloading onnxruntime_gpu-1.21.0-cp311-cp311-manylinux_2_27_x86_64.manylinux_2_28_x86_64.whl (280.8 MB)\n",
            "   ━━━━━━━━━━━━━━━━━━━━━━━━━━━━━━━━━━━━━━━━ 280.8/280.8 MB 52.6 MB/s eta 0:00:00\n",
            "Downloading coloredlogs-15.0.1-py2.py3-none-any.whl (46 kB)\n",
            "   ━━━━━━━━━━━━━━━━━━━━━━━━━━━━━━━━━━━━━━━━ 46.0/46.0 kB 185.4 MB/s eta 0:00:00\n",
            "Downloading humanfriendly-10.0-py2.py3-none-any.whl (86 kB)\n",
            "   ━━━━━━━━━━━━━━━━━━━━━━━━━━━━━━━━━━━━━━━━ 86.8/86.8 kB 194.1 MB/s eta 0:00:00\n",
            "Installing collected packages: onnx, humanfriendly, onnxslim, coloredlogs, onnxruntime-gpu\n",
            "Successfully installed coloredlogs-15.0.1 humanfriendly-10.0 onnx-1.17.0 onnxruntime-gpu-1.21.0 onnxslim-0.1.48\n",
            "\n",
            "\u001b[31m\u001b[1mrequirements:\u001b[0m AutoUpdate success ✅ 21.6s, installed 3 packages: ['onnx>=1.12.0', 'onnxslim', 'onnxruntime-gpu']\n",
            "\u001b[31m\u001b[1mrequirements:\u001b[0m ⚠️ \u001b[1mRestart runtime or rerun command for updates to take effect\u001b[0m\n",
            "\n",
            "\n",
            "\u001b[34m\u001b[1mONNX:\u001b[0m starting export with onnx 1.17.0 opset 19...\n",
            "\u001b[34m\u001b[1mONNX:\u001b[0m slimming with onnxslim 0.1.48...\n",
            "\u001b[34m\u001b[1mONNX:\u001b[0m export success ✅ 22.7s, saved as 'runs/detect/train/weights/best.onnx' (11.7 MB)\n",
            "\n",
            "Export complete (24.3s)\n",
            "Results saved to \u001b[1m/content/runs/detect/train/weights\u001b[0m\n",
            "Predict:         yolo predict task=detect model=runs/detect/train/weights/best.onnx imgsz=640  \n",
            "Validate:        yolo val task=detect model=runs/detect/train/weights/best.onnx imgsz=640 data=datasets/config.yaml  \n",
            "Visualize:       https://netron.app\n"
          ]
        }
      ],
      "source": [
        "def detectObject(path_to_image: str):\n",
        "    # Perform object detection on an image\n",
        "    if not os.path.exists(path_to_image):\n",
        "        print(\"La imagen no existe.\")\n",
        "        return\n",
        "    results = model(path_to_image)\n",
        "    results[0].show()\n",
        "    return results\n",
        "\n",
        "for img in os.listdir(\"prueba/\"):\n",
        "    if not img.endswith(('.png', '.jpg', '.jpeg')):\n",
        "        continue\n",
        "    detectObject(\"prueba/\" + img)\n",
        "\n",
        "# Export the model to ONNX format\n",
        "path = model.export(format=\"onnx\")  # return path to exported model"
      ]
    }
  ],
  "metadata": {
    "accelerator": "GPU",
    "colab": {
      "gpuType": "T4",
      "provenance": []
    },
    "kernelspec": {
      "display_name": "Python 3",
      "name": "python3"
    },
    "language_info": {
      "codemirror_mode": {
        "name": "ipython",
        "version": 3
      },
      "file_extension": ".py",
      "mimetype": "text/x-python",
      "name": "python",
      "nbconvert_exporter": "python",
      "pygments_lexer": "ipython3",
      "version": "3.12.7"
    }
  },
  "nbformat": 4,
  "nbformat_minor": 0
}
