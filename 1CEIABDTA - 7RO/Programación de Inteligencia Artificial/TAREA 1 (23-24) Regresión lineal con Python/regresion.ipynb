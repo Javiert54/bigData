{
 "cells": [
  {
   "cell_type": "code",
   "execution_count": 8,
   "id": "92442396-0f59-4d3f-9189-c52001d62d60",
   "metadata": {},
   "outputs": [],
   "source": [
    "#Importamos las librerías\n",
    "import matplotlib.pyplot as plt\n",
    "import numpy as np\n",
    "from sklearn import datasets, linear_model\n",
    "from sklearn.metrics import mean_squared_error, r2_score"
   ]
  },
  {
   "cell_type": "code",
   "execution_count": 9,
   "id": "b221a6fd-99e9-4f67-a72f-8212445f5bff",
   "metadata": {},
   "outputs": [],
   "source": [
    "# Sustituimos el dataset de diabetes por los datos de la tabla:\n",
    "xi = np.array([2, 6, 8, 12, 12, 16, 20, 22, 26, 26]) # Valores de X\n",
    "yi = np.array([58, 105, 88, 117, 117, 137, 157, 169, 202, 202]) # Valores de Y"
   ]
  },
  {
   "cell_type": "code",
   "execution_count": 10,
   "id": "1b7b2593-0796-412f-9619-c8e5b625bf3c",
   "metadata": {},
   "outputs": [],
   "source": [
    "#Con esto, calculamos la recta de regresión:\n",
    "n = len(xi) # Número de datos\n",
    "b1 = (np.sum(xi * yi) - n * np.mean(xi) * np.mean(yi)) / (np.sum(xi**2) - n * np.mean(xi)**2) #Con esto calculamos “b1”\n",
    "b0 = np.mean(yi) - b1 * np.mean(xi) #Con esto calculamos “b2”\n",
    "l_regr = b1 * xi + b0  # Predicción de Y"
   ]
  },
  {
   "cell_type": "code",
   "execution_count": 11,
   "id": "0bd05dff-213d-41ec-ab40-8cc65b8e4399",
   "metadata": {},
   "outputs": [
    {
     "data": {
      "image/png": "[encoded data removed]",
      "text/plain": [
       "<Figure size 640x480 with 1 Axes>"
      ]
     },
     "metadata": {},
     "output_type": "display_data"
    }
   ],
   "source": [
    "#Y con esto la mostramos:\n",
    "plt.scatter(xi, yi, color=\"black\")  #Puntos de datos\n",
    "plt.plot(xi, l_regr, color=\"blue\", linewidth=3)  #Recta de regresión\n",
    "plt.xticks(())\n",
    "plt.yticks(())\n",
    "plt.show() # Enseñamos los datos y la recta de regresión"
   ]
  },
  {
   "cell_type": "code",
   "execution_count": 13,
   "id": "6f72567b-4ea3-4757-a9a1-d16ab2bb80fd",
   "metadata": {},
   "outputs": [
    {
     "name": "stdout",
     "output_type": "stream",
     "text": [
      "Manual SCE: 630.91\n",
      "Manual SCT: 20307.60\n",
      "Manual R2: 0.97\n",
      "Manual R: 0.98\n"
     ]
    }
   ],
   "source": [
    "#Hay dos formas de calcular r2:\n",
    "\n",
    "    # Con las funciones de sklearn:\n",
    "    # (No sé por qué, pero cuando uso las funciones de sklearn en vscode funcionan, pero aquí no.)\n",
    "#print(\"Mean squared error: %.2f\" % mean_squared_error(yi, l_regr))  #No necesitamos saber la fórmula para calcular el SCE. Ya tenemos la función de sklearn\n",
    "#print(\"Coefficient of determination: %.2f\" % r2_score(yi, l_regr))  #Tampoco necesitamos saber la fórmula para calcular el R2. Ya tenemos la función de sklearn\n",
    "\n",
    "    # O de forma manual:\n",
    "#Si queremos calcular el SCE y el R2 de manera manual, podemos hacerlo así:\n",
    "SCE = np.sum((yi - l_regr)**2)\n",
    "SCT = np.sum((yi - np.mean(yi))**2)\n",
    "r2 = 1 - (SCE / SCT)\n",
    "print(\"Manual SCE: %.2f\" % SCE)\n",
    "print(\"Manual SCT: %.2f\" % SCT)\n",
    "print(\"Manual R2: %.2f\" % r2)\n",
    "print(\"Manual R: %.2f\" % r2**(1/2)) #Lo elevamos a 1/2, que es lo mismo que aplicar raíz cuadrada\n"
   ]
  }
 ],
 "metadata": {
  "kernelspec": {
   "display_name": "Python 3 (ipykernel)",
   "language": "python",
   "name": "python3"
  },
  "language_info": {
   "codemirror_mode": {
    "name": "ipython",
    "version": 3
   },
   "file_extension": ".py",
   "mimetype": "text/x-python",
   "name": "python",
   "nbconvert_exporter": "python",
   "pygments_lexer": "ipython3",
   "version": "3.12.0"
  }
 },
 "nbformat": 4,
 "nbformat_minor": 5
}
