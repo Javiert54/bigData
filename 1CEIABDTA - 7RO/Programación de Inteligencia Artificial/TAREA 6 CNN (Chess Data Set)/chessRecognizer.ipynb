{
 "cells": [
  {
   "cell_type": "code",
   "execution_count": 100,
   "metadata": {},
   "outputs": [],
   "source": [
    "#Importamos las librerías\n",
    "import cv2\n",
    "import os\n",
    "import numpy as np \n",
    "import keras\n",
    "import matplotlib.pyplot as plt\n",
    "import glob"
   ]
  },
  {
   "cell_type": "markdown",
   "metadata": {},
   "source": [
    "Aquí sería donde descomprimo el dataset, pero como estoy usando jupyter, debo borrar la carpeta (si existe) y volver a descomprimirla. Luego veremos por qué es necesario borrar la carpeta cada vez que ejecutemos el cuaderno"
   ]
  },
  {
   "cell_type": "code",
   "execution_count": 101,
   "metadata": {},
   "outputs": [
    {
     "name": "stdout",
     "output_type": "stream",
     "text": [
      "Carpeta 'Chessman-image-dataset' eliminada.\n",
      "Archivo 'archive.zip' extraído en '.'.\n"
     ]
    }
   ],
   "source": [
    "import shutil\n",
    "import zipfile\n",
    "import os\n",
    "\n",
    "def eliminar_carpetas(carpeta):\n",
    "    if os.path.exists(carpeta):\n",
    "        shutil.rmtree(carpeta)\n",
    "        print(f\"Carpeta '{carpeta}' eliminada.\")\n",
    "    else:\n",
    "        print(f\"La carpeta '{carpeta}' no existe.\")\n",
    "\n",
    "def extraer_zip(archivo_zip, destino):\n",
    "    with zipfile.ZipFile(archivo_zip, 'r') as zip_ref:\n",
    "        zip_ref.extractall(destino)\n",
    "        print(f\"Archivo '{archivo_zip}' extraído en '{destino}'.\")\n",
    "\n",
    "# Ejemplo de uso\n",
    "carpeta_a_eliminar = 'ruta/a/tu/carpeta'\n",
    "archivo_zip = 'ruta/a/tu/archivo.zip'\n",
    "destino_extraccion = 'ruta/a/tu/destino'\n",
    "\n",
    "eliminar_carpetas(\"Chessman-image-dataset\")\n",
    "extraer_zip(\"archive.zip\", \".\")\n"
   ]
  },
  {
   "cell_type": "code",
   "execution_count": 102,
   "metadata": {},
   "outputs": [],
   "source": [
    "#Hacemos una relación entre los nombres de las imágenes y las clases\n",
    "MAP_CHARACTERS = { 0: 'Bishop', 1: 'King', 2: 'Knight', 3: 'Pawn', 4: 'Queen', 5: 'Rook' }\n",
    "# Vamos a standarizar todas las imágenes a tamaño 64x64\n",
    "IMG_SIZE = 64"
   ]
  },
  {
   "cell_type": "markdown",
   "metadata": {},
   "source": [
    "Declaramos dos funciones para cargar los datos. Una dedicada a la fracción train y la otra para test"
   ]
  },
  {
   "cell_type": "code",
   "execution_count": 103,
   "metadata": {},
   "outputs": [],
   "source": [
    "def load_train_set(dirname, map_characters, verbose=True):\n",
    "\t\"\"\"Esta función carga los datos de training en imágenes.\n",
    "\n",
    "\tComo las imágenes tienen tamaños distintas, utilizamos la librería opencv\n",
    "\tpara hacer un resize y adaptarlas todas a tamaño IMG_SIZE x IMG_SIZE.\n",
    "\n",
    "\tArgs:\n",
    "\t\tdirname: directorio completo del que leer los datos\n",
    "\t\tmap_characters: variable de mapeo entre labels y personajes\n",
    "\t\tverbose: si es True, muestra información de las imágenes cargadas\n",
    "\n",
    "\tReturns:\n",
    "\t\tX, y: X es un array con todas las imágenes cargadas con tamaño\n",
    "\tIMG SIZE x IMG SIZE\n",
    "\t\t\t\ty es un array con las labels de correspondientes a cada imagen\n",
    "\t\"\"\"\n",
    "\tX_train = []\n",
    "\ty_train = []\n",
    "\tfor label, character in map_characters.items():        \n",
    "\t\tfiles = os.listdir(os.path.join(dirname, character))\n",
    "\t\timages = [file for file in files if file.endswith(\"jpg\")]\n",
    "\t\tif verbose:\n",
    "\t\t\tprint(\"Leyendo {} imágenes encontradas de {}\".format(len(images), character))\n",
    "\t\tfor image_name in images:\n",
    "\t\t\timage = cv2.imread(os.path.join(dirname, character, image_name))\n",
    "\t\t\tX_train.append(cv2.resize(image,(IMG_SIZE, IMG_SIZE)))\n",
    "\t\t\ty_train.append(label)\n",
    "\treturn np.array(X_train), np.array(y_train)\n",
    "\n",
    "def load_test_set(dirname, map_characters, verbose=True):\n",
    "   \"\"\"Esta función funciona de manera equivalente a la función load_train_set\n",
    "   pero cargando los datos de test.\"\"\"\n",
    "   X_test = []\n",
    "   y_test = []\n",
    "   reverse_dict = {v: k for k, v in map_characters.items()}\n",
    "   for filename in glob.glob(dirname + '/*.*'):\n",
    "       char_name = \"_\".join(filename.split('/')[-1].split('_')[:-1])\n",
    "       if char_name in reverse_dict:\n",
    "           image = cv2.imread(filename)\n",
    "           image = cv2.resize(image, (IMG_SIZE, IMG_SIZE))\n",
    "           X_test.append(image)\n",
    "           y_test.append(reverse_dict[char_name])\n",
    "   if verbose:\n",
    "       print(\"Leídas {} imágenes de test\".format(len(X_test)))\n",
    "   return np.array(X_test), np.array(y_test)\n",
    "   "
   ]
  },
  {
   "cell_type": "markdown",
   "metadata": {},
   "source": [
    "Uso esta función para dividir el dataset en train y test"
   ]
  },
  {
   "cell_type": "code",
   "execution_count": 104,
   "metadata": {},
   "outputs": [],
   "source": [
    "import shutil\n",
    "from sklearn.model_selection import train_test_split\n",
    "\n",
    "\n",
    "def split_dataset(source_dir, dest_dir, split_ratio=0.3):\n",
    "\t\"\"\"\n",
    "\tEsta función divide el dataset en dos partes, una para training y otra para test, y lo pone en directorios distintos.\n",
    "\t\"\"\"\n",
    "\tif not os.path.exists(dest_dir):\n",
    "\t\tos.makedirs(dest_dir)\n",
    "\t\n",
    "\tfor character in os.listdir(source_dir):\n",
    "\t\tcharacter_path = os.path.join(source_dir, character)\n",
    "\t\tif os.path.isdir(character_path):\n",
    "\t\t\timages = [file for file in os.listdir(character_path) if file.endswith(\"jpg\")]\n",
    "\t\t\ttrain_images, test_images = train_test_split(images, test_size=split_ratio, random_state=42)\n",
    "\t\t\t\n",
    "\t\t\tcharacter_dest_path = os.path.join(dest_dir, character)\n",
    "\t\t\tif not os.path.exists(character_dest_path):\n",
    "\t\t\t\tos.makedirs(character_dest_path)\n",
    "\t\t\t\n",
    "\t\t\tfor image in test_images:\n",
    "\t\t\t\tshutil.move(os.path.join(character_path, image), os.path.join(character_dest_path, image))\n",
    "\n",
    "source_directory = \".\\\\Chessman-image-dataset\\\\Chess\"\n",
    "destination_directory = \".\\\\Chessman-image-dataset\\\\Chess_test\"\n",
    "split_dataset(source_directory, destination_directory)"
   ]
  },
  {
   "cell_type": "code",
   "execution_count": 105,
   "metadata": {},
   "outputs": [
    {
     "name": "stdout",
     "output_type": "stream",
     "text": [
      "Leyendo 49 imágenes encontradas de Bishop\n",
      "Leyendo 42 imágenes encontradas de King\n",
      "Leyendo 65 imágenes encontradas de Knight\n",
      "Leyendo 60 imágenes encontradas de Pawn\n",
      "Leyendo 46 imágenes encontradas de Queen\n",
      "Leyendo 60 imágenes encontradas de Rook\n",
      "Leídas 0 imágenes de test\n"
     ]
    }
   ],
   "source": [
    "# Cargamos los datos. Si no estás trabajando en colab, cambia los paths por\n",
    "# los de los ficheros donde hayas descargado los datos.\n",
    "DATASET_TRAIN_PATH_COLAB = \".\\\\Chessman-image-dataset\\\\Chess\"\n",
    "DATASET_TEST_PATH_COLAB = \"Chessman-image-dataset\\\\Chess_test\"\n",
    "X, y = load_train_set(DATASET_TRAIN_PATH_COLAB, MAP_CHARACTERS)\n",
    "X_t, y_t = load_test_set(DATASET_TEST_PATH_COLAB, MAP_CHARACTERS)\n",
    "X = X / 255.0\n",
    "X_t = X_t / 255.0\n",
    "# Vamos a barajar aleatoriamente los datos. Esto es importante ya que si no\n",
    "# lo hacemos y, por ejemplo, cogemos el 20% de los datos finales como validation\n",
    "# set, estaremos utilizando solo un pequeño número de personajes, ya que\n",
    "# las imágenes se leen secuencialmente personaje a personaje.\n",
    "perm = np.random.permutation(len(X))\n",
    "X, y = X[perm], y[perm]"
   ]
  },
  {
   "cell_type": "code",
   "execution_count": 106,
   "metadata": {},
   "outputs": [
    {
     "name": "stdout",
     "output_type": "stream",
     "text": [
      "Training data shape: (257, 64, 64, 3)\n",
      "Validation data shape: (65, 64, 64, 3)\n"
     ]
    }
   ],
   "source": [
    "from sklearn.model_selection import train_test_split\n",
    "\n",
    "# Separamos los datos en training y validation\n",
    "X_train, X_val, y_train, y_val = train_test_split(X, y, test_size=0.2, random_state=42)\n",
    "\n",
    "print(f\"Training data shape: {X_train.shape}\")\n",
    "print(f\"Validation data shape: {X_val.shape}\")"
   ]
  },
  {
   "cell_type": "code",
   "execution_count": 107,
   "metadata": {},
   "outputs": [
    {
     "data": {
      "image/png": "[encoded data removed]",
      "text/plain": [
       "<Figure size 640x480 with 2 Axes>"
      ]
     },
     "metadata": {},
     "output_type": "display_data"
    },
    {
     "name": "stdout",
     "output_type": "stream",
     "text": [
      "Bishop\n",
      "(64, 64, 3)\n"
     ]
    }
   ],
   "source": [
    " #Declaramos una función para visualizar las imágenes\n",
    "def visualize_example(x):\n",
    "\tplt.figure()\n",
    "\tplt.imshow(x)\n",
    "\tplt.colorbar()\n",
    "\tplt.grid(False)\n",
    "\tplt.show()\n",
    "visualize_example(X[70]) # Visualiza la imagen normalizada con valores de 0 a 1\n",
    "print(MAP_CHARACTERS[y[70]]) # Acceso al diccionario\n",
    "print(X[70].shape[0:3]) # Dimensiones de la imagen tras resize con los 3 canales RGB"
   ]
  },
  {
   "cell_type": "code",
   "execution_count": 108,
   "metadata": {},
   "outputs": [
    {
     "data": {
      "text/plain": [
       "(322, 64, 64, 3)"
      ]
     },
     "execution_count": 108,
     "metadata": {},
     "output_type": "execute_result"
    }
   ],
   "source": [
    "#batch_size=128\n",
    "num_classes=18\n",
    "epochs=5\n",
    "img_rows,img_cols=IMG_SIZE,IMG_SIZE\n",
    "input_shape=(img_rows,img_cols,3) #(64,64,3)\n",
    "# convert class vectors to binary class matrices\n",
    "y=keras.utils.to_categorical(y,num_classes)\n",
    "y_t=keras.utils.to_categorical(y_t,num_classes)\n",
    "\n",
    "X.shape"
   ]
  },
  {
   "cell_type": "code",
   "execution_count": 109,
   "metadata": {},
   "outputs": [
    {
     "data": {
      "text/plain": [
       "(322, 18)"
      ]
     },
     "execution_count": 109,
     "metadata": {},
     "output_type": "execute_result"
    }
   ],
   "source": [
    "y.shape"
   ]
  },
  {
   "cell_type": "code",
   "execution_count": 110,
   "metadata": {},
   "outputs": [],
   "source": [
    "filters = 32  # Example value for filters\n",
    "kernel_size = (3, 3)  # Example value for kernel_size\n",
    "\n",
    "conv_layer = keras.layers.Conv2D(filters, kernel_size, strides=(1, 1), padding='valid', data_format=None, dilation_rate=(1, 1), activation=None, use_bias=True, kernel_initializer='glorot_uniform', bias_initializer='zeros', kernel_regularizer=None, bias_regularizer=None, activity_regularizer=None, kernel_constraint=None, bias_constraint=None)"
   ]
  },
  {
   "cell_type": "code",
   "execution_count": 111,
   "metadata": {},
   "outputs": [
    {
     "name": "stderr",
     "output_type": "stream",
     "text": [
      "c:\\Users\\Javier\\AppData\\Local\\Programs\\Python\\Python312\\Lib\\site-packages\\keras\\src\\layers\\convolutional\\base_conv.py:107: UserWarning: Do not pass an `input_shape`/`input_dim` argument to a layer. When using Sequential models, prefer using an `Input(shape)` object as the first layer in the model instead.\n",
      "  super().__init__(activity_regularizer=activity_regularizer, **kwargs)\n"
     ]
    },
    {
     "data": {
      "text/html": [
       "<pre style=\"white-space:pre;overflow-x:auto;line-height:normal;font-family:Menlo,'DejaVu Sans Mono',consolas,'Courier New',monospace\"><span style=\"font-weight: bold\">Model: \"sequential\"</span>\n",
       "</pre>\n"
      ],
      "text/plain": [
       "\u001b[1mModel: \"sequential\"\u001b[0m\n"
      ]
     },
     "metadata": {},
     "output_type": "display_data"
    },
    {
     "data": {
      "text/html": [
       "<pre style=\"white-space:pre;overflow-x:auto;line-height:normal;font-family:Menlo,'DejaVu Sans Mono',consolas,'Courier New',monospace\">┏━━━━━━━━━━━━━━━━━━━━━━━━━━━━━━━━━┳━━━━━━━━━━━━━━━━━━━━━━━━┳━━━━━━━━━━━━━━━┓\n",
       "┃<span style=\"font-weight: bold\"> Layer (type)                    </span>┃<span style=\"font-weight: bold\"> Output Shape           </span>┃<span style=\"font-weight: bold\">       Param # </span>┃\n",
       "┡━━━━━━━━━━━━━━━━━━━━━━━━━━━━━━━━━╇━━━━━━━━━━━━━━━━━━━━━━━━╇━━━━━━━━━━━━━━━┩\n",
       "│ conv2d_2 (<span style=\"color: #0087ff; text-decoration-color: #0087ff\">Conv2D</span>)               │ (<span style=\"color: #00d7ff; text-decoration-color: #00d7ff\">None</span>, <span style=\"color: #00af00; text-decoration-color: #00af00\">62</span>, <span style=\"color: #00af00; text-decoration-color: #00af00\">62</span>, <span style=\"color: #00af00; text-decoration-color: #00af00\">32</span>)     │           <span style=\"color: #00af00; text-decoration-color: #00af00\">896</span> │\n",
       "├─────────────────────────────────┼────────────────────────┼───────────────┤\n",
       "│ max_pooling2d (<span style=\"color: #0087ff; text-decoration-color: #0087ff\">MaxPooling2D</span>)    │ (<span style=\"color: #00d7ff; text-decoration-color: #00d7ff\">None</span>, <span style=\"color: #00af00; text-decoration-color: #00af00\">31</span>, <span style=\"color: #00af00; text-decoration-color: #00af00\">31</span>, <span style=\"color: #00af00; text-decoration-color: #00af00\">32</span>)     │             <span style=\"color: #00af00; text-decoration-color: #00af00\">0</span> │\n",
       "├─────────────────────────────────┼────────────────────────┼───────────────┤\n",
       "│ conv2d_3 (<span style=\"color: #0087ff; text-decoration-color: #0087ff\">Conv2D</span>)               │ (<span style=\"color: #00d7ff; text-decoration-color: #00d7ff\">None</span>, <span style=\"color: #00af00; text-decoration-color: #00af00\">29</span>, <span style=\"color: #00af00; text-decoration-color: #00af00\">29</span>, <span style=\"color: #00af00; text-decoration-color: #00af00\">128</span>)    │        <span style=\"color: #00af00; text-decoration-color: #00af00\">36,992</span> │\n",
       "├─────────────────────────────────┼────────────────────────┼───────────────┤\n",
       "│ max_pooling2d_1 (<span style=\"color: #0087ff; text-decoration-color: #0087ff\">MaxPooling2D</span>)  │ (<span style=\"color: #00d7ff; text-decoration-color: #00d7ff\">None</span>, <span style=\"color: #00af00; text-decoration-color: #00af00\">14</span>, <span style=\"color: #00af00; text-decoration-color: #00af00\">14</span>, <span style=\"color: #00af00; text-decoration-color: #00af00\">128</span>)    │             <span style=\"color: #00af00; text-decoration-color: #00af00\">0</span> │\n",
       "├─────────────────────────────────┼────────────────────────┼───────────────┤\n",
       "│ conv2d_4 (<span style=\"color: #0087ff; text-decoration-color: #0087ff\">Conv2D</span>)               │ (<span style=\"color: #00d7ff; text-decoration-color: #00d7ff\">None</span>, <span style=\"color: #00af00; text-decoration-color: #00af00\">12</span>, <span style=\"color: #00af00; text-decoration-color: #00af00\">12</span>, <span style=\"color: #00af00; text-decoration-color: #00af00\">512</span>)    │       <span style=\"color: #00af00; text-decoration-color: #00af00\">590,336</span> │\n",
       "├─────────────────────────────────┼────────────────────────┼───────────────┤\n",
       "│ max_pooling2d_2 (<span style=\"color: #0087ff; text-decoration-color: #0087ff\">MaxPooling2D</span>)  │ (<span style=\"color: #00d7ff; text-decoration-color: #00d7ff\">None</span>, <span style=\"color: #00af00; text-decoration-color: #00af00\">6</span>, <span style=\"color: #00af00; text-decoration-color: #00af00\">6</span>, <span style=\"color: #00af00; text-decoration-color: #00af00\">512</span>)      │             <span style=\"color: #00af00; text-decoration-color: #00af00\">0</span> │\n",
       "├─────────────────────────────────┼────────────────────────┼───────────────┤\n",
       "│ max_pooling2d_3 (<span style=\"color: #0087ff; text-decoration-color: #0087ff\">MaxPooling2D</span>)  │ (<span style=\"color: #00d7ff; text-decoration-color: #00d7ff\">None</span>, <span style=\"color: #00af00; text-decoration-color: #00af00\">3</span>, <span style=\"color: #00af00; text-decoration-color: #00af00\">3</span>, <span style=\"color: #00af00; text-decoration-color: #00af00\">512</span>)      │             <span style=\"color: #00af00; text-decoration-color: #00af00\">0</span> │\n",
       "├─────────────────────────────────┼────────────────────────┼───────────────┤\n",
       "│ flatten (<span style=\"color: #0087ff; text-decoration-color: #0087ff\">Flatten</span>)               │ (<span style=\"color: #00d7ff; text-decoration-color: #00d7ff\">None</span>, <span style=\"color: #00af00; text-decoration-color: #00af00\">4608</span>)           │             <span style=\"color: #00af00; text-decoration-color: #00af00\">0</span> │\n",
       "├─────────────────────────────────┼────────────────────────┼───────────────┤\n",
       "│ dense (<span style=\"color: #0087ff; text-decoration-color: #0087ff\">Dense</span>)                   │ (<span style=\"color: #00d7ff; text-decoration-color: #00d7ff\">None</span>, <span style=\"color: #00af00; text-decoration-color: #00af00\">500</span>)            │     <span style=\"color: #00af00; text-decoration-color: #00af00\">2,304,500</span> │\n",
       "├─────────────────────────────────┼────────────────────────┼───────────────┤\n",
       "│ dropout (<span style=\"color: #0087ff; text-decoration-color: #0087ff\">Dropout</span>)               │ (<span style=\"color: #00d7ff; text-decoration-color: #00d7ff\">None</span>, <span style=\"color: #00af00; text-decoration-color: #00af00\">500</span>)            │             <span style=\"color: #00af00; text-decoration-color: #00af00\">0</span> │\n",
       "├─────────────────────────────────┼────────────────────────┼───────────────┤\n",
       "│ dense_1 (<span style=\"color: #0087ff; text-decoration-color: #0087ff\">Dense</span>)                 │ (<span style=\"color: #00d7ff; text-decoration-color: #00d7ff\">None</span>, <span style=\"color: #00af00; text-decoration-color: #00af00\">18</span>)             │         <span style=\"color: #00af00; text-decoration-color: #00af00\">9,018</span> │\n",
       "└─────────────────────────────────┴────────────────────────┴───────────────┘\n",
       "</pre>\n"
      ],
      "text/plain": [
       "┏━━━━━━━━━━━━━━━━━━━━━━━━━━━━━━━━━┳━━━━━━━━━━━━━━━━━━━━━━━━┳━━━━━━━━━━━━━━━┓\n",
       "┃\u001b[1m \u001b[0m\u001b[1mLayer (type)                   \u001b[0m\u001b[1m \u001b[0m┃\u001b[1m \u001b[0m\u001b[1mOutput Shape          \u001b[0m\u001b[1m \u001b[0m┃\u001b[1m \u001b[0m\u001b[1m      Param #\u001b[0m\u001b[1m \u001b[0m┃\n",
       "┡━━━━━━━━━━━━━━━━━━━━━━━━━━━━━━━━━╇━━━━━━━━━━━━━━━━━━━━━━━━╇━━━━━━━━━━━━━━━┩\n",
       "│ conv2d_2 (\u001b[38;5;33mConv2D\u001b[0m)               │ (\u001b[38;5;45mNone\u001b[0m, \u001b[38;5;34m62\u001b[0m, \u001b[38;5;34m62\u001b[0m, \u001b[38;5;34m32\u001b[0m)     │           \u001b[38;5;34m896\u001b[0m │\n",
       "├─────────────────────────────────┼────────────────────────┼───────────────┤\n",
       "│ max_pooling2d (\u001b[38;5;33mMaxPooling2D\u001b[0m)    │ (\u001b[38;5;45mNone\u001b[0m, \u001b[38;5;34m31\u001b[0m, \u001b[38;5;34m31\u001b[0m, \u001b[38;5;34m32\u001b[0m)     │             \u001b[38;5;34m0\u001b[0m │\n",
       "├─────────────────────────────────┼────────────────────────┼───────────────┤\n",
       "│ conv2d_3 (\u001b[38;5;33mConv2D\u001b[0m)               │ (\u001b[38;5;45mNone\u001b[0m, \u001b[38;5;34m29\u001b[0m, \u001b[38;5;34m29\u001b[0m, \u001b[38;5;34m128\u001b[0m)    │        \u001b[38;5;34m36,992\u001b[0m │\n",
       "├─────────────────────────────────┼────────────────────────┼───────────────┤\n",
       "│ max_pooling2d_1 (\u001b[38;5;33mMaxPooling2D\u001b[0m)  │ (\u001b[38;5;45mNone\u001b[0m, \u001b[38;5;34m14\u001b[0m, \u001b[38;5;34m14\u001b[0m, \u001b[38;5;34m128\u001b[0m)    │             \u001b[38;5;34m0\u001b[0m │\n",
       "├─────────────────────────────────┼────────────────────────┼───────────────┤\n",
       "│ conv2d_4 (\u001b[38;5;33mConv2D\u001b[0m)               │ (\u001b[38;5;45mNone\u001b[0m, \u001b[38;5;34m12\u001b[0m, \u001b[38;5;34m12\u001b[0m, \u001b[38;5;34m512\u001b[0m)    │       \u001b[38;5;34m590,336\u001b[0m │\n",
       "├─────────────────────────────────┼────────────────────────┼───────────────┤\n",
       "│ max_pooling2d_2 (\u001b[38;5;33mMaxPooling2D\u001b[0m)  │ (\u001b[38;5;45mNone\u001b[0m, \u001b[38;5;34m6\u001b[0m, \u001b[38;5;34m6\u001b[0m, \u001b[38;5;34m512\u001b[0m)      │             \u001b[38;5;34m0\u001b[0m │\n",
       "├─────────────────────────────────┼────────────────────────┼───────────────┤\n",
       "│ max_pooling2d_3 (\u001b[38;5;33mMaxPooling2D\u001b[0m)  │ (\u001b[38;5;45mNone\u001b[0m, \u001b[38;5;34m3\u001b[0m, \u001b[38;5;34m3\u001b[0m, \u001b[38;5;34m512\u001b[0m)      │             \u001b[38;5;34m0\u001b[0m │\n",
       "├─────────────────────────────────┼────────────────────────┼───────────────┤\n",
       "│ flatten (\u001b[38;5;33mFlatten\u001b[0m)               │ (\u001b[38;5;45mNone\u001b[0m, \u001b[38;5;34m4608\u001b[0m)           │             \u001b[38;5;34m0\u001b[0m │\n",
       "├─────────────────────────────────┼────────────────────────┼───────────────┤\n",
       "│ dense (\u001b[38;5;33mDense\u001b[0m)                   │ (\u001b[38;5;45mNone\u001b[0m, \u001b[38;5;34m500\u001b[0m)            │     \u001b[38;5;34m2,304,500\u001b[0m │\n",
       "├─────────────────────────────────┼────────────────────────┼───────────────┤\n",
       "│ dropout (\u001b[38;5;33mDropout\u001b[0m)               │ (\u001b[38;5;45mNone\u001b[0m, \u001b[38;5;34m500\u001b[0m)            │             \u001b[38;5;34m0\u001b[0m │\n",
       "├─────────────────────────────────┼────────────────────────┼───────────────┤\n",
       "│ dense_1 (\u001b[38;5;33mDense\u001b[0m)                 │ (\u001b[38;5;45mNone\u001b[0m, \u001b[38;5;34m18\u001b[0m)             │         \u001b[38;5;34m9,018\u001b[0m │\n",
       "└─────────────────────────────────┴────────────────────────┴───────────────┘\n"
      ]
     },
     "metadata": {},
     "output_type": "display_data"
    },
    {
     "data": {
      "text/html": [
       "<pre style=\"white-space:pre;overflow-x:auto;line-height:normal;font-family:Menlo,'DejaVu Sans Mono',consolas,'Courier New',monospace\"><span style=\"font-weight: bold\"> Total params: </span><span style=\"color: #00af00; text-decoration-color: #00af00\">2,941,742</span> (11.22 MB)\n",
       "</pre>\n"
      ],
      "text/plain": [
       "\u001b[1m Total params: \u001b[0m\u001b[38;5;34m2,941,742\u001b[0m (11.22 MB)\n"
      ]
     },
     "metadata": {},
     "output_type": "display_data"
    },
    {
     "data": {
      "text/html": [
       "<pre style=\"white-space:pre;overflow-x:auto;line-height:normal;font-family:Menlo,'DejaVu Sans Mono',consolas,'Courier New',monospace\"><span style=\"font-weight: bold\"> Trainable params: </span><span style=\"color: #00af00; text-decoration-color: #00af00\">2,941,742</span> (11.22 MB)\n",
       "</pre>\n"
      ],
      "text/plain": [
       "\u001b[1m Trainable params: \u001b[0m\u001b[38;5;34m2,941,742\u001b[0m (11.22 MB)\n"
      ]
     },
     "metadata": {},
     "output_type": "display_data"
    },
    {
     "data": {
      "text/html": [
       "<pre style=\"white-space:pre;overflow-x:auto;line-height:normal;font-family:Menlo,'DejaVu Sans Mono',consolas,'Courier New',monospace\"><span style=\"font-weight: bold\"> Non-trainable params: </span><span style=\"color: #00af00; text-decoration-color: #00af00\">0</span> (0.00 B)\n",
       "</pre>\n"
      ],
      "text/plain": [
       "\u001b[1m Non-trainable params: \u001b[0m\u001b[38;5;34m0\u001b[0m (0.00 B)\n"
      ]
     },
     "metadata": {},
     "output_type": "display_data"
    }
   ],
   "source": [
    "model = keras.Sequential([\n",
    "keras.layers.Conv2D(32, kernel_size=(3, 3), data_format=\"channels_last\",input_shape=(64, 64, 3), activation='relu'),\n",
    "keras.layers.MaxPooling2D(pool_size=(2, 2)),\n",
    "keras.layers.Conv2D(128, kernel_size=(3, 3), activation='relu'),\n",
    "keras.layers.MaxPooling2D(pool_size=(2, 2)),\n",
    "keras.layers.Conv2D(512, kernel_size=(3, 3), activation='relu'),\n",
    "keras.layers.MaxPooling2D(pool_size=(2, 2)),\n",
    "keras.layers.MaxPooling2D(pool_size=(2, 2)),\n",
    "keras.layers.Flatten(),\n",
    "keras.layers.Dense(500, activation='relu'),\n",
    "keras.layers.Dropout(0.5),\n",
    "keras.layers.Dense(18, activation='softmax')\n",
    "])\n",
    "model.summary()\n",
    "model.compile(optimizer='adam',\n",
    "loss='categorical_crossentropy', metrics=['accuracy'])"
   ]
  }
 ],
 "metadata": {
  "kernelspec": {
   "display_name": "Python 3",
   "language": "python",
   "name": "python3"
  },
  "language_info": {
   "codemirror_mode": {
    "name": "ipython",
    "version": 3
   },
   "file_extension": ".py",
   "mimetype": "text/x-python",
   "name": "python",
   "nbconvert_exporter": "python",
   "pygments_lexer": "ipython3",
   "version": "3.12.7"
  }
 },
 "nbformat": 4,
 "nbformat_minor": 2
}
